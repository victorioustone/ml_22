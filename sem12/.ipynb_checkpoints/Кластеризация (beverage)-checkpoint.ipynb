{
 "cells": [
  {
   "cell_type": "markdown",
   "metadata": {},
   "source": [
    "Каменчук Виктория, гр.ПИ19-1"
   ]
  },
  {
   "cell_type": "code",
   "execution_count": 1,
   "metadata": {
    "id": "w_JpMxy9q__K"
   },
   "outputs": [],
   "source": [
    "import numpy as np\n",
    "import pandas as pd\n",
    "import matplotlib\n",
    "import matplotlib.pyplot as plt\n",
    "from sklearn import preprocessing\n",
    "from sklearn.cluster import KMeans\n",
    "from scipy.cluster.hierarchy import dendrogram, linkage, fcluster\n",
    "matplotlib.style.use('ggplot')\n",
    "\n",
    "%matplotlib inline\n",
    "\n"
   ]
  },
  {
   "cell_type": "markdown",
   "metadata": {
    "id": "sVk5PHdKq__M"
   },
   "source": [
    "## Считывание"
   ]
  },
  {
   "cell_type": "code",
   "execution_count": 2,
   "metadata": {
    "id": "NMY_wLO0q__N",
    "outputId": "1c835cf2-506a-4f8b-aaca-9aec37686524"
   },
   "outputs": [
    {
     "name": "stdout",
     "output_type": "stream",
     "text": [
      "(34, 8)\n"
     ]
    },
    {
     "data": {
      "text/html": [
       "<div>\n",
       "<style scoped>\n",
       "    .dataframe tbody tr th:only-of-type {\n",
       "        vertical-align: middle;\n",
       "    }\n",
       "\n",
       "    .dataframe tbody tr th {\n",
       "        vertical-align: top;\n",
       "    }\n",
       "\n",
       "    .dataframe thead th {\n",
       "        text-align: right;\n",
       "    }\n",
       "</style>\n",
       "<table border=\"1\" class=\"dataframe\">\n",
       "  <thead>\n",
       "    <tr style=\"text-align: right;\">\n",
       "      <th></th>\n",
       "      <th>COKE</th>\n",
       "      <th>D_COKE</th>\n",
       "      <th>D_PEPSI</th>\n",
       "      <th>D_7UP</th>\n",
       "      <th>PEPSI</th>\n",
       "      <th>SPRITE</th>\n",
       "      <th>TAB</th>\n",
       "      <th>SEVENUP</th>\n",
       "    </tr>\n",
       "    <tr>\n",
       "      <th>numb.obs</th>\n",
       "      <th></th>\n",
       "      <th></th>\n",
       "      <th></th>\n",
       "      <th></th>\n",
       "      <th></th>\n",
       "      <th></th>\n",
       "      <th></th>\n",
       "      <th></th>\n",
       "    </tr>\n",
       "  </thead>\n",
       "  <tbody>\n",
       "    <tr>\n",
       "      <th>1</th>\n",
       "      <td>1</td>\n",
       "      <td>0</td>\n",
       "      <td>0</td>\n",
       "      <td>0</td>\n",
       "      <td>1</td>\n",
       "      <td>1</td>\n",
       "      <td>0</td>\n",
       "      <td>1</td>\n",
       "    </tr>\n",
       "    <tr>\n",
       "      <th>2</th>\n",
       "      <td>1</td>\n",
       "      <td>0</td>\n",
       "      <td>0</td>\n",
       "      <td>0</td>\n",
       "      <td>1</td>\n",
       "      <td>0</td>\n",
       "      <td>0</td>\n",
       "      <td>0</td>\n",
       "    </tr>\n",
       "    <tr>\n",
       "      <th>3</th>\n",
       "      <td>1</td>\n",
       "      <td>0</td>\n",
       "      <td>0</td>\n",
       "      <td>0</td>\n",
       "      <td>1</td>\n",
       "      <td>0</td>\n",
       "      <td>0</td>\n",
       "      <td>0</td>\n",
       "    </tr>\n",
       "    <tr>\n",
       "      <th>4</th>\n",
       "      <td>0</td>\n",
       "      <td>1</td>\n",
       "      <td>0</td>\n",
       "      <td>1</td>\n",
       "      <td>0</td>\n",
       "      <td>0</td>\n",
       "      <td>1</td>\n",
       "      <td>0</td>\n",
       "    </tr>\n",
       "    <tr>\n",
       "      <th>5</th>\n",
       "      <td>1</td>\n",
       "      <td>0</td>\n",
       "      <td>0</td>\n",
       "      <td>0</td>\n",
       "      <td>1</td>\n",
       "      <td>0</td>\n",
       "      <td>0</td>\n",
       "      <td>0</td>\n",
       "    </tr>\n",
       "  </tbody>\n",
       "</table>\n",
       "</div>"
      ],
      "text/plain": [
       "          COKE  D_COKE  D_PEPSI  D_7UP  PEPSI  SPRITE  TAB  SEVENUP\n",
       "numb.obs                                                           \n",
       "1            1       0        0      0      1       1    0        1\n",
       "2            1       0        0      0      1       0    0        0\n",
       "3            1       0        0      0      1       0    0        0\n",
       "4            0       1        0      1      0       0    1        0\n",
       "5            1       0        0      0      1       0    0        0"
      ]
     },
     "execution_count": 2,
     "metadata": {},
     "output_type": "execute_result"
    }
   ],
   "source": [
    "df = pd.read_csv('./data/beverage_r.csv', sep=';', index_col = 0)\n",
    "print(df.shape)\n",
    "df.head()"
   ]
  },
  {
   "cell_type": "markdown",
   "metadata": {},
   "source": [
    "Датасет, состоящий из напитков  \n"
   ]
  },
  {
   "cell_type": "code",
   "execution_count": 3,
   "metadata": {
    "id": "UllSh1vbq__O"
   },
   "outputs": [],
   "source": [
    "df.columns\n",
    "df.columns = ['Кола', 'Диетическая кола', 'Диетическая пепси', \n",
    " 'Диетическая 7UP', 'Пепси',\n",
    "'Спрайт', 'TAB', '7UP']"
   ]
  },
  {
   "cell_type": "code",
   "execution_count": 4,
   "metadata": {
    "id": "_CJyXB-lq__Q",
    "outputId": "8b378936-5dbb-4d37-c19d-c2cb9203daa4"
   },
   "outputs": [
    {
     "data": {
      "text/plain": [
       "Кола                 0.588235\n",
       "Диетическая кола     0.500000\n",
       "Диетическая пепси    0.235294\n",
       "Диетическая 7UP      0.205882\n",
       "Пепси                0.470588\n",
       "Спрайт               0.323529\n",
       "TAB                  0.323529\n",
       "7UP                  0.264706\n",
       "dtype: float64"
      ]
     },
     "execution_count": 4,
     "metadata": {},
     "output_type": "execute_result"
    }
   ],
   "source": [
    "df.mean()"
   ]
  },
  {
   "cell_type": "code",
   "execution_count": 5,
   "metadata": {
    "id": "dHZUdY8rq__Q",
    "outputId": "dc192c3d-1fe6-4a0d-d50c-5c54545b7d5d"
   },
   "outputs": [
    {
     "data": {
      "text/plain": [
       "Кола                 int64\n",
       "Диетическая кола     int64\n",
       "Диетическая пепси    int64\n",
       "Диетическая 7UP      int64\n",
       "Пепси                int64\n",
       "Спрайт               int64\n",
       "TAB                  int64\n",
       "7UP                  int64\n",
       "dtype: object"
      ]
     },
     "execution_count": 5,
     "metadata": {},
     "output_type": "execute_result"
    }
   ],
   "source": [
    "df.dtypes"
   ]
  },
  {
   "cell_type": "code",
   "execution_count": 6,
   "metadata": {
    "id": "Wu61FlLMq__R",
    "outputId": "fb78379a-91fb-429e-eb48-d438a0cadaad"
   },
   "outputs": [
    {
     "data": {
      "text/html": [
       "<div>\n",
       "<style scoped>\n",
       "    .dataframe tbody tr th:only-of-type {\n",
       "        vertical-align: middle;\n",
       "    }\n",
       "\n",
       "    .dataframe tbody tr th {\n",
       "        vertical-align: top;\n",
       "    }\n",
       "\n",
       "    .dataframe thead th {\n",
       "        text-align: right;\n",
       "    }\n",
       "</style>\n",
       "<table border=\"1\" class=\"dataframe\">\n",
       "  <thead>\n",
       "    <tr style=\"text-align: right;\">\n",
       "      <th></th>\n",
       "      <th>Кола</th>\n",
       "      <th>Диетическая кола</th>\n",
       "      <th>Диетическая пепси</th>\n",
       "      <th>Диетическая 7UP</th>\n",
       "      <th>Пепси</th>\n",
       "      <th>Спрайт</th>\n",
       "      <th>TAB</th>\n",
       "      <th>7UP</th>\n",
       "    </tr>\n",
       "  </thead>\n",
       "  <tbody>\n",
       "    <tr>\n",
       "      <th>count</th>\n",
       "      <td>34.000000</td>\n",
       "      <td>34.000000</td>\n",
       "      <td>34.000000</td>\n",
       "      <td>34.000000</td>\n",
       "      <td>34.000000</td>\n",
       "      <td>34.000000</td>\n",
       "      <td>34.000000</td>\n",
       "      <td>34.000000</td>\n",
       "    </tr>\n",
       "    <tr>\n",
       "      <th>mean</th>\n",
       "      <td>0.588235</td>\n",
       "      <td>0.500000</td>\n",
       "      <td>0.235294</td>\n",
       "      <td>0.205882</td>\n",
       "      <td>0.470588</td>\n",
       "      <td>0.323529</td>\n",
       "      <td>0.323529</td>\n",
       "      <td>0.264706</td>\n",
       "    </tr>\n",
       "    <tr>\n",
       "      <th>std</th>\n",
       "      <td>0.499554</td>\n",
       "      <td>0.507519</td>\n",
       "      <td>0.430562</td>\n",
       "      <td>0.410426</td>\n",
       "      <td>0.506640</td>\n",
       "      <td>0.474858</td>\n",
       "      <td>0.474858</td>\n",
       "      <td>0.447811</td>\n",
       "    </tr>\n",
       "    <tr>\n",
       "      <th>min</th>\n",
       "      <td>0.000000</td>\n",
       "      <td>0.000000</td>\n",
       "      <td>0.000000</td>\n",
       "      <td>0.000000</td>\n",
       "      <td>0.000000</td>\n",
       "      <td>0.000000</td>\n",
       "      <td>0.000000</td>\n",
       "      <td>0.000000</td>\n",
       "    </tr>\n",
       "    <tr>\n",
       "      <th>25%</th>\n",
       "      <td>0.000000</td>\n",
       "      <td>0.000000</td>\n",
       "      <td>0.000000</td>\n",
       "      <td>0.000000</td>\n",
       "      <td>0.000000</td>\n",
       "      <td>0.000000</td>\n",
       "      <td>0.000000</td>\n",
       "      <td>0.000000</td>\n",
       "    </tr>\n",
       "    <tr>\n",
       "      <th>50%</th>\n",
       "      <td>1.000000</td>\n",
       "      <td>0.500000</td>\n",
       "      <td>0.000000</td>\n",
       "      <td>0.000000</td>\n",
       "      <td>0.000000</td>\n",
       "      <td>0.000000</td>\n",
       "      <td>0.000000</td>\n",
       "      <td>0.000000</td>\n",
       "    </tr>\n",
       "    <tr>\n",
       "      <th>75%</th>\n",
       "      <td>1.000000</td>\n",
       "      <td>1.000000</td>\n",
       "      <td>0.000000</td>\n",
       "      <td>0.000000</td>\n",
       "      <td>1.000000</td>\n",
       "      <td>1.000000</td>\n",
       "      <td>1.000000</td>\n",
       "      <td>0.750000</td>\n",
       "    </tr>\n",
       "    <tr>\n",
       "      <th>max</th>\n",
       "      <td>1.000000</td>\n",
       "      <td>1.000000</td>\n",
       "      <td>1.000000</td>\n",
       "      <td>1.000000</td>\n",
       "      <td>1.000000</td>\n",
       "      <td>1.000000</td>\n",
       "      <td>1.000000</td>\n",
       "      <td>1.000000</td>\n",
       "    </tr>\n",
       "  </tbody>\n",
       "</table>\n",
       "</div>"
      ],
      "text/plain": [
       "            Кола  Диетическая кола  Диетическая пепси  Диетическая 7UP  \\\n",
       "count  34.000000         34.000000          34.000000        34.000000   \n",
       "mean    0.588235          0.500000           0.235294         0.205882   \n",
       "std     0.499554          0.507519           0.430562         0.410426   \n",
       "min     0.000000          0.000000           0.000000         0.000000   \n",
       "25%     0.000000          0.000000           0.000000         0.000000   \n",
       "50%     1.000000          0.500000           0.000000         0.000000   \n",
       "75%     1.000000          1.000000           0.000000         0.000000   \n",
       "max     1.000000          1.000000           1.000000         1.000000   \n",
       "\n",
       "           Пепси     Спрайт        TAB        7UP  \n",
       "count  34.000000  34.000000  34.000000  34.000000  \n",
       "mean    0.470588   0.323529   0.323529   0.264706  \n",
       "std     0.506640   0.474858   0.474858   0.447811  \n",
       "min     0.000000   0.000000   0.000000   0.000000  \n",
       "25%     0.000000   0.000000   0.000000   0.000000  \n",
       "50%     0.000000   0.000000   0.000000   0.000000  \n",
       "75%     1.000000   1.000000   1.000000   0.750000  \n",
       "max     1.000000   1.000000   1.000000   1.000000  "
      ]
     },
     "execution_count": 6,
     "metadata": {},
     "output_type": "execute_result"
    }
   ],
   "source": [
    "df.describe()"
   ]
  },
  {
   "cell_type": "markdown",
   "metadata": {
    "id": "7BnhtVlGq__S"
   },
   "source": [
    "Все показатели выражены в единой шкале. Поэтому нормализация не требуется"
   ]
  },
  {
   "cell_type": "markdown",
   "metadata": {
    "id": "djPqH8ogq__S"
   },
   "source": [
    "## Иерархическая кластеризация"
   ]
  },
  {
   "cell_type": "code",
   "execution_count": 7,
   "metadata": {
    "id": "sFeHw2KLq__S"
   },
   "outputs": [],
   "source": [
    "# Объект, в котором будет хранится информация о последовательном слиянии кластеров\n",
    "# Используем расстояние между объектами - евклидово\n",
    "# Расстояние между кластерами - методом Уорда\n",
    "link = linkage(df, 'ward', 'euclidean')"
   ]
  },
  {
   "cell_type": "code",
   "execution_count": 8,
   "metadata": {
    "id": "McBep8i6q__T",
    "outputId": "a6580eeb-8383-4864-b5df-c5b7f046d705"
   },
   "outputs": [
    {
     "data": {
      "text/plain": [
       "array([[ 5., 10.,  0.,  2.],\n",
       "       [ 1.,  2.,  0.,  2.],\n",
       "       [ 4., 35.,  0.,  3.],\n",
       "       [ 3., 22.,  0.,  2.],\n",
       "       [20., 36.,  0.,  4.]])"
      ]
     },
     "execution_count": 8,
     "metadata": {},
     "output_type": "execute_result"
    }
   ],
   "source": [
    "link[:5]"
   ]
  },
  {
   "cell_type": "markdown",
   "metadata": {
    "id": "jUaji5E8q__T"
   },
   "source": [
    "### Построение дендрограммы"
   ]
  },
  {
   "cell_type": "code",
   "execution_count": 9,
   "metadata": {
    "id": "otalSL3Dq__T",
    "outputId": "b861fa20-1b8f-4b86-ad77-e5af0c0d8379"
   },
   "outputs": [
    {
     "data": {
      "image/png": "[encoded data removed]",
      "text/plain": [
       "<Figure size 842.4x595.44 with 1 Axes>"
      ]
     },
     "metadata": {
      "needs_background": "light"
     },
     "output_type": "display_data"
    }
   ],
   "source": [
    "matplotlib.rcParams['lines.linewidth'] = 2\n",
    "\n",
    "fig, ax = plt.subplots()\n",
    "fig.set_size_inches(11.7, 8.27)\n",
    "\n",
    "dn = dendrogram(link,\n",
    "                labels=df.index.tolist(),\n",
    "                truncate_mode='lastp',\n",
    "                orientation = \"right\",\n",
    "                )\n",
    "ax.tick_params(labelsize=13)\n",
    "plt.title('Hierarchical Clustering Dendrogram (truncate)')\n",
    "plt.ylabel('index')\n",
    "plt.xlabel('distance (Ward)')\n",
    "plt.show()"
   ]
  },
  {
   "cell_type": "markdown",
   "metadata": {},
   "source": [
    "Алгоритм подкрасил три кластера"
   ]
  },
  {
   "cell_type": "code",
   "execution_count": 10,
   "metadata": {},
   "outputs": [],
   "source": [
    "df['cluster'] = fcluster(link, 3, criterion='distance')"
   ]
  },
  {
   "cell_type": "code",
   "execution_count": 11,
   "metadata": {},
   "outputs": [
    {
     "data": {
      "text/html": [
       "<div>\n",
       "<style scoped>\n",
       "    .dataframe tbody tr th:only-of-type {\n",
       "        vertical-align: middle;\n",
       "    }\n",
       "\n",
       "    .dataframe tbody tr th {\n",
       "        vertical-align: top;\n",
       "    }\n",
       "\n",
       "    .dataframe thead th {\n",
       "        text-align: right;\n",
       "    }\n",
       "</style>\n",
       "<table border=\"1\" class=\"dataframe\">\n",
       "  <thead>\n",
       "    <tr style=\"text-align: right;\">\n",
       "      <th></th>\n",
       "      <th>Кола</th>\n",
       "      <th>Диетическая кола</th>\n",
       "      <th>Диетическая пепси</th>\n",
       "      <th>Диетическая 7UP</th>\n",
       "      <th>Пепси</th>\n",
       "      <th>Спрайт</th>\n",
       "      <th>TAB</th>\n",
       "      <th>7UP</th>\n",
       "    </tr>\n",
       "    <tr>\n",
       "      <th>cluster</th>\n",
       "      <th></th>\n",
       "      <th></th>\n",
       "      <th></th>\n",
       "      <th></th>\n",
       "      <th></th>\n",
       "      <th></th>\n",
       "      <th></th>\n",
       "      <th></th>\n",
       "    </tr>\n",
       "  </thead>\n",
       "  <tbody>\n",
       "    <tr>\n",
       "      <th>1</th>\n",
       "      <td>0.00</td>\n",
       "      <td>1.000000</td>\n",
       "      <td>0.545455</td>\n",
       "      <td>0.545455</td>\n",
       "      <td>0.000000</td>\n",
       "      <td>0.000000</td>\n",
       "      <td>0.909091</td>\n",
       "      <td>0.000000</td>\n",
       "    </tr>\n",
       "    <tr>\n",
       "      <th>2</th>\n",
       "      <td>1.00</td>\n",
       "      <td>0.272727</td>\n",
       "      <td>0.090909</td>\n",
       "      <td>0.000000</td>\n",
       "      <td>1.000000</td>\n",
       "      <td>0.000000</td>\n",
       "      <td>0.000000</td>\n",
       "      <td>0.272727</td>\n",
       "    </tr>\n",
       "    <tr>\n",
       "      <th>3</th>\n",
       "      <td>0.75</td>\n",
       "      <td>0.250000</td>\n",
       "      <td>0.083333</td>\n",
       "      <td>0.083333</td>\n",
       "      <td>0.416667</td>\n",
       "      <td>0.916667</td>\n",
       "      <td>0.083333</td>\n",
       "      <td>0.500000</td>\n",
       "    </tr>\n",
       "  </tbody>\n",
       "</table>\n",
       "</div>"
      ],
      "text/plain": [
       "         Кола  Диетическая кола  Диетическая пепси  Диетическая 7UP     Пепси  \\\n",
       "cluster                                                                         \n",
       "1        0.00          1.000000           0.545455         0.545455  0.000000   \n",
       "2        1.00          0.272727           0.090909         0.000000  1.000000   \n",
       "3        0.75          0.250000           0.083333         0.083333  0.416667   \n",
       "\n",
       "           Спрайт       TAB       7UP  \n",
       "cluster                                \n",
       "1        0.000000  0.909091  0.000000  \n",
       "2        0.000000  0.000000  0.272727  \n",
       "3        0.916667  0.083333  0.500000  "
      ]
     },
     "execution_count": 11,
     "metadata": {},
     "output_type": "execute_result"
    }
   ],
   "source": [
    "df.groupby('cluster').mean()"
   ]
  },
  {
   "cell_type": "code",
   "execution_count": 12,
   "metadata": {},
   "outputs": [
    {
     "data": {
      "text/plain": [
       "cluster\n",
       "1    11\n",
       "2    11\n",
       "3    12\n",
       "dtype: int64"
      ]
     },
     "execution_count": 12,
     "metadata": {},
     "output_type": "execute_result"
    }
   ],
   "source": [
    "df.groupby('cluster').size() #размеры кластеров"
   ]
  },
  {
   "cell_type": "markdown",
   "metadata": {
    "id": "7Cu9kpV8q__U"
   },
   "source": [
    "### Построение каменистой осыпи"
   ]
  },
  {
   "cell_type": "markdown",
   "metadata": {},
   "source": [
    "Объект link представляет собой матрицу (n-1) x 4, где n - число наблюдений. Каждая строка матрицы представляет собой результат слияния очередной пары кластеров с номерами link[i, 0] и link[i, 1]. Новому кластеру присваивается номер n + i. link[i, 2] означает расстояние между слитыми кластерами, а link[i, 3] -- размер нового кластера."
   ]
  },
  {
   "cell_type": "code",
   "execution_count": 13,
   "metadata": {},
   "outputs": [
    {
     "data": {
      "text/plain": [
       "array([10.,  2., 35., 22., 36., 33., 30., 28., 40., 23., 26., 29., 37.,\n",
       "       45., 38.,  7., 27., 34., 39., 43., 46., 50., 49., 52., 51., 48.,\n",
       "       56., 60., 59., 57., 61., 64., 65.])"
      ]
     },
     "execution_count": 13,
     "metadata": {},
     "output_type": "execute_result"
    }
   ],
   "source": [
    "link[:,1]"
   ]
  },
  {
   "cell_type": "code",
   "execution_count": 14,
   "metadata": {},
   "outputs": [
    {
     "data": {
      "text/plain": [
       "array([0.        , 0.        , 0.        , 0.        , 0.        ,\n",
       "       0.        , 0.        , 0.        , 0.        , 0.        ,\n",
       "       0.        , 0.        , 0.        , 0.        , 0.        ,\n",
       "       1.        , 1.        , 1.15470054, 1.15470054, 1.15470054,\n",
       "       1.54919334, 1.58113883, 1.73205081, 1.82574186, 1.91485422,\n",
       "       1.93649167, 2.12132034, 2.27636073, 2.33711814, 2.37920282,\n",
       "       2.446395  , 3.87646865, 7.09212963])"
      ]
     },
     "execution_count": 14,
     "metadata": {},
     "output_type": "execute_result"
    }
   ],
   "source": [
    "link[:,2]"
   ]
  },
  {
   "cell_type": "code",
   "execution_count": 15,
   "metadata": {},
   "outputs": [
    {
     "data": {
      "text/plain": [
       "array([ 2.,  2.,  3.,  2.,  4.,  2.,  2.,  2.,  3.,  2.,  2.,  2.,  3.,\n",
       "        3.,  5.,  2.,  2.,  3.,  3.,  3.,  5.,  4.,  3.,  6.,  4.,  8.,\n",
       "        7., 11., 11., 11., 12., 23., 34.])"
      ]
     },
     "execution_count": 15,
     "metadata": {},
     "output_type": "execute_result"
    }
   ],
   "source": [
    "link[:,3]"
   ]
  },
  {
   "cell_type": "code",
   "execution_count": 16,
   "metadata": {},
   "outputs": [
    {
     "data": {
      "text/plain": [
       "array([0.        , 0.        , 0.        , 0.        , 0.        ,\n",
       "       0.        , 0.        , 0.        , 0.        , 0.        ,\n",
       "       0.        , 0.        , 0.        , 0.        , 0.        ,\n",
       "       1.        , 1.        , 1.15470054, 1.15470054, 1.15470054,\n",
       "       1.54919334, 1.58113883, 1.73205081, 1.82574186, 1.91485422,\n",
       "       1.93649167, 2.12132034, 2.27636073, 2.33711814, 2.37920282,\n",
       "       2.446395  , 3.87646865, 7.09212963])"
      ]
     },
     "execution_count": 16,
     "metadata": {},
     "output_type": "execute_result"
    }
   ],
   "source": [
    "# расстояния между парами слитых кластеров\n",
    "dist = link[-50:, 2]\n",
    "dist"
   ]
  },
  {
   "cell_type": "code",
   "execution_count": 17,
   "metadata": {
    "id": "-p4fHNd2q__U",
    "outputId": "25aac74b-da66-4a08-b700-0fc6ffa3a87d"
   },
   "outputs": [
    {
     "data": {
      "image/png": "[encoded data removed]",
      "text/plain": [
       "<Figure size 842.4x595.44 with 1 Axes>"
      ]
     },
     "metadata": {
      "needs_background": "light"
     },
     "output_type": "display_data"
    }
   ],
   "source": [
    "dist_rev = dist[::-1]\n",
    "idxs = range(1, len(dist) + 1)\n",
    "\n",
    "fig, ax = plt.subplots()\n",
    "fig.set_size_inches(11.7, 8.27)\n",
    "plt.plot(idxs, dist_rev, marker='o')\n",
    "plt.title('Distance between merged clusters')\n",
    "plt.xlabel('Step')\n",
    "plt.ylabel('Distance')\n",
    "plt.axhline(3.2, c='g', linestyle='dashed')\n",
    "plt.axhline(2.41, c='g', linestyle='dashed')\n",
    "plt.text(25, 3.3, '3 clusters',size=15)\n",
    "plt.text(22, 2.51, '4 clusters',size=15)\n",
    "\n",
    "plt.show()"
   ]
  },
  {
   "cell_type": "markdown",
   "metadata": {},
   "source": [
    "### 3 кластера"
   ]
  },
  {
   "cell_type": "code",
   "execution_count": 18,
   "metadata": {},
   "outputs": [],
   "source": [
    "df['cluster'] = fcluster(link, 3, criterion='maxclust')"
   ]
  },
  {
   "cell_type": "code",
   "execution_count": 19,
   "metadata": {
    "scrolled": false
   },
   "outputs": [
    {
     "data": {
      "image/png": "[encoded data removed]",
      "text/plain": [
       "<Figure size 1058.4x667.44 with 4 Axes>"
      ]
     },
     "metadata": {
      "needs_background": "light"
     },
     "output_type": "display_data"
    }
   ],
   "source": [
    "fig, axs = plt.subplots(nrows=2, ncols=2, sharex=True)\n",
    "fig.set_size_inches(14.7, 9.27)\n",
    "plt.subplots_adjust( wspace=0.625)\n",
    "k = 0\n",
    "c = ['grey', 'violet', 'salmon', 'skyblue', 'orange']\n",
    "try:\n",
    "    for i in range(2):\n",
    "        for j in range(2):\n",
    "            ax = axs[i, j]\n",
    "            k += 1\n",
    "            df[df.cluster == k].groupby('cluster').mean().T.plot.barh(ax = ax, color = c[k-1])\n",
    "            ax.tick_params(labelsize = 11)\n",
    "except TypeError:\n",
    "    pass\n"
   ]
  },
  {
   "cell_type": "markdown",
   "metadata": {},
   "source": [
    "Кластер 1 - Больше предпочитают диетическую колу  \n",
    "Кластер 2 - Больше предпочитают пепси/колу (напитки похожие)  \n",
    "Кластер 3 - Больше предпочитают sprite"
   ]
  },
  {
   "cell_type": "markdown",
   "metadata": {},
   "source": [
    "### 4 кластера"
   ]
  },
  {
   "cell_type": "code",
   "execution_count": 20,
   "metadata": {
    "id": "UF3HMEhbq__U"
   },
   "outputs": [],
   "source": [
    "df['cluster'] = fcluster(link, 4, criterion='maxclust')"
   ]
  },
  {
   "cell_type": "code",
   "execution_count": 21,
   "metadata": {
    "id": "zufRY_GGq__U",
    "outputId": "a04b505b-45bb-4903-f00f-a95569209b73"
   },
   "outputs": [
    {
     "data": {
      "text/html": [
       "<div>\n",
       "<style scoped>\n",
       "    .dataframe tbody tr th:only-of-type {\n",
       "        vertical-align: middle;\n",
       "    }\n",
       "\n",
       "    .dataframe tbody tr th {\n",
       "        vertical-align: top;\n",
       "    }\n",
       "\n",
       "    .dataframe thead th {\n",
       "        text-align: right;\n",
       "    }\n",
       "</style>\n",
       "<table border=\"1\" class=\"dataframe\">\n",
       "  <thead>\n",
       "    <tr style=\"text-align: right;\">\n",
       "      <th></th>\n",
       "      <th>Кола</th>\n",
       "      <th>Диетическая кола</th>\n",
       "      <th>Диетическая пепси</th>\n",
       "      <th>Диетическая 7UP</th>\n",
       "      <th>Пепси</th>\n",
       "      <th>Спрайт</th>\n",
       "      <th>TAB</th>\n",
       "      <th>7UP</th>\n",
       "    </tr>\n",
       "    <tr>\n",
       "      <th>cluster</th>\n",
       "      <th></th>\n",
       "      <th></th>\n",
       "      <th></th>\n",
       "      <th></th>\n",
       "      <th></th>\n",
       "      <th></th>\n",
       "      <th></th>\n",
       "      <th></th>\n",
       "    </tr>\n",
       "  </thead>\n",
       "  <tbody>\n",
       "    <tr>\n",
       "      <th>1</th>\n",
       "      <td>0.000000</td>\n",
       "      <td>1.000000</td>\n",
       "      <td>0.545455</td>\n",
       "      <td>0.545455</td>\n",
       "      <td>0.000000</td>\n",
       "      <td>0.000000</td>\n",
       "      <td>0.909091</td>\n",
       "      <td>0.000000</td>\n",
       "    </tr>\n",
       "    <tr>\n",
       "      <th>2</th>\n",
       "      <td>1.000000</td>\n",
       "      <td>0.272727</td>\n",
       "      <td>0.090909</td>\n",
       "      <td>0.000000</td>\n",
       "      <td>1.000000</td>\n",
       "      <td>0.000000</td>\n",
       "      <td>0.000000</td>\n",
       "      <td>0.272727</td>\n",
       "    </tr>\n",
       "    <tr>\n",
       "      <th>3</th>\n",
       "      <td>0.818182</td>\n",
       "      <td>0.272727</td>\n",
       "      <td>0.000000</td>\n",
       "      <td>0.000000</td>\n",
       "      <td>0.454545</td>\n",
       "      <td>0.909091</td>\n",
       "      <td>0.090909</td>\n",
       "      <td>0.454545</td>\n",
       "    </tr>\n",
       "    <tr>\n",
       "      <th>4</th>\n",
       "      <td>0.000000</td>\n",
       "      <td>0.000000</td>\n",
       "      <td>1.000000</td>\n",
       "      <td>1.000000</td>\n",
       "      <td>0.000000</td>\n",
       "      <td>1.000000</td>\n",
       "      <td>0.000000</td>\n",
       "      <td>1.000000</td>\n",
       "    </tr>\n",
       "  </tbody>\n",
       "</table>\n",
       "</div>"
      ],
      "text/plain": [
       "             Кола  Диетическая кола  Диетическая пепси  Диетическая 7UP  \\\n",
       "cluster                                                                   \n",
       "1        0.000000          1.000000           0.545455         0.545455   \n",
       "2        1.000000          0.272727           0.090909         0.000000   \n",
       "3        0.818182          0.272727           0.000000         0.000000   \n",
       "4        0.000000          0.000000           1.000000         1.000000   \n",
       "\n",
       "            Пепси    Спрайт       TAB       7UP  \n",
       "cluster                                          \n",
       "1        0.000000  0.000000  0.909091  0.000000  \n",
       "2        1.000000  0.000000  0.000000  0.272727  \n",
       "3        0.454545  0.909091  0.090909  0.454545  \n",
       "4        0.000000  1.000000  0.000000  1.000000  "
      ]
     },
     "execution_count": 21,
     "metadata": {},
     "output_type": "execute_result"
    }
   ],
   "source": [
    "df.groupby('cluster').mean()"
   ]
  },
  {
   "cell_type": "code",
   "execution_count": 22,
   "metadata": {
    "id": "_UBjj-jJq__V",
    "outputId": "0dbe121a-8d00-4914-ac6b-d47ceb279c02"
   },
   "outputs": [
    {
     "data": {
      "text/plain": [
       "cluster\n",
       "1    11\n",
       "2    11\n",
       "3    11\n",
       "4     1\n",
       "dtype: int64"
      ]
     },
     "execution_count": 22,
     "metadata": {},
     "output_type": "execute_result"
    }
   ],
   "source": [
    "df.groupby('cluster').size()"
   ]
  },
  {
   "cell_type": "code",
   "execution_count": 23,
   "metadata": {
    "id": "mRPK33FBq__V",
    "outputId": "d20d6f12-56ec-41a2-b51b-7d3b5db7444b"
   },
   "outputs": [
    {
     "data": {
      "image/png": "[encoded data removed]",
      "text/plain": [
       "<Figure size 1058.4x667.44 with 4 Axes>"
      ]
     },
     "metadata": {
      "needs_background": "light"
     },
     "output_type": "display_data"
    }
   ],
   "source": [
    "fig, axs = plt.subplots(nrows=2, ncols=2, sharex=True)\n",
    "fig.set_size_inches(14.7, 9.27)\n",
    "plt.subplots_adjust( wspace=0.625)\n",
    "k = 0\n",
    "c = ['grey', 'violet', 'salmon', 'skyblue', 'orange']\n",
    "for i in range(2):\n",
    "    for j in range(2):\n",
    "        ax = axs[i, j]\n",
    "        k += 1\n",
    "        df[df.cluster == k].groupby('cluster').mean().T.plot.barh(ax = ax, color = c[k-1])\n",
    "        ax.tick_params(labelsize = 11)\n"
   ]
  },
  {
   "cell_type": "markdown",
   "metadata": {
    "id": "1Ps4LVb8q__V"
   },
   "source": [
    "- Кластер 1 - Больше предпочитают диетическую колу \n",
    "\n",
    "- Кластер 2 - Больше предпочитают пепси/колу (напитки похожие)\n",
    "\n",
    "- Кластер 3 - Больше предпочитают спрайт\n",
    "\n",
    "- Кластер 4 - Больше предпочитают sevenup\n"
   ]
  },
  {
   "cell_type": "markdown",
   "metadata": {
    "id": "V495YeF2q__W"
   },
   "source": [
    "## Кластеризация методом k-means"
   ]
  },
  {
   "cell_type": "code",
   "execution_count": 24,
   "metadata": {
    "id": "QuNKslo6q__W",
    "outputId": "0a0be032-c17b-4371-d88f-9858869188ec"
   },
   "outputs": [
    {
     "data": {
      "image/png": "[encoded data removed]",
      "text/plain": [
       "<Figure size 842.4x595.44 with 1 Axes>"
      ]
     },
     "metadata": {
      "needs_background": "light"
     },
     "output_type": "display_data"
    }
   ],
   "source": [
    "K = range(1, 11)\n",
    "models = [KMeans(n_clusters=k, random_state=42).fit(df.iloc[:, :-1]) for k in K]\n",
    "dist = [model.inertia_ for model in models]\n",
    "#Метод inertia_ вернёт сумму расстояний от каждой точки данных до центра ближайшего у ней кластера. \n",
    "#кластеризацию можно считать условно хорошей, когда инерция перестаёт сильно уменьшаться при увеличении числа кластеров.\n",
    "\n",
    "\n",
    "\n",
    "fig, ax = plt.subplots()\n",
    "fig.set_size_inches(11.7, 8.27)\n",
    "plt.plot(K, dist, marker='o')\n",
    "plt.xlabel('k')\n",
    "plt.ylabel('Sum of distances')\n",
    "plt.axvline(4, c='g', linestyle='dashed')\n",
    "plt.title('The Elbow Method showing the optimal k')\n",
    "plt.show()"
   ]
  },
  {
   "cell_type": "markdown",
   "metadata": {},
   "source": [
    "### 3 кластера"
   ]
  },
  {
   "cell_type": "code",
   "execution_count": 25,
   "metadata": {},
   "outputs": [
    {
     "data": {
      "text/html": [
       "<div>\n",
       "<style scoped>\n",
       "    .dataframe tbody tr th:only-of-type {\n",
       "        vertical-align: middle;\n",
       "    }\n",
       "\n",
       "    .dataframe tbody tr th {\n",
       "        vertical-align: top;\n",
       "    }\n",
       "\n",
       "    .dataframe thead th {\n",
       "        text-align: right;\n",
       "    }\n",
       "</style>\n",
       "<table border=\"1\" class=\"dataframe\">\n",
       "  <thead>\n",
       "    <tr style=\"text-align: right;\">\n",
       "      <th></th>\n",
       "      <th>Кола</th>\n",
       "      <th>Диетическая кола</th>\n",
       "      <th>Диетическая пепси</th>\n",
       "      <th>Диетическая 7UP</th>\n",
       "      <th>Пепси</th>\n",
       "      <th>Спрайт</th>\n",
       "      <th>TAB</th>\n",
       "      <th>7UP</th>\n",
       "    </tr>\n",
       "    <tr>\n",
       "      <th>cluster</th>\n",
       "      <th></th>\n",
       "      <th></th>\n",
       "      <th></th>\n",
       "      <th></th>\n",
       "      <th></th>\n",
       "      <th></th>\n",
       "      <th></th>\n",
       "      <th></th>\n",
       "    </tr>\n",
       "  </thead>\n",
       "  <tbody>\n",
       "    <tr>\n",
       "      <th>0</th>\n",
       "      <td>0.75</td>\n",
       "      <td>0.250000</td>\n",
       "      <td>0.083333</td>\n",
       "      <td>0.083333</td>\n",
       "      <td>0.416667</td>\n",
       "      <td>0.916667</td>\n",
       "      <td>0.083333</td>\n",
       "      <td>0.500000</td>\n",
       "    </tr>\n",
       "    <tr>\n",
       "      <th>1</th>\n",
       "      <td>0.00</td>\n",
       "      <td>1.000000</td>\n",
       "      <td>0.545455</td>\n",
       "      <td>0.545455</td>\n",
       "      <td>0.000000</td>\n",
       "      <td>0.000000</td>\n",
       "      <td>0.909091</td>\n",
       "      <td>0.000000</td>\n",
       "    </tr>\n",
       "    <tr>\n",
       "      <th>2</th>\n",
       "      <td>1.00</td>\n",
       "      <td>0.272727</td>\n",
       "      <td>0.090909</td>\n",
       "      <td>0.000000</td>\n",
       "      <td>1.000000</td>\n",
       "      <td>0.000000</td>\n",
       "      <td>0.000000</td>\n",
       "      <td>0.272727</td>\n",
       "    </tr>\n",
       "  </tbody>\n",
       "</table>\n",
       "</div>"
      ],
      "text/plain": [
       "         Кола  Диетическая кола  Диетическая пепси  Диетическая 7UP     Пепси  \\\n",
       "cluster                                                                         \n",
       "0        0.75          0.250000           0.083333         0.083333  0.416667   \n",
       "1        0.00          1.000000           0.545455         0.545455  0.000000   \n",
       "2        1.00          0.272727           0.090909         0.000000  1.000000   \n",
       "\n",
       "           Спрайт       TAB       7UP  \n",
       "cluster                                \n",
       "0        0.916667  0.083333  0.500000  \n",
       "1        0.000000  0.909091  0.000000  \n",
       "2        0.000000  0.000000  0.272727  "
      ]
     },
     "execution_count": 25,
     "metadata": {},
     "output_type": "execute_result"
    }
   ],
   "source": [
    "model = KMeans(n_clusters=3, random_state=42)\n",
    "model.fit(df)\n",
    "df['cluster'] = model.labels_\n",
    "df.groupby('cluster').mean()"
   ]
  },
  {
   "cell_type": "code",
   "execution_count": 26,
   "metadata": {},
   "outputs": [
    {
     "data": {
      "text/plain": [
       "cluster\n",
       "0    12\n",
       "1    11\n",
       "2    11\n",
       "dtype: int64"
      ]
     },
     "execution_count": 26,
     "metadata": {},
     "output_type": "execute_result"
    }
   ],
   "source": [
    "df.groupby('cluster').size()"
   ]
  },
  {
   "cell_type": "markdown",
   "metadata": {},
   "source": [
    "К сожалению, выводит только два"
   ]
  },
  {
   "cell_type": "code",
   "execution_count": 27,
   "metadata": {},
   "outputs": [
    {
     "data": {
      "image/png": "[encoded data removed]",
      "text/plain": [
       "<Figure size 1058.4x667.44 with 4 Axes>"
      ]
     },
     "metadata": {
      "needs_background": "light"
     },
     "output_type": "display_data"
    }
   ],
   "source": [
    "fig, axs = plt.subplots(nrows=2, ncols=2, sharex=True)\n",
    "fig.set_size_inches(14.7, 9.27)\n",
    "plt.subplots_adjust( wspace=0.625)\n",
    "k = 0\n",
    "c = ['grey', 'violet', 'salmon', 'skyblue', 'orange']\n",
    "try:\n",
    "    for i in range(2):\n",
    "        for j in range(2):\n",
    "            ax = axs[i, j]\n",
    "            k += 1\n",
    "            try:\n",
    "                df[df.cluster == k].groupby('cluster').mean().T.plot.barh(ax = ax, color = c[k-1])\n",
    "                ax.tick_params(labelsize = 11)\n",
    "            except TypeError:\n",
    "                df[df.cluster == k].groupby('cluster').mean().T.plot.barh(ax = ax, color = c[k])\n",
    "                ax.tick_params(labelsize = 11)\n",
    "except TypeError:\n",
    "    pass"
   ]
  },
  {
   "cell_type": "markdown",
   "metadata": {},
   "source": [
    "Кластеры отличаются от тех, что были получены при иерархической кластеризации. Но выводы похожие. \n",
    "\n",
    "- Кластер 1 - Больше предпочитают пепси/колу (напитки похожие)\n",
    "\n",
    "- Кластер 2 - Больше предпочитают диетическую колу\n",
    "\n",
    "- Кластер 3 - Больше предпочитают sprite"
   ]
  },
  {
   "cell_type": "markdown",
   "metadata": {},
   "source": [
    "### 4 кластера"
   ]
  },
  {
   "cell_type": "code",
   "execution_count": 28,
   "metadata": {
    "id": "gCbf-9T1q__W",
    "outputId": "6fed3976-43f3-4b52-abd6-0a38cc542750"
   },
   "outputs": [
    {
     "data": {
      "text/html": [
       "<div>\n",
       "<style scoped>\n",
       "    .dataframe tbody tr th:only-of-type {\n",
       "        vertical-align: middle;\n",
       "    }\n",
       "\n",
       "    .dataframe tbody tr th {\n",
       "        vertical-align: top;\n",
       "    }\n",
       "\n",
       "    .dataframe thead th {\n",
       "        text-align: right;\n",
       "    }\n",
       "</style>\n",
       "<table border=\"1\" class=\"dataframe\">\n",
       "  <thead>\n",
       "    <tr style=\"text-align: right;\">\n",
       "      <th></th>\n",
       "      <th>Кола</th>\n",
       "      <th>Диетическая кола</th>\n",
       "      <th>Диетическая пепси</th>\n",
       "      <th>Диетическая 7UP</th>\n",
       "      <th>Пепси</th>\n",
       "      <th>Спрайт</th>\n",
       "      <th>TAB</th>\n",
       "      <th>7UP</th>\n",
       "    </tr>\n",
       "    <tr>\n",
       "      <th>cluster</th>\n",
       "      <th></th>\n",
       "      <th></th>\n",
       "      <th></th>\n",
       "      <th></th>\n",
       "      <th></th>\n",
       "      <th></th>\n",
       "      <th></th>\n",
       "      <th></th>\n",
       "    </tr>\n",
       "  </thead>\n",
       "  <tbody>\n",
       "    <tr>\n",
       "      <th>0</th>\n",
       "      <td>0.714286</td>\n",
       "      <td>0.428571</td>\n",
       "      <td>0.142857</td>\n",
       "      <td>0.142857</td>\n",
       "      <td>0.285714</td>\n",
       "      <td>0.857143</td>\n",
       "      <td>0.142857</td>\n",
       "      <td>0.857143</td>\n",
       "    </tr>\n",
       "    <tr>\n",
       "      <th>1</th>\n",
       "      <td>1.000000</td>\n",
       "      <td>0.272727</td>\n",
       "      <td>0.090909</td>\n",
       "      <td>0.000000</td>\n",
       "      <td>1.000000</td>\n",
       "      <td>0.000000</td>\n",
       "      <td>0.000000</td>\n",
       "      <td>0.272727</td>\n",
       "    </tr>\n",
       "    <tr>\n",
       "      <th>2</th>\n",
       "      <td>0.000000</td>\n",
       "      <td>1.000000</td>\n",
       "      <td>0.545455</td>\n",
       "      <td>0.545455</td>\n",
       "      <td>0.000000</td>\n",
       "      <td>0.000000</td>\n",
       "      <td>0.909091</td>\n",
       "      <td>0.000000</td>\n",
       "    </tr>\n",
       "    <tr>\n",
       "      <th>3</th>\n",
       "      <td>0.800000</td>\n",
       "      <td>0.000000</td>\n",
       "      <td>0.000000</td>\n",
       "      <td>0.000000</td>\n",
       "      <td>0.600000</td>\n",
       "      <td>1.000000</td>\n",
       "      <td>0.000000</td>\n",
       "      <td>0.000000</td>\n",
       "    </tr>\n",
       "  </tbody>\n",
       "</table>\n",
       "</div>"
      ],
      "text/plain": [
       "             Кола  Диетическая кола  Диетическая пепси  Диетическая 7UP  \\\n",
       "cluster                                                                   \n",
       "0        0.714286          0.428571           0.142857         0.142857   \n",
       "1        1.000000          0.272727           0.090909         0.000000   \n",
       "2        0.000000          1.000000           0.545455         0.545455   \n",
       "3        0.800000          0.000000           0.000000         0.000000   \n",
       "\n",
       "            Пепси    Спрайт       TAB       7UP  \n",
       "cluster                                          \n",
       "0        0.285714  0.857143  0.142857  0.857143  \n",
       "1        1.000000  0.000000  0.000000  0.272727  \n",
       "2        0.000000  0.000000  0.909091  0.000000  \n",
       "3        0.600000  1.000000  0.000000  0.000000  "
      ]
     },
     "execution_count": 28,
     "metadata": {},
     "output_type": "execute_result"
    }
   ],
   "source": [
    "model = KMeans(n_clusters=4, random_state=42)\n",
    "model.fit(df)\n",
    "df['cluster'] = model.labels_\n",
    "df.groupby('cluster').mean()"
   ]
  },
  {
   "cell_type": "code",
   "execution_count": 29,
   "metadata": {
    "id": "4Uo34J50q__W",
    "outputId": "80275bdb-e666-4ebd-e136-196f2572cfe5"
   },
   "outputs": [
    {
     "data": {
      "text/plain": [
       "cluster\n",
       "0     7\n",
       "1    11\n",
       "2    11\n",
       "3     5\n",
       "dtype: int64"
      ]
     },
     "execution_count": 29,
     "metadata": {},
     "output_type": "execute_result"
    }
   ],
   "source": [
    "df.groupby('cluster').size()"
   ]
  },
  {
   "cell_type": "code",
   "execution_count": 30,
   "metadata": {
    "id": "MpiLOri0q__W",
    "outputId": "1cbdf1f9-45a8-4f8a-d74f-887d3d5dd8d5"
   },
   "outputs": [
    {
     "data": {
      "image/png": "[encoded data removed]",
      "text/plain": [
       "<Figure size 1058.4x667.44 with 4 Axes>"
      ]
     },
     "metadata": {
      "needs_background": "light"
     },
     "output_type": "display_data"
    }
   ],
   "source": [
    "fig, axs = plt.subplots(nrows=2, ncols=2, sharex=True)\n",
    "fig.set_size_inches(14.7, 9.27)\n",
    "plt.subplots_adjust( wspace=0.625)\n",
    "k = 0\n",
    "c = ['grey', 'violet', 'salmon', 'skyblue', 'orange']\n",
    "for i in range(2):\n",
    "    for j in range(2):\n",
    "        ax = axs[i, j]\n",
    "        k += 1\n",
    "        df[df.cluster == k-1].groupby('cluster').mean().T.plot.barh(ax = ax, color = c[k-1])\n",
    "        ax.tick_params(labelsize = 11)\n",
    "\n"
   ]
  },
  {
   "cell_type": "markdown",
   "metadata": {},
   "source": [
    "- Кластер 1 - Больше предпочитают sevenup/sprite (напитки похожие)\n",
    "\n",
    "- Кластер 2 - Больше предпочитают пепси/колу (напитки похожие)\n",
    "\n",
    "- Кластер 3 - Больше предпочитают диетическую колу\n",
    "\n",
    "- Кластер 4 - Больше предпочитают sprite\n"
   ]
  },
  {
   "cell_type": "markdown",
   "metadata": {
    "id": "yTirG-5nq__X"
   },
   "source": [
    "Два кластера отличаются от тех, что были получены при иерархической кластеризации.\n",
    "Причем, я бы сказала, что они (полученные при помощи KMeans) больше похожи на правду. "
   ]
  }
 ],
 "metadata": {
  "colab": {
   "name": "led.ipynb",
   "provenance": []
  },
  "kernelspec": {
   "display_name": "Python 3 (ipykernel)",
   "language": "python",
   "name": "python3"
  },
  "language_info": {
   "codemirror_mode": {
    "name": "ipython",
    "version": 3
   },
   "file_extension": ".py",
   "mimetype": "text/x-python",
   "name": "python",
   "nbconvert_exporter": "python",
   "pygments_lexer": "ipython3",
   "version": "3.9.7"
  },
  "toc": {
   "base_numbering": 1,
   "nav_menu": {},
   "number_sections": true,
   "sideBar": true,
   "skip_h1_title": false,
   "title_cell": "Table of Contents",
   "title_sidebar": "Contents",
   "toc_cell": false,
   "toc_position": {},
   "toc_section_display": true,
   "toc_window_display": false
  },
  "varInspector": {
   "cols": {
    "lenName": 16,
    "lenType": 16,
    "lenVar": 40
   },
   "kernels_config": {
    "python": {
     "delete_cmd_postfix": "",
     "delete_cmd_prefix": "del ",
     "library": "var_list.py",
     "varRefreshCmd": "print(var_dic_list())"
    },
    "r": {
     "delete_cmd_postfix": ") ",
     "delete_cmd_prefix": "rm(",
     "library": "var_list.r",
     "varRefreshCmd": "cat(var_dic_list()) "
    }
   },
   "types_to_exclude": [
    "module",
    "function",
    "builtin_function_or_method",
    "instance",
    "_Feature"
   ],
   "window_display": false
  }
 },
 "nbformat": 4,
 "nbformat_minor": 1
}
