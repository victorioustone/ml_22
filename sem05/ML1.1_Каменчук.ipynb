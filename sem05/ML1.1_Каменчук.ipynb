{
 "cells": [
  {
   "cell_type": "markdown",
   "metadata": {},
   "source": [
    "## Парная линейная регрессия"
   ]
  },
  {
   "cell_type": "markdown",
   "metadata": {},
   "source": [
    "1. Загрузить данные о котировках нескольких инструментов с сайта РТС (следите за тем, чтобы периоды выгрузки совпадали, иначе весь наш анализ не будет иметь смысл)."
   ]
  },
  {
   "cell_type": "code",
   "execution_count": 1,
   "metadata": {},
   "outputs": [],
   "source": [
    "import numpy as np\n",
    "import pandas as pd\n",
    "import matplotlib.pyplot as plt"
   ]
  },
  {
   "cell_type": "code",
   "execution_count": 2,
   "metadata": {},
   "outputs": [],
   "source": [
    "mvid = pd.read_csv('./data/MVID_101001_171001.txt')\n",
    "sber = pd.read_csv('./data/SBER_101001_171001.txt')"
   ]
  },
  {
   "cell_type": "code",
   "execution_count": 3,
   "metadata": {},
   "outputs": [
    {
     "data": {
      "text/html": [
       "<div>\n",
       "<style scoped>\n",
       "    .dataframe tbody tr th:only-of-type {\n",
       "        vertical-align: middle;\n",
       "    }\n",
       "\n",
       "    .dataframe tbody tr th {\n",
       "        vertical-align: top;\n",
       "    }\n",
       "\n",
       "    .dataframe thead th {\n",
       "        text-align: right;\n",
       "    }\n",
       "</style>\n",
       "<table border=\"1\" class=\"dataframe\">\n",
       "  <thead>\n",
       "    <tr style=\"text-align: right;\">\n",
       "      <th></th>\n",
       "      <th>&lt;TICKER&gt;</th>\n",
       "      <th>&lt;PER&gt;</th>\n",
       "      <th>&lt;DATE&gt;</th>\n",
       "      <th>&lt;TIME&gt;</th>\n",
       "      <th>&lt;CLOSE&gt;</th>\n",
       "      <th>&lt;VOL&gt;</th>\n",
       "    </tr>\n",
       "  </thead>\n",
       "  <tbody>\n",
       "    <tr>\n",
       "      <th>0</th>\n",
       "      <td>SBER</td>\n",
       "      <td>D</td>\n",
       "      <td>20101001</td>\n",
       "      <td>0</td>\n",
       "      <td>89.09</td>\n",
       "      <td>332429890</td>\n",
       "    </tr>\n",
       "    <tr>\n",
       "      <th>1</th>\n",
       "      <td>SBER</td>\n",
       "      <td>D</td>\n",
       "      <td>20101004</td>\n",
       "      <td>0</td>\n",
       "      <td>89.88</td>\n",
       "      <td>194032721</td>\n",
       "    </tr>\n",
       "    <tr>\n",
       "      <th>2</th>\n",
       "      <td>SBER</td>\n",
       "      <td>D</td>\n",
       "      <td>20101005</td>\n",
       "      <td>0</td>\n",
       "      <td>91.97</td>\n",
       "      <td>198775753</td>\n",
       "    </tr>\n",
       "    <tr>\n",
       "      <th>3</th>\n",
       "      <td>SBER</td>\n",
       "      <td>D</td>\n",
       "      <td>20101006</td>\n",
       "      <td>0</td>\n",
       "      <td>91.20</td>\n",
       "      <td>210406027</td>\n",
       "    </tr>\n",
       "    <tr>\n",
       "      <th>4</th>\n",
       "      <td>SBER</td>\n",
       "      <td>D</td>\n",
       "      <td>20101007</td>\n",
       "      <td>0</td>\n",
       "      <td>90.40</td>\n",
       "      <td>145137617</td>\n",
       "    </tr>\n",
       "  </tbody>\n",
       "</table>\n",
       "</div>"
      ],
      "text/plain": [
       "  <TICKER> <PER>    <DATE>  <TIME>  <CLOSE>      <VOL>\n",
       "0     SBER     D  20101001       0    89.09  332429890\n",
       "1     SBER     D  20101004       0    89.88  194032721\n",
       "2     SBER     D  20101005       0    91.97  198775753\n",
       "3     SBER     D  20101006       0    91.20  210406027\n",
       "4     SBER     D  20101007       0    90.40  145137617"
      ]
     },
     "execution_count": 3,
     "metadata": {},
     "output_type": "execute_result"
    }
   ],
   "source": [
    "sber.head()"
   ]
  },
  {
   "cell_type": "code",
   "execution_count": 4,
   "metadata": {},
   "outputs": [
    {
     "data": {
      "text/html": [
       "<div>\n",
       "<style scoped>\n",
       "    .dataframe tbody tr th:only-of-type {\n",
       "        vertical-align: middle;\n",
       "    }\n",
       "\n",
       "    .dataframe tbody tr th {\n",
       "        vertical-align: top;\n",
       "    }\n",
       "\n",
       "    .dataframe thead th {\n",
       "        text-align: right;\n",
       "    }\n",
       "</style>\n",
       "<table border=\"1\" class=\"dataframe\">\n",
       "  <thead>\n",
       "    <tr style=\"text-align: right;\">\n",
       "      <th></th>\n",
       "      <th>&lt;TICKER&gt;_x</th>\n",
       "      <th>&lt;PER&gt;_x</th>\n",
       "      <th>&lt;DATE&gt;</th>\n",
       "      <th>&lt;TIME&gt;_x</th>\n",
       "      <th>&lt;CLOSE&gt;_x</th>\n",
       "      <th>&lt;VOL&gt;_x</th>\n",
       "      <th>&lt;TICKER&gt;_y</th>\n",
       "      <th>&lt;PER&gt;_y</th>\n",
       "      <th>&lt;TIME&gt;_y</th>\n",
       "      <th>&lt;CLOSE&gt;_y</th>\n",
       "      <th>&lt;VOL&gt;_y</th>\n",
       "    </tr>\n",
       "  </thead>\n",
       "  <tbody>\n",
       "    <tr>\n",
       "      <th>0</th>\n",
       "      <td>SBER</td>\n",
       "      <td>D</td>\n",
       "      <td>20101001</td>\n",
       "      <td>0</td>\n",
       "      <td>89.09</td>\n",
       "      <td>332429890</td>\n",
       "      <td>MVID</td>\n",
       "      <td>D</td>\n",
       "      <td>0</td>\n",
       "      <td>194.38</td>\n",
       "      <td>19406</td>\n",
       "    </tr>\n",
       "    <tr>\n",
       "      <th>1</th>\n",
       "      <td>SBER</td>\n",
       "      <td>D</td>\n",
       "      <td>20101004</td>\n",
       "      <td>0</td>\n",
       "      <td>89.88</td>\n",
       "      <td>194032721</td>\n",
       "      <td>MVID</td>\n",
       "      <td>D</td>\n",
       "      <td>0</td>\n",
       "      <td>190.00</td>\n",
       "      <td>31039</td>\n",
       "    </tr>\n",
       "    <tr>\n",
       "      <th>2</th>\n",
       "      <td>SBER</td>\n",
       "      <td>D</td>\n",
       "      <td>20101005</td>\n",
       "      <td>0</td>\n",
       "      <td>91.97</td>\n",
       "      <td>198775753</td>\n",
       "      <td>MVID</td>\n",
       "      <td>D</td>\n",
       "      <td>0</td>\n",
       "      <td>187.00</td>\n",
       "      <td>17651</td>\n",
       "    </tr>\n",
       "    <tr>\n",
       "      <th>3</th>\n",
       "      <td>SBER</td>\n",
       "      <td>D</td>\n",
       "      <td>20101006</td>\n",
       "      <td>0</td>\n",
       "      <td>91.20</td>\n",
       "      <td>210406027</td>\n",
       "      <td>MVID</td>\n",
       "      <td>D</td>\n",
       "      <td>0</td>\n",
       "      <td>190.04</td>\n",
       "      <td>36482</td>\n",
       "    </tr>\n",
       "    <tr>\n",
       "      <th>4</th>\n",
       "      <td>SBER</td>\n",
       "      <td>D</td>\n",
       "      <td>20101007</td>\n",
       "      <td>0</td>\n",
       "      <td>90.40</td>\n",
       "      <td>145137617</td>\n",
       "      <td>MVID</td>\n",
       "      <td>D</td>\n",
       "      <td>0</td>\n",
       "      <td>199.85</td>\n",
       "      <td>204248</td>\n",
       "    </tr>\n",
       "  </tbody>\n",
       "</table>\n",
       "</div>"
      ],
      "text/plain": [
       "  <TICKER>_x <PER>_x    <DATE>  <TIME>_x  <CLOSE>_x    <VOL>_x <TICKER>_y  \\\n",
       "0       SBER       D  20101001         0      89.09  332429890       MVID   \n",
       "1       SBER       D  20101004         0      89.88  194032721       MVID   \n",
       "2       SBER       D  20101005         0      91.97  198775753       MVID   \n",
       "3       SBER       D  20101006         0      91.20  210406027       MVID   \n",
       "4       SBER       D  20101007         0      90.40  145137617       MVID   \n",
       "\n",
       "  <PER>_y  <TIME>_y  <CLOSE>_y  <VOL>_y  \n",
       "0       D         0     194.38    19406  \n",
       "1       D         0     190.00    31039  \n",
       "2       D         0     187.00    17651  \n",
       "3       D         0     190.04    36482  \n",
       "4       D         0     199.85   204248  "
      ]
     },
     "execution_count": 4,
     "metadata": {},
     "output_type": "execute_result"
    }
   ],
   "source": [
    "res = pd.merge(sber, mvid, on='<DATE>')\n",
    "res.head()"
   ]
  },
  {
   "cell_type": "code",
   "execution_count": 5,
   "metadata": {},
   "outputs": [],
   "source": [
    "x = res['<CLOSE>_x']\n",
    "y = res['<CLOSE>_y']"
   ]
  },
  {
   "cell_type": "code",
   "execution_count": 6,
   "metadata": {},
   "outputs": [
    {
     "data": {
      "image/png": "[encoded data removed]",
      "text/plain": [
       "<Figure size 432x288 with 1 Axes>"
      ]
     },
     "metadata": {
      "needs_background": "light"
     },
     "output_type": "display_data"
    }
   ],
   "source": [
    "plt.figure()\n",
    "plt.scatter(x, y)\n",
    "plt.show()"
   ]
  },
  {
   "cell_type": "markdown",
   "metadata": {},
   "source": [
    "2. Построить модель парной линейной регрессии с использованием метода градиентного спуска."
   ]
  },
  {
   "cell_type": "code",
   "execution_count": 7,
   "metadata": {},
   "outputs": [],
   "source": [
    "class hypothesis(object):\n",
    "    \"\"\"Модель парной линейной регрессии\"\"\"\n",
    "    def __init__(self):\n",
    "        self.b0 = 0\n",
    "        self.b1 = 0\n",
    "        \n",
    "    # метод предсказания результата по фактору\n",
    "    def predict(self, x):\n",
    "        return self.b0 + self.b1 * x\n",
    "\n",
    "    # функция ошибки:\n",
    "    def error(self, X, Y):    \n",
    "        return sum((self.predict(X) - Y)**2) / (2 * len(X)) \n",
    "\n",
    "    #метод градиентного спуска\n",
    "    def BGD(self, X, Y):  \n",
    "        alpha = 0.00005\n",
    "        dJ0 = sum(self.predict(X) - Y) /len(X)\n",
    "        dJ1 = sum((self.predict(X) - Y) * X) /len(X)\n",
    "\n",
    "        self.b0 -= alpha * dJ0\n",
    "        self.b1 -= alpha * dJ1\n",
    "        \n",
    "    def BGD_new(self, X, Y, alpha=0.000005, accuracy=0.01):\n",
    "        steps, errors = [], []\n",
    "        step = 0        \n",
    "        old_err = hyp.error(X, Y)\n",
    "        new_err = hyp.error(X, Y) - 1\n",
    "        dJ = 1\n",
    "        while dJ > accuracy:\n",
    "            dJ0 = sum(self.predict(X) - Y) /len(X)\n",
    "            dJ1 = sum((self.predict(X) - Y) * X) /len(X)\n",
    "            self.b0 -= alpha * dJ0\n",
    "            self.b1 -= alpha * dJ1            \n",
    "            old_err = new_err\n",
    "            new_err = hyp.error(X, Y)\n",
    "            dJ = old_err - new_err          \n",
    "            step += 1            \n",
    "            steps.append(step)\n",
    "            errors.append(new_err)\n",
    "        return steps, errors"
   ]
  },
  {
   "cell_type": "code",
   "execution_count": 8,
   "metadata": {},
   "outputs": [
    {
     "name": "stdout",
     "output_type": "stream",
     "text": [
      "0\n",
      "0\n",
      "initial error: 36271.58344889084\n"
     ]
    }
   ],
   "source": [
    "hyp = hypothesis()\n",
    "print(hyp.predict(0))\n",
    "print(hyp.predict(100))\n",
    "\n",
    "J = hyp.error(x, y)\n",
    "print(\"initial error:\", J) #ошибка очень большая"
   ]
  },
  {
   "cell_type": "code",
   "execution_count": 9,
   "metadata": {},
   "outputs": [
    {
     "data": {
      "image/png": "[encoded data removed]",
      "text/plain": [
       "<Figure size 432x288 with 1 Axes>"
      ]
     },
     "metadata": {
      "needs_background": "light"
     },
     "output_type": "display_data"
    }
   ],
   "source": [
    "X0 = np.linspace(60, 180, 100)\n",
    "Y0 = hyp.predict(X0)\n",
    "plt.figure()\n",
    "plt.scatter(x, y)\n",
    "plt.plot(X0, Y0, 'r')\n",
    "plt.show()"
   ]
  },
  {
   "cell_type": "code",
   "execution_count": 10,
   "metadata": {},
   "outputs": [
    {
     "name": "stdout",
     "output_type": "stream",
     "text": [
      "error after gradient descent: 6734.135540194945\n"
     ]
    }
   ],
   "source": [
    "hyp.BGD(x, y)\n",
    "J = hyp.error(x, y)\n",
    "print(\"error after gradient descent:\", J)"
   ]
  },
  {
   "cell_type": "code",
   "execution_count": 11,
   "metadata": {},
   "outputs": [
    {
     "data": {
      "image/png": "[encoded data removed]",
      "text/plain": [
       "<Figure size 432x288 with 1 Axes>"
      ]
     },
     "metadata": {
      "needs_background": "light"
     },
     "output_type": "display_data"
    }
   ],
   "source": [
    "X0 = np.linspace(60, 180, 100)\n",
    "Y0 = hyp.predict(X0)\n",
    "\n",
    "plt.figure()\n",
    "plt.scatter(x, y)\n",
    "plt.plot(X0, Y0, 'r')\n",
    "plt.show()"
   ]
  },
  {
   "cell_type": "code",
   "execution_count": 33,
   "metadata": {},
   "outputs": [
    {
     "name": "stdout",
     "output_type": "stream",
     "text": [
      "error after gradient descent: 298.76881676471504\n"
     ]
    }
   ],
   "source": [
    "# применим метод градиетного спуска\n",
    "hyp = hypothesis()\n",
    "steps, errors = hyp.BGD_new(x, y)\n",
    "J = hyp.error(x, y)\n",
    "print(\"error after gradient descent:\", J)  #значение стало меньше"
   ]
  },
  {
   "cell_type": "markdown",
   "metadata": {},
   "source": [
    "3. Оценить на графике качество построенной модели."
   ]
  },
  {
   "cell_type": "code",
   "execution_count": 13,
   "metadata": {},
   "outputs": [
    {
     "data": {
      "image/png": "[encoded data removed]",
      "text/plain": [
       "<Figure size 432x288 with 1 Axes>"
      ]
     },
     "metadata": {
      "needs_background": "light"
     },
     "output_type": "display_data"
    }
   ],
   "source": [
    "X0 = np.linspace(60, 180, 100)\n",
    "Y0 = hyp.predict(X0)\n",
    "\n",
    "plt.figure()\n",
    "plt.scatter(x, y)\n",
    "plt.plot(X0, Y0, 'r')\n",
    "plt.show()"
   ]
  },
  {
   "cell_type": "markdown",
   "metadata": {},
   "source": [
    "4. Построить кривые обучения."
   ]
  },
  {
   "cell_type": "code",
   "execution_count": 14,
   "metadata": {},
   "outputs": [
    {
     "data": {
      "image/png": "[encoded data removed]",
      "text/plain": [
       "<Figure size 432x288 with 1 Axes>"
      ]
     },
     "metadata": {
      "needs_background": "light"
     },
     "output_type": "display_data"
    }
   ],
   "source": [
    "plt.figure()\n",
    "plt.plot(steps, errors, 'g')\n",
    "plt.show()"
   ]
  },
  {
   "cell_type": "markdown",
   "metadata": {},
   "source": [
    "## Дополнительные задания\n"
   ]
  },
  {
   "cell_type": "markdown",
   "metadata": {},
   "source": [
    "1. Реализуйте механизм адаптивной скорости обучения.\n"
   ]
  },
  {
   "cell_type": "code",
   "execution_count": 15,
   "metadata": {},
   "outputs": [],
   "source": [
    "# class hypothesis(object):\n",
    "#     \"\"\"Модель парной линейной регрессии\"\"\"\n",
    "#     def __init__(self):\n",
    "#         self.b0 = 0\n",
    "#         self.b1 = 0\n",
    "        \n",
    "#     # метод предсказания результата по фактору\n",
    "#     def predict(self, x):\n",
    "#         return self.b0 + self.b1 * x\n",
    "\n",
    "#     # функция ошибки:\n",
    "#     def error(self, X, Y):    \n",
    "#         return sum((self.predict(X) - Y)**2) / (2 * len(X)) \n",
    "\n",
    "#     #метод градиентного спуска\n",
    "#     def BGD(self, X, Y):  \n",
    "#         alpha = 0.00005\n",
    "#         dJ0 = sum(self.predict(X) - Y) /len(X)\n",
    "#         dJ1 = sum((self.predict(X) - Y) * X) /len(X)\n",
    "\n",
    "#         self.b0 -= alpha * dJ0\n",
    "#         self.b1 -= alpha * dJ1\n",
    "        \n",
    "#     def BGD_new(self, X, Y, alpha=0.000005, accuracy=0.01):\n",
    "#         steps, errors = [], []\n",
    "#         step = 0        \n",
    "#         old_err = hyp.error(X, Y)\n",
    "#         new_err = hyp.error(X, Y) - 1\n",
    "#         dJ = 1\n",
    "#         while dJ > accuracy:\n",
    "#             dJ0 = sum(self.predict(X) - Y) /len(X)\n",
    "#             dJ1 = sum((self.predict(X) - Y) * X) /len(X)\n",
    "#             self.b0 -= alpha * dJ0\n",
    "#             self.b1 -= alpha * dJ1            \n",
    "#             old_err = new_err\n",
    "#             new_err = hyp.error(X, Y)\n",
    "#             dJ = old_err - new_err          \n",
    "#             step += 1            \n",
    "#             steps.append(step)\n",
    "#             errors.append(new_err)\n",
    "#         return steps, errors"
   ]
  },
  {
   "cell_type": "markdown",
   "metadata": {},
   "source": [
    "2. Постройте модель регрессии на другой паре инструментов.\n"
   ]
  },
  {
   "cell_type": "code",
   "execution_count": 16,
   "metadata": {},
   "outputs": [
    {
     "data": {
      "text/html": [
       "<div>\n",
       "<style scoped>\n",
       "    .dataframe tbody tr th:only-of-type {\n",
       "        vertical-align: middle;\n",
       "    }\n",
       "\n",
       "    .dataframe tbody tr th {\n",
       "        vertical-align: top;\n",
       "    }\n",
       "\n",
       "    .dataframe thead th {\n",
       "        text-align: right;\n",
       "    }\n",
       "</style>\n",
       "<table border=\"1\" class=\"dataframe\">\n",
       "  <thead>\n",
       "    <tr style=\"text-align: right;\">\n",
       "      <th></th>\n",
       "      <th>&lt;TICKER&gt;_x</th>\n",
       "      <th>&lt;PER&gt;_x</th>\n",
       "      <th>&lt;DATE&gt;</th>\n",
       "      <th>&lt;TIME&gt;_x</th>\n",
       "      <th>&lt;CLOSE&gt;_x</th>\n",
       "      <th>&lt;VOL&gt;_x</th>\n",
       "      <th>&lt;TICKER&gt;_y</th>\n",
       "      <th>&lt;PER&gt;_y</th>\n",
       "      <th>&lt;TIME&gt;_y</th>\n",
       "      <th>&lt;CLOSE&gt;_y</th>\n",
       "      <th>&lt;VOL&gt;_y</th>\n",
       "    </tr>\n",
       "  </thead>\n",
       "  <tbody>\n",
       "    <tr>\n",
       "      <th>0</th>\n",
       "      <td>SBER</td>\n",
       "      <td>D</td>\n",
       "      <td>20101001</td>\n",
       "      <td>0</td>\n",
       "      <td>89.09</td>\n",
       "      <td>332429890</td>\n",
       "      <td>MVID</td>\n",
       "      <td>D</td>\n",
       "      <td>0</td>\n",
       "      <td>194.38</td>\n",
       "      <td>19406</td>\n",
       "    </tr>\n",
       "    <tr>\n",
       "      <th>1</th>\n",
       "      <td>SBER</td>\n",
       "      <td>D</td>\n",
       "      <td>20101004</td>\n",
       "      <td>0</td>\n",
       "      <td>89.88</td>\n",
       "      <td>194032721</td>\n",
       "      <td>MVID</td>\n",
       "      <td>D</td>\n",
       "      <td>0</td>\n",
       "      <td>190.00</td>\n",
       "      <td>31039</td>\n",
       "    </tr>\n",
       "    <tr>\n",
       "      <th>2</th>\n",
       "      <td>SBER</td>\n",
       "      <td>D</td>\n",
       "      <td>20101005</td>\n",
       "      <td>0</td>\n",
       "      <td>91.97</td>\n",
       "      <td>198775753</td>\n",
       "      <td>MVID</td>\n",
       "      <td>D</td>\n",
       "      <td>0</td>\n",
       "      <td>187.00</td>\n",
       "      <td>17651</td>\n",
       "    </tr>\n",
       "    <tr>\n",
       "      <th>3</th>\n",
       "      <td>SBER</td>\n",
       "      <td>D</td>\n",
       "      <td>20101006</td>\n",
       "      <td>0</td>\n",
       "      <td>91.20</td>\n",
       "      <td>210406027</td>\n",
       "      <td>MVID</td>\n",
       "      <td>D</td>\n",
       "      <td>0</td>\n",
       "      <td>190.04</td>\n",
       "      <td>36482</td>\n",
       "    </tr>\n",
       "    <tr>\n",
       "      <th>4</th>\n",
       "      <td>SBER</td>\n",
       "      <td>D</td>\n",
       "      <td>20101007</td>\n",
       "      <td>0</td>\n",
       "      <td>90.40</td>\n",
       "      <td>145137617</td>\n",
       "      <td>MVID</td>\n",
       "      <td>D</td>\n",
       "      <td>0</td>\n",
       "      <td>199.85</td>\n",
       "      <td>204248</td>\n",
       "    </tr>\n",
       "  </tbody>\n",
       "</table>\n",
       "</div>"
      ],
      "text/plain": [
       "  <TICKER>_x <PER>_x    <DATE>  <TIME>_x  <CLOSE>_x    <VOL>_x <TICKER>_y  \\\n",
       "0       SBER       D  20101001         0      89.09  332429890       MVID   \n",
       "1       SBER       D  20101004         0      89.88  194032721       MVID   \n",
       "2       SBER       D  20101005         0      91.97  198775753       MVID   \n",
       "3       SBER       D  20101006         0      91.20  210406027       MVID   \n",
       "4       SBER       D  20101007         0      90.40  145137617       MVID   \n",
       "\n",
       "  <PER>_y  <TIME>_y  <CLOSE>_y  <VOL>_y  \n",
       "0       D         0     194.38    19406  \n",
       "1       D         0     190.00    31039  \n",
       "2       D         0     187.00    17651  \n",
       "3       D         0     190.04    36482  \n",
       "4       D         0     199.85   204248  "
      ]
     },
     "execution_count": 16,
     "metadata": {},
     "output_type": "execute_result"
    }
   ],
   "source": [
    "mvid = pd.read_csv('./data/MVID_101001_171001.txt')\n",
    "sber = pd.read_csv('./data/SBER_101001_171001.txt')\n",
    "\n",
    "res_d = pd.merge(sber, mvid, on='<DATE>')\n",
    "res_d.head()"
   ]
  },
  {
   "cell_type": "code",
   "execution_count": 17,
   "metadata": {},
   "outputs": [
    {
     "data": {
      "image/png": "[encoded data removed]",
      "text/plain": [
       "<Figure size 432x288 with 1 Axes>"
      ]
     },
     "metadata": {
      "needs_background": "light"
     },
     "output_type": "display_data"
    }
   ],
   "source": [
    "x = res_d['<CLOSE>_x']\n",
    "y = res_d['<CLOSE>_y']\n",
    "\n",
    "plt.figure()\n",
    "plt.scatter(x, y)\n",
    "plt.show()"
   ]
  },
  {
   "cell_type": "markdown",
   "metadata": {},
   "source": [
    "3. Модифицируйте класс регрессии так, чтобы он проводил обучение только на случайно выделенной части данных (обучающей выборке). Историю динамики ошибки отслеживать отдельно по обучающей и по тестовой выборке. \n"
   ]
  },
  {
   "cell_type": "code",
   "execution_count": null,
   "metadata": {},
   "outputs": [],
   "source": [
    "class hypothesis():\n",
    "    \"\"\"Модель парной линейной регрессии\"\"\"\n",
    "    def __init__(self):\n",
    "        self.b0 = 0\n",
    "        self.b1 = 0\n",
    "        self.test_X = []\n",
    "        self.train_X = []\n",
    "        self.test_Y = []\n",
    "        self.train_Y = []\n",
    "        \n",
    "    def get_selections(X, Y):\n",
    "        self.train_X = X.sample(frac=.8,random_state=10)\n",
    "        self.test_X = X.drop(self.train_X.index)\n",
    "        self.train_Y = Y[self.train_X.index]\n",
    "        self.test_Y = Y.drop(self.train_Y.index)\n",
    "        \n",
    "    # метод предсказания результата по фактору\n",
    "    def predict(self, x):\n",
    "        return self.b0 + self.b1 * x\n",
    "\n",
    "    # функция ошибки:\n",
    "    def error(self, X, Y):    \n",
    "        return sum((self.predict(X) - Y)**2) / (2 * len(X)) \n",
    "\n",
    "    #метод градиентного спуска\n",
    "    def BGD_new(self, X, Y, alpha=0.000005, accuracy=0.01):\n",
    "        get_selections(X, Y)\n",
    "        steps, errors_train, errors_test = [], [], []\n",
    "        step = 0        \n",
    "        old_train_err = hyp.error(self.train_X, self.train_Y)\n",
    "        new_train_err = hyp.error(self.train_X, self.train_Y) - 1\n",
    "        \n",
    "        old_test_err = hyp.error(self.test_X, self.test_Y)\n",
    "        new_test_err = hyp.error(self.test_X, self.test_Y) - 1\n",
    "        dJ = 1\n",
    "        while dJ > accuracy:\n",
    "            dJ0 = sum(self.predict(self.train_X) - self.train_Y) /len(self.train_X)\n",
    "            dJ1 = sum((self.predict(self.train_X) - self.train_Y) * self.train_X) /len(self.train_X)\n",
    "            self.b0 -= alpha * dJ0\n",
    "            self.b1 -= alpha * dJ1            \n",
    "            old_err = new_train_err\n",
    "            new_train_err = hyp.error(self.train_X, self.train_Y)\n",
    "            dJ = old_train_err - new_train_err          \n",
    "            step += 1            \n",
    "            steps.append(step)\n",
    "            errors_train.append(new_train_err)\n",
    "        return steps, errors_train"
   ]
  },
  {
   "cell_type": "markdown",
   "metadata": {},
   "source": [
    "4. Научиться использовать библиотеку sklearn для построения парной линейной регрессии:\n",
    "    - Изучить официальную документацию библиотеки sklearn: http://scikit-learn.org/stable/modules/generated/sklearn.linear_model.LinearRegression.html\n",
    "    - По примеру программы регрессии, рассмотренной на семинаре, построить модель регрессии с использованием библиотечных средств\n",
    "    - Сравнить результаты регрессии с использованием библиотечной функции и написанной самостоятельно.\n"
   ]
  },
  {
   "cell_type": "code",
   "execution_count": 18,
   "metadata": {},
   "outputs": [],
   "source": [
    "import numpy as np\n",
    "from sklearn.linear_model import LinearRegression"
   ]
  },
  {
   "cell_type": "code",
   "execution_count": 26,
   "metadata": {},
   "outputs": [
    {
     "data": {
      "text/plain": [
       "0.9111046169982557"
      ]
     },
     "execution_count": 26,
     "metadata": {},
     "output_type": "execute_result"
    }
   ],
   "source": [
    "reg = LinearRegression().fit(np.array(x).reshape(-1, 1), np.array(y).reshape(-1, 1))"
   ]
  },
  {
   "cell_type": "code",
   "execution_count": 28,
   "metadata": {},
   "outputs": [
    {
     "data": {
      "text/plain": [
       "0.9111046169982557"
      ]
     },
     "execution_count": 28,
     "metadata": {},
     "output_type": "execute_result"
    }
   ],
   "source": [
    "reg.score(np.array(x).reshape(-1, 1), np.array(y).reshape(-1, 1))"
   ]
  },
  {
   "cell_type": "code",
   "execution_count": 29,
   "metadata": {},
   "outputs": [
    {
     "data": {
      "text/plain": [
       "array([[1.99635191]])"
      ]
     },
     "execution_count": 29,
     "metadata": {},
     "output_type": "execute_result"
    }
   ],
   "source": [
    "reg.coef_"
   ]
  },
  {
   "cell_type": "code",
   "execution_count": 30,
   "metadata": {},
   "outputs": [
    {
     "data": {
      "text/plain": [
       "array([56.01112869])"
      ]
     },
     "execution_count": 30,
     "metadata": {},
     "output_type": "execute_result"
    }
   ],
   "source": [
    "reg.intercept_"
   ]
  },
  {
   "cell_type": "markdown",
   "metadata": {},
   "source": [
    "## Контрольные вопросы"
   ]
  },
  {
   "cell_type": "markdown",
   "metadata": {},
   "source": [
    "1. Сформулируйте задачу регрессии."
   ]
  },
  {
   "cell_type": "markdown",
   "metadata": {},
   "source": [
    "Задача регрессии – прогноз на основе выборки объектов с различными признаками. На выходе должно получиться вещественное число (2, 35, 76.454 и др.), к примеру цена квартиры, стоимость ценной бумаги по прошествии полугода, ожидаемый доход магазина на следующий месяц, качество вина при слепом тестировании."
   ]
  },
  {
   "cell_type": "markdown",
   "metadata": {},
   "source": [
    "2. Что такое метод наименьших квадратов?\n",
    "\n",
    "\n"
   ]
  },
  {
   "cell_type": "markdown",
   "metadata": {},
   "source": [
    "МНК заключается в требовании построить такую аппроксимирующую\n",
    "зависимость y(x), чтобы сумма квадратов отклонений была минимальной:\n",
    "$$\\sum\\limits_{i=1}^n"
   ]
  },
  {
   "cell_type": "markdown",
   "metadata": {},
   "source": [
    "3. Какие функции ошибки используются в регрессионных моделях? Расскажите про три самые популярные."
   ]
  },
  {
   "cell_type": "markdown",
   "metadata": {},
   "source": [
    "4. Что показывает конкретное значение ошибки регрессии?\n"
   ]
  },
  {
   "cell_type": "markdown",
   "metadata": {},
   "source": [
    "5. Зачем нужно строить кривые обучения?"
   ]
  },
  {
   "cell_type": "code",
   "execution_count": null,
   "metadata": {},
   "outputs": [],
   "source": []
  }
 ],
 "metadata": {
  "kernelspec": {
   "display_name": "Python 3",
   "language": "python",
   "name": "python3"
  },
  "language_info": {
   "codemirror_mode": {
    "name": "ipython",
    "version": 3
   },
   "file_extension": ".py",
   "mimetype": "text/x-python",
   "name": "python",
   "nbconvert_exporter": "python",
   "pygments_lexer": "ipython3",
   "version": "3.8.5"
  }
 },
 "nbformat": 4,
 "nbformat_minor": 4
}
