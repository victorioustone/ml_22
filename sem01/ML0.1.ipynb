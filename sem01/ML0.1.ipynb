{
 "cells": [
  {
   "cell_type": "markdown",
   "metadata": {},
   "source": [
    "## Основы работы с numpy"
   ]
  },
  {
   "cell_type": "code",
   "execution_count": 1,
   "metadata": {},
   "outputs": [],
   "source": [
    "import pandas as pd"
   ]
  },
  {
   "cell_type": "code",
   "execution_count": 2,
   "metadata": {},
   "outputs": [],
   "source": [
    "import numpy as np"
   ]
  },
  {
   "cell_type": "markdown",
   "metadata": {},
   "source": [
    "1. Загрузите данные в ноутбук"
   ]
  },
  {
   "cell_type": "code",
   "execution_count": 3,
   "metadata": {},
   "outputs": [],
   "source": [
    "# я использовала 1 вариант"
   ]
  },
  {
   "cell_type": "code",
   "execution_count": 4,
   "metadata": {},
   "outputs": [],
   "source": [
    "df = pd.read_excel('к лабораторной 0.1/Вариант 1.xlsx', header=2)"
   ]
  },
  {
   "cell_type": "code",
   "execution_count": 5,
   "metadata": {},
   "outputs": [
    {
     "data": {
      "text/html": [
       "<div>\n",
       "<style scoped>\n",
       "    .dataframe tbody tr th:only-of-type {\n",
       "        vertical-align: middle;\n",
       "    }\n",
       "\n",
       "    .dataframe tbody tr th {\n",
       "        vertical-align: top;\n",
       "    }\n",
       "\n",
       "    .dataframe thead th {\n",
       "        text-align: right;\n",
       "    }\n",
       "</style>\n",
       "<table border=\"1\" class=\"dataframe\">\n",
       "  <thead>\n",
       "    <tr style=\"text-align: right;\">\n",
       "      <th></th>\n",
       "      <th>№</th>\n",
       "      <th>№ школы</th>\n",
       "      <th>Класс</th>\n",
       "      <th>Пол</th>\n",
       "      <th>Номер варианта</th>\n",
       "      <th>Задания с кратким ответом</th>\n",
       "      <th>Задания с развёрнутым ответом</th>\n",
       "      <th>Устная часть</th>\n",
       "      <th>Первичный балл</th>\n",
       "      <th>Балл</th>\n",
       "      <th>Минимальный балл</th>\n",
       "    </tr>\n",
       "  </thead>\n",
       "  <tbody>\n",
       "    <tr>\n",
       "      <th>3043</th>\n",
       "      <td>3044.0</td>\n",
       "      <td>146.0</td>\n",
       "      <td>11</td>\n",
       "      <td>Ж</td>\n",
       "      <td>338.0</td>\n",
       "      <td>2+++++5+++++++2+++++++++4</td>\n",
       "      <td>1(1)3(3)1(1)3(3)2(2)2(2)3(3)3(3)2(2)2(2)1(1)1(1)</td>\n",
       "      <td>NaN</td>\n",
       "      <td>58.0</td>\n",
       "      <td>100.0</td>\n",
       "      <td>24.0</td>\n",
       "    </tr>\n",
       "    <tr>\n",
       "      <th>3044</th>\n",
       "      <td>3045.0</td>\n",
       "      <td>147.0</td>\n",
       "      <td>11</td>\n",
       "      <td>Ж</td>\n",
       "      <td>340.0</td>\n",
       "      <td>2+++++5+++++++2+++++++++4</td>\n",
       "      <td>1(1)3(3)1(1)3(3)2(2)2(2)3(3)3(3)2(2)2(2)1(1)1(1)</td>\n",
       "      <td>NaN</td>\n",
       "      <td>58.0</td>\n",
       "      <td>100.0</td>\n",
       "      <td>24.0</td>\n",
       "    </tr>\n",
       "    <tr>\n",
       "      <th>3045</th>\n",
       "      <td>3046.0</td>\n",
       "      <td>147.0</td>\n",
       "      <td>11</td>\n",
       "      <td>Ж</td>\n",
       "      <td>338.0</td>\n",
       "      <td>2+++++5+++++++2+++++++++4</td>\n",
       "      <td>1(1)3(3)1(1)3(3)2(2)2(2)3(3)3(3)2(2)2(2)1(1)1(1)</td>\n",
       "      <td>NaN</td>\n",
       "      <td>58.0</td>\n",
       "      <td>100.0</td>\n",
       "      <td>24.0</td>\n",
       "    </tr>\n",
       "    <tr>\n",
       "      <th>3046</th>\n",
       "      <td>3047.0</td>\n",
       "      <td>147.0</td>\n",
       "      <td>11</td>\n",
       "      <td>Ж</td>\n",
       "      <td>337.0</td>\n",
       "      <td>2+++++5+++++++2+++++++++4</td>\n",
       "      <td>1(1)3(3)1(1)3(3)2(2)2(2)3(3)3(3)2(2)2(2)1(1)1(1)</td>\n",
       "      <td>NaN</td>\n",
       "      <td>58.0</td>\n",
       "      <td>100.0</td>\n",
       "      <td>24.0</td>\n",
       "    </tr>\n",
       "    <tr>\n",
       "      <th>3047</th>\n",
       "      <td>3048.0</td>\n",
       "      <td>144.0</td>\n",
       "      <td>11А</td>\n",
       "      <td>Ж</td>\n",
       "      <td>338.0</td>\n",
       "      <td>2+++++5+++++++2+++++++++4</td>\n",
       "      <td>1(1)3(3)1(1)3(3)2(2)2(2)3(3)3(3)2(2)2(2)1(1)1(1)</td>\n",
       "      <td>NaN</td>\n",
       "      <td>58.0</td>\n",
       "      <td>100.0</td>\n",
       "      <td>24.0</td>\n",
       "    </tr>\n",
       "  </tbody>\n",
       "</table>\n",
       "</div>"
      ],
      "text/plain": [
       "           №  № школы Класс Пол  Номер варианта  Задания с кратким ответом  \\\n",
       "3043  3044.0    146.0    11   Ж           338.0  2+++++5+++++++2+++++++++4   \n",
       "3044  3045.0    147.0    11   Ж           340.0  2+++++5+++++++2+++++++++4   \n",
       "3045  3046.0    147.0    11   Ж           338.0  2+++++5+++++++2+++++++++4   \n",
       "3046  3047.0    147.0    11   Ж           337.0  2+++++5+++++++2+++++++++4   \n",
       "3047  3048.0    144.0   11А   Ж           338.0  2+++++5+++++++2+++++++++4   \n",
       "\n",
       "                         Задания с развёрнутым ответом Устная часть  \\\n",
       "3043  1(1)3(3)1(1)3(3)2(2)2(2)3(3)3(3)2(2)2(2)1(1)1(1)          NaN   \n",
       "3044  1(1)3(3)1(1)3(3)2(2)2(2)3(3)3(3)2(2)2(2)1(1)1(1)          NaN   \n",
       "3045  1(1)3(3)1(1)3(3)2(2)2(2)3(3)3(3)2(2)2(2)1(1)1(1)          NaN   \n",
       "3046  1(1)3(3)1(1)3(3)2(2)2(2)3(3)3(3)2(2)2(2)1(1)1(1)          NaN   \n",
       "3047  1(1)3(3)1(1)3(3)2(2)2(2)3(3)3(3)2(2)2(2)1(1)1(1)          NaN   \n",
       "\n",
       "      Первичный балл   Балл  Минимальный балл  \n",
       "3043            58.0  100.0              24.0  \n",
       "3044            58.0  100.0              24.0  \n",
       "3045            58.0  100.0              24.0  \n",
       "3046            58.0  100.0              24.0  \n",
       "3047            58.0  100.0              24.0  "
      ]
     },
     "execution_count": 5,
     "metadata": {},
     "output_type": "execute_result"
    }
   ],
   "source": [
    "df = df[:-1]\n",
    "df.tail()"
   ]
  },
  {
   "cell_type": "markdown",
   "metadata": {},
   "source": [
    "2. Сделайте описательную статистику по набранному баллу"
   ]
  },
  {
   "cell_type": "code",
   "execution_count": 6,
   "metadata": {},
   "outputs": [
    {
     "data": {
      "text/plain": [
       "count    3048.000000\n",
       "mean       72.769029\n",
       "std        13.664908\n",
       "min        20.000000\n",
       "25%        64.000000\n",
       "50%        72.000000\n",
       "75%        82.000000\n",
       "max       100.000000\n",
       "Name: Балл, dtype: float64"
      ]
     },
     "execution_count": 6,
     "metadata": {},
     "output_type": "execute_result"
    }
   ],
   "source": [
    "# при помощи pandas\n",
    "df['Балл'].describe()"
   ]
  },
  {
   "cell_type": "code",
   "execution_count": 7,
   "metadata": {},
   "outputs": [],
   "source": [
    "# при помощи numpy\n",
    "grades = np.array(df['Балл'])"
   ]
  },
  {
   "cell_type": "code",
   "execution_count": 8,
   "metadata": {},
   "outputs": [],
   "source": [
    "# для нахождения моды\n",
    "def find_mode(row):\n",
    "    vals,counts = np.unique(row, return_counts=True)\n",
    "    index = np.argmax(counts)\n",
    "    return vals[index]"
   ]
  },
  {
   "cell_type": "code",
   "execution_count": 9,
   "metadata": {},
   "outputs": [
    {
     "name": "stdout",
     "output_type": "stream",
     "text": [
      "count:  3048\n",
      "sum:  221800.0\n",
      "mean:  72.76902887139107\n",
      "median:  72.0\n",
      "mode:  80.0\n",
      "std:  13.662665812887763\n",
      "min:  20.0\n",
      "quantile 0.25:  64.0\n",
      "quantile 0.5:  72.0\n",
      "quantile 0.75:  82.0\n",
      "max:  100.0\n"
     ]
    }
   ],
   "source": [
    "print('count: ', grades.shape[0])\n",
    "print('sum: ', grades.sum())\n",
    "print('mean: ', grades.mean())\n",
    "print('median: ', np.median(grades))\n",
    "print('mode: ', find_mode(grades))\n",
    "print('std: ', grades.std())\n",
    "print('min: ', grades.min())\n",
    "print('quantile 0.25: ', np.quantile(grades, 0.25))\n",
    "print('quantile 0.5: ', np.quantile(grades, 0.5))\n",
    "print('quantile 0.75: ', np.quantile(grades, 0.75))\n",
    "print('max: ', grades.max())"
   ]
  },
  {
   "cell_type": "markdown",
   "metadata": {},
   "source": [
    "3. Найдите процент учащихся, выполнивших работу ниже среднего"
   ]
  },
  {
   "cell_type": "code",
   "execution_count": 10,
   "metadata": {},
   "outputs": [
    {
     "name": "stdout",
     "output_type": "stream",
     "text": [
      "51.28%\n"
     ]
    }
   ],
   "source": [
    "print(f'{grades[grades < grades.mean()].shape[0] / grades.shape[0] * 100:.2f}%')"
   ]
  },
  {
   "cell_type": "markdown",
   "metadata": {},
   "source": [
    "4. Найти процент учащихся не сдавших экзамен"
   ]
  },
  {
   "cell_type": "code",
   "execution_count": 11,
   "metadata": {},
   "outputs": [
    {
     "data": {
      "text/plain": [
       "array([24.])"
      ]
     },
     "execution_count": 11,
     "metadata": {},
     "output_type": "execute_result"
    }
   ],
   "source": [
    "min_grade = df['Минимальный балл']\n",
    "min_grade = np.unique(min_grade)\n",
    "min_grade # минимальный балл везде одинаковый (что логично)"
   ]
  },
  {
   "cell_type": "code",
   "execution_count": 12,
   "metadata": {},
   "outputs": [
    {
     "name": "stdout",
     "output_type": "stream",
     "text": [
      "0.13%\n"
     ]
    }
   ],
   "source": [
    "min_grade = min_grade[0] \n",
    "print(f'{grades[grades < min_grade].shape[0] / grades.shape[0] * 100:.2f}%')"
   ]
  },
  {
   "cell_type": "markdown",
   "metadata": {},
   "source": [
    "5. Постройте круговую диаграмму, показывающую распределение сдавших и не сдавших экзамен"
   ]
  },
  {
   "cell_type": "code",
   "execution_count": 13,
   "metadata": {},
   "outputs": [],
   "source": [
    "from matplotlib import pyplot as plt "
   ]
  },
  {
   "cell_type": "code",
   "execution_count": 14,
   "metadata": {},
   "outputs": [
    {
     "data": {
      "text/plain": [
       "([<matplotlib.patches.Wedge at 0x7f7ee3bdfd60>,\n",
       "  <matplotlib.patches.Wedge at 0x7f7ee3bee280>],\n",
       " [Text(-1.0999906515779159, 0.004535023835942995, 'passed'),\n",
       "  Text(1.0999906518698257, -0.00453495303130981, 'failed')])"
      ]
     },
     "execution_count": 14,
     "metadata": {},
     "output_type": "execute_result"
    },
    {
     "data": {
      "image/png": "[encoded data removed]",
      "text/plain": [
       "<Figure size 432x288 with 1 Axes>"
      ]
     },
     "metadata": {},
     "output_type": "display_data"
    }
   ],
   "source": [
    "vals = [grades[grades >= min_grade].shape[0] , grades[grades < min_grade].shape[0] ]\n",
    "labels = [\"passed\", \"failed\"]\n",
    "\n",
    "fig, ax = plt.subplots()\n",
    "ax.pie(vals, labels=labels)"
   ]
  },
  {
   "cell_type": "code",
   "execution_count": 15,
   "metadata": {},
   "outputs": [
    {
     "data": {
      "text/plain": [
       "3044"
      ]
     },
     "execution_count": 15,
     "metadata": {},
     "output_type": "execute_result"
    }
   ],
   "source": [
    "# passed\n",
    "grades[grades >= min_grade].shape[0]"
   ]
  },
  {
   "cell_type": "code",
   "execution_count": 16,
   "metadata": {},
   "outputs": [
    {
     "data": {
      "text/plain": [
       "4"
      ]
     },
     "execution_count": 16,
     "metadata": {},
     "output_type": "execute_result"
    }
   ],
   "source": [
    "# failed\n",
    "grades[grades < min_grade].shape[0]"
   ]
  },
  {
   "cell_type": "markdown",
   "metadata": {},
   "source": [
    "6. Постройте ядерную оценку плотности распределению баллов за экзамен"
   ]
  },
  {
   "cell_type": "code",
   "execution_count": 17,
   "metadata": {},
   "outputs": [],
   "source": [
    "# есть вопросы, не уверена, что правильно сделала, тк не совсем понятно само задание\n",
    "# впрочем, у всей группы были вопросы к этому пункту\n",
    "# вы сказали, что объясните это позже"
   ]
  },
  {
   "cell_type": "code",
   "execution_count": 18,
   "metadata": {},
   "outputs": [
    {
     "data": {
      "text/plain": [
       "[<matplotlib.lines.Line2D at 0x7f7ee56e2310>]"
      ]
     },
     "execution_count": 18,
     "metadata": {},
     "output_type": "execute_result"
    },
    {
     "data": {
      "image/png": "[encoded data removed]",
      "text/plain": [
       "<Figure size 432x288 with 1 Axes>"
      ]
     },
     "metadata": {
      "needs_background": "light"
     },
     "output_type": "display_data"
    }
   ],
   "source": [
    "#v1\n",
    "import numpy as np\n",
    "from sklearn.neighbors import KernelDensity\n",
    "\n",
    "kde = KernelDensity(kernel='gaussian', bandwidth=3).fit(grades.reshape(-1, 1))\n",
    "kde_est = np.exp(kde.score_samples(grades.reshape(-1, 1)))\n",
    "\n",
    "plt.plot(grades, kde_est)"
   ]
  },
  {
   "cell_type": "code",
   "execution_count": 19,
   "metadata": {},
   "outputs": [
    {
     "data": {
      "text/plain": [
       "[<matplotlib.lines.Line2D at 0x7f7ee58aceb0>]"
      ]
     },
     "execution_count": 19,
     "metadata": {},
     "output_type": "execute_result"
    },
    {
     "data": {
      "image/png": "[encoded data removed]",
      "text/plain": [
       "<Figure size 432x288 with 1 Axes>"
      ]
     },
     "metadata": {
      "needs_background": "light"
     },
     "output_type": "display_data"
    }
   ],
   "source": [
    "#v2\n",
    "plt.hist(grades, bins=50, density=1)       \n",
    "(n, bins) = np.histogram(grades, bins=15, density=True)\n",
    "plt.plot(.5*(bins[1:]+bins[:-1]), n)"
   ]
  },
  {
   "cell_type": "code",
   "execution_count": 20,
   "metadata": {},
   "outputs": [],
   "source": [
    "import seaborn as sns\n",
    "%matplotlib inline"
   ]
  },
  {
   "cell_type": "code",
   "execution_count": 21,
   "metadata": {},
   "outputs": [
    {
     "data": {
      "text/plain": [
       "<AxesSubplot:ylabel='Density'>"
      ]
     },
     "execution_count": 21,
     "metadata": {},
     "output_type": "execute_result"
    },
    {
     "data": {
      "image/png": "[encoded data removed]",
      "text/plain": [
       "<Figure size 432x288 with 1 Axes>"
      ]
     },
     "metadata": {
      "needs_background": "light"
     },
     "output_type": "display_data"
    }
   ],
   "source": [
    "#v3\n",
    "sns.kdeplot(grades)"
   ]
  },
  {
   "cell_type": "code",
   "execution_count": 22,
   "metadata": {},
   "outputs": [
    {
     "name": "stderr",
     "output_type": "stream",
     "text": [
      "/opt/anaconda3/lib/python3.8/site-packages/seaborn/distributions.py:2551: FutureWarning: `distplot` is a deprecated function and will be removed in a future version. Please adapt your code to use either `displot` (a figure-level function with similar flexibility) or `histplot` (an axes-level function for histograms).\n",
      "  warnings.warn(msg, FutureWarning)\n"
     ]
    },
    {
     "data": {
      "text/plain": [
       "<AxesSubplot:ylabel='Density'>"
      ]
     },
     "execution_count": 22,
     "metadata": {},
     "output_type": "execute_result"
    },
    {
     "data": {
      "image/png": "[encoded data removed]",
      "text/plain": [
       "<Figure size 432x288 with 1 Axes>"
      ]
     },
     "metadata": {
      "needs_background": "light"
     },
     "output_type": "display_data"
    }
   ],
   "source": [
    "#v4\n",
    "sns.distplot(grades)"
   ]
  },
  {
   "cell_type": "markdown",
   "metadata": {},
   "source": [
    "7. Найдите процентное соотношение учащихся, сдавших экзамен на «отлично», «хорошо», «удовлетворительно», «неудовлетворительно»."
   ]
  },
  {
   "cell_type": "code",
   "execution_count": 23,
   "metadata": {},
   "outputs": [
    {
     "name": "stdout",
     "output_type": "stream",
     "text": [
      "отлично: 34.97%\n",
      "хорошо: 38.98%\n",
      "удовлетворительно: 25.92%\n",
      "неудовлетворительно: 0.13%\n"
     ]
    }
   ],
   "source": [
    "A = 80 \n",
    "B = 65 \n",
    "C = 24\n",
    "print(f'отлично: {np.count_nonzero(grades[grades >= A]) / np.count_nonzero(grades) * 100:.2f}%')\n",
    "print(f'хорошо: {np.count_nonzero(grades[(grades >= B) & (grades < A)]) / np.count_nonzero(grades) * 100:.2f}%')\n",
    "print(f'удовлетворительно: {np.count_nonzero(grades[(grades >= C)  & (grades < B)]) / np.count_nonzero(grades) * 100:.2f}%')\n",
    "print(f'неудовлетворительно: {np.count_nonzero(grades[grades < C]) / np.count_nonzero(grades) * 100:.2f}%')"
   ]
  },
  {
   "cell_type": "markdown",
   "metadata": {},
   "source": [
    "8. Какое процентное соотношение юношей и девушек писало данный экзамен?\n"
   ]
  },
  {
   "cell_type": "code",
   "execution_count": 24,
   "metadata": {},
   "outputs": [
    {
     "name": "stdout",
     "output_type": "stream",
     "text": [
      "Ж: 57.97% \n",
      "М: 42.03%\n"
     ]
    }
   ],
   "source": [
    "sex = np.array(df['Пол'])\n",
    "vals, counts = np.unique(sex, return_counts=True)\n",
    "print(f'{vals[0]}: {(counts[0] / counts.sum())*100:.2f}% \\n{vals[1]}: {(counts[1] / counts.sum()) * 100 :.2f}%')"
   ]
  },
  {
   "cell_type": "markdown",
   "metadata": {},
   "source": [
    "9. Сколько школ принимало участие в экзамене?"
   ]
  },
  {
   "cell_type": "code",
   "execution_count": 25,
   "metadata": {},
   "outputs": [
    {
     "data": {
      "text/plain": [
       "24"
      ]
     },
     "execution_count": 25,
     "metadata": {},
     "output_type": "execute_result"
    }
   ],
   "source": [
    "school = np.array(df['№ школы'])\n",
    "np.count_nonzero(np.unique(school))"
   ]
  },
  {
   "cell_type": "markdown",
   "metadata": {},
   "source": [
    "## Дополнительные задания\n"
   ]
  },
  {
   "cell_type": "code",
   "execution_count": 26,
   "metadata": {},
   "outputs": [
    {
     "data": {
      "text/html": [
       "<div>\n",
       "<style scoped>\n",
       "    .dataframe tbody tr th:only-of-type {\n",
       "        vertical-align: middle;\n",
       "    }\n",
       "\n",
       "    .dataframe tbody tr th {\n",
       "        vertical-align: top;\n",
       "    }\n",
       "\n",
       "    .dataframe thead th {\n",
       "        text-align: right;\n",
       "    }\n",
       "</style>\n",
       "<table border=\"1\" class=\"dataframe\">\n",
       "  <thead>\n",
       "    <tr style=\"text-align: right;\">\n",
       "      <th></th>\n",
       "      <th>№</th>\n",
       "      <th>№ школы</th>\n",
       "      <th>Класс</th>\n",
       "      <th>Пол</th>\n",
       "      <th>Номер варианта</th>\n",
       "      <th>Задания с кратким ответом</th>\n",
       "      <th>Задания с развёрнутым ответом</th>\n",
       "      <th>Устная часть</th>\n",
       "      <th>Первичный балл</th>\n",
       "      <th>Балл</th>\n",
       "      <th>Минимальный балл</th>\n",
       "    </tr>\n",
       "  </thead>\n",
       "  <tbody>\n",
       "    <tr>\n",
       "      <th>0</th>\n",
       "      <td>1.0</td>\n",
       "      <td>117.0</td>\n",
       "      <td>11</td>\n",
       "      <td>М</td>\n",
       "      <td>341.0</td>\n",
       "      <td>1+++--1+-++---0---------0</td>\n",
       "      <td>0(1)0(3)0(1)0(3)0(2)0(2)0(3)0(3)0(2)0(2)0(1)0(1)</td>\n",
       "      <td>NaN</td>\n",
       "      <td>8.0</td>\n",
       "      <td>20.0</td>\n",
       "      <td>24.0</td>\n",
       "    </tr>\n",
       "    <tr>\n",
       "      <th>1</th>\n",
       "      <td>2.0</td>\n",
       "      <td>148.0</td>\n",
       "      <td>12А</td>\n",
       "      <td>М</td>\n",
       "      <td>338.0</td>\n",
       "      <td>1+---+0--+---+0----++-+-0</td>\n",
       "      <td>0(1)0(3)0(1)0(3)0(2)0(2)0(3)0(3)0(2)0(2)0(1)0(1)</td>\n",
       "      <td>NaN</td>\n",
       "      <td>8.0</td>\n",
       "      <td>20.0</td>\n",
       "      <td>24.0</td>\n",
       "    </tr>\n",
       "    <tr>\n",
       "      <th>2</th>\n",
       "      <td>3.0</td>\n",
       "      <td>152.0</td>\n",
       "      <td>13</td>\n",
       "      <td>Ж</td>\n",
       "      <td>104.0</td>\n",
       "      <td>2-----0--+----1---------1</td>\n",
       "      <td>0(1)0(3)0(1)0(3)0(2)0(2)0(3)1(3)0(2)1(2)1(1)1(1)</td>\n",
       "      <td>NaN</td>\n",
       "      <td>9.0</td>\n",
       "      <td>22.0</td>\n",
       "      <td>24.0</td>\n",
       "    </tr>\n",
       "    <tr>\n",
       "      <th>3</th>\n",
       "      <td>4.0</td>\n",
       "      <td>152.0</td>\n",
       "      <td>13</td>\n",
       "      <td>М</td>\n",
       "      <td>104.0</td>\n",
       "      <td>1+--+-0++-----2----++---0</td>\n",
       "      <td>0(1)0(3)0(1)0(3)0(2)0(2)0(3)0(3)0(2)0(2)0(1)0(1)</td>\n",
       "      <td>NaN</td>\n",
       "      <td>9.0</td>\n",
       "      <td>22.0</td>\n",
       "      <td>24.0</td>\n",
       "    </tr>\n",
       "    <tr>\n",
       "      <th>4</th>\n",
       "      <td>5.0</td>\n",
       "      <td>132.0</td>\n",
       "      <td>11</td>\n",
       "      <td>М</td>\n",
       "      <td>337.0</td>\n",
       "      <td>1++---0-+++---1----+----2</td>\n",
       "      <td>0(1)0(3)0(1)0(3)0(2)0(2)0(3)0(3)0(2)0(2)0(1)0(1)</td>\n",
       "      <td>NaN</td>\n",
       "      <td>10.0</td>\n",
       "      <td>24.0</td>\n",
       "      <td>24.0</td>\n",
       "    </tr>\n",
       "  </tbody>\n",
       "</table>\n",
       "</div>"
      ],
      "text/plain": [
       "     №  № школы Класс Пол  Номер варианта  Задания с кратким ответом  \\\n",
       "0  1.0    117.0    11   М           341.0  1+++--1+-++---0---------0   \n",
       "1  2.0    148.0   12А   М           338.0  1+---+0--+---+0----++-+-0   \n",
       "2  3.0    152.0    13   Ж           104.0  2-----0--+----1---------1   \n",
       "3  4.0    152.0    13   М           104.0  1+--+-0++-----2----++---0   \n",
       "4  5.0    132.0    11   М           337.0  1++---0-+++---1----+----2   \n",
       "\n",
       "                      Задания с развёрнутым ответом Устная часть  \\\n",
       "0  0(1)0(3)0(1)0(3)0(2)0(2)0(3)0(3)0(2)0(2)0(1)0(1)          NaN   \n",
       "1  0(1)0(3)0(1)0(3)0(2)0(2)0(3)0(3)0(2)0(2)0(1)0(1)          NaN   \n",
       "2  0(1)0(3)0(1)0(3)0(2)0(2)0(3)1(3)0(2)1(2)1(1)1(1)          NaN   \n",
       "3  0(1)0(3)0(1)0(3)0(2)0(2)0(3)0(3)0(2)0(2)0(1)0(1)          NaN   \n",
       "4  0(1)0(3)0(1)0(3)0(2)0(2)0(3)0(3)0(2)0(2)0(1)0(1)          NaN   \n",
       "\n",
       "   Первичный балл  Балл  Минимальный балл  \n",
       "0             8.0  20.0              24.0  \n",
       "1             8.0  20.0              24.0  \n",
       "2             9.0  22.0              24.0  \n",
       "3             9.0  22.0              24.0  \n",
       "4            10.0  24.0              24.0  "
      ]
     },
     "execution_count": 26,
     "metadata": {},
     "output_type": "execute_result"
    }
   ],
   "source": [
    "df.head()"
   ]
  },
  {
   "cell_type": "markdown",
   "metadata": {},
   "source": [
    "1. Сколько всего заданий с кратким ответом? С развернутым ответом?"
   ]
  },
  {
   "cell_type": "code",
   "execution_count": 27,
   "metadata": {},
   "outputs": [],
   "source": [
    "brief = np.array(df['Задания с кратким ответом'])\n",
    "expanded = np.array(df['Задания с развёрнутым ответом'])"
   ]
  },
  {
   "cell_type": "code",
   "execution_count": 28,
   "metadata": {},
   "outputs": [],
   "source": [
    "def func_B(string):\n",
    "    new_str = string.replace('+', '1').replace('-', '0')\n",
    "    return list(new_str)"
   ]
  },
  {
   "cell_type": "code",
   "execution_count": 29,
   "metadata": {},
   "outputs": [
    {
     "data": {
      "text/plain": [
       "array([[1, 1, 1, ..., 0, 0, 0],\n",
       "       [1, 1, 0, ..., 1, 0, 0],\n",
       "       [2, 0, 0, ..., 0, 0, 1],\n",
       "       ...,\n",
       "       [2, 1, 1, ..., 1, 1, 4],\n",
       "       [2, 1, 1, ..., 1, 1, 4],\n",
       "       [2, 1, 1, ..., 1, 1, 4]])"
      ]
     },
     "execution_count": 29,
     "metadata": {},
     "output_type": "execute_result"
    }
   ],
   "source": [
    "B = np.array(list(map(func_B, brief))).astype(int)\n",
    "B"
   ]
  },
  {
   "cell_type": "code",
   "execution_count": 30,
   "metadata": {},
   "outputs": [],
   "source": [
    "import re\n",
    "\n",
    "def func_C(string):\n",
    "    result = re.sub(r\"\\(\\d\\)\", \"\", string)\n",
    "    return list(result)"
   ]
  },
  {
   "cell_type": "code",
   "execution_count": 31,
   "metadata": {},
   "outputs": [
    {
     "data": {
      "text/plain": [
       "array([[0, 0, 0, ..., 0, 0, 0],\n",
       "       [0, 0, 0, ..., 0, 0, 0],\n",
       "       [0, 0, 0, ..., 1, 1, 1],\n",
       "       ...,\n",
       "       [1, 3, 1, ..., 2, 1, 1],\n",
       "       [1, 3, 1, ..., 2, 1, 1],\n",
       "       [1, 3, 1, ..., 2, 1, 1]])"
      ]
     },
     "execution_count": 31,
     "metadata": {},
     "output_type": "execute_result"
    }
   ],
   "source": [
    "C = np.array(list(map(func_C, expanded))).astype(int)\n",
    "C"
   ]
  },
  {
   "cell_type": "code",
   "execution_count": 32,
   "metadata": {},
   "outputs": [
    {
     "data": {
      "text/plain": [
       "25"
      ]
     },
     "execution_count": 32,
     "metadata": {},
     "output_type": "execute_result"
    }
   ],
   "source": [
    "B[0].shape[0] # Задания с кратким ответом"
   ]
  },
  {
   "cell_type": "code",
   "execution_count": 33,
   "metadata": {},
   "outputs": [
    {
     "data": {
      "text/plain": [
       "12"
      ]
     },
     "execution_count": 33,
     "metadata": {},
     "output_type": "execute_result"
    }
   ],
   "source": [
    "C[0].shape[0] # Задания с развернутым ответом"
   ]
  },
  {
   "cell_type": "markdown",
   "metadata": {},
   "source": [
    "2. Пусть задания с кратким ответом будут задания типа В. Соответственно всего по экзамену вопросов класса В: В 1 … В к Посчитайте процент выполненных и невыполненных заданий по каждому вопросу класса В.\n"
   ]
  },
  {
   "cell_type": "code",
   "execution_count": 34,
   "metadata": {},
   "outputs": [],
   "source": [
    "# v1\n",
    "# если учитывать, что выполненные задания c множественным ответом - это задания, за которые получен макс. балл "
   ]
  },
  {
   "cell_type": "code",
   "execution_count": 35,
   "metadata": {},
   "outputs": [
    {
     "data": {
      "text/plain": [
       "array([2, 1, 1, 1, 1, 1, 5, 1, 1, 1, 1, 1, 1, 1, 2, 1, 1, 1, 1, 1, 1, 1,\n",
       "       1, 1, 4])"
      ]
     },
     "execution_count": 35,
     "metadata": {},
     "output_type": "execute_result"
    }
   ],
   "source": [
    "# мы видим, что в последней записи результат за экзамен максимальный, значит за эталон берем его\n",
    "benchmark = B[-1]\n",
    "benchmark"
   ]
  },
  {
   "cell_type": "code",
   "execution_count": 36,
   "metadata": {},
   "outputs": [],
   "source": [
    "def result(array, benchmark):\n",
    "    lst = np.array([array[array[:,i] == benchmark[i]].shape[0] / array.shape[0] for i in range(benchmark.shape[0])])\n",
    "    return np.c_[np.arange(1, benchmark.shape[0]+1).reshape(-1,1), lst.reshape(-1,1)] "
   ]
  },
  {
   "cell_type": "code",
   "execution_count": 37,
   "metadata": {},
   "outputs": [
    {
     "name": "stdout",
     "output_type": "stream",
     "text": [
      "B1 - выполнено 81.69%, не выполнено 18.31%\n",
      "B2 - выполнено 92.88%, не выполнено 7.12%\n",
      "B3 - выполнено 87.34%, не выполнено 12.66%\n",
      "B4 - выполнено 77.30%, не выполнено 22.70%\n",
      "B5 - выполнено 58.96%, не выполнено 41.04%\n",
      "B6 - выполнено 90.62%, не выполнено 9.38%\n",
      "B7 - выполнено 50.66%, не выполнено 49.34%\n",
      "B8 - выполнено 75.59%, не выполнено 24.41%\n",
      "B9 - выполнено 84.12%, не выполнено 15.88%\n",
      "B10 - выполнено 96.88%, не выполнено 3.12%\n",
      "B11 - выполнено 93.18%, не выполнено 6.82%\n",
      "B12 - выполнено 75.52%, не выполнено 24.48%\n",
      "B13 - выполнено 83.14%, не выполнено 16.86%\n",
      "B14 - выполнено 70.18%, не выполнено 29.82%\n",
      "B15 - выполнено 76.41%, не выполнено 23.59%\n",
      "B16 - выполнено 68.96%, не выполнено 31.04%\n",
      "B17 - выполнено 67.22%, не выполнено 32.78%\n",
      "B18 - выполнено 74.18%, не выполнено 25.82%\n",
      "B19 - выполнено 69.36%, не выполнено 30.64%\n",
      "B20 - выполнено 82.74%, не выполнено 17.26%\n",
      "B21 - выполнено 71.85%, не выполнено 28.15%\n",
      "B22 - выполнено 48.06%, не выполнено 51.94%\n",
      "B23 - выполнено 76.54%, не выполнено 23.46%\n",
      "B24 - выполнено 24.77%, не выполнено 75.23%\n",
      "B25 - выполнено 58.83%, не выполнено 41.17%\n"
     ]
    }
   ],
   "source": [
    "resultB1 = result(B, benchmark)\n",
    "for v in resultB1:\n",
    "    print(f'B{v[0]:.0f} - выполнено {v[1]*100:.2f}%, не выполнено {(1 - v[1])*100:.2f}%')"
   ]
  },
  {
   "cell_type": "code",
   "execution_count": 38,
   "metadata": {},
   "outputs": [],
   "source": [
    "# v2\n",
    "# если учитывать, что любое НЕвыполненное задание - это 0 баллов"
   ]
  },
  {
   "cell_type": "code",
   "execution_count": 39,
   "metadata": {},
   "outputs": [],
   "source": [
    "def result_v2(array, benchmark):\n",
    "    lst = np.array([array[array[:,i] != 0].shape[0] / array.shape[0] for i in range(benchmark.shape[0])])\n",
    "    return np.c_[ np.arange(1, benchmark.shape[0]+1).reshape(-1,1), lst.reshape(-1,1)] "
   ]
  },
  {
   "cell_type": "code",
   "execution_count": 40,
   "metadata": {},
   "outputs": [
    {
     "name": "stdout",
     "output_type": "stream",
     "text": [
      "B1 - выполнено 98.69%, не выполнено 1.31%\n",
      "B2 - выполнено 92.88%, не выполнено 7.12%\n",
      "B3 - выполнено 87.34%, не выполнено 12.66%\n",
      "B4 - выполнено 77.30%, не выполнено 22.70%\n",
      "B5 - выполнено 58.96%, не выполнено 41.04%\n",
      "B6 - выполнено 90.62%, не выполнено 9.38%\n",
      "B7 - выполнено 95.05%, не выполнено 4.95%\n",
      "B8 - выполнено 75.59%, не выполнено 24.41%\n",
      "B9 - выполнено 84.12%, не выполнено 15.88%\n",
      "B10 - выполнено 96.88%, не выполнено 3.12%\n",
      "B11 - выполнено 93.18%, не выполнено 6.82%\n",
      "B12 - выполнено 75.52%, не выполнено 24.48%\n",
      "B13 - выполнено 83.14%, не выполнено 16.86%\n",
      "B14 - выполнено 70.18%, не выполнено 29.82%\n",
      "B15 - выполнено 97.60%, не выполнено 2.40%\n",
      "B16 - выполнено 68.96%, не выполнено 31.04%\n",
      "B17 - выполнено 67.22%, не выполнено 32.78%\n",
      "B18 - выполнено 74.18%, не выполнено 25.82%\n",
      "B19 - выполнено 69.36%, не выполнено 30.64%\n",
      "B20 - выполнено 82.74%, не выполнено 17.26%\n",
      "B21 - выполнено 71.85%, не выполнено 28.15%\n",
      "B22 - выполнено 48.06%, не выполнено 51.94%\n",
      "B23 - выполнено 76.54%, не выполнено 23.46%\n",
      "B24 - выполнено 24.77%, не выполнено 75.23%\n",
      "B25 - выполнено 95.44%, не выполнено 4.56%\n"
     ]
    }
   ],
   "source": [
    "resultB2 = result_v2(B, benchmark)\n",
    "for v in resultB2:\n",
    "    print(f'B{v[0]:.0f} - выполнено {v[1]*100:.2f}%, не выполнено {(1 - v[1])*100:.2f}%')"
   ]
  },
  {
   "cell_type": "markdown",
   "metadata": {},
   "source": [
    "3. Аналогично и с типом С (ответы с развернутым ответом)"
   ]
  },
  {
   "cell_type": "code",
   "execution_count": 41,
   "metadata": {},
   "outputs": [],
   "source": [
    "# аналогично\n",
    "# v1\n",
    "# если учитывать, что выполненные задания - это задания, за которые получен макс. балл "
   ]
  },
  {
   "cell_type": "code",
   "execution_count": 42,
   "metadata": {},
   "outputs": [],
   "source": [
    "# мы видим, что в последней записи результат за экзамен максимальный, значит за эталон берем его"
   ]
  },
  {
   "cell_type": "code",
   "execution_count": 43,
   "metadata": {},
   "outputs": [
    {
     "data": {
      "text/plain": [
       "array([1, 3, 1, 3, 2, 2, 3, 3, 2, 2, 1, 1])"
      ]
     },
     "execution_count": 43,
     "metadata": {},
     "output_type": "execute_result"
    }
   ],
   "source": [
    "benchmark_C = C[-1]\n",
    "benchmark_C"
   ]
  },
  {
   "cell_type": "code",
   "execution_count": 44,
   "metadata": {},
   "outputs": [
    {
     "name": "stdout",
     "output_type": "stream",
     "text": [
      "C1 - выполнено 96.75%, не выполнено 3.25%\n",
      "C2 - выполнено 47.51%, не выполнено 52.49%\n",
      "C3 - выполнено 94.46%, не выполнено 5.54%\n",
      "C4 - выполнено 61.35%, не выполнено 38.65%\n",
      "C5 - выполнено 67.29%, не выполнено 32.71%\n",
      "C6 - выполнено 25.69%, не выполнено 74.31%\n",
      "C7 - выполнено 41.34%, не выполнено 58.66%\n",
      "C8 - выполнено 22.90%, не выполнено 77.10%\n",
      "C9 - выполнено 32.05%, не выполнено 67.95%\n",
      "C10 - выполнено 22.28%, не выполнено 77.72%\n",
      "C11 - выполнено 98.00%, не выполнено 2.00%\n",
      "C12 - выполнено 84.55%, не выполнено 15.45%\n"
     ]
    }
   ],
   "source": [
    "resultC1 = result(C, benchmark_C)\n",
    "for v in resultC1:\n",
    "    print(f'C{v[0]:.0f} - выполнено {v[1]*100:.2f}%, не выполнено {(1 - v[1])*100:.2f}%')"
   ]
  },
  {
   "cell_type": "code",
   "execution_count": 45,
   "metadata": {},
   "outputs": [],
   "source": [
    "# v2\n",
    "# если учитывать, что любое НЕвыполненное задание - это с 0 баллов"
   ]
  },
  {
   "cell_type": "code",
   "execution_count": 46,
   "metadata": {},
   "outputs": [
    {
     "name": "stdout",
     "output_type": "stream",
     "text": [
      "C1 - выполнено 96.75%, не выполнено 3.25%\n",
      "C2 - выполнено 94.72%, не выполнено 5.28%\n",
      "C3 - выполнено 94.46%, не выполнено 5.54%\n",
      "C4 - выполнено 94.26%, не выполнено 5.74%\n",
      "C5 - выполнено 96.46%, не выполнено 3.54%\n",
      "C6 - выполнено 97.44%, не выполнено 2.56%\n",
      "C7 - выполнено 92.39%, не выполнено 7.61%\n",
      "C8 - выполнено 81.50%, не выполнено 18.50%\n",
      "C9 - выполнено 84.19%, не выполнено 15.81%\n",
      "C10 - выполнено 81.73%, не выполнено 18.27%\n",
      "C11 - выполнено 98.00%, не выполнено 2.00%\n",
      "C12 - выполнено 84.55%, не выполнено 15.45%\n"
     ]
    }
   ],
   "source": [
    "resultC2 = result_v2(C, benchmark_C)\n",
    "for v in resultC2:\n",
    "    print(f'C{v[0]:.0f} - выполнено {v[1]*100:.2f}%, не выполнено {(1 - v[1])*100:.2f}%')"
   ]
  },
  {
   "cell_type": "markdown",
   "metadata": {},
   "source": [
    "4. Сделайте анализ по двум школам:\n",
    "    - по всем выполненным заданиям типа В\n",
    "    - по заданиям типа С больше 50%\n",
    "    - по среднему баллу юношей и девушек"
   ]
  },
  {
   "cell_type": "code",
   "execution_count": 47,
   "metadata": {},
   "outputs": [],
   "source": [
    "alls = np.array(df)"
   ]
  },
  {
   "cell_type": "code",
   "execution_count": 48,
   "metadata": {},
   "outputs": [],
   "source": [
    "# возьмем номера школ, равные первым двум строкам записи \n",
    "school_num_1 = alls[0,1] #117\n",
    "school_num_2 = alls[1,1] #148"
   ]
  },
  {
   "cell_type": "code",
   "execution_count": 49,
   "metadata": {},
   "outputs": [],
   "source": [
    "school_1_slice = alls[alls[:,1] == school_num_1]\n",
    "school_2_slice = alls[alls[:,1] == school_num_2]"
   ]
  },
  {
   "cell_type": "code",
   "execution_count": 50,
   "metadata": {},
   "outputs": [
    {
     "data": {
      "text/plain": [
       "(95, 11)"
      ]
     },
     "execution_count": 50,
     "metadata": {},
     "output_type": "execute_result"
    }
   ],
   "source": [
    "school_1_slice.shape"
   ]
  },
  {
   "cell_type": "code",
   "execution_count": 51,
   "metadata": {},
   "outputs": [
    {
     "data": {
      "text/plain": [
       "(325, 11)"
      ]
     },
     "execution_count": 51,
     "metadata": {},
     "output_type": "execute_result"
    }
   ],
   "source": [
    "school_2_slice.shape"
   ]
  },
  {
   "cell_type": "code",
   "execution_count": 52,
   "metadata": {},
   "outputs": [],
   "source": [
    "# ШКОЛА 1"
   ]
  },
  {
   "cell_type": "code",
   "execution_count": 77,
   "metadata": {},
   "outputs": [],
   "source": [
    "B_school1 = np.array(list(map(func_B, school_1_slice[:,5]))).astype(int)"
   ]
  },
  {
   "cell_type": "code",
   "execution_count": 54,
   "metadata": {},
   "outputs": [
    {
     "name": "stdout",
     "output_type": "stream",
     "text": [
      "B1 - выполнено 77.89%\n",
      "B2 - выполнено 88.42%\n",
      "B3 - выполнено 84.21%\n",
      "B4 - выполнено 84.21%\n",
      "B5 - выполнено 58.95%\n",
      "B6 - выполнено 91.58%\n",
      "B7 - выполнено 46.32%\n",
      "B8 - выполнено 77.89%\n",
      "B9 - выполнено 81.05%\n",
      "B10 - выполнено 97.89%\n",
      "B11 - выполнено 94.74%\n",
      "B12 - выполнено 67.37%\n",
      "B13 - выполнено 77.89%\n",
      "B14 - выполнено 65.26%\n",
      "B15 - выполнено 72.63%\n",
      "B16 - выполнено 73.68%\n",
      "B17 - выполнено 74.74%\n",
      "B18 - выполнено 73.68%\n",
      "B19 - выполнено 71.58%\n",
      "B20 - выполнено 85.26%\n",
      "B21 - выполнено 61.05%\n",
      "B22 - выполнено 49.47%\n",
      "B23 - выполнено 72.63%\n",
      "B24 - выполнено 25.26%\n",
      "B25 - выполнено 63.16%\n"
     ]
    }
   ],
   "source": [
    "# benchmark остается тот же\n",
    "# v1\n",
    "# если учитывать, что выполненные задания c множественным ответом - это задания, за которые получен макс. балл\n",
    "result_B_school1 = result(B_school1, benchmark)\n",
    "for v in result_B_school1:\n",
    "    print(f'B{v[0]:.0f} - выполнено {v[1]*100:.2f}%')"
   ]
  },
  {
   "cell_type": "code",
   "execution_count": 78,
   "metadata": {},
   "outputs": [],
   "source": [
    "C_school1 = np.array(list(map(func_C, school_1_slice[:,6]))).astype(int)"
   ]
  },
  {
   "cell_type": "code",
   "execution_count": 56,
   "metadata": {},
   "outputs": [
    {
     "name": "stdout",
     "output_type": "stream",
     "text": [
      "школа 117\n",
      "\n",
      "C1.0 - выполнено 93.68%\n",
      "C3.0 - выполнено 91.58%\n",
      "C4.0 - выполнено 52.63%\n",
      "C5.0 - выполнено 65.26%\n",
      "C11.0 - выполнено 95.79%\n",
      "C12.0 - выполнено 84.21%\n"
     ]
    }
   ],
   "source": [
    "print(f'школа {school_num_1:.0f}\\n')\n",
    "# benchmark остается тот же\n",
    "result_C_school1 = result(C_school1, benchmark_C)\n",
    "for v in result_C_school1[result_C_school1[:,1] >= 0.5]:\n",
    "    print(f'C{v[0]} - выполнено {v[1]*100:.2f}%')"
   ]
  },
  {
   "cell_type": "code",
   "execution_count": 57,
   "metadata": {},
   "outputs": [
    {
     "name": "stdout",
     "output_type": "stream",
     "text": [
      "школа 117\n",
      "\n",
      "B1 - выполнено 95.79%\n",
      "B2 - выполнено 88.42%\n",
      "B3 - выполнено 84.21%\n",
      "B4 - выполнено 84.21%\n",
      "B5 - выполнено 58.95%\n",
      "B6 - выполнено 91.58%\n",
      "B7 - выполнено 96.84%\n",
      "B8 - выполнено 77.89%\n",
      "B9 - выполнено 81.05%\n",
      "B10 - выполнено 97.89%\n",
      "B11 - выполнено 94.74%\n",
      "B12 - выполнено 67.37%\n",
      "B13 - выполнено 77.89%\n",
      "B14 - выполнено 65.26%\n",
      "B15 - выполнено 94.74%\n",
      "B16 - выполнено 73.68%\n",
      "B17 - выполнено 74.74%\n",
      "B18 - выполнено 73.68%\n",
      "B19 - выполнено 71.58%\n",
      "B20 - выполнено 85.26%\n",
      "B21 - выполнено 61.05%\n",
      "B22 - выполнено 49.47%\n",
      "B23 - выполнено 72.63%\n",
      "B24 - выполнено 25.26%\n",
      "B25 - выполнено 93.68%\n"
     ]
    }
   ],
   "source": [
    "# v2\n",
    "# если учитывать, что любое НЕвыполненное задание - это с 0 баллов\n",
    "print(f'школа {school_num_1:.0f}\\n')\n",
    "result_B1_school1 = result_v2(B_school1, benchmark)\n",
    "for v in result_B1_school1:\n",
    "    print(f'B{v[0]:.0f} - выполнено {v[1]*100:.2f}%')"
   ]
  },
  {
   "cell_type": "code",
   "execution_count": 58,
   "metadata": {},
   "outputs": [
    {
     "name": "stdout",
     "output_type": "stream",
     "text": [
      "школа 117\n",
      "\n",
      "C1.0 - выполнено 93.68%\n",
      "C2.0 - выполнено 93.68%\n",
      "C3.0 - выполнено 91.58%\n",
      "C4.0 - выполнено 89.47%\n",
      "C5.0 - выполнено 92.63%\n",
      "C6.0 - выполнено 94.74%\n",
      "C7.0 - выполнено 89.47%\n",
      "C8.0 - выполнено 74.74%\n",
      "C9.0 - выполнено 75.79%\n",
      "C10.0 - выполнено 76.84%\n",
      "C11.0 - выполнено 95.79%\n",
      "C12.0 - выполнено 84.21%\n"
     ]
    }
   ],
   "source": [
    "print(f'школа {school_num_1:.0f}\\n')\n",
    "# benchmark остается тот же\n",
    "result_C1_school1 = result_v2(C_school1, benchmark_C)\n",
    "for v in result_C1_school1[result_C1_school1[:,1] >= 0.5]:\n",
    "    print(f'C{v[0]} - выполнено {v[1]*100:.2f}%')"
   ]
  },
  {
   "cell_type": "code",
   "execution_count": 59,
   "metadata": {},
   "outputs": [
    {
     "name": "stdout",
     "output_type": "stream",
     "text": [
      "средний балл М - 65.02\n",
      "средний балл Ж - 75.69\n"
     ]
    }
   ],
   "source": [
    "male1 = school_1_slice[school_1_slice[:,3] == 'М'][:,-2].mean() \n",
    "female1 = school_1_slice[school_1_slice[:,3] == 'Ж'][:,-2].mean() \n",
    "print(f'средний балл М - {male1:.2f}')\n",
    "print(f'средний балл Ж - {female1:.2f}')"
   ]
  },
  {
   "cell_type": "code",
   "execution_count": 60,
   "metadata": {},
   "outputs": [],
   "source": [
    "# и для другой школы\n",
    "# ШКОЛА 2"
   ]
  },
  {
   "cell_type": "code",
   "execution_count": 61,
   "metadata": {},
   "outputs": [],
   "source": [
    "B_school2 = np.array(list(map(func_B, school_2_slice[:,5]))).astype(int)"
   ]
  },
  {
   "cell_type": "code",
   "execution_count": 62,
   "metadata": {},
   "outputs": [
    {
     "name": "stdout",
     "output_type": "stream",
     "text": [
      "школа 148\n",
      "\n",
      "B1 - выполнено 80.00%\n",
      "B2 - выполнено 96.31%\n",
      "B3 - выполнено 88.31%\n",
      "B4 - выполнено 78.77%\n",
      "B5 - выполнено 60.00%\n",
      "B6 - выполнено 94.15%\n",
      "B7 - выполнено 44.92%\n",
      "B8 - выполнено 76.62%\n",
      "B9 - выполнено 88.92%\n",
      "B10 - выполнено 96.92%\n",
      "B11 - выполнено 91.69%\n",
      "B12 - выполнено 80.00%\n",
      "B13 - выполнено 81.23%\n",
      "B14 - выполнено 70.46%\n",
      "B15 - выполнено 73.54%\n",
      "B16 - выполнено 70.46%\n",
      "B17 - выполнено 65.54%\n",
      "B18 - выполнено 76.62%\n",
      "B19 - выполнено 62.77%\n",
      "B20 - выполнено 81.85%\n",
      "B21 - выполнено 71.38%\n",
      "B22 - выполнено 51.38%\n",
      "B23 - выполнено 74.77%\n",
      "B24 - выполнено 23.38%\n",
      "B25 - выполнено 56.31%\n"
     ]
    }
   ],
   "source": [
    "# v1\n",
    "# если учитывать, что выполненные задания c множественным ответом - это задания, за которые получен макс. балл\n",
    "# benchmark остается тот же\n",
    "print(f'школа {school_num_2:.0f}\\n')\n",
    "result_B_school2 = result(B_school2, benchmark)\n",
    "for v in result_B_school2:\n",
    "    print(f'B{v[0]:.0f} - выполнено {v[1]*100:.2f}%')"
   ]
  },
  {
   "cell_type": "code",
   "execution_count": 63,
   "metadata": {},
   "outputs": [],
   "source": [
    "C_school2 = np.array(list(map(func_C, school_2_slice[:,6]))).astype(int)"
   ]
  },
  {
   "cell_type": "code",
   "execution_count": 64,
   "metadata": {},
   "outputs": [
    {
     "name": "stdout",
     "output_type": "stream",
     "text": [
      "школа 148\n",
      "\n",
      "C1.0 - выполнено 94.77%\n",
      "C3.0 - выполнено 92.92%\n",
      "C4.0 - выполнено 59.38%\n",
      "C5.0 - выполнено 66.46%\n",
      "C11.0 - выполнено 96.92%\n",
      "C12.0 - выполнено 87.69%\n"
     ]
    }
   ],
   "source": [
    "print(f'школа {school_num_2:.0f}\\n')\n",
    "# benchmark остается тот же\n",
    "result_C_school2 = result(C_school2, benchmark_C)\n",
    "for v in result_C_school2[result_C_school2[:,1] >= 0.5]:\n",
    "    print(f'C{v[0]} - выполнено {v[1]*100:.2f}%')"
   ]
  },
  {
   "cell_type": "code",
   "execution_count": 65,
   "metadata": {},
   "outputs": [
    {
     "name": "stdout",
     "output_type": "stream",
     "text": [
      "школа 148\n",
      "\n",
      "B1 - выполнено 98.77%\n",
      "B2 - выполнено 96.31%\n",
      "B3 - выполнено 88.31%\n",
      "B4 - выполнено 78.77%\n",
      "B5 - выполнено 60.00%\n",
      "B6 - выполнено 94.15%\n",
      "B7 - выполнено 92.92%\n",
      "B8 - выполнено 76.62%\n",
      "B9 - выполнено 88.92%\n",
      "B10 - выполнено 96.92%\n",
      "B11 - выполнено 91.69%\n",
      "B12 - выполнено 80.00%\n",
      "B13 - выполнено 81.23%\n",
      "B14 - выполнено 70.46%\n",
      "B15 - выполнено 97.54%\n",
      "B16 - выполнено 70.46%\n",
      "B17 - выполнено 65.54%\n",
      "B18 - выполнено 76.62%\n",
      "B19 - выполнено 62.77%\n",
      "B20 - выполнено 81.85%\n",
      "B21 - выполнено 71.38%\n",
      "B22 - выполнено 51.38%\n",
      "B23 - выполнено 74.77%\n",
      "B24 - выполнено 23.38%\n",
      "B25 - выполнено 93.54%\n"
     ]
    }
   ],
   "source": [
    "# v2\n",
    "# если учитывать, что любое НЕвыполненное задание - это с 0 баллов\n",
    "print(f'школа {school_num_2:.0f}\\n')\n",
    "result_B1_school2 = result_v2(B_school2, benchmark)\n",
    "for v in result_B1_school2:\n",
    "    print(f'B{v[0]:.0f} - выполнено {v[1]*100:.2f}%')"
   ]
  },
  {
   "cell_type": "code",
   "execution_count": 66,
   "metadata": {},
   "outputs": [
    {
     "name": "stdout",
     "output_type": "stream",
     "text": [
      "школа 148\n",
      "\n",
      "C1.0 - выполнено 94.77%\n",
      "C2.0 - выполнено 92.31%\n",
      "C3.0 - выполнено 92.92%\n",
      "C4.0 - выполнено 91.69%\n",
      "C5.0 - выполнено 94.15%\n",
      "C6.0 - выполнено 96.31%\n",
      "C7.0 - выполнено 92.62%\n",
      "C8.0 - выполнено 81.23%\n",
      "C9.0 - выполнено 86.77%\n",
      "C10.0 - выполнено 84.62%\n",
      "C11.0 - выполнено 96.92%\n",
      "C12.0 - выполнено 87.69%\n"
     ]
    }
   ],
   "source": [
    "print(f'школа {school_num_2:.0f}\\n')\n",
    "# benchmark остается тот же\n",
    "result_C1_school2 = result_v2(C_school2, benchmark_C)\n",
    "for v in result_C1_school2[result_C1_school2[:,1] >= 0.5]:\n",
    "    print(f'C{v[0]} - выполнено {v[1]*100:.2f}%')"
   ]
  },
  {
   "cell_type": "code",
   "execution_count": 67,
   "metadata": {},
   "outputs": [
    {
     "name": "stdout",
     "output_type": "stream",
     "text": [
      "средний балл М - 68.17\n",
      "средний балл Ж - 75.75\n"
     ]
    }
   ],
   "source": [
    "male2 = school_2_slice[school_2_slice[:,3] == 'М'][:,-2].mean() \n",
    "female2 = school_2_slice[school_2_slice[:,3] == 'Ж'][:,-2].mean() \n",
    "print(f'средний балл М - {male2:.2f}')\n",
    "print(f'средний балл Ж - {female2:.2f}')"
   ]
  },
  {
   "cell_type": "markdown",
   "metadata": {},
   "source": [
    "## Контрольные вопросы"
   ]
  },
  {
   "cell_type": "markdown",
   "metadata": {},
   "source": [
    "1. Какое свойство содержит количество элементов массива по измерениям?\n",
    "\n"
   ]
  },
  {
   "cell_type": "code",
   "execution_count": 68,
   "metadata": {},
   "outputs": [
    {
     "data": {
      "text/plain": [
       "(3048, 11)"
      ]
     },
     "execution_count": 68,
     "metadata": {},
     "output_type": "execute_result"
    }
   ],
   "source": [
    "# ответ - shape\n",
    "\n",
    "# пример\n",
    "alls.shape #кортеж - (кол-во строк, кол-во столбцов)"
   ]
  },
  {
   "cell_type": "markdown",
   "metadata": {},
   "source": [
    "2. Напишите функцию, создающую ndarray из массива [0, 1, 2, 3, 4]\n"
   ]
  },
  {
   "cell_type": "code",
   "execution_count": 69,
   "metadata": {},
   "outputs": [
    {
     "data": {
      "text/plain": [
       "numpy.ndarray"
      ]
     },
     "execution_count": 69,
     "metadata": {},
     "output_type": "execute_result"
    }
   ],
   "source": [
    "def create_ndarray(arr):\n",
    "    return np.array(arr)\n",
    "\n",
    "\n",
    "massiv = [0, 1, 2, 3, 4]\n",
    "new_ndarray = create_ndarray(massiv)\n",
    "type(new_ndarray)"
   ]
  },
  {
   "cell_type": "markdown",
   "metadata": {},
   "source": [
    "3. Как создать нулевой 4-мерный вектор?\n"
   ]
  },
  {
   "cell_type": "code",
   "execution_count": 70,
   "metadata": {},
   "outputs": [
    {
     "data": {
      "text/plain": [
       "array([[[[0., 0.],\n",
       "         [0., 0.]],\n",
       "\n",
       "        [[0., 0.],\n",
       "         [0., 0.]]],\n",
       "\n",
       "\n",
       "       [[[0., 0.],\n",
       "         [0., 0.]],\n",
       "\n",
       "        [[0., 0.],\n",
       "         [0., 0.]]]])"
      ]
     },
     "execution_count": 70,
     "metadata": {},
     "output_type": "execute_result"
    }
   ],
   "source": [
    "np.zeros((2, 2, 2, 2))"
   ]
  },
  {
   "cell_type": "code",
   "execution_count": 71,
   "metadata": {},
   "outputs": [
    {
     "data": {
      "text/plain": [
       "array([[[[0., 0.],\n",
       "         [0., 0.]],\n",
       "\n",
       "        [[0., 0.],\n",
       "         [0., 0.]]],\n",
       "\n",
       "\n",
       "       [[[0., 0.],\n",
       "         [0., 0.]],\n",
       "\n",
       "        [[0., 0.],\n",
       "         [0., 0.]]]])"
      ]
     },
     "execution_count": 71,
     "metadata": {},
     "output_type": "execute_result"
    }
   ],
   "source": [
    "np.zeros([2 for _ in range(4)])"
   ]
  },
  {
   "cell_type": "markdown",
   "metadata": {},
   "source": [
    "4. Как создать единичную диагональную матрицу 3х4?\n"
   ]
  },
  {
   "cell_type": "code",
   "execution_count": 72,
   "metadata": {},
   "outputs": [
    {
     "data": {
      "text/plain": [
       "array([[1., 0., 0., 0.],\n",
       "       [0., 1., 0., 0.],\n",
       "       [0., 0., 1., 0.]])"
      ]
     },
     "execution_count": 72,
     "metadata": {},
     "output_type": "execute_result"
    }
   ],
   "source": [
    "np.eye(3, 4)"
   ]
  },
  {
   "cell_type": "markdown",
   "metadata": {},
   "source": [
    "5. Сколько операций умножения матриц существует в numpy?\n"
   ]
  },
  {
   "cell_type": "code",
   "execution_count": 73,
   "metadata": {},
   "outputs": [
    {
     "name": "stdout",
     "output_type": "stream",
     "text": [
      "Прямое умножение:\n",
      "[[2 0]\n",
      " [0 4]],\n",
      "Математическое умножение:\n",
      "[[5 4]\n",
      " [3 4]],\n",
      "[[5 4]\n",
      " [3 4]]\n"
     ]
    }
   ],
   "source": [
    "A = np.array([[1, 1], [0, 1]])\n",
    "B = np.array([[2, 0], [3, 4]])\n",
    "print(f\"Прямое умножение:\\n{A * B},\\nМатематическое умножение:\\n{A @ B},\\n{A.dot(B)}\")"
   ]
  },
  {
   "cell_type": "code",
   "execution_count": 74,
   "metadata": {},
   "outputs": [
    {
     "name": "stdout",
     "output_type": "stream",
     "text": [
      "прямое умножение \n",
      " [[  0  10  22]\n",
      " [ 36  52  70]\n",
      " [ 90 112 136]]\n",
      "\n",
      "np.multiply (вычисляет поэлементное произведение двух массивов) \n",
      " [[  0  10  22]\n",
      " [ 36  52  70]\n",
      " [ 90 112 136]]\n",
      "\n",
      "np.matmul (вычисляет матричное произведение двух массивов) \n",
      " [[ 42  45  48]\n",
      " [150 162 174]\n",
      " [258 279 300]]\n",
      "\n",
      "np.dot (вычисляет скалярное произведение двух массивов)\n",
      " [[ 42  45  48]\n",
      " [150 162 174]\n",
      " [258 279 300]]\n",
      "\n",
      "@ \n",
      " [[ 42  45  48]\n",
      " [150 162 174]\n",
      " [258 279 300]]\n",
      "\n"
     ]
    }
   ],
   "source": [
    "arr1 = np.arange(9).reshape(3,3)\n",
    "arr2 = np.arange(9,18).reshape(3,3)\n",
    "\n",
    "print(f'прямое умножение \\n {arr1 * arr2}\\n') \n",
    "print(f'np.multiply (вычисляет поэлементное произведение двух массивов) \\n {np.multiply(arr1, arr2)}\\n') \n",
    "\n",
    "print(f'np.matmul (вычисляет матричное произведение двух массивов) \\n {np.matmul(arr1, arr2)}\\n') \n",
    "\n",
    "print(f'np.dot (вычисляет скалярное произведение двух массивов)\\n {np.dot(arr1, arr2)}\\n') \n",
    "print(f'@ \\n {arr1 @arr2 }\\n') "
   ]
  },
  {
   "cell_type": "markdown",
   "metadata": {},
   "source": [
    "6. Напишите инструкцию, выбирающую каждый третий элемент массива А начиная с 10-го и заканчивая 45-м\n"
   ]
  },
  {
   "cell_type": "code",
   "execution_count": 75,
   "metadata": {},
   "outputs": [
    {
     "data": {
      "text/plain": [
       "array([10, 13, 16, 19, 22, 25, 28, 31, 34, 37, 40, 43])"
      ]
     },
     "execution_count": 75,
     "metadata": {},
     "output_type": "execute_result"
    }
   ],
   "source": [
    "arr3 = np.arange(50)\n",
    "arr3[10:46:3]"
   ]
  },
  {
   "cell_type": "markdown",
   "metadata": {},
   "source": [
    "7. Напишите инструкцию создания матрицы 4х3 из плоского массива из 12 элементов"
   ]
  },
  {
   "cell_type": "code",
   "execution_count": 76,
   "metadata": {},
   "outputs": [
    {
     "name": "stdout",
     "output_type": "stream",
     "text": [
      "[[ 0  1  2]\n",
      " [ 3  4  5]\n",
      " [ 6  7  8]\n",
      " [ 9 10 11]]\n",
      "\n",
      "кол-во измерений: 2\n"
     ]
    }
   ],
   "source": [
    "arr4 = np.arange(12).reshape(4,3)\n",
    "print(arr4)\n",
    "print(f'\\nкол-во измерений: {arr4.ndim}')"
   ]
  },
  {
   "cell_type": "code",
   "execution_count": null,
   "metadata": {},
   "outputs": [],
   "source": []
  }
 ],
 "metadata": {
  "kernelspec": {
   "display_name": "Python 3 (ipykernel)",
   "language": "python",
   "name": "python3"
  },
  "language_info": {
   "codemirror_mode": {
    "name": "ipython",
    "version": 3
   },
   "file_extension": ".py",
   "mimetype": "text/x-python",
   "name": "python",
   "nbconvert_exporter": "python",
   "pygments_lexer": "ipython3",
   "version": "3.9.7"
  }
 },
 "nbformat": 4,
 "nbformat_minor": 4
}
