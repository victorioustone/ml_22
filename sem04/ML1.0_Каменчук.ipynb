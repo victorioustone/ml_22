{
 "cells": [
  {
   "cell_type": "markdown",
   "metadata": {},
   "source": [
    "### 1. Решить задачу регрессии для набора  \n",
    "#### x = [0, 1, 2, 3], y = [4, 7, 7, 8]\n",
    "\n",
    "Вручную (на основе математического анализа с помощью numpy) и с помощью scikit-learn.  \n",
    "Сравнить полученные коэффициенты."
   ]
  },
  {
   "cell_type": "code",
   "execution_count": 1,
   "metadata": {},
   "outputs": [],
   "source": [
    "import numpy as np\n",
    "import pandas as pd\n",
    "from sklearn.linear_model import LinearRegression"
   ]
  },
  {
   "cell_type": "code",
   "execution_count": 2,
   "metadata": {},
   "outputs": [],
   "source": [
    "x = np.array([0, 1, 2, 3])\n",
    "y = np.array([4, 7, 7, 8])"
   ]
  },
  {
   "cell_type": "code",
   "execution_count": 3,
   "metadata": {},
   "outputs": [],
   "source": [
    "class Linear_regression():\n",
    "    \n",
    "    \"\"\"парная линейная регрессия, основана на методе наименьших квадратов\"\"\"\n",
    "    \n",
    "    def __init__(self, x, y):\n",
    "        self.x = x\n",
    "        self.y = y\n",
    "        self.a = 0\n",
    "        self.b = 0\n",
    "        \n",
    "    def learn(self):\n",
    "        self.b = np.corrcoef(self.x, self.y)[0, 1] * (np.std(self.y) / np.std(self.x))\n",
    "        self.a = np.mean(self.y) - self.b * np.mean(self.x)\n",
    "        \n",
    "    def prediction(self, x_):\n",
    "        return self.a + self.b * x_\n",
    "    \n",
    "    def r_2(self):\n",
    "        result = 0\n",
    "        for i in range(len(x_)):\n",
    "            result += self.b[i] * (np.sum(np.dot(self.x[i] - self.x[i].mean(), self.y - self.y.mean()) ) )\n",
    "        den = np.sum( np.power(self.y - self.y.mean(), 2) )\n",
    "        return result / den"
   ]
  },
  {
   "cell_type": "markdown",
   "metadata": {},
   "source": [
    "Парная линейная регрессия: $y = \\alpha + \\beta x$"
   ]
  },
  {
   "cell_type": "code",
   "execution_count": 4,
   "metadata": {},
   "outputs": [
    {
     "name": "stdout",
     "output_type": "stream",
     "text": [
      "Коэффициенты \n",
      "\n",
      "a - 4.699999999999999\n",
      "b - 1.2000000000000002\n"
     ]
    }
   ],
   "source": [
    "regr_by_hand = Linear_regression(x, y)\n",
    "regr_by_hand.learn()\n",
    "print(f'Коэффициенты \\n\\na - {regr_by_hand.a}\\nb - {regr_by_hand.b}')"
   ]
  },
  {
   "cell_type": "code",
   "execution_count": 5,
   "metadata": {},
   "outputs": [
    {
     "ename": "AttributeError",
     "evalue": "'Linear_regression' object has no attribute 'SSE'",
     "output_type": "error",
     "traceback": [
      "\u001b[0;31m---------------------------------------------------------------------------\u001b[0m",
      "\u001b[0;31mAttributeError\u001b[0m                            Traceback (most recent call last)",
      "\u001b[0;32m<ipython-input-5-4a7b135ed7ce>\u001b[0m in \u001b[0;36m<module>\u001b[0;34m\u001b[0m\n\u001b[0;32m----> 1\u001b[0;31m \u001b[0mregr_by_hand\u001b[0m\u001b[0;34m.\u001b[0m\u001b[0mSSE\u001b[0m\u001b[0;34m(\u001b[0m\u001b[0;34m)\u001b[0m\u001b[0;34m\u001b[0m\u001b[0;34m\u001b[0m\u001b[0m\n\u001b[0m",
      "\u001b[0;31mAttributeError\u001b[0m: 'Linear_regression' object has no attribute 'SSE'"
     ]
    }
   ],
   "source": [
    "regr_by_hand.SSE()"
   ]
  },
  {
   "cell_type": "markdown",
   "metadata": {},
   "source": [
    "теперь воспользуемся sklearn"
   ]
  },
  {
   "cell_type": "code",
   "execution_count": null,
   "metadata": {},
   "outputs": [],
   "source": [
    "x = x.reshape((-1, 1))\n",
    "\n",
    "model = LinearRegression().fit(x, y)\n",
    "print(f'Коэффициенты \\n\\na - {model.intercept_}\\nb - {model.coef_[0]}')"
   ]
  },
  {
   "cell_type": "markdown",
   "metadata": {},
   "source": [
    "Коэффициенты мы получили одни и те же (не учитывая технической особенности компилятора)   \n",
    "  \n",
    "Попробуем предсказать. Допустим, для $x = 5$"
   ]
  },
  {
   "cell_type": "code",
   "execution_count": null,
   "metadata": {},
   "outputs": [],
   "source": [
    "print(regr_by_hand.prediction(5), '(my own function)')"
   ]
  },
  {
   "cell_type": "code",
   "execution_count": null,
   "metadata": {},
   "outputs": [],
   "source": [
    "y_pred = model.predict([[5]])\n",
    "print(y_pred[0], '(sklearn)')"
   ]
  },
  {
   "cell_type": "markdown",
   "metadata": {},
   "source": [
    "Результат получили один и тот же (опять же, не учитывая технической особенности компилятора)  \n"
   ]
  },
  {
   "cell_type": "markdown",
   "metadata": {},
   "source": [
    "### 2. Рассмотреть задачу прогнозирование цен на примере набора данных Houses.csv:\n",
    "    - какие признаки наиболее всего влияют, по Вашему мнению, на цену?\n",
    "    - возможно ли уменьшить количество признаков?\n",
    "    - есть ли пропуски в данных?\n",
    "    - можно ли обойтись одним параметром? выберите один и решите задачу.\n",
    "    - оставьте несколько параметров и решите задачу многомерной регрессии.\n"
   ]
  },
  {
   "cell_type": "code",
   "execution_count": null,
   "metadata": {},
   "outputs": [],
   "source": [
    "df = pd.read_csv('Houses.csv', index_col=0)\n",
    "df.head(3)"
   ]
  },
  {
   "cell_type": "code",
   "execution_count": null,
   "metadata": {},
   "outputs": [],
   "source": [
    "df.columns"
   ]
  },
  {
   "cell_type": "markdown",
   "metadata": {},
   "source": [
    "&#x265E; ***какие признаки наиболее всего влияют, по Вашему мнению, на цену?***   \n",
    "&#x265E; ***возможно ли уменьшить количество признаков?***\n",
    "\n",
    "По поводу влияющих признаков, я бы не доверяла так себе, а провела бы необходимые тесты, дабы определить такоовы:) В таких вещах полагаюсь на статистику, а она выражена в цифрах. И исходя из результатов, определить и наиболее и наименее значащие факторы.\n",
    "  \n",
    "Тем не менее. Дата в том виде (по крайней мере,в том виде, в каком она сюда включена), не несет никакой ценности, id тоже. Так же, как и дату, мы можем оценить долготу, широту и почтовый индекс.   \n",
    "   \n",
    "Из наиболее значимых можно выделить количество комнат _(bedrooms)_ и квадратура _(sqft_living)_. Все остальные признаки я бы опустила на ступеньку ниже, а то и несколько ниже. Второстепенные.  \n",
    "  \n",
    "Конечно, хотелось бы описание каждого признака. Пока не понятно, например, что такое _sqft_lot_ и _sqft_above_, а также чем _sqft_living_ и _sqft_lot_ отличаются от _sqft_living15_ и _sqft_lot15_"
   ]
  },
  {
   "cell_type": "code",
   "execution_count": null,
   "metadata": {},
   "outputs": [],
   "source": [
    "df.drop(columns=['id', 'date', 'zipcode', 'lat', 'long'], inplace=True)\n",
    "df.head()"
   ]
  },
  {
   "cell_type": "markdown",
   "metadata": {},
   "source": [
    "&#x265E; ***есть ли пропуски в данных?***\n",
    "\n",
    "Все на месте. Это хорошо\n",
    "\n",
    "&#x25BC; &#x25BC; &#x25BC; &#x25BC; &#x25BC; &#x25BC; &#x25BC; &#x25BC; &#x25BC; "
   ]
  },
  {
   "cell_type": "code",
   "execution_count": null,
   "metadata": {},
   "outputs": [],
   "source": [
    "df.isna().sum()"
   ]
  },
  {
   "cell_type": "markdown",
   "metadata": {},
   "source": [
    "&#x265E; ***можно ли обойтись одним параметром? выберите один и решите задачу***\n",
    "   \n",
    "   \n",
    "   \n",
    "Только если мы хотим на выходе получать о-о-очень приближенный результат. В современных реалиях, этого будет мало.  \n",
    "Я выберу квадратуру (_sqft_living_)"
   ]
  },
  {
   "cell_type": "code",
   "execution_count": null,
   "metadata": {},
   "outputs": [],
   "source": [
    "x = df.sqft_living\n",
    "y = df.price"
   ]
  },
  {
   "cell_type": "code",
   "execution_count": null,
   "metadata": {},
   "outputs": [],
   "source": [
    "# функция, написанная ручками\n",
    "regr_by_hand = Linear_regression(x, y)\n",
    "regr_by_hand.learn()\n",
    "print(f'y = {np.round(regr_by_hand.a, decimals = 2)} + {np.round(regr_by_hand.b, decimals = 2)}x \\n')\n",
    "print(f'200кв.м. => {np.round(regr_by_hand.prediction(200), decimals = 2)}')\n",
    "print(f'700кв.м. => {np.round(regr_by_hand.prediction(700), decimals = 2)}')"
   ]
  },
  {
   "cell_type": "code",
   "execution_count": null,
   "metadata": {},
   "outputs": [],
   "source": [
    "# sklearn.linear_model\n",
    "x = (x.to_numpy()).reshape((-1, 1))"
   ]
  },
  {
   "cell_type": "code",
   "execution_count": null,
   "metadata": {},
   "outputs": [],
   "source": [
    "model = LinearRegression().fit(x, y)\n",
    "print(f'y = {np.round(model.intercept_, decimals = 2)} + {np.round(model.coef_[0], decimals = 2)}x \\n')\n",
    "\n",
    "print(f'200кв.м. => {np.round(model.predict([[200]])[0], decimals = 2)}')\n",
    "print(f'700кв.м. => {np.round(model.predict([[700]])[0], decimals = 2)}')"
   ]
  },
  {
   "cell_type": "markdown",
   "metadata": {},
   "source": [
    "&#x265E; ***оставьте несколько параметров и решите задачу многомерной регрессии.***\n",
    "\n",
    "оставлю следующие факторы - _bedrooms, sqft_living, condition, grade_"
   ]
  },
  {
   "cell_type": "code",
   "execution_count": null,
   "metadata": {},
   "outputs": [],
   "source": [
    "df = df[['price', 'bedrooms', 'sqft_living', 'condition', 'grade']]\n",
    "df.head(3)"
   ]
  },
  {
   "cell_type": "code",
   "execution_count": null,
   "metadata": {},
   "outputs": [],
   "source": [
    "x = df[['bedrooms', 'sqft_living', 'condition', 'grade']].to_numpy()\n",
    "y = df.price"
   ]
  },
  {
   "cell_type": "code",
   "execution_count": null,
   "metadata": {},
   "outputs": [],
   "source": [
    "class Multi_linear_regression():\n",
    "    \n",
    "    \"\"\"множественная линейная регрессия, основана на методе наименьших квадратов\"\"\"\n",
    "    \n",
    "    def __init__(self, x, y):\n",
    "        self.x = x\n",
    "        self.y = y\n",
    "        self.b = 0\n",
    "        \n",
    "    def learn(self):\n",
    "        v_ones = np.ones((len(self.x[:,1]), 1))\n",
    "        x = np.c_[v_ones, self.x]\n",
    "        x_t_x_1 = np.linalg.inv(np.dot(x.transpose(), x))\n",
    "        x_t_y = np.dot(x.transpose(), self.y)\n",
    "        result = np.dot(x_t_x_1, x_t_y)\n",
    "        self.a = result[0]\n",
    "        self.b = result[1:]\n",
    "\n",
    "    def prediction(self, x_):\n",
    "        result = 0\n",
    "        for i in range(len(x_)):\n",
    "            result += x_[i] * self.b[i]\n",
    "        return self.a + result\n",
    "    \n",
    "        \n",
    "    def r_2(self):\n",
    "        result = self.b * (np.sum(np.dot(self.x[i] - self.x[i].mean(), self.y - self.y.mean()) ) )\n",
    "        den = np.sum( np.power(self.y - self.y.mean(), 2) )\n",
    "        return result / den"
   ]
  },
  {
   "cell_type": "code",
   "execution_count": null,
   "metadata": {},
   "outputs": [],
   "source": [
    "# by hand\n",
    "regr_by_hand = Multi_linear_regression(x, y)\n",
    "regr_by_hand.learn()\n",
    "regr_by_hand.prediction([3, 1200, 3, 7])"
   ]
  },
  {
   "cell_type": "code",
   "execution_count": null,
   "metadata": {},
   "outputs": [],
   "source": [
    "# scikit-learning\n",
    "model = LinearRegression().fit(x, y)\n",
    "model.predict([[3, 1200, 3, 7]])[0]"
   ]
  }
 ],
 "metadata": {
  "kernelspec": {
   "display_name": "Python 3",
   "language": "python",
   "name": "python3"
  },
  "language_info": {
   "codemirror_mode": {
    "name": "ipython",
    "version": 3
   },
   "file_extension": ".py",
   "mimetype": "text/x-python",
   "name": "python",
   "nbconvert_exporter": "python",
   "pygments_lexer": "ipython3",
   "version": "3.8.5"
  }
 },
 "nbformat": 4,
 "nbformat_minor": 4
}
