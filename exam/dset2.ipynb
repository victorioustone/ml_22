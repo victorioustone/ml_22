{
 "cells": [
  {
   "cell_type": "markdown",
   "id": "ba00153d",
   "metadata": {},
   "source": [
    "Датасет - https://www.kaggle.com/datasets/lodetomasi1995/income-classification"
   ]
  },
  {
   "cell_type": "markdown",
   "id": "3e656ff9",
   "metadata": {},
   "source": [
    "Загрузить датасет в Python.  \n",
    "Описать набор данных и решаемую задачу.  \n",
    "Выделить целевую переменную и факторные переменные.  \n",
    "Удалить ненужные данные, проанализировать отсутствующие значения.  \n",
    "Прокомментировать количественные параметры датасета.  \n",
    "Разбить выборку на обучающую и тестовую.  \n",
    "Работа по вариантам.  \n"
   ]
  },
  {
   "cell_type": "code",
   "execution_count": 51,
   "id": "ebe66688",
   "metadata": {},
   "outputs": [],
   "source": [
    "import pandas as pd\n",
    "import matplotlib.pyplot as plt\n",
    "import numpy as np\n",
    "import seaborn as sns\n",
    "from sklearn.preprocessing import OneHotEncoder\n",
    "from sklearn.preprocessing import LabelBinarizer\n",
    "from sklearn.model_selection import train_test_split\n",
    "from sklearn.model_selection import GridSearchCV\n",
    "\n",
    "\n",
    "import time\n",
    "\n",
    "import warnings\n",
    "warnings.filterwarnings(action='ignore')"
   ]
  },
  {
   "cell_type": "markdown",
   "id": "5dc327d1",
   "metadata": {},
   "source": [
    "## Подготовительный этап"
   ]
  },
  {
   "cell_type": "code",
   "execution_count": 2,
   "id": "e7a0d14c",
   "metadata": {},
   "outputs": [
    {
     "data": {
      "text/html": [
       "<div>\n",
       "<style scoped>\n",
       "    .dataframe tbody tr th:only-of-type {\n",
       "        vertical-align: middle;\n",
       "    }\n",
       "\n",
       "    .dataframe tbody tr th {\n",
       "        vertical-align: top;\n",
       "    }\n",
       "\n",
       "    .dataframe thead th {\n",
       "        text-align: right;\n",
       "    }\n",
       "</style>\n",
       "<table border=\"1\" class=\"dataframe\">\n",
       "  <thead>\n",
       "    <tr style=\"text-align: right;\">\n",
       "      <th></th>\n",
       "      <th>age</th>\n",
       "      <th>workclass</th>\n",
       "      <th>fnlwgt</th>\n",
       "      <th>education</th>\n",
       "      <th>education-num</th>\n",
       "      <th>marital-status</th>\n",
       "      <th>occupation</th>\n",
       "      <th>relationship</th>\n",
       "      <th>race</th>\n",
       "      <th>sex</th>\n",
       "      <th>capital-gain</th>\n",
       "      <th>capital-loss</th>\n",
       "      <th>hours-per-week</th>\n",
       "      <th>native-country</th>\n",
       "      <th>income</th>\n",
       "    </tr>\n",
       "  </thead>\n",
       "  <tbody>\n",
       "    <tr>\n",
       "      <th>0</th>\n",
       "      <td>39</td>\n",
       "      <td>State-gov</td>\n",
       "      <td>77516</td>\n",
       "      <td>Bachelors</td>\n",
       "      <td>13</td>\n",
       "      <td>Never-married</td>\n",
       "      <td>Adm-clerical</td>\n",
       "      <td>Not-in-family</td>\n",
       "      <td>White</td>\n",
       "      <td>Male</td>\n",
       "      <td>2174</td>\n",
       "      <td>0</td>\n",
       "      <td>40</td>\n",
       "      <td>United-States</td>\n",
       "      <td>&lt;=50K</td>\n",
       "    </tr>\n",
       "    <tr>\n",
       "      <th>1</th>\n",
       "      <td>50</td>\n",
       "      <td>Self-emp-not-inc</td>\n",
       "      <td>83311</td>\n",
       "      <td>Bachelors</td>\n",
       "      <td>13</td>\n",
       "      <td>Married-civ-spouse</td>\n",
       "      <td>Exec-managerial</td>\n",
       "      <td>Husband</td>\n",
       "      <td>White</td>\n",
       "      <td>Male</td>\n",
       "      <td>0</td>\n",
       "      <td>0</td>\n",
       "      <td>13</td>\n",
       "      <td>United-States</td>\n",
       "      <td>&lt;=50K</td>\n",
       "    </tr>\n",
       "    <tr>\n",
       "      <th>2</th>\n",
       "      <td>38</td>\n",
       "      <td>Private</td>\n",
       "      <td>215646</td>\n",
       "      <td>HS-grad</td>\n",
       "      <td>9</td>\n",
       "      <td>Divorced</td>\n",
       "      <td>Handlers-cleaners</td>\n",
       "      <td>Not-in-family</td>\n",
       "      <td>White</td>\n",
       "      <td>Male</td>\n",
       "      <td>0</td>\n",
       "      <td>0</td>\n",
       "      <td>40</td>\n",
       "      <td>United-States</td>\n",
       "      <td>&lt;=50K</td>\n",
       "    </tr>\n",
       "    <tr>\n",
       "      <th>3</th>\n",
       "      <td>53</td>\n",
       "      <td>Private</td>\n",
       "      <td>234721</td>\n",
       "      <td>11th</td>\n",
       "      <td>7</td>\n",
       "      <td>Married-civ-spouse</td>\n",
       "      <td>Handlers-cleaners</td>\n",
       "      <td>Husband</td>\n",
       "      <td>Black</td>\n",
       "      <td>Male</td>\n",
       "      <td>0</td>\n",
       "      <td>0</td>\n",
       "      <td>40</td>\n",
       "      <td>United-States</td>\n",
       "      <td>&lt;=50K</td>\n",
       "    </tr>\n",
       "    <tr>\n",
       "      <th>4</th>\n",
       "      <td>28</td>\n",
       "      <td>Private</td>\n",
       "      <td>338409</td>\n",
       "      <td>Bachelors</td>\n",
       "      <td>13</td>\n",
       "      <td>Married-civ-spouse</td>\n",
       "      <td>Prof-specialty</td>\n",
       "      <td>Wife</td>\n",
       "      <td>Black</td>\n",
       "      <td>Female</td>\n",
       "      <td>0</td>\n",
       "      <td>0</td>\n",
       "      <td>40</td>\n",
       "      <td>Cuba</td>\n",
       "      <td>&lt;=50K</td>\n",
       "    </tr>\n",
       "    <tr>\n",
       "      <th>...</th>\n",
       "      <td>...</td>\n",
       "      <td>...</td>\n",
       "      <td>...</td>\n",
       "      <td>...</td>\n",
       "      <td>...</td>\n",
       "      <td>...</td>\n",
       "      <td>...</td>\n",
       "      <td>...</td>\n",
       "      <td>...</td>\n",
       "      <td>...</td>\n",
       "      <td>...</td>\n",
       "      <td>...</td>\n",
       "      <td>...</td>\n",
       "      <td>...</td>\n",
       "      <td>...</td>\n",
       "    </tr>\n",
       "    <tr>\n",
       "      <th>32556</th>\n",
       "      <td>27</td>\n",
       "      <td>Private</td>\n",
       "      <td>257302</td>\n",
       "      <td>Assoc-acdm</td>\n",
       "      <td>12</td>\n",
       "      <td>Married-civ-spouse</td>\n",
       "      <td>Tech-support</td>\n",
       "      <td>Wife</td>\n",
       "      <td>White</td>\n",
       "      <td>Female</td>\n",
       "      <td>0</td>\n",
       "      <td>0</td>\n",
       "      <td>38</td>\n",
       "      <td>United-States</td>\n",
       "      <td>&lt;=50K</td>\n",
       "    </tr>\n",
       "    <tr>\n",
       "      <th>32557</th>\n",
       "      <td>40</td>\n",
       "      <td>Private</td>\n",
       "      <td>154374</td>\n",
       "      <td>HS-grad</td>\n",
       "      <td>9</td>\n",
       "      <td>Married-civ-spouse</td>\n",
       "      <td>Machine-op-inspct</td>\n",
       "      <td>Husband</td>\n",
       "      <td>White</td>\n",
       "      <td>Male</td>\n",
       "      <td>0</td>\n",
       "      <td>0</td>\n",
       "      <td>40</td>\n",
       "      <td>United-States</td>\n",
       "      <td>&gt;50K</td>\n",
       "    </tr>\n",
       "    <tr>\n",
       "      <th>32558</th>\n",
       "      <td>58</td>\n",
       "      <td>Private</td>\n",
       "      <td>151910</td>\n",
       "      <td>HS-grad</td>\n",
       "      <td>9</td>\n",
       "      <td>Widowed</td>\n",
       "      <td>Adm-clerical</td>\n",
       "      <td>Unmarried</td>\n",
       "      <td>White</td>\n",
       "      <td>Female</td>\n",
       "      <td>0</td>\n",
       "      <td>0</td>\n",
       "      <td>40</td>\n",
       "      <td>United-States</td>\n",
       "      <td>&lt;=50K</td>\n",
       "    </tr>\n",
       "    <tr>\n",
       "      <th>32559</th>\n",
       "      <td>22</td>\n",
       "      <td>Private</td>\n",
       "      <td>201490</td>\n",
       "      <td>HS-grad</td>\n",
       "      <td>9</td>\n",
       "      <td>Never-married</td>\n",
       "      <td>Adm-clerical</td>\n",
       "      <td>Own-child</td>\n",
       "      <td>White</td>\n",
       "      <td>Male</td>\n",
       "      <td>0</td>\n",
       "      <td>0</td>\n",
       "      <td>20</td>\n",
       "      <td>United-States</td>\n",
       "      <td>&lt;=50K</td>\n",
       "    </tr>\n",
       "    <tr>\n",
       "      <th>32560</th>\n",
       "      <td>52</td>\n",
       "      <td>Self-emp-inc</td>\n",
       "      <td>287927</td>\n",
       "      <td>HS-grad</td>\n",
       "      <td>9</td>\n",
       "      <td>Married-civ-spouse</td>\n",
       "      <td>Exec-managerial</td>\n",
       "      <td>Wife</td>\n",
       "      <td>White</td>\n",
       "      <td>Female</td>\n",
       "      <td>15024</td>\n",
       "      <td>0</td>\n",
       "      <td>40</td>\n",
       "      <td>United-States</td>\n",
       "      <td>&gt;50K</td>\n",
       "    </tr>\n",
       "  </tbody>\n",
       "</table>\n",
       "<p>32561 rows × 15 columns</p>\n",
       "</div>"
      ],
      "text/plain": [
       "       age          workclass   fnlwgt    education   education-num  \\\n",
       "0       39          State-gov    77516    Bachelors              13   \n",
       "1       50   Self-emp-not-inc    83311    Bachelors              13   \n",
       "2       38            Private   215646      HS-grad               9   \n",
       "3       53            Private   234721         11th               7   \n",
       "4       28            Private   338409    Bachelors              13   \n",
       "...    ...                ...      ...          ...             ...   \n",
       "32556   27            Private   257302   Assoc-acdm              12   \n",
       "32557   40            Private   154374      HS-grad               9   \n",
       "32558   58            Private   151910      HS-grad               9   \n",
       "32559   22            Private   201490      HS-grad               9   \n",
       "32560   52       Self-emp-inc   287927      HS-grad               9   \n",
       "\n",
       "            marital-status          occupation    relationship    race  \\\n",
       "0            Never-married        Adm-clerical   Not-in-family   White   \n",
       "1       Married-civ-spouse     Exec-managerial         Husband   White   \n",
       "2                 Divorced   Handlers-cleaners   Not-in-family   White   \n",
       "3       Married-civ-spouse   Handlers-cleaners         Husband   Black   \n",
       "4       Married-civ-spouse      Prof-specialty            Wife   Black   \n",
       "...                    ...                 ...             ...     ...   \n",
       "32556   Married-civ-spouse        Tech-support            Wife   White   \n",
       "32557   Married-civ-spouse   Machine-op-inspct         Husband   White   \n",
       "32558              Widowed        Adm-clerical       Unmarried   White   \n",
       "32559        Never-married        Adm-clerical       Own-child   White   \n",
       "32560   Married-civ-spouse     Exec-managerial            Wife   White   \n",
       "\n",
       "           sex   capital-gain   capital-loss   hours-per-week  native-country  \\\n",
       "0         Male           2174              0               40   United-States   \n",
       "1         Male              0              0               13   United-States   \n",
       "2         Male              0              0               40   United-States   \n",
       "3         Male              0              0               40   United-States   \n",
       "4       Female              0              0               40            Cuba   \n",
       "...        ...            ...            ...              ...             ...   \n",
       "32556   Female              0              0               38   United-States   \n",
       "32557     Male              0              0               40   United-States   \n",
       "32558   Female              0              0               40   United-States   \n",
       "32559     Male              0              0               20   United-States   \n",
       "32560   Female          15024              0               40   United-States   \n",
       "\n",
       "       income  \n",
       "0       <=50K  \n",
       "1       <=50K  \n",
       "2       <=50K  \n",
       "3       <=50K  \n",
       "4       <=50K  \n",
       "...       ...  \n",
       "32556   <=50K  \n",
       "32557    >50K  \n",
       "32558   <=50K  \n",
       "32559   <=50K  \n",
       "32560    >50K  \n",
       "\n",
       "[32561 rows x 15 columns]"
      ]
     },
     "execution_count": 2,
     "metadata": {},
     "output_type": "execute_result"
    }
   ],
   "source": [
    "df = pd.read_csv('./dsets/income_evaluation.csv')\n",
    "df"
   ]
  },
  {
   "cell_type": "markdown",
   "id": "2b73c92c",
   "metadata": {},
   "source": [
    "14 факторов:\n",
    "- age (возраст)\n",
    "- workclass\n",
    "- fnlwgt\n",
    "- education (образование)\n",
    "- education-num\n",
    "- marital-status (семейное положение)\n",
    "- occupation (профессия)\n",
    "- relationship (отношения)\n",
    "- race (раса)\n",
    "- sex (пол)\n",
    "- capital-gain (прирост капитала)\n",
    "- capital-loss (потеря капитала)\n",
    "- hours-per-week (часы в неделю)\n",
    "- native-country (родная страна)"
   ]
  },
  {
   "cell_type": "code",
   "execution_count": 3,
   "id": "864e0c45",
   "metadata": {},
   "outputs": [
    {
     "name": "stdout",
     "output_type": "stream",
     "text": [
      "<class 'pandas.core.frame.DataFrame'>\n",
      "RangeIndex: 32561 entries, 0 to 32560\n",
      "Data columns (total 15 columns):\n",
      " #   Column           Non-Null Count  Dtype \n",
      "---  ------           --------------  ----- \n",
      " 0   age              32561 non-null  int64 \n",
      " 1    workclass       32561 non-null  object\n",
      " 2    fnlwgt          32561 non-null  int64 \n",
      " 3    education       32561 non-null  object\n",
      " 4    education-num   32561 non-null  int64 \n",
      " 5    marital-status  32561 non-null  object\n",
      " 6    occupation      32561 non-null  object\n",
      " 7    relationship    32561 non-null  object\n",
      " 8    race            32561 non-null  object\n",
      " 9    sex             32561 non-null  object\n",
      " 10   capital-gain    32561 non-null  int64 \n",
      " 11   capital-loss    32561 non-null  int64 \n",
      " 12   hours-per-week  32561 non-null  int64 \n",
      " 13   native-country  32561 non-null  object\n",
      " 14   income          32561 non-null  object\n",
      "dtypes: int64(6), object(9)\n",
      "memory usage: 3.7+ MB\n"
     ]
    }
   ],
   "source": [
    "df.info()"
   ]
  },
  {
   "cell_type": "code",
   "execution_count": 4,
   "id": "ddd2d73e",
   "metadata": {},
   "outputs": [
    {
     "data": {
      "text/html": [
       "<div>\n",
       "<style scoped>\n",
       "    .dataframe tbody tr th:only-of-type {\n",
       "        vertical-align: middle;\n",
       "    }\n",
       "\n",
       "    .dataframe tbody tr th {\n",
       "        vertical-align: top;\n",
       "    }\n",
       "\n",
       "    .dataframe thead th {\n",
       "        text-align: right;\n",
       "    }\n",
       "</style>\n",
       "<table border=\"1\" class=\"dataframe\">\n",
       "  <thead>\n",
       "    <tr style=\"text-align: right;\">\n",
       "      <th></th>\n",
       "      <th>age</th>\n",
       "      <th>fnlwgt</th>\n",
       "      <th>education-num</th>\n",
       "      <th>capital-gain</th>\n",
       "      <th>capital-loss</th>\n",
       "      <th>hours-per-week</th>\n",
       "    </tr>\n",
       "  </thead>\n",
       "  <tbody>\n",
       "    <tr>\n",
       "      <th>count</th>\n",
       "      <td>32561.000000</td>\n",
       "      <td>3.256100e+04</td>\n",
       "      <td>32561.000000</td>\n",
       "      <td>32561.000000</td>\n",
       "      <td>32561.000000</td>\n",
       "      <td>32561.000000</td>\n",
       "    </tr>\n",
       "    <tr>\n",
       "      <th>mean</th>\n",
       "      <td>38.581647</td>\n",
       "      <td>1.897784e+05</td>\n",
       "      <td>10.080679</td>\n",
       "      <td>1077.648844</td>\n",
       "      <td>87.303830</td>\n",
       "      <td>40.437456</td>\n",
       "    </tr>\n",
       "    <tr>\n",
       "      <th>std</th>\n",
       "      <td>13.640433</td>\n",
       "      <td>1.055500e+05</td>\n",
       "      <td>2.572720</td>\n",
       "      <td>7385.292085</td>\n",
       "      <td>402.960219</td>\n",
       "      <td>12.347429</td>\n",
       "    </tr>\n",
       "    <tr>\n",
       "      <th>min</th>\n",
       "      <td>17.000000</td>\n",
       "      <td>1.228500e+04</td>\n",
       "      <td>1.000000</td>\n",
       "      <td>0.000000</td>\n",
       "      <td>0.000000</td>\n",
       "      <td>1.000000</td>\n",
       "    </tr>\n",
       "    <tr>\n",
       "      <th>25%</th>\n",
       "      <td>28.000000</td>\n",
       "      <td>1.178270e+05</td>\n",
       "      <td>9.000000</td>\n",
       "      <td>0.000000</td>\n",
       "      <td>0.000000</td>\n",
       "      <td>40.000000</td>\n",
       "    </tr>\n",
       "    <tr>\n",
       "      <th>50%</th>\n",
       "      <td>37.000000</td>\n",
       "      <td>1.783560e+05</td>\n",
       "      <td>10.000000</td>\n",
       "      <td>0.000000</td>\n",
       "      <td>0.000000</td>\n",
       "      <td>40.000000</td>\n",
       "    </tr>\n",
       "    <tr>\n",
       "      <th>75%</th>\n",
       "      <td>48.000000</td>\n",
       "      <td>2.370510e+05</td>\n",
       "      <td>12.000000</td>\n",
       "      <td>0.000000</td>\n",
       "      <td>0.000000</td>\n",
       "      <td>45.000000</td>\n",
       "    </tr>\n",
       "    <tr>\n",
       "      <th>max</th>\n",
       "      <td>90.000000</td>\n",
       "      <td>1.484705e+06</td>\n",
       "      <td>16.000000</td>\n",
       "      <td>99999.000000</td>\n",
       "      <td>4356.000000</td>\n",
       "      <td>99.000000</td>\n",
       "    </tr>\n",
       "  </tbody>\n",
       "</table>\n",
       "</div>"
      ],
      "text/plain": [
       "                age        fnlwgt   education-num   capital-gain  \\\n",
       "count  32561.000000  3.256100e+04    32561.000000   32561.000000   \n",
       "mean      38.581647  1.897784e+05       10.080679    1077.648844   \n",
       "std       13.640433  1.055500e+05        2.572720    7385.292085   \n",
       "min       17.000000  1.228500e+04        1.000000       0.000000   \n",
       "25%       28.000000  1.178270e+05        9.000000       0.000000   \n",
       "50%       37.000000  1.783560e+05       10.000000       0.000000   \n",
       "75%       48.000000  2.370510e+05       12.000000       0.000000   \n",
       "max       90.000000  1.484705e+06       16.000000   99999.000000   \n",
       "\n",
       "        capital-loss   hours-per-week  \n",
       "count   32561.000000     32561.000000  \n",
       "mean       87.303830        40.437456  \n",
       "std       402.960219        12.347429  \n",
       "min         0.000000         1.000000  \n",
       "25%         0.000000        40.000000  \n",
       "50%         0.000000        40.000000  \n",
       "75%         0.000000        45.000000  \n",
       "max      4356.000000        99.000000  "
      ]
     },
     "execution_count": 4,
     "metadata": {},
     "output_type": "execute_result"
    }
   ],
   "source": [
    "df.describe()"
   ]
  },
  {
   "cell_type": "code",
   "execution_count": 5,
   "id": "c827e77b",
   "metadata": {},
   "outputs": [
    {
     "name": "stdout",
     "output_type": "stream",
     "text": [
      " workclass => [' State-gov' ' Self-emp-not-inc' ' Private' ' Federal-gov' ' Local-gov'\n",
      " ' ?' ' Self-emp-inc' ' Without-pay' ' Never-worked'] \n",
      "\n",
      " education => [' Bachelors' ' HS-grad' ' 11th' ' Masters' ' 9th' ' Some-college'\n",
      " ' Assoc-acdm' ' Assoc-voc' ' 7th-8th' ' Doctorate' ' Prof-school'\n",
      " ' 5th-6th' ' 10th' ' 1st-4th' ' Preschool' ' 12th'] \n",
      "\n",
      " marital-status => [' Never-married' ' Married-civ-spouse' ' Divorced'\n",
      " ' Married-spouse-absent' ' Separated' ' Married-AF-spouse' ' Widowed'] \n",
      "\n",
      " occupation => [' Adm-clerical' ' Exec-managerial' ' Handlers-cleaners' ' Prof-specialty'\n",
      " ' Other-service' ' Sales' ' Craft-repair' ' Transport-moving'\n",
      " ' Farming-fishing' ' Machine-op-inspct' ' Tech-support' ' ?'\n",
      " ' Protective-serv' ' Armed-Forces' ' Priv-house-serv'] \n",
      "\n",
      " relationship => [' Not-in-family' ' Husband' ' Wife' ' Own-child' ' Unmarried'\n",
      " ' Other-relative'] \n",
      "\n",
      " race => [' White' ' Black' ' Asian-Pac-Islander' ' Amer-Indian-Eskimo' ' Other'] \n",
      "\n",
      " sex => [' Male' ' Female'] \n",
      "\n",
      " native-country => [' United-States' ' Cuba' ' Jamaica' ' India' ' ?' ' Mexico' ' South'\n",
      " ' Puerto-Rico' ' Honduras' ' England' ' Canada' ' Germany' ' Iran'\n",
      " ' Philippines' ' Italy' ' Poland' ' Columbia' ' Cambodia' ' Thailand'\n",
      " ' Ecuador' ' Laos' ' Taiwan' ' Haiti' ' Portugal' ' Dominican-Republic'\n",
      " ' El-Salvador' ' France' ' Guatemala' ' China' ' Japan' ' Yugoslavia'\n",
      " ' Peru' ' Outlying-US(Guam-USVI-etc)' ' Scotland' ' Trinadad&Tobago'\n",
      " ' Greece' ' Nicaragua' ' Vietnam' ' Hong' ' Ireland' ' Hungary'\n",
      " ' Holand-Netherlands'] \n",
      "\n",
      " income => [' <=50K' ' >50K'] \n",
      "\n"
     ]
    }
   ],
   "source": [
    "categorical_cols = df.columns[df.dtypes == object]\n",
    "for s in categorical_cols:\n",
    "    print(s, '=>', df[s].unique(), '\\n')"
   ]
  },
  {
   "cell_type": "markdown",
   "id": "8c71ca07",
   "metadata": {},
   "source": [
    "В данной работе целевой переменной определим income, а именно будем определять, зарабатывает ли человек более 50 тысяч в год. Бинарная классификация. "
   ]
  },
  {
   "cell_type": "code",
   "execution_count": 6,
   "id": "66519bd7",
   "metadata": {},
   "outputs": [
    {
     "data": {
      "text/plain": [
       "(32561, 15)"
      ]
     },
     "execution_count": 6,
     "metadata": {},
     "output_type": "execute_result"
    }
   ],
   "source": [
    "df.shape"
   ]
  },
  {
   "cell_type": "markdown",
   "id": "2755871d",
   "metadata": {},
   "source": [
    "Датасет состоит из 15 колонок - 14 признака и 1 целевая переменная и 32561 строки."
   ]
  },
  {
   "cell_type": "markdown",
   "id": "b84c8a49",
   "metadata": {},
   "source": [
    "## Анализ данных"
   ]
  },
  {
   "cell_type": "markdown",
   "id": "2fcd4942",
   "metadata": {},
   "source": [
    "Проверка полноты данных (обработка нулевых значений)"
   ]
  },
  {
   "cell_type": "code",
   "execution_count": 7,
   "id": "8272e98d",
   "metadata": {},
   "outputs": [
    {
     "data": {
      "text/plain": [
       "age                0\n",
       " workclass         0\n",
       " fnlwgt            0\n",
       " education         0\n",
       " education-num     0\n",
       " marital-status    0\n",
       " occupation        0\n",
       " relationship      0\n",
       " race              0\n",
       " sex               0\n",
       " capital-gain      0\n",
       " capital-loss      0\n",
       " hours-per-week    0\n",
       " native-country    0\n",
       " income            0\n",
       "dtype: int64"
      ]
     },
     "execution_count": 7,
     "metadata": {},
     "output_type": "execute_result"
    }
   ],
   "source": [
    "df.isnull().sum() #никакие данные не пропущены"
   ]
  },
  {
   "cell_type": "code",
   "execution_count": null,
   "id": "5e5a368a",
   "metadata": {},
   "outputs": [],
   "source": []
  },
  {
   "cell_type": "markdown",
   "id": "f3257384",
   "metadata": {},
   "source": [
    "Распределение целевой переменной"
   ]
  },
  {
   "cell_type": "code",
   "execution_count": 8,
   "id": "d3eb6ec9",
   "metadata": {},
   "outputs": [],
   "source": [
    "df.columns = df.columns.str.replace(' ', '')\n",
    "\n",
    "for col in df.columns[df.dtypes == object]:\n",
    "    df[col] = df[col].str.strip()"
   ]
  },
  {
   "cell_type": "code",
   "execution_count": 9,
   "id": "2033e6e1",
   "metadata": {},
   "outputs": [
    {
     "data": {
      "text/plain": [
       "<=50K    24720\n",
       ">50K      7841\n",
       "Name: income, dtype: int64"
      ]
     },
     "execution_count": 9,
     "metadata": {},
     "output_type": "execute_result"
    }
   ],
   "source": [
    "df['income'].value_counts()"
   ]
  },
  {
   "cell_type": "code",
   "execution_count": 10,
   "id": "c9a4e2c2",
   "metadata": {},
   "outputs": [
    {
     "data": {
      "text/plain": [
       "<AxesSubplot:>"
      ]
     },
     "execution_count": 10,
     "metadata": {},
     "output_type": "execute_result"
    },
    {
     "data": {
      "image/png": "[encoded data removed]",
      "text/plain": [
       "<Figure size 432x288 with 1 Axes>"
      ]
     },
     "metadata": {
      "needs_background": "light"
     },
     "output_type": "display_data"
    }
   ],
   "source": [
    "df['income'].hist() # людей, чей доход меньше 50к значительно больше"
   ]
  },
  {
   "cell_type": "code",
   "execution_count": 11,
   "id": "4bdd6a69",
   "metadata": {},
   "outputs": [
    {
     "data": {
      "text/plain": [
       "Index(['age', 'workclass', 'fnlwgt', 'education', 'education-num',\n",
       "       'marital-status', 'occupation', 'relationship', 'race', 'sex',\n",
       "       'capital-gain', 'capital-loss', 'hours-per-week', 'native-country',\n",
       "       'income'],\n",
       "      dtype='object')"
      ]
     },
     "execution_count": 11,
     "metadata": {},
     "output_type": "execute_result"
    }
   ],
   "source": [
    "df.columns"
   ]
  },
  {
   "cell_type": "code",
   "execution_count": 12,
   "id": "1df7aedc",
   "metadata": {},
   "outputs": [],
   "source": [
    "def Bar_4(x):\n",
    "    plt.figure(figsize=(18,8))\n",
    "    plt.subplot(2,2,1)\n",
    "    sns.countplot(df[x[0]])\n",
    "\n",
    "    plt.subplot(2,2,2)\n",
    "    sns.countplot(df[x[1]])\n",
    "\n",
    "    plt.subplot(2,2,3)\n",
    "    sns.countplot(df[x[2]])\n",
    "\n",
    "    \n",
    "    plt.subplot(2,2,4)\n",
    "    sns.countplot(df[x[3]])\n",
    "\n",
    "def Bar_6(x):\n",
    "    plt.figure(figsize=(18,12))\n",
    "    plt.subplot(3,2,1)\n",
    "    sns.countplot(df[x[0]])\n",
    "\n",
    "    plt.subplot(3,2,2)\n",
    "    sns.countplot(df[x[1]])\n",
    "\n",
    "    plt.subplot(3,2,3)\n",
    "    sns.countplot(df[x[2]])\n",
    "\n",
    "    plt.subplot(3,2,4)\n",
    "    sns.countplot(df[x[3]])\n",
    "    \n",
    "    plt.subplot(3,2,5)\n",
    "    sns.countplot(df[x[4]])\n",
    "    \n",
    "    plt.subplot(3,2,6)\n",
    "    sns.countplot(df[x[5]])"
   ]
  },
  {
   "cell_type": "code",
   "execution_count": 13,
   "id": "0855bacf",
   "metadata": {},
   "outputs": [
    {
     "data": {
      "text/plain": [
       "<AxesSubplot:xlabel='age', ylabel='count'>"
      ]
     },
     "execution_count": 13,
     "metadata": {},
     "output_type": "execute_result"
    },
    {
     "data": {
      "image/png": "[encoded data removed]",
      "text/plain": [
       "<Figure size 1296x576 with 1 Axes>"
      ]
     },
     "metadata": {
      "needs_background": "light"
     },
     "output_type": "display_data"
    }
   ],
   "source": [
    "plt.figure(figsize=(18,8))\n",
    "sns.countplot(df['age'])"
   ]
  },
  {
   "cell_type": "code",
   "execution_count": 14,
   "id": "aabab8c4",
   "metadata": {},
   "outputs": [
    {
     "data": {
      "text/plain": [
       "<AxesSubplot:xlabel='occupation', ylabel='count'>"
      ]
     },
     "execution_count": 14,
     "metadata": {},
     "output_type": "execute_result"
    },
    {
     "data": {
      "image/png": "[encoded data removed]",
      "text/plain": [
       "<Figure size 1296x576 with 1 Axes>"
      ]
     },
     "metadata": {
      "needs_background": "light"
     },
     "output_type": "display_data"
    }
   ],
   "source": [
    "plt.figure(figsize=(18,8))\n",
    "sns.countplot(df['occupation'])"
   ]
  },
  {
   "cell_type": "code",
   "execution_count": 15,
   "id": "9612739b",
   "metadata": {},
   "outputs": [
    {
     "data": {
      "text/plain": [
       "<AxesSubplot:xlabel='education', ylabel='count'>"
      ]
     },
     "execution_count": 15,
     "metadata": {},
     "output_type": "execute_result"
    },
    {
     "data": {
      "image/png": "[encoded data removed]",
      "text/plain": [
       "<Figure size 1296x576 with 1 Axes>"
      ]
     },
     "metadata": {
      "needs_background": "light"
     },
     "output_type": "display_data"
    }
   ],
   "source": [
    "plt.figure(figsize=(18,8))\n",
    "sns.countplot(df['education'])"
   ]
  },
  {
   "cell_type": "code",
   "execution_count": 16,
   "id": "3f9d0038",
   "metadata": {},
   "outputs": [
    {
     "data": {
      "image/png": "[encoded data removed]",
      "text/plain": [
       "<Figure size 1296x576 with 4 Axes>"
      ]
     },
     "metadata": {
      "needs_background": "light"
     },
     "output_type": "display_data"
    }
   ],
   "source": [
    "Bar_4(['education-num', 'relationship', 'race', 'sex'])"
   ]
  },
  {
   "cell_type": "code",
   "execution_count": 17,
   "id": "8df7baed",
   "metadata": {},
   "outputs": [],
   "source": [
    "# plt.figure(figsize=(18,8))\n",
    "# sns.countplot(df['fnlwgt'])"
   ]
  },
  {
   "cell_type": "code",
   "execution_count": 18,
   "id": "a9b53931",
   "metadata": {},
   "outputs": [
    {
     "data": {
      "image/png": "[encoded data removed]",
      "text/plain": [
       "<Figure size 1296x864 with 6 Axes>"
      ]
     },
     "metadata": {
      "needs_background": "light"
     },
     "output_type": "display_data"
    }
   ],
   "source": [
    "Bar_6(['marital-status','capital-gain', 'capital-loss', 'hours-per-week', 'native-country','workclass'])"
   ]
  },
  {
   "cell_type": "code",
   "execution_count": 19,
   "id": "fe2e2a0d",
   "metadata": {},
   "outputs": [
    {
     "name": "stdout",
     "output_type": "stream",
     "text": [
      "workclass => ['State-gov' 'Self-emp-not-inc' 'Private' 'Federal-gov' 'Local-gov' '?'\n",
      " 'Self-emp-inc' 'Without-pay' 'Never-worked'] \n",
      "\n",
      "education => ['Bachelors' 'HS-grad' '11th' 'Masters' '9th' 'Some-college' 'Assoc-acdm'\n",
      " 'Assoc-voc' '7th-8th' 'Doctorate' 'Prof-school' '5th-6th' '10th'\n",
      " '1st-4th' 'Preschool' '12th'] \n",
      "\n",
      "marital-status => ['Never-married' 'Married-civ-spouse' 'Divorced' 'Married-spouse-absent'\n",
      " 'Separated' 'Married-AF-spouse' 'Widowed'] \n",
      "\n",
      "occupation => ['Adm-clerical' 'Exec-managerial' 'Handlers-cleaners' 'Prof-specialty'\n",
      " 'Other-service' 'Sales' 'Craft-repair' 'Transport-moving'\n",
      " 'Farming-fishing' 'Machine-op-inspct' 'Tech-support' '?'\n",
      " 'Protective-serv' 'Armed-Forces' 'Priv-house-serv'] \n",
      "\n",
      "relationship => ['Not-in-family' 'Husband' 'Wife' 'Own-child' 'Unmarried' 'Other-relative'] \n",
      "\n",
      "race => ['White' 'Black' 'Asian-Pac-Islander' 'Amer-Indian-Eskimo' 'Other'] \n",
      "\n",
      "sex => ['Male' 'Female'] \n",
      "\n",
      "native-country => ['United-States' 'Cuba' 'Jamaica' 'India' '?' 'Mexico' 'South'\n",
      " 'Puerto-Rico' 'Honduras' 'England' 'Canada' 'Germany' 'Iran'\n",
      " 'Philippines' 'Italy' 'Poland' 'Columbia' 'Cambodia' 'Thailand' 'Ecuador'\n",
      " 'Laos' 'Taiwan' 'Haiti' 'Portugal' 'Dominican-Republic' 'El-Salvador'\n",
      " 'France' 'Guatemala' 'China' 'Japan' 'Yugoslavia' 'Peru'\n",
      " 'Outlying-US(Guam-USVI-etc)' 'Scotland' 'Trinadad&Tobago' 'Greece'\n",
      " 'Nicaragua' 'Vietnam' 'Hong' 'Ireland' 'Hungary' 'Holand-Netherlands'] \n",
      "\n",
      "income => ['<=50K' '>50K'] \n",
      "\n"
     ]
    }
   ],
   "source": [
    "categorical_cols = df.columns[df.dtypes == object]\n",
    "for s in categorical_cols:\n",
    "    print(s, '=>', df[s].unique(), '\\n')\n",
    "\n",
    "# df[categorical_cols].apply(lambda s: s.unique())"
   ]
  },
  {
   "cell_type": "markdown",
   "id": "1beb4854",
   "metadata": {},
   "source": [
    "буду считать, что '?' это пропущенные значения"
   ]
  },
  {
   "cell_type": "code",
   "execution_count": 20,
   "id": "5d69c6ae",
   "metadata": {},
   "outputs": [
    {
     "name": "stdout",
     "output_type": "stream",
     "text": [
      "workclass => ['State-gov' 'Self-emp-not-inc' 'Private' 'Federal-gov' 'Local-gov' nan\n",
      " 'Self-emp-inc' 'Without-pay' 'Never-worked'] \n",
      "\n",
      "education => ['Bachelors' 'HS-grad' '11th' 'Masters' '9th' 'Some-college' 'Assoc-acdm'\n",
      " 'Assoc-voc' '7th-8th' 'Doctorate' 'Prof-school' '5th-6th' '10th'\n",
      " '1st-4th' 'Preschool' '12th'] \n",
      "\n",
      "marital-status => ['Never-married' 'Married-civ-spouse' 'Divorced' 'Married-spouse-absent'\n",
      " 'Separated' 'Married-AF-spouse' 'Widowed'] \n",
      "\n",
      "occupation => ['Adm-clerical' 'Exec-managerial' 'Handlers-cleaners' 'Prof-specialty'\n",
      " 'Other-service' 'Sales' 'Craft-repair' 'Transport-moving'\n",
      " 'Farming-fishing' 'Machine-op-inspct' 'Tech-support' nan\n",
      " 'Protective-serv' 'Armed-Forces' 'Priv-house-serv'] \n",
      "\n",
      "relationship => ['Not-in-family' 'Husband' 'Wife' 'Own-child' 'Unmarried' 'Other-relative'] \n",
      "\n",
      "race => ['White' 'Black' 'Asian-Pac-Islander' 'Amer-Indian-Eskimo' 'Other'] \n",
      "\n",
      "sex => ['Male' 'Female'] \n",
      "\n",
      "native-country => ['United-States' 'Cuba' 'Jamaica' 'India' nan 'Mexico' 'South'\n",
      " 'Puerto-Rico' 'Honduras' 'England' 'Canada' 'Germany' 'Iran'\n",
      " 'Philippines' 'Italy' 'Poland' 'Columbia' 'Cambodia' 'Thailand' 'Ecuador'\n",
      " 'Laos' 'Taiwan' 'Haiti' 'Portugal' 'Dominican-Republic' 'El-Salvador'\n",
      " 'France' 'Guatemala' 'China' 'Japan' 'Yugoslavia' 'Peru'\n",
      " 'Outlying-US(Guam-USVI-etc)' 'Scotland' 'Trinadad&Tobago' 'Greece'\n",
      " 'Nicaragua' 'Vietnam' 'Hong' 'Ireland' 'Hungary' 'Holand-Netherlands'] \n",
      "\n",
      "income => ['<=50K' '>50K'] \n",
      "\n"
     ]
    }
   ],
   "source": [
    "df.replace('?',np.nan,inplace=True)\n",
    "\n",
    "\n",
    "categorical_cols = df.columns[df.dtypes == object]\n",
    "for s in categorical_cols:\n",
    "    print(s, '=>', df[s].unique(), '\\n')"
   ]
  },
  {
   "cell_type": "code",
   "execution_count": 21,
   "id": "914c82af",
   "metadata": {},
   "outputs": [
    {
     "data": {
      "text/plain": [
       "<AxesSubplot:>"
      ]
     },
     "execution_count": 21,
     "metadata": {},
     "output_type": "execute_result"
    },
    {
     "data": {
      "image/png": "[encoded data removed]",
      "text/plain": [
       "<Figure size 864x360 with 2 Axes>"
      ]
     },
     "metadata": {
      "needs_background": "light"
     },
     "output_type": "display_data"
    }
   ],
   "source": [
    "plt.figure(figsize=(12,5))\n",
    "colours = ['#000099', '#ffff00'] \n",
    "sns.heatmap(df[categorical_cols].isnull(), cmap=sns.color_palette(colours))"
   ]
  },
  {
   "cell_type": "code",
   "execution_count": 22,
   "id": "4c2c6b1f",
   "metadata": {},
   "outputs": [
    {
     "data": {
      "text/plain": [
       "(30162, 15)"
      ]
     },
     "execution_count": 22,
     "metadata": {},
     "output_type": "execute_result"
    }
   ],
   "source": [
    "df.dropna(inplace=True)\n",
    "df.shape"
   ]
  },
  {
   "cell_type": "code",
   "execution_count": 23,
   "id": "6c65b54a",
   "metadata": {},
   "outputs": [
    {
     "name": "stdout",
     "output_type": "stream",
     "text": [
      "workclass => ['State-gov' 'Self-emp-not-inc' 'Private' 'Federal-gov' 'Local-gov'\n",
      " 'Self-emp-inc' 'Without-pay'] \n",
      "\n",
      "education => ['Bachelors' 'HS-grad' '11th' 'Masters' '9th' 'Some-college' 'Assoc-acdm'\n",
      " '7th-8th' 'Doctorate' 'Assoc-voc' 'Prof-school' '5th-6th' '10th'\n",
      " 'Preschool' '12th' '1st-4th'] \n",
      "\n",
      "marital-status => ['Never-married' 'Married-civ-spouse' 'Divorced' 'Married-spouse-absent'\n",
      " 'Separated' 'Married-AF-spouse' 'Widowed'] \n",
      "\n",
      "occupation => ['Adm-clerical' 'Exec-managerial' 'Handlers-cleaners' 'Prof-specialty'\n",
      " 'Other-service' 'Sales' 'Transport-moving' 'Farming-fishing'\n",
      " 'Machine-op-inspct' 'Tech-support' 'Craft-repair' 'Protective-serv'\n",
      " 'Armed-Forces' 'Priv-house-serv'] \n",
      "\n",
      "relationship => ['Not-in-family' 'Husband' 'Wife' 'Own-child' 'Unmarried' 'Other-relative'] \n",
      "\n",
      "race => ['White' 'Black' 'Asian-Pac-Islander' 'Amer-Indian-Eskimo' 'Other'] \n",
      "\n",
      "sex => ['Male' 'Female'] \n",
      "\n",
      "native-country => ['United-States' 'Cuba' 'Jamaica' 'India' 'Mexico' 'Puerto-Rico'\n",
      " 'Honduras' 'England' 'Canada' 'Germany' 'Iran' 'Philippines' 'Poland'\n",
      " 'Columbia' 'Cambodia' 'Thailand' 'Ecuador' 'Laos' 'Taiwan' 'Haiti'\n",
      " 'Portugal' 'Dominican-Republic' 'El-Salvador' 'France' 'Guatemala'\n",
      " 'Italy' 'China' 'South' 'Japan' 'Yugoslavia' 'Peru'\n",
      " 'Outlying-US(Guam-USVI-etc)' 'Scotland' 'Trinadad&Tobago' 'Greece'\n",
      " 'Nicaragua' 'Vietnam' 'Hong' 'Ireland' 'Hungary' 'Holand-Netherlands'] \n",
      "\n",
      "income => ['<=50K' '>50K'] \n",
      "\n"
     ]
    }
   ],
   "source": [
    "categorical_cols = df.columns[df.dtypes == object]\n",
    "for s in categorical_cols:\n",
    "    print(s, '=>', df[s].unique(), '\\n')"
   ]
  },
  {
   "cell_type": "markdown",
   "id": "c31410e8",
   "metadata": {},
   "source": [
    "Обратим внимание на education и education-num. По факту, это одно и тоже, поэтому один из параметров можно убрать. "
   ]
  },
  {
   "cell_type": "code",
   "execution_count": 24,
   "id": "e2759ec7",
   "metadata": {},
   "outputs": [],
   "source": [
    "df = df.drop('education-num', axis=1)"
   ]
  },
  {
   "cell_type": "markdown",
   "id": "cc158f8c",
   "metadata": {},
   "source": [
    "Обратим внимание на fnlwgt. Он бессмысленен, поэтому его тоже убираем"
   ]
  },
  {
   "cell_type": "code",
   "execution_count": 25,
   "id": "1f0794d6",
   "metadata": {},
   "outputs": [],
   "source": [
    "df.drop([\"fnlwgt\"],axis=1,inplace=True)"
   ]
  },
  {
   "cell_type": "code",
   "execution_count": null,
   "id": "dc5d0e4c",
   "metadata": {},
   "outputs": [],
   "source": []
  },
  {
   "cell_type": "code",
   "execution_count": 26,
   "id": "1e9f9bb5",
   "metadata": {},
   "outputs": [
    {
     "data": {
      "image/png": "[encoded data removed]",
      "text/plain": [
       "<Figure size 720x360 with 1 Axes>"
      ]
     },
     "metadata": {
      "needs_background": "light"
     },
     "output_type": "display_data"
    }
   ],
   "source": [
    "plt.figure(figsize=(10,5))\n",
    "series1 = df[df['income'] == '<=50K'].age\n",
    "series2 = df[df['income'] == '>50K'].age\n",
    "plt.hist(series1, label='<=50K', alpha=.8, edgecolor='red')\n",
    "plt.hist(series2, label='>50K', alpha=0.7, edgecolor='yellow')\n",
    "plt.legend()\n",
    "plt.show()"
   ]
  },
  {
   "cell_type": "code",
   "execution_count": 27,
   "id": "23400dab",
   "metadata": {},
   "outputs": [
    {
     "data": {
      "image/png": "[encoded data removed]",
      "text/plain": [
       "<Figure size 720x360 with 1 Axes>"
      ]
     },
     "metadata": {
      "needs_background": "light"
     },
     "output_type": "display_data"
    }
   ],
   "source": [
    "plt.figure(figsize=(10,5))\n",
    "series1 = df[df['income'] == '<=50K'].sex\n",
    "series2 = df[df['income'] == '>50K'].sex\n",
    "plt.hist(series1, label='<=50K', alpha=.8, edgecolor='red')\n",
    "plt.hist(series2, label='>50K', alpha=0.7, edgecolor='yellow')\n",
    "plt.legend()\n",
    "plt.show()"
   ]
  },
  {
   "cell_type": "markdown",
   "id": "3836ab2a",
   "metadata": {},
   "source": [
    "Удалим выбросы"
   ]
  },
  {
   "cell_type": "code",
   "execution_count": 28,
   "id": "753e4c15",
   "metadata": {},
   "outputs": [
    {
     "data": {
      "text/html": [
       "<div>\n",
       "<style scoped>\n",
       "    .dataframe tbody tr th:only-of-type {\n",
       "        vertical-align: middle;\n",
       "    }\n",
       "\n",
       "    .dataframe tbody tr th {\n",
       "        vertical-align: top;\n",
       "    }\n",
       "\n",
       "    .dataframe thead th {\n",
       "        text-align: right;\n",
       "    }\n",
       "</style>\n",
       "<table border=\"1\" class=\"dataframe\">\n",
       "  <thead>\n",
       "    <tr style=\"text-align: right;\">\n",
       "      <th></th>\n",
       "      <th>age</th>\n",
       "      <th>capital-gain</th>\n",
       "      <th>capital-loss</th>\n",
       "      <th>hours-per-week</th>\n",
       "    </tr>\n",
       "  </thead>\n",
       "  <tbody>\n",
       "    <tr>\n",
       "      <th>count</th>\n",
       "      <td>30162.000000</td>\n",
       "      <td>30162.000000</td>\n",
       "      <td>30162.000000</td>\n",
       "      <td>30162.000000</td>\n",
       "    </tr>\n",
       "    <tr>\n",
       "      <th>mean</th>\n",
       "      <td>38.437902</td>\n",
       "      <td>1092.007858</td>\n",
       "      <td>88.372489</td>\n",
       "      <td>40.931238</td>\n",
       "    </tr>\n",
       "    <tr>\n",
       "      <th>std</th>\n",
       "      <td>13.134665</td>\n",
       "      <td>7406.346497</td>\n",
       "      <td>404.298370</td>\n",
       "      <td>11.979984</td>\n",
       "    </tr>\n",
       "    <tr>\n",
       "      <th>min</th>\n",
       "      <td>17.000000</td>\n",
       "      <td>0.000000</td>\n",
       "      <td>0.000000</td>\n",
       "      <td>1.000000</td>\n",
       "    </tr>\n",
       "    <tr>\n",
       "      <th>25%</th>\n",
       "      <td>28.000000</td>\n",
       "      <td>0.000000</td>\n",
       "      <td>0.000000</td>\n",
       "      <td>40.000000</td>\n",
       "    </tr>\n",
       "    <tr>\n",
       "      <th>50%</th>\n",
       "      <td>37.000000</td>\n",
       "      <td>0.000000</td>\n",
       "      <td>0.000000</td>\n",
       "      <td>40.000000</td>\n",
       "    </tr>\n",
       "    <tr>\n",
       "      <th>75%</th>\n",
       "      <td>47.000000</td>\n",
       "      <td>0.000000</td>\n",
       "      <td>0.000000</td>\n",
       "      <td>45.000000</td>\n",
       "    </tr>\n",
       "    <tr>\n",
       "      <th>max</th>\n",
       "      <td>90.000000</td>\n",
       "      <td>99999.000000</td>\n",
       "      <td>4356.000000</td>\n",
       "      <td>99.000000</td>\n",
       "    </tr>\n",
       "  </tbody>\n",
       "</table>\n",
       "</div>"
      ],
      "text/plain": [
       "                age  capital-gain  capital-loss  hours-per-week\n",
       "count  30162.000000  30162.000000  30162.000000    30162.000000\n",
       "mean      38.437902   1092.007858     88.372489       40.931238\n",
       "std       13.134665   7406.346497    404.298370       11.979984\n",
       "min       17.000000      0.000000      0.000000        1.000000\n",
       "25%       28.000000      0.000000      0.000000       40.000000\n",
       "50%       37.000000      0.000000      0.000000       40.000000\n",
       "75%       47.000000      0.000000      0.000000       45.000000\n",
       "max       90.000000  99999.000000   4356.000000       99.000000"
      ]
     },
     "execution_count": 28,
     "metadata": {},
     "output_type": "execute_result"
    }
   ],
   "source": [
    "df.describe()"
   ]
  },
  {
   "cell_type": "code",
   "execution_count": 29,
   "id": "07029d34",
   "metadata": {},
   "outputs": [
    {
     "name": "stdout",
     "output_type": "stream",
     "text": [
      "<class 'pandas.core.frame.DataFrame'>\n",
      "Int64Index: 30162 entries, 0 to 32560\n",
      "Data columns (total 13 columns):\n",
      " #   Column          Non-Null Count  Dtype \n",
      "---  ------          --------------  ----- \n",
      " 0   age             30162 non-null  int64 \n",
      " 1   workclass       30162 non-null  object\n",
      " 2   education       30162 non-null  object\n",
      " 3   marital-status  30162 non-null  object\n",
      " 4   occupation      30162 non-null  object\n",
      " 5   relationship    30162 non-null  object\n",
      " 6   race            30162 non-null  object\n",
      " 7   sex             30162 non-null  object\n",
      " 8   capital-gain    30162 non-null  int64 \n",
      " 9   capital-loss    30162 non-null  int64 \n",
      " 10  hours-per-week  30162 non-null  int64 \n",
      " 11  native-country  30162 non-null  object\n",
      " 12  income          30162 non-null  object\n",
      "dtypes: int64(4), object(9)\n",
      "memory usage: 3.2+ MB\n"
     ]
    }
   ],
   "source": [
    "df.info()"
   ]
  },
  {
   "cell_type": "code",
   "execution_count": 30,
   "id": "68d86c1d",
   "metadata": {},
   "outputs": [],
   "source": [
    "def Boxplot_4(x):\n",
    "    plt.figure(figsize=(18,8))\n",
    "    plt.subplot(2,2,1)\n",
    "    sns.boxplot(df[x[0]])\n",
    "\n",
    "    plt.subplot(2,2,2)\n",
    "    sns.boxplot(df[x[1]])\n",
    "\n",
    "    plt.subplot(2,2,3)\n",
    "    sns.boxplot(df[x[2]])\n",
    "\n",
    "    \n",
    "    plt.subplot(2,2,4)\n",
    "    sns.boxplot(df[x[3]])"
   ]
  },
  {
   "cell_type": "code",
   "execution_count": 31,
   "id": "e6318fbf",
   "metadata": {},
   "outputs": [
    {
     "data": {
      "image/png": "[encoded data removed]",
      "text/plain": [
       "<Figure size 1296x576 with 4 Axes>"
      ]
     },
     "metadata": {
      "needs_background": "light"
     },
     "output_type": "display_data"
    }
   ],
   "source": [
    "Boxplot_4(df.columns[df.dtypes == int])"
   ]
  },
  {
   "cell_type": "code",
   "execution_count": 32,
   "id": "d563d6a5",
   "metadata": {},
   "outputs": [
    {
     "data": {
      "text/plain": [
       "<AxesSubplot:>"
      ]
     },
     "execution_count": 32,
     "metadata": {},
     "output_type": "execute_result"
    },
    {
     "data": {
      "image/png": "[encoded data removed]",
      "text/plain": [
       "<Figure size 432x288 with 1 Axes>"
      ]
     },
     "metadata": {
      "needs_background": "light"
     },
     "output_type": "display_data"
    }
   ],
   "source": [
    "сol_ = \"age\"\n",
    "q_hi  = df[сol_].quantile(0.99)\n",
    "q_low = df[сol_].quantile(0.01)\n",
    "df = df[(df[сol_] < q_hi) & (df[сol_] > q_low)]\n",
    "df.boxplot(column=сol_)"
   ]
  },
  {
   "cell_type": "code",
   "execution_count": 33,
   "id": "358fb196",
   "metadata": {},
   "outputs": [
    {
     "data": {
      "text/plain": [
       "<AxesSubplot:>"
      ]
     },
     "execution_count": 33,
     "metadata": {},
     "output_type": "execute_result"
    },
    {
     "data": {
      "image/png": "[encoded data removed]",
      "text/plain": [
       "<Figure size 432x288 with 1 Axes>"
      ]
     },
     "metadata": {
      "needs_background": "light"
     },
     "output_type": "display_data"
    }
   ],
   "source": [
    "сol_ = \"hours-per-week\"\n",
    "q_hi  = df[сol_].quantile(0.95)\n",
    "q_low = df[сol_].quantile(0.05)\n",
    "df = df[(df[сol_] < q_hi) & (df[сol_] > q_low)]\n",
    "df.boxplot(column=сol_)"
   ]
  },
  {
   "cell_type": "code",
   "execution_count": 34,
   "id": "3c91a75c",
   "metadata": {},
   "outputs": [],
   "source": [
    "# # capital-loss\n",
    "# сol_ = \"capital-gain\"\n",
    "# q_hi  = df[сol_].quantile(0.95)\n",
    "# q_low = df[сol_].quantile(0.05)\n",
    "# df = df[(df[сol_] < q_hi) & (df[сol_] > q_low)]\n",
    "# df.boxplot(column=сol_)"
   ]
  },
  {
   "cell_type": "code",
   "execution_count": 35,
   "id": "dc24399b",
   "metadata": {},
   "outputs": [
    {
     "data": {
      "image/png": "[encoded data removed]",
      "text/plain": [
       "<Figure size 1296x576 with 4 Axes>"
      ]
     },
     "metadata": {
      "needs_background": "light"
     },
     "output_type": "display_data"
    }
   ],
   "source": [
    "Boxplot_4(df.columns[df.dtypes == int])"
   ]
  },
  {
   "cell_type": "code",
   "execution_count": 36,
   "id": "8231a4a1",
   "metadata": {},
   "outputs": [],
   "source": [
    "def kdeplot_4(x):\n",
    "    plt.figure(figsize=(18,8))\n",
    "    plt.subplot(2,2,1)\n",
    "    sns.kdeplot(x=df[df['income'] == '<=50K'][x[0]], \n",
    "                    shade = True)\n",
    "\n",
    "    plt.subplot(2,2,2)\n",
    "    sns.kdeplot(x=df[df['income'] == '>50K'][x[0]], \n",
    "                    shade = True)\n",
    "\n",
    "    plt.subplot(2,2,3)\n",
    "    sns.kdeplot(x=df[df['income'] == '<=50K'][x[1]], \n",
    "                    shade = True)\n",
    "\n",
    "    plt.subplot(2,2,4)\n",
    "    sns.kdeplot(x=df[df['income'] == '>50K'][x[1]], \n",
    "                    shade = True)"
   ]
  },
  {
   "cell_type": "code",
   "execution_count": 37,
   "id": "cd66b32c",
   "metadata": {},
   "outputs": [
    {
     "data": {
      "image/png": "[encoded data removed]",
      "text/plain": [
       "<Figure size 1296x576 with 4 Axes>"
      ]
     },
     "metadata": {
      "needs_background": "light"
     },
     "output_type": "display_data"
    }
   ],
   "source": [
    "kdeplot_4(['capital-gain', 'capital-loss'])"
   ]
  },
  {
   "cell_type": "code",
   "execution_count": 38,
   "id": "b7d79d3d",
   "metadata": {},
   "outputs": [
    {
     "name": "stdout",
     "output_type": "stream",
     "text": [
      "<class 'pandas.core.frame.DataFrame'>\n",
      "Int64Index: 25037 entries, 0 to 32560\n",
      "Data columns (total 13 columns):\n",
      " #   Column          Non-Null Count  Dtype \n",
      "---  ------          --------------  ----- \n",
      " 0   age             25037 non-null  int64 \n",
      " 1   workclass       25037 non-null  object\n",
      " 2   education       25037 non-null  object\n",
      " 3   marital-status  25037 non-null  object\n",
      " 4   occupation      25037 non-null  object\n",
      " 5   relationship    25037 non-null  object\n",
      " 6   race            25037 non-null  object\n",
      " 7   sex             25037 non-null  object\n",
      " 8   capital-gain    25037 non-null  int64 \n",
      " 9   capital-loss    25037 non-null  int64 \n",
      " 10  hours-per-week  25037 non-null  int64 \n",
      " 11  native-country  25037 non-null  object\n",
      " 12  income          25037 non-null  object\n",
      "dtypes: int64(4), object(9)\n",
      "memory usage: 2.7+ MB\n"
     ]
    }
   ],
   "source": [
    "df.info()"
   ]
  },
  {
   "cell_type": "markdown",
   "id": "7850eaf0",
   "metadata": {},
   "source": [
    "Так как все признаки категориальные, более того номинальные. Поэтому используем One Hot Encoder (get_dummies)."
   ]
  },
  {
   "cell_type": "code",
   "execution_count": 39,
   "id": "d5696acc",
   "metadata": {},
   "outputs": [],
   "source": [
    "from sklearn.preprocessing import OneHotEncoder, StandardScaler\n",
    "from sklearn.compose import ColumnTransformer\n",
    "\n",
    "cat_att = df.columns[df.dtypes == object].drop('income')\n",
    "num_att = df.columns[df.dtypes == int]\n",
    "\n",
    "\n",
    "# encode all the categorial features\n",
    "transformer = ColumnTransformer([(\"num_attrs\", StandardScaler(), num_att),\n",
    "                                 (\"cat_attrs\", OneHotEncoder(), cat_att)])"
   ]
  },
  {
   "cell_type": "markdown",
   "id": "9ecefa3c",
   "metadata": {},
   "source": [
    "Работа с целевой переменной"
   ]
  },
  {
   "cell_type": "code",
   "execution_count": 40,
   "id": "43dc7459",
   "metadata": {},
   "outputs": [
    {
     "data": {
      "text/plain": [
       "array([[0],\n",
       "       [0],\n",
       "       [0],\n",
       "       ...,\n",
       "       [1],\n",
       "       [0],\n",
       "       [1]])"
      ]
     },
     "execution_count": 40,
     "metadata": {},
     "output_type": "execute_result"
    }
   ],
   "source": [
    "df_features = df.drop('income', axis=1)\n",
    "y = df['income']\n",
    "\n",
    "lb = LabelBinarizer()\n",
    "y = lb.fit_transform(y)\n",
    "y"
   ]
  },
  {
   "cell_type": "markdown",
   "id": "c8487891",
   "metadata": {},
   "source": [
    "Разделение датасета на обучающую и тестовую выборку"
   ]
  },
  {
   "cell_type": "code",
   "execution_count": 41,
   "id": "96b6c930",
   "metadata": {},
   "outputs": [
    {
     "data": {
      "text/plain": [
       "((17525, 12), (7512, 12), (17525,), (7512,))"
      ]
     },
     "execution_count": 41,
     "metadata": {},
     "output_type": "execute_result"
    }
   ],
   "source": [
    "df_features = df.drop('income', axis=1)\n",
    "y = df['income']\n",
    "\n",
    "x_train, x_test, y_train,y_test = train_test_split(df_features,y,random_state=12,test_size=.3)\n",
    "\n",
    "x_train.shape, x_test.shape, y_train.shape, y_test.shape"
   ]
  },
  {
   "cell_type": "code",
   "execution_count": 42,
   "id": "d51ba743",
   "metadata": {},
   "outputs": [],
   "source": [
    "x_train_transformed = transformer.fit_transform(x_train)\n",
    "x_test_transformed  = transformer.transform(x_test)"
   ]
  },
  {
   "cell_type": "markdown",
   "id": "be43d1f6",
   "metadata": {},
   "source": [
    "## Построение простых моделей"
   ]
  },
  {
   "cell_type": "code",
   "execution_count": 76,
   "id": "5ff34693",
   "metadata": {},
   "outputs": [],
   "source": [
    "from sklearn.neighbors import KNeighborsClassifier\n",
    "from sklearn.ensemble import GradientBoostingClassifier\n",
    "from sklearn.tree import DecisionTreeClassifier\n",
    "from sklearn.svm import SVC\n",
    "from sklearn.linear_model import LogisticRegression\n",
    "from sklearn.ensemble import RandomForestClassifier\n",
    "\n",
    "from sklearn.metrics import accuracy_score\n",
    "from sklearn.metrics import classification_report\n",
    "from sklearn.metrics import confusion_matrix\n",
    "from sklearn.metrics import precision_recall_fscore_support"
   ]
  },
  {
   "cell_type": "code",
   "execution_count": 44,
   "id": "6f9ed6ce",
   "metadata": {},
   "outputs": [],
   "source": [
    "def metrics_for_cl(clf, X_test, y_test, model_name, time):\n",
    "    y_ = clf.predict(X_test)\n",
    "    accuracy_score_ = accuracy_score(y_test, y_)\n",
    "    precision_recall_fscore_support_ = precision_recall_fscore_support(y_test, y_, average='macro')\n",
    "    report = pd.DataFrame(list(precision_recall_fscore_support_) + [accuracy_score_, time], \n",
    "                          columns=[model_name],\n",
    "                index=['Precision', 'Recall', 'F1-score', 'Support', 'Accuracy', 'time'])\n",
    "    report = report.drop('Support')\n",
    "    \n",
    "\n",
    "    return report"
   ]
  },
  {
   "cell_type": "markdown",
   "id": "28b38472",
   "metadata": {},
   "source": [
    "Логистическая регрессия"
   ]
  },
  {
   "cell_type": "code",
   "execution_count": 45,
   "id": "d3626ce9",
   "metadata": {},
   "outputs": [],
   "source": [
    "start = time.time()\n",
    "logreg_clf = LogisticRegression()\n",
    "logreg_clf.fit(x_train_transformed, y_train)\n",
    "stop = time.time()\n",
    "learning_time = f\"{(stop - start):.2}s\"\n",
    "\n",
    "lg_metrics = metrics_for_cl(logreg_clf, x_test_transformed, y_test, 'LogisticRegression', learning_time)"
   ]
  },
  {
   "cell_type": "markdown",
   "id": "15037d7c",
   "metadata": {},
   "source": [
    "Метод опорных векторов"
   ]
  },
  {
   "cell_type": "code",
   "execution_count": 46,
   "id": "3c870ed9",
   "metadata": {},
   "outputs": [],
   "source": [
    "start = time.time()\n",
    "SVC_model = SVC()\n",
    "SVC_model.fit(x_train_transformed, y_train)\n",
    "stop = time.time()\n",
    "learning_time = f\"{(stop - start):.2}s\"\n",
    "\n",
    "svm_metrics = metrics_for_cl(SVC_model, x_test_transformed, y_test, 'SVC', learning_time)"
   ]
  },
  {
   "cell_type": "markdown",
   "id": "5c833f46",
   "metadata": {},
   "source": [
    "Метод к-ближайших соседей"
   ]
  },
  {
   "cell_type": "code",
   "execution_count": 47,
   "id": "73e0d938",
   "metadata": {},
   "outputs": [],
   "source": [
    "start = time.time()\n",
    "KNN_model = KNeighborsClassifier(n_neighbors=5)\n",
    "KNN_model.fit(x_train_transformed, y_train)\n",
    "stop = time.time()\n",
    "learning_time = f\"{(stop - start):.2}s\"\n",
    "\n",
    "metric = metrics_for_cl(KNN_model, x_test_transformed, y_test, 'KNeighborsClassifier', learning_time)"
   ]
  },
  {
   "cell_type": "markdown",
   "id": "506199c0",
   "metadata": {},
   "source": [
    "Decision Tree Classifier"
   ]
  },
  {
   "cell_type": "code",
   "execution_count": 48,
   "id": "1f5077c1",
   "metadata": {},
   "outputs": [],
   "source": [
    "start = time.time()\n",
    "dt_model = DecisionTreeClassifier()\n",
    "dt_model.fit(x_train_transformed, y_train)\n",
    "stop = time.time()\n",
    "learning_time = f\"{(stop - start):.2}s\"\n",
    "\n",
    "tree_metric = metrics_for_cl(dt_model, x_test_transformed, y_test, 'DecisionTreeClassifier', learning_time)"
   ]
  },
  {
   "cell_type": "markdown",
   "id": "345527e6",
   "metadata": {},
   "source": [
    "Random Forest Classifier"
   ]
  },
  {
   "cell_type": "code",
   "execution_count": 49,
   "id": "b2a22246",
   "metadata": {},
   "outputs": [],
   "source": [
    "start = time.time()\n",
    "randtree = RandomForestClassifier().fit(x_train_transformed, y_train)\n",
    "stop = time.time()\n",
    "learning_time = f\"{(stop - start):.2}s\"\n",
    "\n",
    "randtree_metric = metrics_for_cl(randtree, x_test_transformed, y_test, 'RandomForestClassifier', learning_time)"
   ]
  },
  {
   "cell_type": "markdown",
   "id": "97731d85",
   "metadata": {},
   "source": [
    "Gradient Boosting Classifier"
   ]
  },
  {
   "cell_type": "code",
   "execution_count": 77,
   "id": "7124773b",
   "metadata": {},
   "outputs": [],
   "source": [
    "start = time.time()\n",
    "grandboost = GradientBoostingClassifier().fit(x_train_transformed, y_train)\n",
    "stop = time.time()\n",
    "learning_time = f\"{(stop - start):.2}s\"\n",
    "\n",
    "grandboost_metric = metrics_for_cl(grandboost, x_test_transformed, y_test, 'GradientBoostingClassifier', learning_time)"
   ]
  },
  {
   "cell_type": "markdown",
   "id": "7580ab1d",
   "metadata": {},
   "source": [
    "## Cравнение и анализ моделей"
   ]
  },
  {
   "cell_type": "code",
   "execution_count": 79,
   "id": "cac7fa45",
   "metadata": {},
   "outputs": [
    {
     "data": {
      "text/html": [
       "<div>\n",
       "<style scoped>\n",
       "    .dataframe tbody tr th:only-of-type {\n",
       "        vertical-align: middle;\n",
       "    }\n",
       "\n",
       "    .dataframe tbody tr th {\n",
       "        vertical-align: top;\n",
       "    }\n",
       "\n",
       "    .dataframe thead th {\n",
       "        text-align: right;\n",
       "    }\n",
       "</style>\n",
       "<table border=\"1\" class=\"dataframe\">\n",
       "  <thead>\n",
       "    <tr style=\"text-align: right;\">\n",
       "      <th></th>\n",
       "      <th>LogisticRegression</th>\n",
       "      <th>SVC</th>\n",
       "      <th>DecisionTreeClassifier</th>\n",
       "      <th>RandomForestClassifier</th>\n",
       "      <th>GradientBoostingClassifier</th>\n",
       "    </tr>\n",
       "  </thead>\n",
       "  <tbody>\n",
       "    <tr>\n",
       "      <th>Precision</th>\n",
       "      <td>0.8001</td>\n",
       "      <td>0.805878</td>\n",
       "      <td>0.786324</td>\n",
       "      <td>0.791994</td>\n",
       "      <td>0.82552</td>\n",
       "    </tr>\n",
       "    <tr>\n",
       "      <th>Recall</th>\n",
       "      <td>0.758409</td>\n",
       "      <td>0.754645</td>\n",
       "      <td>0.743088</td>\n",
       "      <td>0.763007</td>\n",
       "      <td>0.761415</td>\n",
       "    </tr>\n",
       "    <tr>\n",
       "      <th>F1-score</th>\n",
       "      <td>0.775091</td>\n",
       "      <td>0.7742</td>\n",
       "      <td>0.759943</td>\n",
       "      <td>0.775374</td>\n",
       "      <td>0.784839</td>\n",
       "    </tr>\n",
       "    <tr>\n",
       "      <th>Accuracy</th>\n",
       "      <td>0.840788</td>\n",
       "      <td>0.842386</td>\n",
       "      <td>0.83107</td>\n",
       "      <td>0.837859</td>\n",
       "      <td>0.85197</td>\n",
       "    </tr>\n",
       "    <tr>\n",
       "      <th>time</th>\n",
       "      <td>0.48s</td>\n",
       "      <td>2.2e+01s</td>\n",
       "      <td>0.15s</td>\n",
       "      <td>1.9e+01s</td>\n",
       "      <td>3.2s</td>\n",
       "    </tr>\n",
       "  </tbody>\n",
       "</table>\n",
       "</div>"
      ],
      "text/plain": [
       "          LogisticRegression       SVC DecisionTreeClassifier  \\\n",
       "Precision             0.8001  0.805878               0.786324   \n",
       "Recall              0.758409  0.754645               0.743088   \n",
       "F1-score            0.775091    0.7742               0.759943   \n",
       "Accuracy            0.840788  0.842386                0.83107   \n",
       "time                   0.48s  2.2e+01s                  0.15s   \n",
       "\n",
       "          RandomForestClassifier GradientBoostingClassifier  \n",
       "Precision               0.791994                    0.82552  \n",
       "Recall                  0.763007                   0.761415  \n",
       "F1-score                0.775374                   0.784839  \n",
       "Accuracy                0.837859                    0.85197  \n",
       "time                    1.9e+01s                       3.2s  "
      ]
     },
     "execution_count": 79,
     "metadata": {},
     "output_type": "execute_result"
    }
   ],
   "source": [
    "lg_metrics.join([svm_metrics, tree_metric, randtree_metric, grandboost_metric])"
   ]
  },
  {
   "cell_type": "markdown",
   "id": "e04371a6",
   "metadata": {},
   "source": [
    "Все модели показали хорошие результаты"
   ]
  },
  {
   "cell_type": "markdown",
   "id": "9657b293",
   "metadata": {},
   "source": [
    "## Выводы"
   ]
  },
  {
   "cell_type": "markdown",
   "id": "4b9c557f",
   "metadata": {},
   "source": [
    "GradientBoostingClassifier"
   ]
  },
  {
   "cell_type": "markdown",
   "id": "8fff103c",
   "metadata": {},
   "source": [
    "## Построение моделей с учетом выводов"
   ]
  },
  {
   "cell_type": "markdown",
   "id": "7ac43005",
   "metadata": {},
   "source": [
    "GradientBoostingClassifier | поиск лучшего значения"
   ]
  },
  {
   "cell_type": "code",
   "execution_count": 101,
   "id": "3f33860e",
   "metadata": {},
   "outputs": [
    {
     "name": "stdout",
     "output_type": "stream",
     "text": [
      "100 105 110 115 120 125 131 136 141 146 151 156 162 167 172 177 182 187 193 198 203 208 213 218 224 229 234 239 244 250 \n",
      "\n",
      "\n",
      "n_estimators\n",
      "{'deviance': 0.8519701810436635, 'exponential': 0.8507720979765708}\n",
      "{'deviance': 100, 'exponential': 100}\n"
     ]
    },
    {
     "data": {
      "image/png": "[encoded data removed]",
      "text/plain": [
       "<Figure size 1080x576 with 1 Axes>"
      ]
     },
     "metadata": {
      "needs_background": "light"
     },
     "output_type": "display_data"
    }
   ],
   "source": [
    "scores_log_loss, scores_exponential = [], []\n",
    "n_estimators_ = np.linspace(100,250, 30, dtype=int)\n",
    "max_score = {'deviance':0, 'exponential':0}\n",
    "max_res = {'deviance':0, 'exponential':0}\n",
    "\n",
    "for c_num in n_estimators_:\n",
    "    clf = GradientBoostingClassifier(loss = 'deviance',\n",
    "                              random_state=42)\n",
    "    clf.fit(x_train_transformed, y_train)\n",
    "    res = clf.score(x_test_transformed, y_test)\n",
    "    scores_log_loss.append(res)\n",
    "    if max_score['deviance'] < res:\n",
    "        max_score['deviance'] = res\n",
    "        max_res['deviance'] = c_num\n",
    "    \n",
    "\n",
    "    clf = GradientBoostingClassifier(loss='exponential',\n",
    "                              random_state=42)\n",
    "    clf.fit(x_train_transformed, y_train)\n",
    "    res = clf.score(x_test_transformed, y_test)\n",
    "    scores_exponential.append(res)\n",
    "    if max_score['exponential'] < res:\n",
    "        max_score['exponential'] = res\n",
    "        max_res['exponential'] = c_num\n",
    "    print(c_num, end=' ')\n",
    "\n",
    "plt.figure(figsize=(15, 8))\n",
    "\n",
    "\n",
    "plt.plot(learning_rate_, scores_log_loss, label=\"deviance\")\n",
    "plt.plot(learning_rate_, scores_exponential, label=\"exponential\")\n",
    "\n",
    "plt.legend(loc=\"best\")\n",
    "\n",
    "print('\\n\\n')\n",
    "print(\"n_estimators\")\n",
    "print(max_score)\n",
    "print(max_res)"
   ]
  },
  {
   "cell_type": "code",
   "execution_count": 93,
   "id": "6dbd7871",
   "metadata": {},
   "outputs": [],
   "source": [
    "# params = {'max_features' : ['auto', 'sqrt', 'log2'],\n",
    "#           'max_depth' : np.linspace(5,50,20, dtype=int) }\n",
    "\n",
    "# start = time.time()\n",
    "# grid_search_cv = GridSearchCV(GradientBoostingClassifier(loss='deviance',\n",
    "#                                                          n_estimators= 20,\n",
    "#                                                          random_state=42), params, n_jobs=-1, verbose=1, cv=3)\n",
    "# grid_search_cv.fit(x_train_transformed, y_train)\n",
    "# stop = time.time()\n",
    "# print(f\"Время обучения: {(stop - start):.2}s\")\n",
    "\n",
    "# grid_search_cv.best_params_"
   ]
  },
  {
   "cell_type": "code",
   "execution_count": 99,
   "id": "bb389f65",
   "metadata": {},
   "outputs": [],
   "source": [
    "start = time.time()\n",
    "grandboost = GradientBoostingClassifier(n_estimators= 20,\n",
    "                                        random_state=42).fit(x_train_transformed, y_train)\n",
    "stop = time.time()\n",
    "learning_time = f\"{(stop - start):.2}s\"\n",
    "\n",
    "grandboost_metric = metrics_for_cl(grandboost, x_test_transformed, y_test, 'GradientBoostingClassifier', learning_time)"
   ]
  },
  {
   "cell_type": "code",
   "execution_count": 100,
   "id": "37772ce1",
   "metadata": {},
   "outputs": [
    {
     "data": {
      "text/html": [
       "<div>\n",
       "<style scoped>\n",
       "    .dataframe tbody tr th:only-of-type {\n",
       "        vertical-align: middle;\n",
       "    }\n",
       "\n",
       "    .dataframe tbody tr th {\n",
       "        vertical-align: top;\n",
       "    }\n",
       "\n",
       "    .dataframe thead th {\n",
       "        text-align: right;\n",
       "    }\n",
       "</style>\n",
       "<table border=\"1\" class=\"dataframe\">\n",
       "  <thead>\n",
       "    <tr style=\"text-align: right;\">\n",
       "      <th></th>\n",
       "      <th>GradientBoostingClassifier</th>\n",
       "    </tr>\n",
       "  </thead>\n",
       "  <tbody>\n",
       "    <tr>\n",
       "      <th>Precision</th>\n",
       "      <td>0.82552</td>\n",
       "    </tr>\n",
       "    <tr>\n",
       "      <th>Recall</th>\n",
       "      <td>0.761415</td>\n",
       "    </tr>\n",
       "    <tr>\n",
       "      <th>F1-score</th>\n",
       "      <td>0.784839</td>\n",
       "    </tr>\n",
       "    <tr>\n",
       "      <th>Accuracy</th>\n",
       "      <td>0.85197</td>\n",
       "    </tr>\n",
       "    <tr>\n",
       "      <th>time</th>\n",
       "      <td>2.1s</td>\n",
       "    </tr>\n",
       "  </tbody>\n",
       "</table>\n",
       "</div>"
      ],
      "text/plain": [
       "          GradientBoostingClassifier\n",
       "Precision                    0.82552\n",
       "Recall                      0.761415\n",
       "F1-score                    0.784839\n",
       "Accuracy                     0.85197\n",
       "time                            2.1s"
      ]
     },
     "execution_count": 100,
     "metadata": {},
     "output_type": "execute_result"
    }
   ],
   "source": [
    "grandboost_metric"
   ]
  },
  {
   "cell_type": "markdown",
   "id": "c64b8679",
   "metadata": {},
   "source": [
    "Logistic Regression | поиск лучшего значения"
   ]
  },
  {
   "cell_type": "code",
   "execution_count": 52,
   "id": "a3e433ae",
   "metadata": {},
   "outputs": [
    {
     "name": "stdout",
     "output_type": "stream",
     "text": [
      "2.0 10.25 18.5 26.75 35.0 43.25 51.5 59.75 68.0 76.25 84.5 92.75 101.0 109.25 117.5 125.75 134.0 142.25 150.5 158.75 167.0 175.25 183.5 191.75 200.0 \n",
      "\n",
      "\n",
      "C\n",
      "{'l1': 0.8409211927582535, 'l2': 0.8409211927582535}\n",
      "{'l1': 76.25, 'l2': 26.75}\n"
     ]
    },
    {
     "data": {
      "image/png": "[encoded data removed]",
      "text/plain": [
       "<Figure size 1080x576 with 1 Axes>"
      ]
     },
     "metadata": {
      "needs_background": "light"
     },
     "output_type": "display_data"
    }
   ],
   "source": [
    "scores_l1, scores_l2 = [], []\n",
    "# C_ = np.append(np.linspace(0.001,1, 10, dtype=float), np.linspace(2,50, 10, dtype=float))\n",
    "C_ = np.linspace(2,200, 25, dtype=float)\n",
    "max_score = {'l1':0, 'l2':0}\n",
    "max_res = {'l1':0, 'l2':0}\n",
    "\n",
    "for c_num in C_:\n",
    "    clf = LogisticRegression(C = c_num,\n",
    "                              penalty = 'l2',\n",
    "                              solver='saga',\n",
    "                              random_state=42)\n",
    "    clf.fit(x_train_transformed, y_train)\n",
    "    res = clf.score(x_test_transformed, y_test)\n",
    "    scores_l2.append(res)\n",
    "    if max_score['l2'] < res:\n",
    "        max_score['l2'] = res\n",
    "        max_res['l2'] = c_num\n",
    "    \n",
    "\n",
    "    clf = LogisticRegression(C = c_num,\n",
    "                              penalty = 'l1',\n",
    "                              solver='saga',\n",
    "                              random_state=42)\n",
    "    clf.fit(x_train_transformed, y_train)\n",
    "    res = clf.score(x_test_transformed, y_test)\n",
    "    scores_l1.append(res)\n",
    "    if max_score['l1'] < res:\n",
    "        max_score['l1'] = res\n",
    "        max_res['l1'] = c_num\n",
    "    print(c_num, end=' ')\n",
    "\n",
    "plt.figure(figsize=(15, 8))\n",
    "\n",
    "\n",
    "plt.plot(C_, scores_l1, label=\"l1\")\n",
    "plt.plot(C_, scores_l2, label=\"l2\")\n",
    "\n",
    "plt.legend(loc=\"best\")\n",
    "\n",
    "print('\\n\\n')\n",
    "print(\"C\")\n",
    "print(max_score)\n",
    "print(max_res)"
   ]
  },
  {
   "cell_type": "code",
   "execution_count": 51,
   "id": "bdee8ee0",
   "metadata": {},
   "outputs": [],
   "source": [
    "# C = np.append(np.linspace(0.001,1, 10, dtype=float), np.linspace(2,50, 10, dtype=float))\n",
    "\n",
    "# params ={\"C\":C, \"penalty\":[\"l1\",\"l2\",\"elasticnet\", None]}\n",
    "\n",
    "# start = time.time()\n",
    "# grid_search_cv = GridSearchCV(LogisticRegression(random_state=42, \n",
    "#                                                  solver='saga'), params, verbose=1, cv=3)\n",
    "# grid_search_cv.fit(x_train_transformed, y_train)\n",
    "# stop = time.time()\n",
    "# print(f\"Время поиска: {(stop - start):.2}s\")\n"
   ]
  },
  {
   "cell_type": "code",
   "execution_count": 53,
   "id": "7810bc9c",
   "metadata": {},
   "outputs": [],
   "source": [
    "# grid_search_cv.best_params_"
   ]
  },
  {
   "cell_type": "code",
   "execution_count": 59,
   "id": "23e3e132",
   "metadata": {},
   "outputs": [],
   "source": [
    "start = time.time()\n",
    "lg_model = LogisticRegression(C = 26.75, \n",
    "                              penalty = 'l2',\n",
    "                              random_state=42)\n",
    "lg_model.fit(x_train_transformed, y_train)\n",
    "stop = time.time()\n",
    "learning_time = f\"{(stop - start):.2}s\"\n",
    "\n",
    "lg_metric = metrics_for_cl(dt_model, x_test_transformed, y_test, 'LogisticRegression', learning_time)"
   ]
  },
  {
   "cell_type": "code",
   "execution_count": 60,
   "id": "8695f541",
   "metadata": {},
   "outputs": [
    {
     "data": {
      "text/html": [
       "<div>\n",
       "<style scoped>\n",
       "    .dataframe tbody tr th:only-of-type {\n",
       "        vertical-align: middle;\n",
       "    }\n",
       "\n",
       "    .dataframe tbody tr th {\n",
       "        vertical-align: top;\n",
       "    }\n",
       "\n",
       "    .dataframe thead th {\n",
       "        text-align: right;\n",
       "    }\n",
       "</style>\n",
       "<table border=\"1\" class=\"dataframe\">\n",
       "  <thead>\n",
       "    <tr style=\"text-align: right;\">\n",
       "      <th></th>\n",
       "      <th>LogisticRegression</th>\n",
       "    </tr>\n",
       "  </thead>\n",
       "  <tbody>\n",
       "    <tr>\n",
       "      <th>Precision</th>\n",
       "      <td>0.753045</td>\n",
       "    </tr>\n",
       "    <tr>\n",
       "      <th>Recall</th>\n",
       "      <td>0.742682</td>\n",
       "    </tr>\n",
       "    <tr>\n",
       "      <th>F1-score</th>\n",
       "      <td>0.747519</td>\n",
       "    </tr>\n",
       "    <tr>\n",
       "      <th>Accuracy</th>\n",
       "      <td>0.812433</td>\n",
       "    </tr>\n",
       "    <tr>\n",
       "      <th>time</th>\n",
       "      <td>0.34s</td>\n",
       "    </tr>\n",
       "  </tbody>\n",
       "</table>\n",
       "</div>"
      ],
      "text/plain": [
       "          LogisticRegression\n",
       "Precision           0.753045\n",
       "Recall              0.742682\n",
       "F1-score            0.747519\n",
       "Accuracy            0.812433\n",
       "time                   0.34s"
      ]
     },
     "execution_count": 60,
     "metadata": {},
     "output_type": "execute_result"
    }
   ],
   "source": [
    "lg_metric"
   ]
  },
  {
   "cell_type": "markdown",
   "id": "c3e65721",
   "metadata": {},
   "source": [
    "Decision Tree Classifier"
   ]
  },
  {
   "cell_type": "code",
   "execution_count": 61,
   "id": "54d68c29",
   "metadata": {},
   "outputs": [
    {
     "name": "stdout",
     "output_type": "stream",
     "text": [
      "2 10 18 27 35 44 52 61 69 77 86 94 103 111 120 128 137 145 153 162 170 179 187 196 204 213 221 229 238 246 255 263 272 280 288 297 305 314 322 331 339 348 356 364 373 381 390 398 407 415 424 432 440 449 457 466 474 483 491 500 \n",
      "\n",
      "\n",
      "max_leaf_nodes\n",
      "{'entropy': 0.8505058572949947, 'gini': 0.8482428115015974}\n",
      "{'entropy': 263, 'gini': 263}\n"
     ]
    },
    {
     "data": {
      "image/png": "[encoded data removed]",
      "text/plain": [
       "<Figure size 1080x576 with 1 Axes>"
      ]
     },
     "metadata": {
      "needs_background": "light"
     },
     "output_type": "display_data"
    }
   ],
   "source": [
    "scores_entropy, scores_gini = [], []\n",
    "max_leaf_nodes_ = np.linspace(2,500, 60, dtype=int)\n",
    "max_score = {'entropy':0, 'gini':0}\n",
    "max_res = {'entropy':0, 'gini':0}\n",
    "\n",
    "\n",
    "\n",
    "for c_num in max_leaf_nodes_:\n",
    "    clf = DecisionTreeClassifier(criterion = 'entropy',\n",
    "                                 max_leaf_nodes=c_num,\n",
    "                              random_state=42)\n",
    "    clf.fit(x_train_transformed, y_train)\n",
    "    res = clf.score(x_test_transformed, y_test)\n",
    "    scores_entropy.append(res )\n",
    "    if max_score['entropy'] < res:\n",
    "        max_score['entropy'] = res\n",
    "        max_res['entropy'] = c_num\n",
    "    \n",
    "\n",
    "    clf = DecisionTreeClassifier(criterion = 'gini',\n",
    "                                 max_leaf_nodes=c_num,\n",
    "                              random_state=42)\n",
    "    clf.fit(x_train_transformed, y_train)\n",
    "    res = clf.score(x_test_transformed, y_test)\n",
    "    scores_gini.append(res)\n",
    "    if max_score['gini'] < res:\n",
    "        max_score['gini'] = res\n",
    "        max_res['gini'] = c_num\n",
    "    print(c_num, end=' ')\n",
    "\n",
    "plt.figure(figsize=(15, 8))\n",
    "\n",
    "\n",
    "plt.plot(max_leaf_nodes_, scores_entropy, label=\"entropy\")\n",
    "plt.plot(max_leaf_nodes_, scores_gini, label=\"gini\")\n",
    "\n",
    "plt.legend(loc=\"best\")\n",
    "print('\\n\\n')\n",
    "print(\"max_leaf_nodes\")\n",
    "print(max_score)\n",
    "print(max_res)"
   ]
  },
  {
   "cell_type": "code",
   "execution_count": null,
   "id": "d4222cbf",
   "metadata": {},
   "outputs": [],
   "source": []
  },
  {
   "cell_type": "code",
   "execution_count": 66,
   "id": "082d53aa",
   "metadata": {},
   "outputs": [
    {
     "name": "stdout",
     "output_type": "stream",
     "text": [
      "Fitting 3 folds for each of 114 candidates, totalling 342 fits\n",
      "Время обучения: 2.4e+01s\n"
     ]
    },
    {
     "data": {
      "text/plain": [
       "{'max_depth': 22, 'max_features': 'auto'}"
      ]
     },
     "execution_count": 66,
     "metadata": {},
     "output_type": "execute_result"
    }
   ],
   "source": [
    "params = {'max_depth': np.linspace(1,100,38, dtype=int), \n",
    "          'max_features' : ['auto', 'sqrt', 'log2']}\n",
    "\n",
    "start = time.time()\n",
    "grid_search_cv = GridSearchCV(DecisionTreeClassifier(criterion='entropy',\n",
    "                                                     max_leaf_nodes=263,\n",
    "                                                     random_state=42), params, verbose=1, cv=3)\n",
    "grid_search_cv.fit(x_train_transformed, y_train)\n",
    "stop = time.time()\n",
    "print(f\"Время обучения: {(stop - start):.2}s\")\n",
    "\n",
    "grid_search_cv.best_params_"
   ]
  },
  {
   "cell_type": "code",
   "execution_count": 70,
   "id": "a439b338",
   "metadata": {},
   "outputs": [],
   "source": [
    "start = time.time()\n",
    "dt_model = DecisionTreeClassifier(criterion = 'entropy', \n",
    "                                  max_features = 'auto',\n",
    "                                  max_leaf_nodes = 263,\n",
    "                                  random_state=42)\n",
    "dt_model.fit(x_train_transformed, y_train)\n",
    "stop = time.time()\n",
    "learning_time = f\"{(stop - start):.2}s\"\n",
    "\n",
    "y_pred = dt_model.predict(x_test_transformed)\n",
    "tree_metric = metrics_for_cl(dt_model, x_test_transformed, y_test, 'DecisionTreeClassifier', learning_time)"
   ]
  },
  {
   "cell_type": "code",
   "execution_count": 71,
   "id": "75b76b1f",
   "metadata": {},
   "outputs": [
    {
     "data": {
      "text/html": [
       "<div>\n",
       "<style scoped>\n",
       "    .dataframe tbody tr th:only-of-type {\n",
       "        vertical-align: middle;\n",
       "    }\n",
       "\n",
       "    .dataframe tbody tr th {\n",
       "        vertical-align: top;\n",
       "    }\n",
       "\n",
       "    .dataframe thead th {\n",
       "        text-align: right;\n",
       "    }\n",
       "</style>\n",
       "<table border=\"1\" class=\"dataframe\">\n",
       "  <thead>\n",
       "    <tr style=\"text-align: right;\">\n",
       "      <th></th>\n",
       "      <th>DecisionTreeClassifier</th>\n",
       "    </tr>\n",
       "  </thead>\n",
       "  <tbody>\n",
       "    <tr>\n",
       "      <th>Precision</th>\n",
       "      <td>0.786324</td>\n",
       "    </tr>\n",
       "    <tr>\n",
       "      <th>Recall</th>\n",
       "      <td>0.743088</td>\n",
       "    </tr>\n",
       "    <tr>\n",
       "      <th>F1-score</th>\n",
       "      <td>0.759943</td>\n",
       "    </tr>\n",
       "    <tr>\n",
       "      <th>Accuracy</th>\n",
       "      <td>0.83107</td>\n",
       "    </tr>\n",
       "    <tr>\n",
       "      <th>time</th>\n",
       "      <td>0.15s</td>\n",
       "    </tr>\n",
       "  </tbody>\n",
       "</table>\n",
       "</div>"
      ],
      "text/plain": [
       "          DecisionTreeClassifier\n",
       "Precision               0.786324\n",
       "Recall                  0.743088\n",
       "F1-score                0.759943\n",
       "Accuracy                 0.83107\n",
       "time                       0.15s"
      ]
     },
     "execution_count": 71,
     "metadata": {},
     "output_type": "execute_result"
    }
   ],
   "source": [
    "tree_metric"
   ]
  },
  {
   "cell_type": "code",
   "execution_count": 74,
   "id": "a53def7e",
   "metadata": {
    "scrolled": true
   },
   "outputs": [
    {
     "name": "stdout",
     "output_type": "stream",
     "text": [
      "50 64 78 92 107 121 135 150 164 178 192 207 221 235 250 \n",
      "\n",
      "\n",
      "n_estimators\n",
      "{'entropy': 0.8385250266240681, 'gini': 0.838258785942492}\n",
      "{'entropy': 178, 'gini': 64}\n"
     ]
    },
    {
     "data": {
      "image/png": "[encoded data removed]",
      "text/plain": [
       "<Figure size 720x360 with 1 Axes>"
      ]
     },
     "metadata": {
      "needs_background": "light"
     },
     "output_type": "display_data"
    }
   ],
   "source": [
    "scores_entropy, scores_gini= [], []\n",
    "n_estimators_ = np.linspace(50,250, 15, dtype=int)\n",
    "max_score = {'entropy':0, 'gini':0}\n",
    "max_res = {'entropy':0, 'gini':0}\n",
    "\n",
    "\n",
    "for c_num in n_estimators_:\n",
    "    clf = RandomForestClassifier(criterion = 'entropy',\n",
    "                                 n_estimators=c_num,\n",
    "                                 n_jobs = -1,\n",
    "                              random_state=42)\n",
    "    clf.fit(x_train_transformed, y_train)\n",
    "    res = clf.score(x_test_transformed, y_test)\n",
    "    scores_entropy.append(res )\n",
    "    if max_score['entropy'] < res:\n",
    "        max_score['entropy'] = res\n",
    "        max_res['entropy'] = c_num\n",
    "    \n",
    "\n",
    "    clf = RandomForestClassifier(criterion = 'gini',\n",
    "                                 n_estimators=c_num,\n",
    "                                 n_jobs = -1,\n",
    "                              random_state=42)\n",
    "    clf.fit(x_train_transformed, y_train)\n",
    "    res = clf.score(x_test_transformed, y_test)\n",
    "    scores_gini.append(res)\n",
    "    if max_score['gini'] < res:\n",
    "        max_score['gini'] = res\n",
    "        max_res['gini'] = c_num\n",
    "        \n",
    "    print(c_num, end=' ')\n",
    "\n",
    "plt.figure(figsize=(10, 5))\n",
    "\n",
    "\n",
    "plt.plot(n_estimators_, scores_entropy, label=\"entropy\")\n",
    "plt.plot(n_estimators_, scores_gini, label=\"gini\")\n",
    "\n",
    "\n",
    "plt.legend(loc=\"best\")\n",
    "print('\\n\\n')\n",
    "print(\"n_estimators\")\n",
    "print(max_score)\n",
    "print(max_res)"
   ]
  },
  {
   "cell_type": "code",
   "execution_count": 73,
   "id": "79fb0f24",
   "metadata": {},
   "outputs": [
    {
     "name": "stdout",
     "output_type": "stream",
     "text": [
      "Fitting 3 folds for each of 3 candidates, totalling 9 fits\n",
      "[CV] END criterion=entropy, max_features=auto, n_estimators=64; total time=   4.1s\n",
      "[CV] END criterion=entropy, max_features=auto, n_estimators=64; total time=   4.1s\n",
      "[CV] END criterion=entropy, max_features=auto, n_estimators=64; total time=   4.1s\n",
      "[CV] END criterion=entropy, max_features=sqrt, n_estimators=64; total time=   4.8s\n",
      "[CV] END criterion=entropy, max_features=sqrt, n_estimators=64; total time=   4.1s\n",
      "[CV] END criterion=entropy, max_features=sqrt, n_estimators=64; total time=   5.3s\n",
      "[CV] END criterion=entropy, max_features=log2, n_estimators=64; total time=   4.9s\n",
      "[CV] END criterion=entropy, max_features=log2, n_estimators=64; total time=   5.5s\n",
      "[CV] END criterion=entropy, max_features=log2, n_estimators=64; total time=   4.1s\n",
      "Время обучения: 5.1e+01s\n"
     ]
    },
    {
     "data": {
      "text/plain": [
       "{'criterion': 'entropy', 'max_features': 'auto', 'n_estimators': 64}"
      ]
     },
     "execution_count": 73,
     "metadata": {},
     "output_type": "execute_result"
    }
   ],
   "source": [
    "# params = {'n_estimators': np.linspace(50,250, 5, dtype=int),\n",
    "#           'criterion':['gini', 'entropy', 'log_loss'],\n",
    "#            'max_features' : ['auto', 'sqrt', 'log2']}\n",
    "\n",
    "params = {'n_estimators': [64],\n",
    "          'criterion':['entropy'],\n",
    "           'max_features' : ['auto', 'sqrt', 'log2']}\n",
    "\n",
    "start = time.time()\n",
    "grid_search_cv = GridSearchCV(RandomForestClassifier(random_state=42), params, verbose=2, cv=3)\n",
    "grid_search_cv.fit(x_train_transformed, y_train)\n",
    "stop = time.time()\n",
    "print(f\"Время обучения: {(stop - start):.2}s\")\n",
    "\n",
    "grid_search_cv.best_params_"
   ]
  },
  {
   "cell_type": "code",
   "execution_count": 106,
   "id": "ba6815a3",
   "metadata": {},
   "outputs": [],
   "source": [
    "start = time.time()\n",
    "rf_model = RandomForestClassifier(criterion = 'entropy', \n",
    "                                  n_estimators = 64,\n",
    "                                  max_features = 'auto',\n",
    "                                  random_state=42)\n",
    "rf_model.fit(x_train_transformed, y_train)\n",
    "stop = time.time()\n",
    "learning_time = f\"{(stop - start):.2}s\"\n",
    "\n",
    "y_pred = rf_model.predict(x_test_transformed)\n",
    "tree_metric = metrics_for_cl(rf_model, x_test_transformed, y_test, 'RandomForestClassifier', learning_time)"
   ]
  },
  {
   "cell_type": "code",
   "execution_count": 117,
   "id": "d0acd7d5",
   "metadata": {},
   "outputs": [
    {
     "data": {
      "text/html": [
       "<div>\n",
       "<style scoped>\n",
       "    .dataframe tbody tr th:only-of-type {\n",
       "        vertical-align: middle;\n",
       "    }\n",
       "\n",
       "    .dataframe tbody tr th {\n",
       "        vertical-align: top;\n",
       "    }\n",
       "\n",
       "    .dataframe thead th {\n",
       "        text-align: right;\n",
       "    }\n",
       "</style>\n",
       "<table border=\"1\" class=\"dataframe\">\n",
       "  <thead>\n",
       "    <tr style=\"text-align: right;\">\n",
       "      <th></th>\n",
       "      <th>DecisionTreeClassifier</th>\n",
       "    </tr>\n",
       "  </thead>\n",
       "  <tbody>\n",
       "    <tr>\n",
       "      <th>Precision</th>\n",
       "      <td>0.791124</td>\n",
       "    </tr>\n",
       "    <tr>\n",
       "      <th>Recall</th>\n",
       "      <td>0.763258</td>\n",
       "    </tr>\n",
       "    <tr>\n",
       "      <th>F1-score</th>\n",
       "      <td>0.775214</td>\n",
       "    </tr>\n",
       "    <tr>\n",
       "      <th>Accuracy</th>\n",
       "      <td>0.83746</td>\n",
       "    </tr>\n",
       "    <tr>\n",
       "      <th>time</th>\n",
       "      <td>2e+01s</td>\n",
       "    </tr>\n",
       "  </tbody>\n",
       "</table>\n",
       "</div>"
      ],
      "text/plain": [
       "          DecisionTreeClassifier\n",
       "Precision               0.791124\n",
       "Recall                  0.763258\n",
       "F1-score                0.775214\n",
       "Accuracy                 0.83746\n",
       "time                      2e+01s"
      ]
     },
     "execution_count": 117,
     "metadata": {},
     "output_type": "execute_result"
    }
   ],
   "source": [
    "tree_metric"
   ]
  },
  {
   "cell_type": "markdown",
   "id": "5575d9a1",
   "metadata": {},
   "source": [
    "## Итоговый результат"
   ]
  },
  {
   "cell_type": "code",
   "execution_count": 102,
   "id": "bc3a15bd",
   "metadata": {},
   "outputs": [],
   "source": [
    "start = time.time()\n",
    "grandboost = GradientBoostingClassifier(n_estimators= 20,\n",
    "                                        random_state=42).fit(x_train_transformed, y_train)\n",
    "stop = time.time()\n",
    "learning_time = f\"{(stop - start):.2}s\"\n",
    "\n",
    "grandboost_metric = metrics_for_cl(grandboost, x_test_transformed, y_test, 'GradientBoostingClassifier', learning_time)\n",
    "\n",
    "y_pred = grandboost.predict(x_test_transformed)"
   ]
  },
  {
   "cell_type": "code",
   "execution_count": 103,
   "id": "ff722666",
   "metadata": {},
   "outputs": [
    {
     "data": {
      "text/html": [
       "<div>\n",
       "<style scoped>\n",
       "    .dataframe tbody tr th:only-of-type {\n",
       "        vertical-align: middle;\n",
       "    }\n",
       "\n",
       "    .dataframe tbody tr th {\n",
       "        vertical-align: top;\n",
       "    }\n",
       "\n",
       "    .dataframe thead th {\n",
       "        text-align: right;\n",
       "    }\n",
       "</style>\n",
       "<table border=\"1\" class=\"dataframe\">\n",
       "  <thead>\n",
       "    <tr style=\"text-align: right;\">\n",
       "      <th></th>\n",
       "      <th>GradientBoostingClassifier</th>\n",
       "    </tr>\n",
       "  </thead>\n",
       "  <tbody>\n",
       "    <tr>\n",
       "      <th>Precision</th>\n",
       "      <td>0.844896</td>\n",
       "    </tr>\n",
       "    <tr>\n",
       "      <th>Recall</th>\n",
       "      <td>0.702457</td>\n",
       "    </tr>\n",
       "    <tr>\n",
       "      <th>F1-score</th>\n",
       "      <td>0.735549</td>\n",
       "    </tr>\n",
       "    <tr>\n",
       "      <th>Accuracy</th>\n",
       "      <td>0.836661</td>\n",
       "    </tr>\n",
       "    <tr>\n",
       "      <th>time</th>\n",
       "      <td>0.5s</td>\n",
       "    </tr>\n",
       "  </tbody>\n",
       "</table>\n",
       "</div>"
      ],
      "text/plain": [
       "          GradientBoostingClassifier\n",
       "Precision                   0.844896\n",
       "Recall                      0.702457\n",
       "F1-score                    0.735549\n",
       "Accuracy                    0.836661\n",
       "time                            0.5s"
      ]
     },
     "execution_count": 103,
     "metadata": {},
     "output_type": "execute_result"
    }
   ],
   "source": [
    "grandboost_metric"
   ]
  },
  {
   "cell_type": "code",
   "execution_count": 104,
   "id": "3284334f",
   "metadata": {},
   "outputs": [
    {
     "data": {
      "image/png": "[encoded data removed]",
      "text/plain": [
       "<Figure size 432x288 with 2 Axes>"
      ]
     },
     "metadata": {
      "needs_background": "light"
     },
     "output_type": "display_data"
    }
   ],
   "source": [
    "cf_m = confusion_matrix(y_test, y_pred)\n",
    "                \n",
    "class_names = np.unique(y)  \n",
    "num_classes = class_names.size        \n",
    "    \n",
    "# plt.figure(figsize=(,8))\n",
    "plt.imshow(cf_m)\n",
    "plt.tight_layout()\n",
    "plt.colorbar()\n",
    "plt.show()"
   ]
  },
  {
   "cell_type": "code",
   "execution_count": 105,
   "id": "821fe282",
   "metadata": {},
   "outputs": [
    {
     "name": "stdout",
     "output_type": "stream",
     "text": [
      "              precision    recall  f1-score   support\n",
      "\n",
      "       <=50K       0.83      0.98      0.90      5603\n",
      "        >50K       0.86      0.43      0.57      1909\n",
      "\n",
      "    accuracy                           0.84      7512\n",
      "   macro avg       0.84      0.70      0.74      7512\n",
      "weighted avg       0.84      0.84      0.82      7512\n",
      "\n"
     ]
    }
   ],
   "source": [
    "print(classification_report(y_test, y_pred))"
   ]
  }
 ],
 "metadata": {
  "kernelspec": {
   "display_name": "Python 3 (ipykernel)",
   "language": "python",
   "name": "python3"
  },
  "language_info": {
   "codemirror_mode": {
    "name": "ipython",
    "version": 3
   },
   "file_extension": ".py",
   "mimetype": "text/x-python",
   "name": "python",
   "nbconvert_exporter": "python",
   "pygments_lexer": "ipython3",
   "version": "3.9.7"
  }
 },
 "nbformat": 4,
 "nbformat_minor": 5
}
