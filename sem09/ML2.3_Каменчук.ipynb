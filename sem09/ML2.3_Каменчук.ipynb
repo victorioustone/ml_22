{
 "cells": [
  {
   "cell_type": "markdown",
   "metadata": {},
   "source": [
    "## Классификация текстов"
   ]
  },
  {
   "cell_type": "code",
   "execution_count": 1,
   "metadata": {},
   "outputs": [],
   "source": [
    "from sklearn.datasets import fetch_20newsgroups\n",
    "from sklearn.model_selection import train_test_split\n",
    "import numpy as np\n",
    "\n",
    "from sklearn.feature_extraction.text import CountVectorizer\n",
    "from sklearn.metrics import accuracy_score, precision_score, recall_score\n",
    "from sklearn.naive_bayes import MultinomialNB\n",
    "\n",
    "import matplotlib.pyplot as plt\n",
    "\n",
    "from sklearn.neighbors import KNeighborsClassifier\n",
    "from sklearn.naive_bayes import GaussianNB\n",
    "from sklearn.tree import DecisionTreeClassifier\n",
    "from sklearn.neural_network import MLPClassifier\n",
    "from sklearn.linear_model import LogisticRegression\n",
    "from sklearn.svm import SVC\n",
    "\n",
    "import warnings\n",
    "warnings.filterwarnings('ignore')"
   ]
  },
  {
   "cell_type": "markdown",
   "metadata": {},
   "source": [
    "1. Загрузите датасет 20 newsgroups;\n",
    "2. Познакомьтесь с описанием и структурой датасета. Описание можно найти в документации.\n",
    "3. Выведите информацию о количественных параметрах датасета;"
   ]
  },
  {
   "cell_type": "code",
   "execution_count": 2,
   "metadata": {},
   "outputs": [
    {
     "name": "stdout",
     "output_type": "stream",
     "text": [
      ".. _20newsgroups_dataset:\n",
      "\n",
      "The 20 newsgroups text dataset\n",
      "------------------------------\n",
      "\n",
      "The 20 newsgroups dataset comprises around 18000 newsgroups posts on\n",
      "20 topics split in two subsets: one for training (or development)\n",
      "and the other one for testing (or for performance evaluation). The split\n",
      "between the train and test set is based upon a messages posted before\n",
      "and after a specific date.\n",
      "\n",
      "This module contains two loaders. The first one,\n",
      ":func:`sklearn.datasets.fetch_20newsgroups`,\n",
      "returns a list of the raw texts that can be fed to text feature\n",
      "extractors such as :class:`~sklearn.feature_extraction.text.CountVectorizer`\n",
      "with custom parameters so as to extract feature vectors.\n",
      "The second one, :func:`sklearn.datasets.fetch_20newsgroups_vectorized`,\n",
      "returns ready-to-use features, i.e., it is not necessary to use a feature\n",
      "extractor.\n",
      "\n",
      "**Data Set Characteristics:**\n",
      "\n",
      "    =================   ==========\n",
      "    Classes                     20\n",
      "    Samples total            18846\n",
      "    Dimensionality               1\n",
      "    Features                  text\n",
      "    =================   ==========\n",
      "\n",
      "Usage\n",
      "~~~~~\n",
      "\n",
      "The :func:`sklearn.datasets.fetch_20newsgroups` function is a data\n",
      "fetching / caching functions that downloads the data archive from\n",
      "the original `20 newsgroups website`_, extracts the archive contents\n",
      "in the ``~/scikit_learn_data/20news_home`` folder and calls the\n",
      ":func:`sklearn.datasets.load_files` on either the training or\n",
      "testing set folder, or both of them::\n",
      "\n",
      "  >>> from sklearn.datasets import fetch_20newsgroups\n",
      "  >>> newsgroups_train = fetch_20newsgroups(subset='train')\n",
      "\n",
      "  >>> from pprint import pprint\n",
      "  >>> pprint(list(newsgroups_train.target_names))\n",
      "  ['alt.atheism',\n",
      "   'comp.graphics',\n",
      "   'comp.os.ms-windows.misc',\n",
      "   'comp.sys.ibm.pc.hardware',\n",
      "   'comp.sys.mac.hardware',\n",
      "   'comp.windows.x',\n",
      "   'misc.forsale',\n",
      "   'rec.autos',\n",
      "   'rec.motorcycles',\n",
      "   'rec.sport.baseball',\n",
      "   'rec.sport.hockey',\n",
      "   'sci.crypt',\n",
      "   'sci.electronics',\n",
      "   'sci.med',\n",
      "   'sci.space',\n",
      "   'soc.religion.christian',\n",
      "   'talk.politics.guns',\n",
      "   'talk.politics.mideast',\n",
      "   'talk.politics.misc',\n",
      "   'talk.religion.misc']\n",
      "\n",
      "The real data lies in the ``filenames`` and ``target`` attributes. The target\n",
      "attribute is the integer index of the category::\n",
      "\n",
      "  >>> newsgroups_train.filenames.shape\n",
      "  (11314,)\n",
      "  >>> newsgroups_train.target.shape\n",
      "  (11314,)\n",
      "  >>> newsgroups_train.target[:10]\n",
      "  array([ 7,  4,  4,  1, 14, 16, 13,  3,  2,  4])\n",
      "\n",
      "It is possible to load only a sub-selection of the categories by passing the\n",
      "list of the categories to load to the\n",
      ":func:`sklearn.datasets.fetch_20newsgroups` function::\n",
      "\n",
      "  >>> cats = ['alt.atheism', 'sci.space']\n",
      "  >>> newsgroups_train = fetch_20newsgroups(subset='train', categories=cats)\n",
      "\n",
      "  >>> list(newsgroups_train.target_names)\n",
      "  ['alt.atheism', 'sci.space']\n",
      "  >>> newsgroups_train.filenames.shape\n",
      "  (1073,)\n",
      "  >>> newsgroups_train.target.shape\n",
      "  (1073,)\n",
      "  >>> newsgroups_train.target[:10]\n",
      "  array([0, 1, 1, 1, 0, 1, 1, 0, 0, 0])\n",
      "\n",
      "Converting text to vectors\n",
      "~~~~~~~~~~~~~~~~~~~~~~~~~~\n",
      "\n",
      "In order to feed predictive or clustering models with the text data,\n",
      "one first need to turn the text into vectors of numerical values suitable\n",
      "for statistical analysis. This can be achieved with the utilities of the\n",
      "``sklearn.feature_extraction.text`` as demonstrated in the following\n",
      "example that extract `TF-IDF`_ vectors of unigram tokens\n",
      "from a subset of 20news::\n",
      "\n",
      "  >>> from sklearn.feature_extraction.text import TfidfVectorizer\n",
      "  >>> categories = ['alt.atheism', 'talk.religion.misc',\n",
      "  ...               'comp.graphics', 'sci.space']\n",
      "  >>> newsgroups_train = fetch_20newsgroups(subset='train',\n",
      "  ...                                       categories=categories)\n",
      "  >>> vectorizer = TfidfVectorizer()\n",
      "  >>> vectors = vectorizer.fit_transform(newsgroups_train.data)\n",
      "  >>> vectors.shape\n",
      "  (2034, 34118)\n",
      "\n",
      "The extracted TF-IDF vectors are very sparse, with an average of 159 non-zero\n",
      "components by sample in a more than 30000-dimensional space\n",
      "(less than .5% non-zero features)::\n",
      "\n",
      "  >>> vectors.nnz / float(vectors.shape[0])\n",
      "  159.01327...\n",
      "\n",
      ":func:`sklearn.datasets.fetch_20newsgroups_vectorized` is a function which\n",
      "returns ready-to-use token counts features instead of file names.\n",
      "\n",
      ".. _`20 newsgroups website`: http://people.csail.mit.edu/jrennie/20Newsgroups/\n",
      ".. _`TF-IDF`: https://en.wikipedia.org/wiki/Tf-idf\n",
      "\n",
      "\n",
      "Filtering text for more realistic training\n",
      "~~~~~~~~~~~~~~~~~~~~~~~~~~~~~~~~~~~~~~~~~~\n",
      "\n",
      "It is easy for a classifier to overfit on particular things that appear in the\n",
      "20 Newsgroups data, such as newsgroup headers. Many classifiers achieve very\n",
      "high F-scores, but their results would not generalize to other documents that\n",
      "aren't from this window of time.\n",
      "\n",
      "For example, let's look at the results of a multinomial Naive Bayes classifier,\n",
      "which is fast to train and achieves a decent F-score::\n",
      "\n",
      "  >>> from sklearn.naive_bayes import MultinomialNB\n",
      "  >>> from sklearn import metrics\n",
      "  >>> newsgroups_test = fetch_20newsgroups(subset='test',\n",
      "  ...                                      categories=categories)\n",
      "  >>> vectors_test = vectorizer.transform(newsgroups_test.data)\n",
      "  >>> clf = MultinomialNB(alpha=.01)\n",
      "  >>> clf.fit(vectors, newsgroups_train.target)\n",
      "  MultinomialNB(alpha=0.01, class_prior=None, fit_prior=True)\n",
      "\n",
      "  >>> pred = clf.predict(vectors_test)\n",
      "  >>> metrics.f1_score(newsgroups_test.target, pred, average='macro')\n",
      "  0.88213...\n",
      "\n",
      "(The example :ref:`sphx_glr_auto_examples_text_plot_document_classification_20newsgroups.py` shuffles\n",
      "the training and test data, instead of segmenting by time, and in that case\n",
      "multinomial Naive Bayes gets a much higher F-score of 0.88. Are you suspicious\n",
      "yet of what's going on inside this classifier?)\n",
      "\n",
      "Let's take a look at what the most informative features are:\n",
      "\n",
      "  >>> import numpy as np\n",
      "  >>> def show_top10(classifier, vectorizer, categories):\n",
      "  ...     feature_names = vectorizer.get_feature_names_out()\n",
      "  ...     for i, category in enumerate(categories):\n",
      "  ...         top10 = np.argsort(classifier.coef_[i])[-10:]\n",
      "  ...         print(\"%s: %s\" % (category, \" \".join(feature_names[top10])))\n",
      "  ...\n",
      "  >>> show_top10(clf, vectorizer, newsgroups_train.target_names)\n",
      "  alt.atheism: edu it and in you that is of to the\n",
      "  comp.graphics: edu in graphics it is for and of to the\n",
      "  sci.space: edu it that is in and space to of the\n",
      "  talk.religion.misc: not it you in is that and to of the\n",
      "\n",
      "\n",
      "You can now see many things that these features have overfit to:\n",
      "\n",
      "- Almost every group is distinguished by whether headers such as\n",
      "  ``NNTP-Posting-Host:`` and ``Distribution:`` appear more or less often.\n",
      "- Another significant feature involves whether the sender is affiliated with\n",
      "  a university, as indicated either by their headers or their signature.\n",
      "- The word \"article\" is a significant feature, based on how often people quote\n",
      "  previous posts like this: \"In article [article ID], [name] <[e-mail address]>\n",
      "  wrote:\"\n",
      "- Other features match the names and e-mail addresses of particular people who\n",
      "  were posting at the time.\n",
      "\n",
      "With such an abundance of clues that distinguish newsgroups, the classifiers\n",
      "barely have to identify topics from text at all, and they all perform at the\n",
      "same high level.\n",
      "\n",
      "For this reason, the functions that load 20 Newsgroups data provide a\n",
      "parameter called **remove**, telling it what kinds of information to strip out\n",
      "of each file. **remove** should be a tuple containing any subset of\n",
      "``('headers', 'footers', 'quotes')``, telling it to remove headers, signature\n",
      "blocks, and quotation blocks respectively.\n",
      "\n",
      "  >>> newsgroups_test = fetch_20newsgroups(subset='test',\n",
      "  ...                                      remove=('headers', 'footers', 'quotes'),\n",
      "  ...                                      categories=categories)\n",
      "  >>> vectors_test = vectorizer.transform(newsgroups_test.data)\n",
      "  >>> pred = clf.predict(vectors_test)\n",
      "  >>> metrics.f1_score(pred, newsgroups_test.target, average='macro')\n",
      "  0.77310...\n",
      "\n",
      "This classifier lost over a lot of its F-score, just because we removed\n",
      "metadata that has little to do with topic classification.\n",
      "It loses even more if we also strip this metadata from the training data:\n",
      "\n",
      "  >>> newsgroups_train = fetch_20newsgroups(subset='train',\n",
      "  ...                                       remove=('headers', 'footers', 'quotes'),\n",
      "  ...                                       categories=categories)\n",
      "  >>> vectors = vectorizer.fit_transform(newsgroups_train.data)\n",
      "  >>> clf = MultinomialNB(alpha=.01)\n",
      "  >>> clf.fit(vectors, newsgroups_train.target)\n",
      "  MultinomialNB(alpha=0.01, class_prior=None, fit_prior=True)\n",
      "\n",
      "  >>> vectors_test = vectorizer.transform(newsgroups_test.data)\n",
      "  >>> pred = clf.predict(vectors_test)\n",
      "  >>> metrics.f1_score(newsgroups_test.target, pred, average='macro')\n",
      "  0.76995...\n",
      "\n",
      "Some other classifiers cope better with this harder version of the task. Try\n",
      "running :ref:`sphx_glr_auto_examples_model_selection_grid_search_text_feature_extraction.py` with and without\n",
      "the ``--filter`` option to compare the results.\n",
      "\n",
      ".. topic:: Data Considerations\n",
      "\n",
      "  The Cleveland Indians is a major league baseball team based in Cleveland,\n",
      "  Ohio, USA. In December 2020, it was reported that \"After several months of\n",
      "  discussion sparked by the death of George Floyd and a national reckoning over\n",
      "  race and colonialism, the Cleveland Indians have decided to change their\n",
      "  name.\" Team owner Paul Dolan \"did make it clear that the team will not make\n",
      "  its informal nickname -- the Tribe -- its new team name.\" \"It’s not going to\n",
      "  be a half-step away from the Indians,\" Dolan said.\"We will not have a Native\n",
      "  American-themed name.\"\n",
      "\n",
      "  https://www.mlb.com/news/cleveland-indians-team-name-change\n",
      "\n",
      ".. topic:: Recommendation\n",
      "\n",
      "  - When evaluating text classifiers on the 20 Newsgroups data, you\n",
      "    should strip newsgroup-related metadata. In scikit-learn, you can do this\n",
      "    by setting ``remove=('headers', 'footers', 'quotes')``. The F-score will be\n",
      "    lower because it is more realistic.\n",
      "  - This text dataset contains data which may be inappropriate for certain NLP\n",
      "    applications. An example is listed in the \"Data Considerations\" section\n",
      "    above. The challenge with using current text datasets in NLP for tasks such\n",
      "    as sentence completion, clustering, and other applications is that text\n",
      "    that is culturally biased and inflammatory will propagate biases. This\n",
      "    should be taken into consideration when using the dataset, reviewing the\n",
      "    output, and the bias should be documented.\n",
      "\n",
      ".. topic:: Examples\n",
      "\n",
      "   * :ref:`sphx_glr_auto_examples_model_selection_grid_search_text_feature_extraction.py`\n",
      "\n",
      "   * :ref:`sphx_glr_auto_examples_text_plot_document_classification_20newsgroups.py`\n",
      "\n"
     ]
    }
   ],
   "source": [
    "news = fetch_20newsgroups(subset='all')\n",
    "print(news.DESCR)"
   ]
  },
  {
   "cell_type": "code",
   "execution_count": 3,
   "metadata": {},
   "outputs": [
    {
     "data": {
      "text/plain": [
       "dict_keys(['data', 'filenames', 'target_names', 'target', 'DESCR'])"
      ]
     },
     "execution_count": 3,
     "metadata": {},
     "output_type": "execute_result"
    }
   ],
   "source": [
    "news.keys()"
   ]
  },
  {
   "cell_type": "code",
   "execution_count": 4,
   "metadata": {},
   "outputs": [
    {
     "name": "stdout",
     "output_type": "stream",
     "text": [
      "filenames: (18846,)\n",
      "target: (18846,)\n",
      "len target_names: 20\n",
      "len data: 18846\n",
      "target_names: ['alt.atheism', 'comp.graphics', 'comp.os.ms-windows.misc', 'comp.sys.ibm.pc.hardware', 'comp.sys.mac.hardware', 'comp.windows.x', 'misc.forsale', 'rec.autos', 'rec.motorcycles', 'rec.sport.baseball', 'rec.sport.hockey', 'sci.crypt', 'sci.electronics', 'sci.med', 'sci.space', 'soc.religion.christian', 'talk.politics.guns', 'talk.politics.mideast', 'talk.politics.misc', 'talk.religion.misc']\n"
     ]
    }
   ],
   "source": [
    "print(f'filenames: {news.filenames.shape}')\n",
    "print(f'target: {news.target.shape}')\n",
    "print(f'len target_names: {len(news.target_names)}')\n",
    "print(f'len data: {len(news.data)}')\n",
    "print(f'target_names: {news.target_names}')"
   ]
  },
  {
   "cell_type": "markdown",
   "metadata": {},
   "source": [
    "4. Выведите несколько точек датасета (сами текстовые фрагменты и значение целевой переменной);\n"
   ]
  },
  {
   "cell_type": "code",
   "execution_count": 5,
   "metadata": {},
   "outputs": [
    {
     "name": "stdout",
     "output_type": "stream",
     "text": [
      "------------------\n",
      "sci.electronics =>\n",
      "------------------\n",
      "From: tell@cs.unc.edu (Stephen Tell)\n",
      "Subject: Re: subliminal message flashing on TV\n",
      "Organization: The University of North Carolina at Chapel Hill\n",
      "Lines: 25\n",
      "NNTP-Posting-Host: rukbat.cs.unc.edu\n",
      "\n",
      "In article <7480237@hpfcso.FC.HP.COM> myers@hpfcso.FC.HP.COM (Bob Myers) writes:\n",
      ">> Hi.  I was doing research on subliminal suggestion for a psychology\n",
      ">> paper, and I read that one researcher flashed hidden messages on the\n",
      ">> TV screen at 1/200ths of a second.  Is that possible?\n",
      "\n",
      "> Might\n",
      ">even be a vector (\"strokewriter\") display, in which case the lower limit\n",
      ">on image time is anyone's guess (and is probably phosphor-persistence limited).\n",
      "\n",
      "Back in high school I worked as a lab assistant for a bunch of experimental\n",
      "psychologists at Bell Labs.  When they were doing visual perception and\n",
      "memory experiments, they used vector-type displays, with 1-millisecond\n",
      "refresh rates common.\n",
      "\n",
      "So your case of 1/200th sec is quite practical, and the experimenters were\n",
      "probably sure that it was 5 milliseconds, not 4 or 6 either.\n",
      "\n",
      ">Bob Myers  KC0EW >myers@fc.hp.com \n",
      "\n",
      "Steve\n",
      "-- \n",
      "Steve Tell       tell@cs.unc.edu H: 919 968 1792  | #5L Estes Park apts\n",
      "UNC Chapel Hill Computer Science W: 919 962 1845  | Carrboro NC 27510\n",
      "Engineering is a _lot_ like art:  Some circuits are like lyric poems, some\n",
      "are like army manuals, and some are like The Hitchhiker's Guide to the Galaxy..\n",
      "\n",
      "\n",
      "\n",
      "------------------\n",
      "sci.space =>\n",
      "------------------\n",
      "From: prb@access.digex.com (Pat)\n",
      "Subject: Conference on Manned Lunar Exploration.  May 7  Crystal City\n",
      "Organization: Express Access Online Communications, Greenbelt MD USA\n",
      "Lines: 9\n",
      "Distribution: na\n",
      "NNTP-Posting-Host: access.digex.net\n",
      "\n",
      "\n",
      "AW&ST  had a brief blurb on a Manned Lunar Exploration confernce\n",
      "May 7th  at Crystal City Virginia, under the auspices of AIAA.\n",
      "\n",
      "Does anyone know more about this?  How much, to attend????\n",
      "\n",
      "Anyone want to go?\n",
      "\n",
      "pat\n",
      "\n",
      "\n",
      "\n",
      "------------------\n",
      "rec.motorcycles =>\n",
      "------------------\n",
      "From: fist@iscp.bellcore.com (Richard Pierson)\n",
      "Subject: Re: Observation re: helmets\n",
      "Nntp-Posting-Host: foxtrot.iscp.bellcore.com\n",
      "Organization: Bellcore\n",
      "Distribution: usa\n",
      "Lines: 40\n",
      "\n",
      "In article <211353@mavenry.altcit.eskimo.com>,\n",
      "maven@mavenry.altcit.eskimo.com (Norman Hamer) writes:\n",
      "|>  \n",
      "|>  Grf. Dropped my Shoei RF-200 off the seat of my bike while trying to\n",
      "|> rock \n",
      "|> it onto it's centerstand, chipped the heck out of the paint on it...\n",
      "|>  \n",
      "|>  So I cheerfully spent $.59 on a bottle of testor's model paint and \n",
      "|> repainted the scratches and chips for 20 minutes.\n",
      "|>  \n",
      "|>  The question for the day is re: passenger helmets, if you don't know\n",
      "|> for \n",
      "|> certain who's gonna ride with you (like say you meet them at a ....\n",
      "|> church \n",
      "|> meeting, yeah, that's the ticket)... What are some guidelines? Should\n",
      "|> I just \n",
      "|> pick up another shoei in my size to have a backup helmet (XL), or\n",
      "|> should I \n",
      "|> maybe get an inexpensive one of a smaller size to accomodate my\n",
      "|> likely \n",
      "|> passenger? \n",
      "\n",
      "   My rule of thumb is \"Don't give rides to people that wear\n",
      "a bigger helmet than you\", unless your taste runs that way,\n",
      "or they are family.friends.\n",
      "Gee,  reminds me of a *dancer* in Hull, just over the river \n",
      "from Ottowa, that I saw a few years ago, for her I would a\n",
      "bought a bigger helmet (or even her own bike) or anything \n",
      "else she wanted ;->\n",
      "-- \n",
      "##########################################################\n",
      "There are only two types of ships in the NAVY; SUBMARINES \n",
      "                 and TARGETS !!!\n",
      "#1/XS1100LH\tDoD #956   #2 Next raise\n",
      "Richard Pierson E06584 vnet: [908] 699-6063\n",
      "Internet: fist@iscp.bellcore.com,|| UUNET:uunet!bcr!fist  \n",
      "#include <std.disclaimer> My opinions are my own!!!\n",
      "I Don't shop in malls, I BUY my jeans, jackets and ammo\n",
      "in the same store.\n",
      "\n",
      "\n",
      "\n",
      "\n"
     ]
    }
   ],
   "source": [
    "for i in [5, 25, 55]:\n",
    "    print(f'------------------\\n{news.target_names[news.target[i]]} =>\\n------------------\\n{news.data[i]}\\n\\n')"
   ]
  },
  {
   "cell_type": "markdown",
   "metadata": {},
   "source": [
    "5. Разделите эти данные на тестовую и обучающую выборки;\n"
   ]
  },
  {
   "cell_type": "code",
   "execution_count": 6,
   "metadata": {},
   "outputs": [],
   "source": [
    "newsgroups_train = fetch_20newsgroups(subset='train')\n",
    "newsgroups_test = fetch_20newsgroups(subset='test')"
   ]
  },
  {
   "cell_type": "markdown",
   "metadata": {},
   "source": [
    "6. Постройте модель наивного байесовского для классификации текстов;\n"
   ]
  },
  {
   "cell_type": "code",
   "execution_count": 7,
   "metadata": {},
   "outputs": [],
   "source": [
    "vectorizer = CountVectorizer()\n",
    "vectors_train = vectorizer.fit_transform(newsgroups_train.data)\n",
    "vectors_test = vectorizer.transform(newsgroups_test.data)"
   ]
  },
  {
   "cell_type": "code",
   "execution_count": 8,
   "metadata": {},
   "outputs": [
    {
     "data": {
      "text/plain": [
       "MultinomialNB(alpha=0.005)"
      ]
     },
     "execution_count": 8,
     "metadata": {},
     "output_type": "execute_result"
    }
   ],
   "source": [
    "clf = MultinomialNB(alpha=.005)\n",
    "clf.fit(vectors_train, newsgroups_train.target)"
   ]
  },
  {
   "cell_type": "code",
   "execution_count": 9,
   "metadata": {},
   "outputs": [],
   "source": [
    "pred_train = clf.predict(vectors_train)\n",
    "pred_test = clf.predict(vectors_test)"
   ]
  },
  {
   "cell_type": "markdown",
   "metadata": {},
   "source": [
    "7. Оцените качество модели на тестовой выборке с помощью следующих метрик:\n",
    "   - достоверность предсказания (accuracy);\n",
    "   - точность (precision);\n",
    "   - полнота (recall);"
   ]
  },
  {
   "cell_type": "code",
   "execution_count": 10,
   "metadata": {},
   "outputs": [
    {
     "name": "stdout",
     "output_type": "stream",
     "text": [
      "ACCURACY\n",
      "0.9722467739084321\n",
      "0.8023101433882103\n",
      "\n",
      "PRECISION\n",
      "0.9760827853496064\n",
      "0.8065317141953295\n",
      "\n",
      "RECALL\n",
      "0.9732095810545947\n",
      "0.7985182930988934\n"
     ]
    }
   ],
   "source": [
    "# accuracy - процент верных предсказаний\n",
    "print('ACCURACY')\n",
    "print(accuracy_score(newsgroups_train.target, pred_train))\n",
    "print(accuracy_score(newsgroups_test.target, pred_test))\n",
    "\n",
    "# precision - сколько верных среди предсказанных (\"Класс 1/да\")\n",
    "print('\\nPRECISION')\n",
    "print(precision_score(newsgroups_train.target, pred_train, average='macro'))\n",
    "print(precision_score(newsgroups_test.target, pred_test, average='macro'))\n",
    "\n",
    "# recall - сколько из настоящих \"Класс 1/да\" определены верно\n",
    "print('\\nRECALL')\n",
    "print(recall_score(newsgroups_train.target, pred_train, average='macro'))\n",
    "print(recall_score(newsgroups_test.target, pred_test, average='macro'))"
   ]
  },
  {
   "cell_type": "markdown",
   "metadata": {},
   "source": [
    "8. Постройте кривую обучения - график зависимости тестовой и обучающей эффективности от размера обучающей выборки."
   ]
  },
  {
   "cell_type": "code",
   "execution_count": 11,
   "metadata": {},
   "outputs": [],
   "source": [
    "trainings, tests, size = [], [], np.linspace(0.6, 0.1, num=20)\n",
    "\n",
    "for test_size in np.linspace(0.6, 0.1, num=20):\n",
    "    newsgroups_data_train, newsgroups_data_test, newsgroups_target_train, newsgroups_target_test = train_test_split(news.data,\n",
    "                                                    news.target, test_size=test_size)\n",
    "    \n",
    "    vectorizer = CountVectorizer()\n",
    "    vectors_train = vectorizer.fit_transform(newsgroups_data_train)\n",
    "    vectors_test = vectorizer.transform(newsgroups_data_test)\n",
    "    \n",
    "    clf = MultinomialNB(alpha=.005)\n",
    "    clf.fit(vectors_train, newsgroups_target_train)\n",
    "    \n",
    "    trainings.append(clf.score(vectors_train, newsgroups_target_train))\n",
    "    tests.append(clf.score(vectors_test, newsgroups_target_test))"
   ]
  },
  {
   "cell_type": "code",
   "execution_count": 12,
   "metadata": {},
   "outputs": [
    {
     "data": {
      "text/plain": [
       "Text(0, 0.5, 'Точность')"
      ]
     },
     "execution_count": 12,
     "metadata": {},
     "output_type": "execute_result"
    },
    {
     "data": {
      "image/png": "[encoded data removed]",
      "text/plain": [
       "<Figure size 432x288 with 1 Axes>"
      ]
     },
     "metadata": {
      "needs_background": "light"
     },
     "output_type": "display_data"
    }
   ],
   "source": [
    "fig, ax = plt.subplots()\n",
    "ax.plot(size, trainings, \"r\")\n",
    "ax.plot(size, tests, \"g\")\n",
    "ax.set_xlabel(\"Размер выборки\")\n",
    "ax.set_ylabel(\"Точность\")"
   ]
  },
  {
   "cell_type": "markdown",
   "metadata": {},
   "source": [
    "9. Сделайте вывод о применимости модели."
   ]
  },
  {
   "cell_type": "markdown",
   "metadata": {},
   "source": [
    "Модель с увеличением выборки при знакомых данных дает результат, близкий к 100%, а вот с неизвествными -- 90% и ниже. Результат метрики находится в пределах хороших, и падает не так уж быстро, так что модель полученная вполне хорошая и применима. "
   ]
  },
  {
   "cell_type": "markdown",
   "metadata": {},
   "source": [
    "## Дополнительные задания\n",
    "\n"
   ]
  },
  {
   "cell_type": "markdown",
   "metadata": {},
   "source": [
    "1. Постройте модели классификации для данной задачи на основе следующих методов:\n",
    "    - логистическая регрессия (LogisticRegression);\n",
    "    - метод опорных векторов с гауссовым ядром (SVC);\n",
    "    - метод опорных векторов с полиномиальным ядром (SVC);\n",
    "    - метод k ближайших соседей (KNeighborsClassifier);\n",
    "    - многослойный перцептрон (MLP);\n",
    "    \n",
    "2. Проанализируйте метрики каждой модели и сделайте выводы об их эффективности и применимости. Сравните эффективность всех этих моделей и выберите лучшую;\n",
    "\n",
    "4. Сделайте замеры времени обучения для каждой модели. Сделайте вывод о сравнительной производительности моделей.\n",
    "\n"
   ]
  },
  {
   "cell_type": "markdown",
   "metadata": {},
   "source": [
    "1️⃣ логистическая регрессия (LogisticRegression)"
   ]
  },
  {
   "cell_type": "code",
   "execution_count": 13,
   "metadata": {},
   "outputs": [],
   "source": [
    "newsgroups_train = fetch_20newsgroups(subset='train')\n",
    "newsgroups_test = fetch_20newsgroups(subset='test')\n",
    "\n",
    "vectorizer = CountVectorizer()\n",
    "vectors_train = vectorizer.fit_transform(newsgroups_train.data)\n",
    "vectors_test = vectorizer.transform(newsgroups_test.data)"
   ]
  },
  {
   "cell_type": "code",
   "execution_count": 14,
   "metadata": {},
   "outputs": [
    {
     "name": "stdout",
     "output_type": "stream",
     "text": [
      "CPU times: user 1min 36s, sys: 2.38 s, total: 1min 38s\n",
      "Wall time: 54.5 s\n"
     ]
    }
   ],
   "source": [
    "%%time\n",
    "lr = LogisticRegression(max_iter=100).fit(vectors_train, newsgroups_train.target)\n",
    "pred_train = lr.predict(vectors_train)\n",
    "pred_test = lr.predict(vectors_test)"
   ]
  },
  {
   "cell_type": "code",
   "execution_count": 15,
   "metadata": {},
   "outputs": [
    {
     "name": "stdout",
     "output_type": "stream",
     "text": [
      "ACCURACY\n",
      "0.9996464557185788\n",
      "0.7902283590015932\n",
      "\n",
      "PRECISION\n",
      "0.9996564858035839\n",
      "0.7887775312957979\n",
      "\n",
      "RECALL\n",
      "0.9996380821859224\n",
      "0.7838192551864072\n"
     ]
    }
   ],
   "source": [
    "print('ACCURACY')\n",
    "print(accuracy_score(newsgroups_train.target, pred_train))\n",
    "print(accuracy_score(newsgroups_test.target, pred_test))\n",
    "\n",
    "print('\\nPRECISION')\n",
    "print(precision_score(newsgroups_train.target, pred_train, average='macro'))\n",
    "print(precision_score(newsgroups_test.target, pred_test, average='macro'))\n",
    "\n",
    "print('\\nRECALL')\n",
    "print(recall_score(newsgroups_train.target, pred_train, average='macro'))\n",
    "print(recall_score(newsgroups_test.target, pred_test, average='macro'))"
   ]
  },
  {
   "cell_type": "markdown",
   "metadata": {},
   "source": [
    "2️⃣ метод опорных векторов с гауссовым ядром (SVC)"
   ]
  },
  {
   "cell_type": "code",
   "execution_count": 33,
   "metadata": {},
   "outputs": [
    {
     "name": "stdout",
     "output_type": "stream",
     "text": [
      "CPU times: user 12min 18s, sys: 7.61 s, total: 12min 25s\n",
      "Wall time: 13min 22s\n"
     ]
    }
   ],
   "source": [
    "%%time\n",
    "SVC_rbf = SVC(C=1.0, kernel='rbf', degree=2, gamma='auto').fit(vectors_train, newsgroups_train.target)\n",
    "\n",
    "pred_train = SVC_rbf.predict(vectors_train)\n",
    "pred_test = SVC_rbf.predict(vectors_test)"
   ]
  },
  {
   "cell_type": "code",
   "execution_count": 34,
   "metadata": {},
   "outputs": [
    {
     "name": "stdout",
     "output_type": "stream",
     "text": [
      "ACCURACY\n",
      "0.10809616404454658\n",
      "0.09360063728093468\n",
      "\n",
      "PRECISION\n",
      "0.5014700126403331\n",
      "0.331073157183304\n",
      "\n",
      "RECALL\n",
      "0.10427028459413265\n",
      "0.09034132215804044\n"
     ]
    }
   ],
   "source": [
    "print('ACCURACY')\n",
    "print(accuracy_score(newsgroups_train.target, pred_train))\n",
    "print(accuracy_score(newsgroups_test.target, pred_test))\n",
    "\n",
    "print('\\nPRECISION')\n",
    "print(precision_score(newsgroups_train.target, pred_train, average='macro'))\n",
    "print(precision_score(newsgroups_test.target, pred_test, average='macro'))\n",
    "\n",
    "print('\\nRECALL')\n",
    "print(recall_score(newsgroups_train.target, pred_train, average='macro'))\n",
    "print(recall_score(newsgroups_test.target, pred_test, average='macro'))"
   ]
  },
  {
   "cell_type": "markdown",
   "metadata": {},
   "source": [
    "3️⃣ метод опорных векторов с полиномиальным ядром (SVC)"
   ]
  },
  {
   "cell_type": "code",
   "execution_count": 18,
   "metadata": {},
   "outputs": [
    {
     "name": "stdout",
     "output_type": "stream",
     "text": [
      "CPU times: user 3 µs, sys: 1 µs, total: 4 µs\n",
      "Wall time: 4.77 µs\n"
     ]
    }
   ],
   "source": [
    "%time\n",
    "SVC_pol = SVC(degree=2, kernel='poly').fit(vectors_train, newsgroups_train.target)\n",
    "\n",
    "pred_train = SVC_pol.predict(vectors_train)\n",
    "pred_test = SVC_pol.predict(vectors_test)"
   ]
  },
  {
   "cell_type": "code",
   "execution_count": 19,
   "metadata": {},
   "outputs": [
    {
     "name": "stdout",
     "output_type": "stream",
     "text": [
      "ACCURACY\n",
      "0.06664309704790525\n",
      "0.06120552310143388\n",
      "\n",
      "PRECISION\n",
      "0.6469094225443538\n",
      "0.37645708728446525\n",
      "\n",
      "RECALL\n",
      "0.06375259969846966\n",
      "0.05844430412883748\n"
     ]
    }
   ],
   "source": [
    "print('ACCURACY')\n",
    "print(accuracy_score(newsgroups_train.target, pred_train))\n",
    "print(accuracy_score(newsgroups_test.target, pred_test))\n",
    "\n",
    "print('\\nPRECISION')\n",
    "print(precision_score(newsgroups_train.target, pred_train, average='macro'))\n",
    "print(precision_score(newsgroups_test.target, pred_test, average='macro'))\n",
    "\n",
    "print('\\nRECALL')\n",
    "print(recall_score(newsgroups_train.target, pred_train, average='macro'))\n",
    "print(recall_score(newsgroups_test.target, pred_test, average='macro'))"
   ]
  },
  {
   "cell_type": "markdown",
   "metadata": {},
   "source": [
    "4️⃣ метод k ближайших соседей (KNeighborsClassifier)"
   ]
  },
  {
   "cell_type": "code",
   "execution_count": 20,
   "metadata": {},
   "outputs": [
    {
     "name": "stdout",
     "output_type": "stream",
     "text": [
      "CPU times: user 3 µs, sys: 1e+03 ns, total: 4 µs\n",
      "Wall time: 23.1 µs\n"
     ]
    }
   ],
   "source": [
    "%time\n",
    "knn = KNeighborsClassifier(n_neighbors=1).fit(vectors_train, newsgroups_train.target)\n",
    "\n",
    "pred_train = knn.predict(vectors_train)\n",
    "pred_test = knn.predict(vectors_test)"
   ]
  },
  {
   "cell_type": "code",
   "execution_count": 21,
   "metadata": {},
   "outputs": [
    {
     "name": "stdout",
     "output_type": "stream",
     "text": [
      "ACCURACY\n",
      "0.9999116139296447\n",
      "0.3951141795007966\n",
      "\n",
      "PRECISION\n",
      "0.9999159663865547\n",
      "0.42611889813341397\n",
      "\n",
      "RECALL\n",
      "0.9999163879598661\n",
      "0.39494507201997675\n"
     ]
    }
   ],
   "source": [
    "print('ACCURACY')\n",
    "print(accuracy_score(newsgroups_train.target, pred_train))\n",
    "print(accuracy_score(newsgroups_test.target, pred_test))\n",
    "\n",
    "print('\\nPRECISION')\n",
    "print(precision_score(newsgroups_train.target, pred_train, average='macro'))\n",
    "print(precision_score(newsgroups_test.target, pred_test, average='macro'))\n",
    "\n",
    "print('\\nRECALL')\n",
    "print(recall_score(newsgroups_train.target, pred_train, average='macro'))\n",
    "print(recall_score(newsgroups_test.target, pred_test, average='macro'))"
   ]
  },
  {
   "cell_type": "markdown",
   "metadata": {},
   "source": [
    "5️⃣ многослойный перцептрон (MLP)"
   ]
  },
  {
   "cell_type": "code",
   "execution_count": 22,
   "metadata": {},
   "outputs": [
    {
     "name": "stdout",
     "output_type": "stream",
     "text": [
      "CPU times: user 4 µs, sys: 1e+03 ns, total: 5 µs\n",
      "Wall time: 23.1 µs\n"
     ]
    }
   ],
   "source": [
    "%time\n",
    "mlp = MLPClassifier(solver='lbfgs', alpha=.005,\n",
    "                     hidden_layer_sizes=(50,35), random_state=1).fit(vectors_train, newsgroups_train.target)\n",
    "\n",
    "pred_train = mlp.predict(vectors_train)\n",
    "pred_test = mlp.predict(vectors_test)"
   ]
  },
  {
   "cell_type": "code",
   "execution_count": 23,
   "metadata": {},
   "outputs": [
    {
     "name": "stdout",
     "output_type": "stream",
     "text": [
      "ACCURACY\n",
      "0.9999116139296447\n",
      "0.7602230483271375\n",
      "\n",
      "PRECISION\n",
      "0.9999165275459099\n",
      "0.758658219238529\n",
      "\n",
      "RECALL\n",
      "0.9999158249158249\n",
      "0.7539100548378946\n"
     ]
    }
   ],
   "source": [
    "print('ACCURACY')\n",
    "print(accuracy_score(newsgroups_train.target, pred_train))\n",
    "print(accuracy_score(newsgroups_test.target, pred_test))\n",
    "\n",
    "print('\\nPRECISION')\n",
    "print(precision_score(newsgroups_train.target, pred_train, average='macro'))\n",
    "print(precision_score(newsgroups_test.target, pred_test, average='macro'))\n",
    "\n",
    "print('\\nRECALL')\n",
    "print(recall_score(newsgroups_train.target, pred_train, average='macro'))\n",
    "print(recall_score(newsgroups_test.target, pred_test, average='macro'))"
   ]
  },
  {
   "cell_type": "markdown",
   "metadata": {},
   "source": [
    "✏️ Самая долгообучаемая модель - метод опорных векторов с гауссовым ядром. У LogisticRegressionнаилучшие метрики на данном датасете (accuracy - 79%, precision - 79%, recall - 78%). \n",
    "Метод опорных векторов с полиномиальным ядром (SVC) получилось обучить быстрее всего, при этом результат он дает наихужший результат (как и SVC с гауссовским ядром) (accuracy - 6%, precision - 37%, recall - 6%).   \n",
    "   \n",
    "✏️ Тем не менее, с учетом скорости обучения и результат метрик, я бы остановилась на методе многослойном перцептроне (MLP) (accuracy - 76%, precision - 76%, recall - 75%; обучается за 23.1 µs)"
   ]
  },
  {
   "cell_type": "markdown",
   "metadata": {},
   "source": [
    "3. Для каждой модели из п.3 постройте кривые обучения и диагностируйте недо-/переобучение модели. Попробуйте изменить параметр регуляризации для улучшения результатов модели.\n",
    "\n",
    "\n"
   ]
  },
  {
   "cell_type": "code",
   "execution_count": 24,
   "metadata": {},
   "outputs": [],
   "source": [
    "def training_curve(model):\n",
    "    trainings, tests, size = [], [], np.linspace(0.6, 0.1, num=20)\n",
    "\n",
    "    for test_size in np.linspace(0.6, 0.1, num=20):\n",
    "        newsgroups_data_train, newsgroups_data_test, newsgroups_target_train, newsgroups_target_test = train_test_split(news.data,\n",
    "                                                        news.target, test_size=test_size)\n",
    "\n",
    "        vectorizer = CountVectorizer()\n",
    "        vectors_train = vectorizer.fit_transform(newsgroups_data_train)\n",
    "        vectors_test = vectorizer.transform(newsgroups_data_test)\n",
    "\n",
    "        clf = MultinomialNB(alpha=.005)\n",
    "        clf.fit(vectors_train, newsgroups_target_train)\n",
    "\n",
    "        trainings.append(clf.score(vectors_train, newsgroups_target_train))\n",
    "        tests.append(clf.score(vectors_test, newsgroups_target_test))\n",
    "        \n",
    "    fig, ax = plt.subplots()\n",
    "    ax.plot(size, trainings, \"r\")\n",
    "    ax.plot(size, tests, \"g\")\n",
    "    ax.set_xlabel(\"Размер выборки\")\n",
    "    ax.set_ylabel(\"Точность\")"
   ]
  },
  {
   "cell_type": "markdown",
   "metadata": {},
   "source": [
    "1️⃣ логистическая регрессия (LogisticRegression)"
   ]
  },
  {
   "cell_type": "code",
   "execution_count": 25,
   "metadata": {},
   "outputs": [
    {
     "data": {
      "image/png": "[encoded data removed]",
      "text/plain": [
       "<Figure size 432x288 with 1 Axes>"
      ]
     },
     "metadata": {
      "needs_background": "light"
     },
     "output_type": "display_data"
    }
   ],
   "source": [
    "training_curve(lr)"
   ]
  },
  {
   "cell_type": "markdown",
   "metadata": {},
   "source": [
    "кривая довольно прямая. не вижу здесь переобученность"
   ]
  },
  {
   "cell_type": "markdown",
   "metadata": {},
   "source": [
    "2️⃣ метод опорных векторов с гауссовым ядром (SVC)"
   ]
  },
  {
   "cell_type": "code",
   "execution_count": 26,
   "metadata": {},
   "outputs": [
    {
     "data": {
      "image/png": "[encoded data removed]",
      "text/plain": [
       "<Figure size 432x288 with 1 Axes>"
      ]
     },
     "metadata": {
      "needs_background": "light"
     },
     "output_type": "display_data"
    }
   ],
   "source": [
    "training_curve(SVC_rbf)"
   ]
  },
  {
   "cell_type": "markdown",
   "metadata": {},
   "source": [
    "кривая довольно прямая. не вижу здесь переобученность"
   ]
  },
  {
   "cell_type": "markdown",
   "metadata": {},
   "source": [
    "3️⃣ метод опорных векторов с полиномиальным ядром (SVC)"
   ]
  },
  {
   "cell_type": "code",
   "execution_count": 27,
   "metadata": {},
   "outputs": [
    {
     "data": {
      "image/png": "[encoded data removed]",
      "text/plain": [
       "<Figure size 432x288 with 1 Axes>"
      ]
     },
     "metadata": {
      "needs_background": "light"
     },
     "output_type": "display_data"
    }
   ],
   "source": [
    "training_curve(SVC_pol)"
   ]
  },
  {
   "cell_type": "markdown",
   "metadata": {},
   "source": [
    "кривая довольно прямая. не вижу здесь переобученность"
   ]
  },
  {
   "cell_type": "markdown",
   "metadata": {},
   "source": [
    "4️⃣ метод k ближайших соседей (KNeighborsClassifier)"
   ]
  },
  {
   "cell_type": "code",
   "execution_count": 28,
   "metadata": {},
   "outputs": [
    {
     "data": {
      "image/png": "[encoded data removed]",
      "text/plain": [
       "<Figure size 432x288 with 1 Axes>"
      ]
     },
     "metadata": {
      "needs_background": "light"
     },
     "output_type": "display_data"
    }
   ],
   "source": [
    "training_curve(knn)"
   ]
  },
  {
   "cell_type": "markdown",
   "metadata": {},
   "source": [
    "кривая довольно прямая. не вижу здесь переобученность"
   ]
  },
  {
   "cell_type": "markdown",
   "metadata": {},
   "source": [
    "5️⃣ многослойный перцептрон (MLP)"
   ]
  },
  {
   "cell_type": "code",
   "execution_count": 29,
   "metadata": {},
   "outputs": [
    {
     "data": {
      "image/png": "[encoded data removed]",
      "text/plain": [
       "<Figure size 432x288 with 1 Axes>"
      ]
     },
     "metadata": {
      "needs_background": "light"
     },
     "output_type": "display_data"
    }
   ],
   "source": [
    "training_curve(mlp)"
   ]
  },
  {
   "cell_type": "markdown",
   "metadata": {},
   "source": [
    "кривая довольно прямая. не вижу здесь переобученность"
   ]
  },
  {
   "cell_type": "markdown",
   "metadata": {},
   "source": [
    "## Контрольные вопросы\n",
    "\n"
   ]
  },
  {
   "cell_type": "markdown",
   "metadata": {},
   "source": [
    "1. Какие выводы мы можем сделать на основании метрик модели, построенной в данной лабораторной работе?\n"
   ]
  },
  {
   "cell_type": "markdown",
   "metadata": {},
   "source": [
    "2. Как представляется текст в методах машинного обучения? Какие основные методы векторизации существуют?\n",
    "\n"
   ]
  },
  {
   "cell_type": "markdown",
   "metadata": {},
   "source": [
    "3. Какие задачи существую в области обработки естественных текстов?\n"
   ]
  },
  {
   "cell_type": "markdown",
   "metadata": {},
   "source": [
    "4. (*) Что такое текстовые вложения (эмбеддинги)? Как они строятся и зачем применяются?\n",
    "\n"
   ]
  }
 ],
 "metadata": {
  "kernelspec": {
   "display_name": "Python 3",
   "language": "python",
   "name": "python3"
  },
  "language_info": {
   "codemirror_mode": {
    "name": "ipython",
    "version": 3
   },
   "file_extension": ".py",
   "mimetype": "text/x-python",
   "name": "python",
   "nbconvert_exporter": "python",
   "pygments_lexer": "ipython3",
   "version": "3.8.5"
  }
 },
 "nbformat": 4,
 "nbformat_minor": 4
}
