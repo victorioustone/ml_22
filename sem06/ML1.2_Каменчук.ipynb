{
 "cells": [
  {
   "cell_type": "markdown",
   "metadata": {},
   "source": [
    "## Множественная линейная регрессия на чистых данных"
   ]
  },
  {
   "cell_type": "markdown",
   "metadata": {},
   "source": [
    "1. Ваша задача - построить предиктивную модель предсказания целевой переменной в зависимости от значения нескольких факторов (признаков).\n",
    "2. Загрузите датасет отсюда. Вам понадобится два файла - отдельно с признаками (помечен x) и значениями целевой переменной (помечен y). Файлы не содержат заголовков столбцов и строк.\n"
   ]
  },
  {
   "cell_type": "code",
   "execution_count": 1,
   "metadata": {},
   "outputs": [],
   "source": [
    "import numpy as np\n",
    "import pandas as pd\n",
    "import random\n",
    "import matplotlib.pyplot as plt"
   ]
  },
  {
   "cell_type": "code",
   "execution_count": 2,
   "metadata": {},
   "outputs": [],
   "source": [
    "x_ = pd.read_csv('data/8_x.csv',names=['x1','x2','x3','x4','x5','x6','x7'], header=None)\n",
    "y_ = pd.read_csv('data/8_y.csv', names = ['Y'], header=None)"
   ]
  },
  {
   "cell_type": "code",
   "execution_count": 3,
   "metadata": {},
   "outputs": [
    {
     "data": {
      "text/html": [
       "<div>\n",
       "<style scoped>\n",
       "    .dataframe tbody tr th:only-of-type {\n",
       "        vertical-align: middle;\n",
       "    }\n",
       "\n",
       "    .dataframe tbody tr th {\n",
       "        vertical-align: top;\n",
       "    }\n",
       "\n",
       "    .dataframe thead th {\n",
       "        text-align: right;\n",
       "    }\n",
       "</style>\n",
       "<table border=\"1\" class=\"dataframe\">\n",
       "  <thead>\n",
       "    <tr style=\"text-align: right;\">\n",
       "      <th></th>\n",
       "      <th>x1</th>\n",
       "      <th>x2</th>\n",
       "      <th>x3</th>\n",
       "      <th>x4</th>\n",
       "      <th>x5</th>\n",
       "      <th>x6</th>\n",
       "      <th>x7</th>\n",
       "    </tr>\n",
       "  </thead>\n",
       "  <tbody>\n",
       "    <tr>\n",
       "      <th>0</th>\n",
       "      <td>1.514584</td>\n",
       "      <td>-0.621563</td>\n",
       "      <td>-1.277379</td>\n",
       "      <td>-1.236340</td>\n",
       "      <td>0.449646</td>\n",
       "      <td>-0.713396</td>\n",
       "      <td>-0.008099</td>\n",
       "    </tr>\n",
       "    <tr>\n",
       "      <th>1</th>\n",
       "      <td>0.120996</td>\n",
       "      <td>0.969454</td>\n",
       "      <td>0.572916</td>\n",
       "      <td>-0.449216</td>\n",
       "      <td>-1.231906</td>\n",
       "      <td>-0.154540</td>\n",
       "      <td>-0.217604</td>\n",
       "    </tr>\n",
       "    <tr>\n",
       "      <th>2</th>\n",
       "      <td>0.091450</td>\n",
       "      <td>-1.781662</td>\n",
       "      <td>0.971287</td>\n",
       "      <td>-0.342499</td>\n",
       "      <td>0.358784</td>\n",
       "      <td>-0.474612</td>\n",
       "      <td>-0.629888</td>\n",
       "    </tr>\n",
       "    <tr>\n",
       "      <th>3</th>\n",
       "      <td>-1.128455</td>\n",
       "      <td>-1.036818</td>\n",
       "      <td>0.594698</td>\n",
       "      <td>-0.613796</td>\n",
       "      <td>2.937939</td>\n",
       "      <td>1.617190</td>\n",
       "      <td>0.236998</td>\n",
       "    </tr>\n",
       "    <tr>\n",
       "      <th>4</th>\n",
       "      <td>0.868826</td>\n",
       "      <td>-0.913182</td>\n",
       "      <td>0.366585</td>\n",
       "      <td>-0.254660</td>\n",
       "      <td>-0.185404</td>\n",
       "      <td>-0.863618</td>\n",
       "      <td>0.214062</td>\n",
       "    </tr>\n",
       "  </tbody>\n",
       "</table>\n",
       "</div>"
      ],
      "text/plain": [
       "         x1        x2        x3        x4        x5        x6        x7\n",
       "0  1.514584 -0.621563 -1.277379 -1.236340  0.449646 -0.713396 -0.008099\n",
       "1  0.120996  0.969454  0.572916 -0.449216 -1.231906 -0.154540 -0.217604\n",
       "2  0.091450 -1.781662  0.971287 -0.342499  0.358784 -0.474612 -0.629888\n",
       "3 -1.128455 -1.036818  0.594698 -0.613796  2.937939  1.617190  0.236998\n",
       "4  0.868826 -0.913182  0.366585 -0.254660 -0.185404 -0.863618  0.214062"
      ]
     },
     "execution_count": 3,
     "metadata": {},
     "output_type": "execute_result"
    }
   ],
   "source": [
    "x_.head()"
   ]
  },
  {
   "cell_type": "code",
   "execution_count": 4,
   "metadata": {},
   "outputs": [
    {
     "data": {
      "text/html": [
       "<div>\n",
       "<style scoped>\n",
       "    .dataframe tbody tr th:only-of-type {\n",
       "        vertical-align: middle;\n",
       "    }\n",
       "\n",
       "    .dataframe tbody tr th {\n",
       "        vertical-align: top;\n",
       "    }\n",
       "\n",
       "    .dataframe thead th {\n",
       "        text-align: right;\n",
       "    }\n",
       "</style>\n",
       "<table border=\"1\" class=\"dataframe\">\n",
       "  <thead>\n",
       "    <tr style=\"text-align: right;\">\n",
       "      <th></th>\n",
       "      <th>Y</th>\n",
       "    </tr>\n",
       "  </thead>\n",
       "  <tbody>\n",
       "    <tr>\n",
       "      <th>0</th>\n",
       "      <td>-88.370484</td>\n",
       "    </tr>\n",
       "    <tr>\n",
       "      <th>1</th>\n",
       "      <td>-33.342405</td>\n",
       "    </tr>\n",
       "    <tr>\n",
       "      <th>2</th>\n",
       "      <td>-132.859442</td>\n",
       "    </tr>\n",
       "    <tr>\n",
       "      <th>3</th>\n",
       "      <td>156.519597</td>\n",
       "    </tr>\n",
       "    <tr>\n",
       "      <th>4</th>\n",
       "      <td>-71.378443</td>\n",
       "    </tr>\n",
       "  </tbody>\n",
       "</table>\n",
       "</div>"
      ],
      "text/plain": [
       "            Y\n",
       "0  -88.370484\n",
       "1  -33.342405\n",
       "2 -132.859442\n",
       "3  156.519597\n",
       "4  -71.378443"
      ]
     },
     "execution_count": 4,
     "metadata": {},
     "output_type": "execute_result"
    }
   ],
   "source": [
    "y_.head()"
   ]
  },
  {
   "cell_type": "markdown",
   "metadata": {},
   "source": [
    "3. Сделайте количественное описание датасета: количество точек данных, признаков, статистику по каждому признаку.\n",
    "\n",
    "\n"
   ]
  },
  {
   "cell_type": "code",
   "execution_count": 5,
   "metadata": {},
   "outputs": [
    {
     "data": {
      "text/plain": [
       "(83, 7)"
      ]
     },
     "execution_count": 5,
     "metadata": {},
     "output_type": "execute_result"
    }
   ],
   "source": [
    "# точки данных x\n",
    "x_.shape"
   ]
  },
  {
   "cell_type": "code",
   "execution_count": 6,
   "metadata": {},
   "outputs": [
    {
     "data": {
      "text/plain": [
       "(83, 1)"
      ]
     },
     "execution_count": 6,
     "metadata": {},
     "output_type": "execute_result"
    }
   ],
   "source": [
    "# точки данных y\n",
    "y_.shape"
   ]
  },
  {
   "cell_type": "code",
   "execution_count": 7,
   "metadata": {},
   "outputs": [],
   "source": [
    "# 83 записи, 7 признаков"
   ]
  },
  {
   "cell_type": "markdown",
   "metadata": {},
   "source": [
    "Статистика по каждому признаку"
   ]
  },
  {
   "cell_type": "code",
   "execution_count": 8,
   "metadata": {},
   "outputs": [
    {
     "data": {
      "text/html": [
       "<div>\n",
       "<style scoped>\n",
       "    .dataframe tbody tr th:only-of-type {\n",
       "        vertical-align: middle;\n",
       "    }\n",
       "\n",
       "    .dataframe tbody tr th {\n",
       "        vertical-align: top;\n",
       "    }\n",
       "\n",
       "    .dataframe thead th {\n",
       "        text-align: right;\n",
       "    }\n",
       "</style>\n",
       "<table border=\"1\" class=\"dataframe\">\n",
       "  <thead>\n",
       "    <tr style=\"text-align: right;\">\n",
       "      <th></th>\n",
       "      <th>x1</th>\n",
       "      <th>x2</th>\n",
       "      <th>x3</th>\n",
       "      <th>x4</th>\n",
       "      <th>x5</th>\n",
       "      <th>x6</th>\n",
       "      <th>x7</th>\n",
       "    </tr>\n",
       "  </thead>\n",
       "  <tbody>\n",
       "    <tr>\n",
       "      <th>count</th>\n",
       "      <td>83.000000</td>\n",
       "      <td>83.000000</td>\n",
       "      <td>83.000000</td>\n",
       "      <td>83.000000</td>\n",
       "      <td>83.000000</td>\n",
       "      <td>83.000000</td>\n",
       "      <td>83.000000</td>\n",
       "    </tr>\n",
       "    <tr>\n",
       "      <th>mean</th>\n",
       "      <td>0.083742</td>\n",
       "      <td>-0.038892</td>\n",
       "      <td>-0.077287</td>\n",
       "      <td>0.202356</td>\n",
       "      <td>0.111821</td>\n",
       "      <td>-0.106154</td>\n",
       "      <td>-0.044355</td>\n",
       "    </tr>\n",
       "    <tr>\n",
       "      <th>std</th>\n",
       "      <td>1.181994</td>\n",
       "      <td>0.941986</td>\n",
       "      <td>0.891228</td>\n",
       "      <td>1.226907</td>\n",
       "      <td>1.019480</td>\n",
       "      <td>1.007005</td>\n",
       "      <td>0.929658</td>\n",
       "    </tr>\n",
       "    <tr>\n",
       "      <th>min</th>\n",
       "      <td>-3.545896</td>\n",
       "      <td>-1.889278</td>\n",
       "      <td>-2.538651</td>\n",
       "      <td>-2.502444</td>\n",
       "      <td>-2.621536</td>\n",
       "      <td>-2.452811</td>\n",
       "      <td>-2.007143</td>\n",
       "    </tr>\n",
       "    <tr>\n",
       "      <th>25%</th>\n",
       "      <td>-0.589996</td>\n",
       "      <td>-0.687546</td>\n",
       "      <td>-0.486259</td>\n",
       "      <td>-0.611158</td>\n",
       "      <td>-0.590063</td>\n",
       "      <td>-0.760261</td>\n",
       "      <td>-0.748415</td>\n",
       "    </tr>\n",
       "    <tr>\n",
       "      <th>50%</th>\n",
       "      <td>0.120996</td>\n",
       "      <td>-0.099994</td>\n",
       "      <td>0.020013</td>\n",
       "      <td>0.133044</td>\n",
       "      <td>0.150418</td>\n",
       "      <td>-0.154540</td>\n",
       "      <td>-0.009249</td>\n",
       "    </tr>\n",
       "    <tr>\n",
       "      <th>75%</th>\n",
       "      <td>0.831314</td>\n",
       "      <td>0.692257</td>\n",
       "      <td>0.559829</td>\n",
       "      <td>1.199444</td>\n",
       "      <td>0.715865</td>\n",
       "      <td>0.658789</td>\n",
       "      <td>0.680093</td>\n",
       "    </tr>\n",
       "    <tr>\n",
       "      <th>max</th>\n",
       "      <td>2.470810</td>\n",
       "      <td>2.157520</td>\n",
       "      <td>1.884430</td>\n",
       "      <td>2.594291</td>\n",
       "      <td>2.937939</td>\n",
       "      <td>1.626076</td>\n",
       "      <td>1.909412</td>\n",
       "    </tr>\n",
       "  </tbody>\n",
       "</table>\n",
       "</div>"
      ],
      "text/plain": [
       "              x1         x2         x3         x4         x5         x6  \\\n",
       "count  83.000000  83.000000  83.000000  83.000000  83.000000  83.000000   \n",
       "mean    0.083742  -0.038892  -0.077287   0.202356   0.111821  -0.106154   \n",
       "std     1.181994   0.941986   0.891228   1.226907   1.019480   1.007005   \n",
       "min    -3.545896  -1.889278  -2.538651  -2.502444  -2.621536  -2.452811   \n",
       "25%    -0.589996  -0.687546  -0.486259  -0.611158  -0.590063  -0.760261   \n",
       "50%     0.120996  -0.099994   0.020013   0.133044   0.150418  -0.154540   \n",
       "75%     0.831314   0.692257   0.559829   1.199444   0.715865   0.658789   \n",
       "max     2.470810   2.157520   1.884430   2.594291   2.937939   1.626076   \n",
       "\n",
       "              x7  \n",
       "count  83.000000  \n",
       "mean   -0.044355  \n",
       "std     0.929658  \n",
       "min    -2.007143  \n",
       "25%    -0.748415  \n",
       "50%    -0.009249  \n",
       "75%     0.680093  \n",
       "max     1.909412  "
      ]
     },
     "execution_count": 8,
     "metadata": {},
     "output_type": "execute_result"
    }
   ],
   "source": [
    "x_.describe()"
   ]
  },
  {
   "cell_type": "code",
   "execution_count": 9,
   "metadata": {},
   "outputs": [
    {
     "data": {
      "text/html": [
       "<div>\n",
       "<style scoped>\n",
       "    .dataframe tbody tr th:only-of-type {\n",
       "        vertical-align: middle;\n",
       "    }\n",
       "\n",
       "    .dataframe tbody tr th {\n",
       "        vertical-align: top;\n",
       "    }\n",
       "\n",
       "    .dataframe thead th {\n",
       "        text-align: right;\n",
       "    }\n",
       "</style>\n",
       "<table border=\"1\" class=\"dataframe\">\n",
       "  <thead>\n",
       "    <tr style=\"text-align: right;\">\n",
       "      <th></th>\n",
       "      <th>Y</th>\n",
       "    </tr>\n",
       "  </thead>\n",
       "  <tbody>\n",
       "    <tr>\n",
       "      <th>count</th>\n",
       "      <td>83.000000</td>\n",
       "    </tr>\n",
       "    <tr>\n",
       "      <th>mean</th>\n",
       "      <td>-9.601932</td>\n",
       "    </tr>\n",
       "    <tr>\n",
       "      <th>std</th>\n",
       "      <td>120.800458</td>\n",
       "    </tr>\n",
       "    <tr>\n",
       "      <th>min</th>\n",
       "      <td>-336.124426</td>\n",
       "    </tr>\n",
       "    <tr>\n",
       "      <th>25%</th>\n",
       "      <td>-87.287939</td>\n",
       "    </tr>\n",
       "    <tr>\n",
       "      <th>50%</th>\n",
       "      <td>-2.394386</td>\n",
       "    </tr>\n",
       "    <tr>\n",
       "      <th>75%</th>\n",
       "      <td>67.341250</td>\n",
       "    </tr>\n",
       "    <tr>\n",
       "      <th>max</th>\n",
       "      <td>221.017606</td>\n",
       "    </tr>\n",
       "  </tbody>\n",
       "</table>\n",
       "</div>"
      ],
      "text/plain": [
       "                Y\n",
       "count   83.000000\n",
       "mean    -9.601932\n",
       "std    120.800458\n",
       "min   -336.124426\n",
       "25%    -87.287939\n",
       "50%     -2.394386\n",
       "75%     67.341250\n",
       "max    221.017606"
      ]
     },
     "execution_count": 9,
     "metadata": {},
     "output_type": "execute_result"
    }
   ],
   "source": [
    "y_.describe()"
   ]
  },
  {
   "cell_type": "markdown",
   "metadata": {},
   "source": [
    "4. Разделите все наблюдения на обучающую и тестовую выборки в соотношении 80-20.\n"
   ]
  },
  {
   "cell_type": "code",
   "execution_count": 10,
   "metadata": {},
   "outputs": [],
   "source": [
    "from sklearn.model_selection import train_test_split\n",
    "\n",
    "x_train, x_test, y_train, y_test = train_test_split(x_, y_, test_size=.2, random_state=10)"
   ]
  },
  {
   "cell_type": "markdown",
   "metadata": {},
   "source": [
    "5. Для целевой и каждого из признаков постройте парную регрессионную модель. Визуализируйте линию регрессии и исходные данные на графике. При помощи коэффициентов оцените силу связи."
   ]
  },
  {
   "cell_type": "code",
   "execution_count": 11,
   "metadata": {},
   "outputs": [],
   "source": [
    "from sklearn.linear_model import LinearRegression"
   ]
  },
  {
   "cell_type": "code",
   "execution_count": 12,
   "metadata": {},
   "outputs": [],
   "source": [
    "y_1 = LinearRegression().fit(x_train[['x1']].values, y_train.values)\n",
    "y_2 = LinearRegression().fit(x_train[['x2']].values, y_train.values)\n",
    "y_3 = LinearRegression().fit(x_train[['x3']].values, y_train.values)\n",
    "y_4 = LinearRegression().fit(x_train[['x4']].values, y_train.values)\n",
    "y_5 = LinearRegression().fit(x_train[['x5']].values, y_train.values)\n",
    "y_6 = LinearRegression().fit(x_train[['x6']].values, y_train.values)\n",
    "y_7 = LinearRegression().fit(x_train[['x7']].values, y_train.values)"
   ]
  },
  {
   "cell_type": "code",
   "execution_count": 13,
   "metadata": {},
   "outputs": [],
   "source": [
    "y_1_t_res = y_1.predict(x_test[['x1']].values)\n",
    "y_2_t_res = y_2.predict(x_test[['x2']].values)\n",
    "y_3_t_res = y_3.predict(x_test[['x3']].values)\n",
    "y_4_t_res = y_4.predict(x_test[['x4']].values)\n",
    "y_5_t_res = y_5.predict(x_test[['x5']].values)\n",
    "y_6_t_res = y_6.predict(x_test[['x6']].values)\n",
    "y_7_t_res = y_7.predict(x_test[['x7']].values)"
   ]
  },
  {
   "cell_type": "code",
   "execution_count": 14,
   "metadata": {},
   "outputs": [],
   "source": [
    "r_2 = []"
   ]
  },
  {
   "cell_type": "markdown",
   "metadata": {},
   "source": [
    "x1"
   ]
  },
  {
   "cell_type": "code",
   "execution_count": 15,
   "metadata": {},
   "outputs": [
    {
     "name": "stdout",
     "output_type": "stream",
     "text": [
      "R^2 score:  -0.08047996283673564\n"
     ]
    },
    {
     "data": {
      "image/png": "[encoded data removed]",
      "text/plain": [
       "<Figure size 432x288 with 1 Axes>"
      ]
     },
     "metadata": {
      "needs_background": "light"
     },
     "output_type": "display_data"
    }
   ],
   "source": [
    "plt.scatter(x_test[['x1']].values, y_test.values, color='b')\n",
    "plt.plot(x_test[['x1']].values, y_1_t_res, color='r', linewidth=2)\n",
    "r_2.append(y_1.score(x_test[['x1']].values,  y_test.values))\n",
    "\n",
    "print('R^2 score: ', r_2[-1])"
   ]
  },
  {
   "cell_type": "markdown",
   "metadata": {},
   "source": [
    "_связь крайне слабая_  \n",
    "_по факту, модель получилась «бесполезной» и ее предсказания хуже, чем оценки на основе среднего значения_\n"
   ]
  },
  {
   "cell_type": "markdown",
   "metadata": {},
   "source": [
    "x2"
   ]
  },
  {
   "cell_type": "code",
   "execution_count": 16,
   "metadata": {},
   "outputs": [
    {
     "name": "stdout",
     "output_type": "stream",
     "text": [
      "R^2 score:  -0.014351500397798755\n"
     ]
    },
    {
     "data": {
      "image/png": "[encoded data removed]",
      "text/plain": [
       "<Figure size 432x288 with 1 Axes>"
      ]
     },
     "metadata": {
      "needs_background": "light"
     },
     "output_type": "display_data"
    }
   ],
   "source": [
    "plt.scatter(x_test[['x2']].values, y_test.values, color='b')\n",
    "plt.plot(x_test[['x2']].values, y_2_t_res, color='r', linewidth=2)\n",
    "r_2.append(y_2.score(x_test[['x2']].values,  y_test.values))\n",
    "\n",
    "print('R^2 score: ', r_2[-1])"
   ]
  },
  {
   "cell_type": "markdown",
   "metadata": {},
   "source": [
    "_связь крайне слабая_   \n",
    "_по факту, модель получилась «бесполезной» и ее предсказания хуже, чем оценки на основе среднего значения_"
   ]
  },
  {
   "cell_type": "markdown",
   "metadata": {},
   "source": [
    "x3"
   ]
  },
  {
   "cell_type": "code",
   "execution_count": 17,
   "metadata": {},
   "outputs": [
    {
     "name": "stdout",
     "output_type": "stream",
     "text": [
      "R^2 score:  -0.14023161786653282\n"
     ]
    },
    {
     "data": {
      "image/png": "[encoded data removed]",
      "text/plain": [
       "<Figure size 432x288 with 1 Axes>"
      ]
     },
     "metadata": {
      "needs_background": "light"
     },
     "output_type": "display_data"
    }
   ],
   "source": [
    "plt.scatter(x_test[['x3']].values, y_test.values, color='b')\n",
    "plt.plot(x_test[['x3']].values, y_3_t_res, color='r', linewidth=2)\n",
    "r_2.append(y_3.score(x_test[['x3']].values,  y_test.values))\n",
    "\n",
    "print('R^2 score: ', r_2[-1])"
   ]
  },
  {
   "cell_type": "markdown",
   "metadata": {},
   "source": [
    "_связь крайне слабая_  \n",
    "_по факту, модель получилась «бесполезной» и ее предсказания хуже, чем оценки на основе среднего значения_"
   ]
  },
  {
   "cell_type": "markdown",
   "metadata": {},
   "source": [
    "x4"
   ]
  },
  {
   "cell_type": "code",
   "execution_count": 18,
   "metadata": {},
   "outputs": [
    {
     "name": "stdout",
     "output_type": "stream",
     "text": [
      "R^2 score:  -0.012803861757792578\n"
     ]
    },
    {
     "data": {
      "image/png": "[encoded data removed]",
      "text/plain": [
       "<Figure size 432x288 with 1 Axes>"
      ]
     },
     "metadata": {
      "needs_background": "light"
     },
     "output_type": "display_data"
    }
   ],
   "source": [
    "plt.scatter(x_test[['x4']].values, y_test.values, color='b')\n",
    "plt.plot(x_test[['x4']].values, y_4_t_res, color='r', linewidth=2)\n",
    "r_2.append(y_4.score(x_test[['x4']].values,  y_test.values))\n",
    "\n",
    "print('R^2 score: ', r_2[-1])"
   ]
  },
  {
   "cell_type": "markdown",
   "metadata": {},
   "source": [
    "_связь крайне слабая_  \n",
    "_по факту, модель получилась «бесполезной» и ее предсказания хуже, чем оценки на основе среднего значения_"
   ]
  },
  {
   "cell_type": "markdown",
   "metadata": {},
   "source": [
    "x5"
   ]
  },
  {
   "cell_type": "code",
   "execution_count": 19,
   "metadata": {},
   "outputs": [
    {
     "name": "stdout",
     "output_type": "stream",
     "text": [
      "R^2 score:  -0.033648145287149545\n"
     ]
    },
    {
     "data": {
      "image/png": "[encoded data removed]",
      "text/plain": [
       "<Figure size 432x288 with 1 Axes>"
      ]
     },
     "metadata": {
      "needs_background": "light"
     },
     "output_type": "display_data"
    }
   ],
   "source": [
    "plt.scatter(x_test[['x5']].values, y_test.values, color='b')\n",
    "plt.plot(x_test[['x5']].values, y_5_t_res, color='r', linewidth=2)\n",
    "r_2.append(y_5.score(x_test[['x5']].values,  y_test.values))\n",
    "\n",
    "print('R^2 score: ', r_2[-1])"
   ]
  },
  {
   "cell_type": "markdown",
   "metadata": {},
   "source": [
    "_связь крайне слабая_  \n",
    "_по факту, модель получилась «бесполезной» и ее предсказания хуже, чем оценки на основе среднего значения_"
   ]
  },
  {
   "cell_type": "markdown",
   "metadata": {},
   "source": [
    "x6"
   ]
  },
  {
   "cell_type": "code",
   "execution_count": 20,
   "metadata": {},
   "outputs": [
    {
     "name": "stdout",
     "output_type": "stream",
     "text": [
      "R^2 score:  0.5304302662592224\n"
     ]
    },
    {
     "data": {
      "image/png": "[encoded data removed]",
      "text/plain": [
       "<Figure size 432x288 with 1 Axes>"
      ]
     },
     "metadata": {
      "needs_background": "light"
     },
     "output_type": "display_data"
    }
   ],
   "source": [
    "plt.scatter(x_test[['x6']].values, y_test.values, color='b')\n",
    "plt.plot(x_test[['x6']].values, y_6_t_res, color='r', linewidth=2)\n",
    "r_2.append(y_6.score(x_test[['x6']].values,  y_test.values))\n",
    "\n",
    "print('R^2 score: ', r_2[-1])"
   ]
  },
  {
   "cell_type": "markdown",
   "metadata": {},
   "source": [
    "_связь средняя_"
   ]
  },
  {
   "cell_type": "markdown",
   "metadata": {},
   "source": [
    "x7"
   ]
  },
  {
   "cell_type": "code",
   "execution_count": 21,
   "metadata": {},
   "outputs": [
    {
     "name": "stdout",
     "output_type": "stream",
     "text": [
      "R^2 score:  0.5439305596302864\n"
     ]
    },
    {
     "data": {
      "image/png": "[encoded data removed]",
      "text/plain": [
       "<Figure size 432x288 with 1 Axes>"
      ]
     },
     "metadata": {
      "needs_background": "light"
     },
     "output_type": "display_data"
    }
   ],
   "source": [
    "plt.scatter(x_test[['x7']].values, y_test.values, color='b')\n",
    "plt.plot(x_test[['x7']].values, y_7_t_res, color='r', linewidth=2)\n",
    "r_2.append(y_7.score(x_test[['x7']].values,  y_test.values))\n",
    "\n",
    "print('R^2 score: ', r_2[-1])"
   ]
  },
  {
   "cell_type": "markdown",
   "metadata": {},
   "source": [
    "_связь средняя_"
   ]
  },
  {
   "cell_type": "markdown",
   "metadata": {},
   "source": [
    "6. Постройте модель множественной линейной регрессии целевой переменной от всех показателей. Оцените качество регрессии, сделайте вывод."
   ]
  },
  {
   "cell_type": "code",
   "execution_count": 22,
   "metadata": {},
   "outputs": [
    {
     "data": {
      "text/html": [
       "<table class=\"simpletable\">\n",
       "<caption>OLS Regression Results</caption>\n",
       "<tr>\n",
       "  <th>Dep. Variable:</th>            <td>y</td>        <th>  R-squared:         </th> <td>   0.993</td>\n",
       "</tr>\n",
       "<tr>\n",
       "  <th>Model:</th>                   <td>OLS</td>       <th>  Adj. R-squared:    </th> <td>   0.992</td>\n",
       "</tr>\n",
       "<tr>\n",
       "  <th>Method:</th>             <td>Least Squares</td>  <th>  F-statistic:       </th> <td>   1135.</td>\n",
       "</tr>\n",
       "<tr>\n",
       "  <th>Date:</th>             <td>Sat, 02 Apr 2022</td> <th>  Prob (F-statistic):</th> <td>1.38e-59</td>\n",
       "</tr>\n",
       "<tr>\n",
       "  <th>Time:</th>                 <td>21:54:28</td>     <th>  Log-Likelihood:    </th> <td> -243.45</td>\n",
       "</tr>\n",
       "<tr>\n",
       "  <th>No. Observations:</th>      <td>    66</td>      <th>  AIC:               </th> <td>   502.9</td>\n",
       "</tr>\n",
       "<tr>\n",
       "  <th>Df Residuals:</th>          <td>    58</td>      <th>  BIC:               </th> <td>   520.4</td>\n",
       "</tr>\n",
       "<tr>\n",
       "  <th>Df Model:</th>              <td>     7</td>      <th>                     </th>     <td> </td>   \n",
       "</tr>\n",
       "<tr>\n",
       "  <th>Covariance Type:</th>      <td>nonrobust</td>    <th>                     </th>     <td> </td>   \n",
       "</tr>\n",
       "</table>\n",
       "<table class=\"simpletable\">\n",
       "<tr>\n",
       "      <td></td>         <th>coef</th>     <th>std err</th>      <th>t</th>      <th>P>|t|</th>  <th>[0.025</th>    <th>0.975]</th>  \n",
       "</tr>\n",
       "<tr>\n",
       "  <th>Intercept</th> <td>   -0.1329</td> <td>    1.305</td> <td>   -0.102</td> <td> 0.919</td> <td>   -2.744</td> <td>    2.478</td>\n",
       "</tr>\n",
       "<tr>\n",
       "  <th>x1</th>        <td>   -2.0649</td> <td>    1.100</td> <td>   -1.878</td> <td> 0.065</td> <td>   -4.266</td> <td>    0.136</td>\n",
       "</tr>\n",
       "<tr>\n",
       "  <th>x2</th>        <td>   16.7477</td> <td>    1.348</td> <td>   12.423</td> <td> 0.000</td> <td>   14.049</td> <td>   19.446</td>\n",
       "</tr>\n",
       "<tr>\n",
       "  <th>x3</th>        <td>    0.8363</td> <td>    1.536</td> <td>    0.545</td> <td> 0.588</td> <td>   -2.237</td> <td>    3.910</td>\n",
       "</tr>\n",
       "<tr>\n",
       "  <th>x4</th>        <td>   14.3989</td> <td>    1.085</td> <td>   13.276</td> <td> 0.000</td> <td>   12.228</td> <td>   16.570</td>\n",
       "</tr>\n",
       "<tr>\n",
       "  <th>x5</th>        <td>    6.9407</td> <td>    1.272</td> <td>    5.455</td> <td> 0.000</td> <td>    4.394</td> <td>    9.488</td>\n",
       "</tr>\n",
       "<tr>\n",
       "  <th>x6</th>        <td>   82.8213</td> <td>    1.420</td> <td>   58.321</td> <td> 0.000</td> <td>   79.979</td> <td>   85.664</td>\n",
       "</tr>\n",
       "<tr>\n",
       "  <th>x7</th>        <td>   95.5030</td> <td>    1.408</td> <td>   67.819</td> <td> 0.000</td> <td>   92.684</td> <td>   98.322</td>\n",
       "</tr>\n",
       "</table>\n",
       "<table class=\"simpletable\">\n",
       "<tr>\n",
       "  <th>Omnibus:</th>       <td> 0.900</td> <th>  Durbin-Watson:     </th> <td>   1.609</td>\n",
       "</tr>\n",
       "<tr>\n",
       "  <th>Prob(Omnibus):</th> <td> 0.638</td> <th>  Jarque-Bera (JB):  </th> <td>   0.964</td>\n",
       "</tr>\n",
       "<tr>\n",
       "  <th>Skew:</th>          <td> 0.177</td> <th>  Prob(JB):          </th> <td>   0.617</td>\n",
       "</tr>\n",
       "<tr>\n",
       "  <th>Kurtosis:</th>      <td> 2.525</td> <th>  Cond. No.          </th> <td>    1.80</td>\n",
       "</tr>\n",
       "</table><br/><br/>Notes:<br/>[1] Standard Errors assume that the covariance matrix of the errors is correctly specified."
      ],
      "text/plain": [
       "<class 'statsmodels.iolib.summary.Summary'>\n",
       "\"\"\"\n",
       "                            OLS Regression Results                            \n",
       "==============================================================================\n",
       "Dep. Variable:                      y   R-squared:                       0.993\n",
       "Model:                            OLS   Adj. R-squared:                  0.992\n",
       "Method:                 Least Squares   F-statistic:                     1135.\n",
       "Date:                Sat, 02 Apr 2022   Prob (F-statistic):           1.38e-59\n",
       "Time:                        21:54:28   Log-Likelihood:                -243.45\n",
       "No. Observations:                  66   AIC:                             502.9\n",
       "Df Residuals:                      58   BIC:                             520.4\n",
       "Df Model:                           7                                         \n",
       "Covariance Type:            nonrobust                                         \n",
       "==============================================================================\n",
       "                 coef    std err          t      P>|t|      [0.025      0.975]\n",
       "------------------------------------------------------------------------------\n",
       "Intercept     -0.1329      1.305     -0.102      0.919      -2.744       2.478\n",
       "x1            -2.0649      1.100     -1.878      0.065      -4.266       0.136\n",
       "x2            16.7477      1.348     12.423      0.000      14.049      19.446\n",
       "x3             0.8363      1.536      0.545      0.588      -2.237       3.910\n",
       "x4            14.3989      1.085     13.276      0.000      12.228      16.570\n",
       "x5             6.9407      1.272      5.455      0.000       4.394       9.488\n",
       "x6            82.8213      1.420     58.321      0.000      79.979      85.664\n",
       "x7            95.5030      1.408     67.819      0.000      92.684      98.322\n",
       "==============================================================================\n",
       "Omnibus:                        0.900   Durbin-Watson:                   1.609\n",
       "Prob(Omnibus):                  0.638   Jarque-Bera (JB):                0.964\n",
       "Skew:                           0.177   Prob(JB):                        0.617\n",
       "Kurtosis:                       2.525   Cond. No.                         1.80\n",
       "==============================================================================\n",
       "\n",
       "Notes:\n",
       "[1] Standard Errors assume that the covariance matrix of the errors is correctly specified.\n",
       "\"\"\""
      ]
     },
     "execution_count": 22,
     "metadata": {},
     "output_type": "execute_result"
    }
   ],
   "source": [
    "import statsmodels.formula.api as sm\n",
    "\n",
    "data = pd.DataFrame(np.array(x_train[['x1', 'x2', 'x3', 'x4', 'x5', 'x6', 'x7']]), \n",
    "                            columns=['x1', 'x2', 'x3', 'x4', 'x5', 'x6', 'x7'])\n",
    "data['y'] = np.array(y_train)\n",
    "cols = data.columns.tolist()\n",
    "cols = cols[-1:] + cols[:-1]\n",
    "data = data[cols]\n",
    "\n",
    "# ols - метод наименьших квадратов\n",
    "model = sm.ols(formula='y~x1+x2+x3+x4+x5+x6+x7', data=data)\n",
    "fitted = model.fit()\n",
    "fitted.summary()"
   ]
  },
  {
   "cell_type": "markdown",
   "metadata": {},
   "source": [
    "Значение R^2 = 0.993 (и скорректированный R^2 = 0.992), значит сила связи весьма высокая (процентное изменение зависимой переменной, которое объясняется независимыми переменными)\n",
    "Наиболее сильно влиящие факторы - это x6 и x7, т.к. у них наибольшие коэффициенты.\n",
    "\n",
    "Критерий Фишера, говорящий об общей значимости регрессии.\n",
    "Prob (F-statistic) = 1.38e-59, т.е. вероятность близка к нулю. В целом регрессия является значимой.\n",
    "\n",
    "По критерию Дарбина – Уотсона, автокорреляция отсутствует (1.5 < DW < 2.5). Также видим, что гомоскедастичность присутствует (1 < DW < 2). Также значение скоса мало (Skew = 0.177) Результаты регрессии надежны с точки зрения интерпретации этой метрики."
   ]
  },
  {
   "cell_type": "markdown",
   "metadata": {},
   "source": [
    "**Таким образом, модель хорошая**"
   ]
  },
  {
   "cell_type": "markdown",
   "metadata": {},
   "source": [
    "## Дополнительные задания"
   ]
  },
  {
   "cell_type": "markdown",
   "metadata": {},
   "source": [
    "1. Для целевой переменной и каждого из признаков постройте полиномиальную регрессию второго, третьего и десятого порядков. Сделайте вывод о значимости регрессии."
   ]
  },
  {
   "cell_type": "code",
   "execution_count": 23,
   "metadata": {},
   "outputs": [],
   "source": [
    "from sklearn.linear_model import Ridge\n",
    "from sklearn.preprocessing import PolynomialFeatures\n",
    "from sklearn.pipeline import make_pipeline"
   ]
  },
  {
   "cell_type": "code",
   "execution_count": 24,
   "metadata": {
    "scrolled": false
   },
   "outputs": [
    {
     "name": "stdout",
     "output_type": "stream",
     "text": [
      "x1 =>\n",
      "второй порядок\n",
      "R^2:  -0.11780887462246148\n"
     ]
    },
    {
     "data": {
      "image/png": "[encoded data removed]",
      "text/plain": [
       "<Figure size 432x288 with 1 Axes>"
      ]
     },
     "metadata": {
      "needs_background": "light"
     },
     "output_type": "display_data"
    },
    {
     "name": "stdout",
     "output_type": "stream",
     "text": [
      "третий порядок\n",
      "R^2:  -0.17414804918005622\n"
     ]
    },
    {
     "data": {
      "image/png": "[encoded data removed]",
      "text/plain": [
       "<Figure size 432x288 with 1 Axes>"
      ]
     },
     "metadata": {
      "needs_background": "light"
     },
     "output_type": "display_data"
    },
    {
     "name": "stdout",
     "output_type": "stream",
     "text": [
      "десятый порядок\n",
      "R^2:  -0.2560548614558067\n"
     ]
    },
    {
     "data": {
      "image/png": "[encoded data removed]",
      "text/plain": [
       "<Figure size 432x288 with 1 Axes>"
      ]
     },
     "metadata": {
      "needs_background": "light"
     },
     "output_type": "display_data"
    },
    {
     "name": "stdout",
     "output_type": "stream",
     "text": [
      "\n",
      "\n",
      "\n",
      "x2 =>\n",
      "второй порядок\n",
      "R^2:  -0.03495813659644553\n"
     ]
    },
    {
     "data": {
      "image/png": "[encoded data removed]",
      "text/plain": [
       "<Figure size 432x288 with 1 Axes>"
      ]
     },
     "metadata": {
      "needs_background": "light"
     },
     "output_type": "display_data"
    },
    {
     "name": "stdout",
     "output_type": "stream",
     "text": [
      "третий порядок\n",
      "R^2:  -0.20448274753450124\n"
     ]
    },
    {
     "data": {
      "image/png": "[encoded data removed]",
      "text/plain": [
       "<Figure size 432x288 with 1 Axes>"
      ]
     },
     "metadata": {
      "needs_background": "light"
     },
     "output_type": "display_data"
    },
    {
     "name": "stdout",
     "output_type": "stream",
     "text": [
      "десятый порядок\n",
      "R^2:  -0.6111420207092497\n"
     ]
    },
    {
     "data": {
      "image/png": "[encoded data removed]",
      "text/plain": [
       "<Figure size 432x288 with 1 Axes>"
      ]
     },
     "metadata": {
      "needs_background": "light"
     },
     "output_type": "display_data"
    },
    {
     "name": "stdout",
     "output_type": "stream",
     "text": [
      "\n",
      "\n",
      "\n",
      "x3 =>\n",
      "второй порядок\n",
      "R^2:  -0.14082063478829743\n"
     ]
    },
    {
     "data": {
      "image/png": "[encoded data removed]",
      "text/plain": [
       "<Figure size 432x288 with 1 Axes>"
      ]
     },
     "metadata": {
      "needs_background": "light"
     },
     "output_type": "display_data"
    },
    {
     "name": "stdout",
     "output_type": "stream",
     "text": [
      "третий порядок\n",
      "R^2:  -0.1155484620541769\n"
     ]
    },
    {
     "data": {
      "image/png": "[encoded data removed]",
      "text/plain": [
       "<Figure size 432x288 with 1 Axes>"
      ]
     },
     "metadata": {
      "needs_background": "light"
     },
     "output_type": "display_data"
    },
    {
     "name": "stdout",
     "output_type": "stream",
     "text": [
      "десятый порядок\n",
      "R^2:  -1543.4880122356751\n"
     ]
    },
    {
     "data": {
      "image/png": "[encoded data removed]",
      "text/plain": [
       "<Figure size 432x288 with 1 Axes>"
      ]
     },
     "metadata": {
      "needs_background": "light"
     },
     "output_type": "display_data"
    },
    {
     "name": "stdout",
     "output_type": "stream",
     "text": [
      "\n",
      "\n",
      "\n",
      "x4 =>\n",
      "второй порядок\n",
      "R^2:  -0.014848808618187048\n"
     ]
    },
    {
     "data": {
      "image/png": "[encoded data removed]",
      "text/plain": [
       "<Figure size 432x288 with 1 Axes>"
      ]
     },
     "metadata": {
      "needs_background": "light"
     },
     "output_type": "display_data"
    },
    {
     "name": "stdout",
     "output_type": "stream",
     "text": [
      "третий порядок\n",
      "R^2:  -0.014238369009170304\n"
     ]
    },
    {
     "data": {
      "image/png": "[encoded data removed]",
      "text/plain": [
       "<Figure size 432x288 with 1 Axes>"
      ]
     },
     "metadata": {
      "needs_background": "light"
     },
     "output_type": "display_data"
    },
    {
     "name": "stdout",
     "output_type": "stream",
     "text": [
      "десятый порядок\n",
      "R^2:  -1.0288507306299275\n"
     ]
    },
    {
     "data": {
      "image/png": "[encoded data removed]",
      "text/plain": [
       "<Figure size 432x288 with 1 Axes>"
      ]
     },
     "metadata": {
      "needs_background": "light"
     },
     "output_type": "display_data"
    },
    {
     "name": "stdout",
     "output_type": "stream",
     "text": [
      "\n",
      "\n",
      "\n",
      "x5 =>\n",
      "второй порядок\n",
      "R^2:  0.020799728771586312\n"
     ]
    },
    {
     "data": {
      "image/png": "[encoded data removed]",
      "text/plain": [
       "<Figure size 432x288 with 1 Axes>"
      ]
     },
     "metadata": {
      "needs_background": "light"
     },
     "output_type": "display_data"
    },
    {
     "name": "stdout",
     "output_type": "stream",
     "text": [
      "третий порядок\n",
      "R^2:  0.0010098819296141537\n"
     ]
    },
    {
     "data": {
      "image/png": "[encoded data removed]",
      "text/plain": [
       "<Figure size 432x288 with 1 Axes>"
      ]
     },
     "metadata": {
      "needs_background": "light"
     },
     "output_type": "display_data"
    },
    {
     "name": "stdout",
     "output_type": "stream",
     "text": [
      "десятый порядок\n",
      "R^2:  -101.45637574783319\n"
     ]
    },
    {
     "data": {
      "image/png": "[encoded data removed]",
      "text/plain": [
       "<Figure size 432x288 with 1 Axes>"
      ]
     },
     "metadata": {
      "needs_background": "light"
     },
     "output_type": "display_data"
    },
    {
     "name": "stdout",
     "output_type": "stream",
     "text": [
      "\n",
      "\n",
      "\n",
      "x6 =>\n",
      "второй порядок\n",
      "R^2:  0.543066684754769\n"
     ]
    },
    {
     "data": {
      "image/png": "[encoded data removed]",
      "text/plain": [
       "<Figure size 432x288 with 1 Axes>"
      ]
     },
     "metadata": {
      "needs_background": "light"
     },
     "output_type": "display_data"
    },
    {
     "name": "stdout",
     "output_type": "stream",
     "text": [
      "третий порядок\n",
      "R^2:  0.5435262353864478\n"
     ]
    },
    {
     "data": {
      "image/png": "[encoded data removed]",
      "text/plain": [
       "<Figure size 432x288 with 1 Axes>"
      ]
     },
     "metadata": {
      "needs_background": "light"
     },
     "output_type": "display_data"
    },
    {
     "name": "stdout",
     "output_type": "stream",
     "text": [
      "десятый порядок\n",
      "R^2:  0.5368369036884189\n"
     ]
    },
    {
     "data": {
      "image/png": "[encoded data removed]",
      "text/plain": [
       "<Figure size 432x288 with 1 Axes>"
      ]
     },
     "metadata": {
      "needs_background": "light"
     },
     "output_type": "display_data"
    },
    {
     "name": "stdout",
     "output_type": "stream",
     "text": [
      "\n",
      "\n",
      "\n",
      "x7 =>\n",
      "второй порядок\n",
      "R^2:  0.5444480230362747\n"
     ]
    },
    {
     "data": {
      "image/png": "[encoded data removed]",
      "text/plain": [
       "<Figure size 432x288 with 1 Axes>"
      ]
     },
     "metadata": {
      "needs_background": "light"
     },
     "output_type": "display_data"
    },
    {
     "name": "stdout",
     "output_type": "stream",
     "text": [
      "третий порядок\n",
      "R^2:  0.5392387935596563\n"
     ]
    },
    {
     "data": {
      "image/png": "[encoded data removed]",
      "text/plain": [
       "<Figure size 432x288 with 1 Axes>"
      ]
     },
     "metadata": {
      "needs_background": "light"
     },
     "output_type": "display_data"
    },
    {
     "name": "stdout",
     "output_type": "stream",
     "text": [
      "десятый порядок\n",
      "R^2:  0.16771377925662223\n"
     ]
    },
    {
     "data": {
      "image/png": "[encoded data removed]",
      "text/plain": [
       "<Figure size 432x288 with 1 Axes>"
      ]
     },
     "metadata": {
      "needs_background": "light"
     },
     "output_type": "display_data"
    },
    {
     "name": "stdout",
     "output_type": "stream",
     "text": [
      "\n",
      "\n",
      "\n"
     ]
    }
   ],
   "source": [
    "from sklearn.preprocessing import PolynomialFeatures\n",
    "\n",
    "r_2_poly_2 = []\n",
    "r_2_poly_3 = []\n",
    "r_2_poly_10 = []\n",
    "\n",
    "for col in x_train.columns:\n",
    "    print(col, '=>')\n",
    "    poly2 = PolynomialFeatures(degree = 2)\n",
    "    poly3 = PolynomialFeatures(degree = 3)\n",
    "    poly10 = PolynomialFeatures(degree = 10)\n",
    "    \n",
    "    x_poly2 = poly2.fit_transform(x_train[col].values.reshape((-1, 1)))\n",
    "    new_reg2 = LinearRegression().fit(x_poly2, y_train)\n",
    "    \n",
    "    x_poly3 = poly3.fit_transform(x_train[col].values.reshape((-1, 1)))\n",
    "    new_reg3 = LinearRegression().fit(x_poly3, y_train)\n",
    "    \n",
    "    x_poly10 = poly10.fit_transform(x_train[col].values.reshape((-1, 1)))\n",
    "    new_reg10 = LinearRegression().fit(x_poly10, y_train)\n",
    "    \n",
    "    r_2_poly_2.append(new_reg2.score(poly2.fit_transform(x_test[col].values.reshape((-1, 1))), y_test))\n",
    "    print('второй порядок\\nR^2: ', r_2_poly_2[-1])\n",
    "    plt.figure()\n",
    "    plt.scatter(x_[col], y_, color='b')\n",
    "    plt.plot(x_[col].sort_values(), new_reg2.predict(poly2.fit_transform(x_[col].sort_values().values.reshape((-1, 1)))), color='r')\n",
    "    plt.show()\n",
    "    \n",
    "    r_2_poly_3.append(new_reg3.score(poly3.fit_transform(x_test[col].values.reshape((-1, 1))), y_test))\n",
    "    print('третий порядок\\nR^2: ', r_2_poly_3[-1])\n",
    "    plt.figure()\n",
    "    plt.scatter(x_[col], y_, color='b')\n",
    "    plt.plot(x_[col].sort_values(), new_reg3.predict(poly3.fit_transform(x_[col].sort_values().values.reshape((-1, 1)))), color='r')\n",
    "    plt.show()\n",
    "    \n",
    "    r_2_poly_10.append(new_reg10.score(poly10.fit_transform(x_test[col].values.reshape((-1, 1))), y_test))\n",
    "    print('десятый порядок\\nR^2: ', r_2_poly_10[-1])\n",
    "    plt.figure()\n",
    "    plt.scatter(x_[col], y_, color='b')\n",
    "    plt.plot(x_[col].sort_values(), new_reg10.predict(poly10.fit_transform(x_[col].sort_values().values.reshape((-1, 1)))), color='r')\n",
    "    plt.show()\n",
    "    \n",
    "    print('\\n\\n')"
   ]
  },
  {
   "cell_type": "markdown",
   "metadata": {},
   "source": [
    "Видя значения R^2, которые очень неутешительны. В целом, результаты такие же, как у парной регрессии, но иногда даже хуже. \n",
    "В данном случае, множественная регрессия, сделанная ранее, является лучшим решением, \n",
    "т.к. все нецелевые признаки в своей совокупности оказывают влияние на целевой признак."
   ]
  },
  {
   "cell_type": "markdown",
   "metadata": {},
   "source": [
    "2. Постройте сводную таблицу показателей точности всех построенных моделей по тестовой и обучающей выборке. Сделайте вывод, какие модели переобученнные, какие - недообученные.\n"
   ]
  },
  {
   "cell_type": "code",
   "execution_count": 25,
   "metadata": {},
   "outputs": [],
   "source": [
    "from prettytable import PrettyTable\n",
    "\n",
    "table = PrettyTable()\n",
    "table.field_names = [\" \", \"linear regression\", \"Polynomial Regression (degree=2)\", \n",
    "                     \"Polynomial Regression (degree=3)\", \"Polynomial Regression (degree=10)\"]\n",
    "\n",
    "for i in range(7):\n",
    "    table.add_row([f'x{i+1}', r_2[i], r_2_poly_2[i], r_2_poly_3[i], r_2_poly_10[i]])"
   ]
  },
  {
   "cell_type": "code",
   "execution_count": 26,
   "metadata": {},
   "outputs": [
    {
     "data": {
      "text/html": [
       "<table>\n",
       "    <thead>\n",
       "        <tr>\n",
       "            <th> </th>\n",
       "            <th>linear regression</th>\n",
       "            <th>Polynomial Regression (degree=2)</th>\n",
       "            <th>Polynomial Regression (degree=3)</th>\n",
       "            <th>Polynomial Regression (degree=10)</th>\n",
       "        </tr>\n",
       "    </thead>\n",
       "    <tbody>\n",
       "        <tr>\n",
       "            <td>x1</td>\n",
       "            <td>-0.08047996283673564</td>\n",
       "            <td>-0.11780887462246148</td>\n",
       "            <td>-0.17414804918005622</td>\n",
       "            <td>-0.2560548614558067</td>\n",
       "        </tr>\n",
       "        <tr>\n",
       "            <td>x2</td>\n",
       "            <td>-0.014351500397798755</td>\n",
       "            <td>-0.03495813659644553</td>\n",
       "            <td>-0.20448274753450124</td>\n",
       "            <td>-0.6111420207092497</td>\n",
       "        </tr>\n",
       "        <tr>\n",
       "            <td>x3</td>\n",
       "            <td>-0.14023161786653282</td>\n",
       "            <td>-0.14082063478829743</td>\n",
       "            <td>-0.1155484620541769</td>\n",
       "            <td>-1543.4880122356751</td>\n",
       "        </tr>\n",
       "        <tr>\n",
       "            <td>x4</td>\n",
       "            <td>-0.012803861757792578</td>\n",
       "            <td>-0.014848808618187048</td>\n",
       "            <td>-0.014238369009170304</td>\n",
       "            <td>-1.0288507306299275</td>\n",
       "        </tr>\n",
       "        <tr>\n",
       "            <td>x5</td>\n",
       "            <td>-0.033648145287149545</td>\n",
       "            <td>0.020799728771586312</td>\n",
       "            <td>0.0010098819296141537</td>\n",
       "            <td>-101.45637574783319</td>\n",
       "        </tr>\n",
       "        <tr>\n",
       "            <td>x6</td>\n",
       "            <td>0.5304302662592224</td>\n",
       "            <td>0.543066684754769</td>\n",
       "            <td>0.5435262353864478</td>\n",
       "            <td>0.5368369036884189</td>\n",
       "        </tr>\n",
       "        <tr>\n",
       "            <td>x7</td>\n",
       "            <td>0.5439305596302864</td>\n",
       "            <td>0.5444480230362747</td>\n",
       "            <td>0.5392387935596563</td>\n",
       "            <td>0.16771377925662223</td>\n",
       "        </tr>\n",
       "    </tbody>\n",
       "</table>"
      ],
      "text/plain": [
       "+----+-----------------------+----------------------------------+----------------------------------+-----------------------------------+\n",
       "|    |   linear regression   | Polynomial Regression (degree=2) | Polynomial Regression (degree=3) | Polynomial Regression (degree=10) |\n",
       "+----+-----------------------+----------------------------------+----------------------------------+-----------------------------------+\n",
       "| x1 |  -0.08047996283673564 |       -0.11780887462246148       |       -0.17414804918005622       |        -0.2560548614558067        |\n",
       "| x2 | -0.014351500397798755 |       -0.03495813659644553       |       -0.20448274753450124       |        -0.6111420207092497        |\n",
       "| x3 |  -0.14023161786653282 |       -0.14082063478829743       |       -0.1155484620541769        |        -1543.4880122356751        |\n",
       "| x4 | -0.012803861757792578 |      -0.014848808618187048       |      -0.014238369009170304       |        -1.0288507306299275        |\n",
       "| x5 | -0.033648145287149545 |       0.020799728771586312       |      0.0010098819296141537       |        -101.45637574783319        |\n",
       "| x6 |   0.5304302662592224  |        0.543066684754769         |        0.5435262353864478        |         0.5368369036884189        |\n",
       "| x7 |   0.5439305596302864  |        0.5444480230362747        |        0.5392387935596563        |        0.16771377925662223        |\n",
       "+----+-----------------------+----------------------------------+----------------------------------+-----------------------------------+"
      ]
     },
     "execution_count": 26,
     "metadata": {},
     "output_type": "execute_result"
    }
   ],
   "source": [
    "table"
   ]
  },
  {
   "cell_type": "markdown",
   "metadata": {},
   "source": [
    "3. Используйте другие метрики качества регрессионной модели в дополнение к коэффициенту детерминации."
   ]
  },
  {
   "cell_type": "code",
   "execution_count": 27,
   "metadata": {},
   "outputs": [
    {
     "name": "stdout",
     "output_type": "stream",
     "text": [
      "x1\n",
      "mse:  146.31273929408854\n",
      "mae:  109.95997427545012\n",
      "\n",
      "x2\n",
      "mse:  141.76467303753603\n",
      "mae:  107.47918125974232\n",
      "\n",
      "x3\n",
      "mse:  150.30392520105843\n",
      "mae:  113.69556087984174\n",
      "\n",
      "x4\n",
      "mse:  141.6564835998857\n",
      "mae:  111.984574464359\n",
      "\n",
      "x5\n",
      "mse:  143.10675942227635\n",
      "mae:  104.86261762524735\n",
      "\n",
      "x6\n",
      "mse:  96.45479689863302\n",
      "mae:  76.08547911267249\n",
      "\n",
      "x7\n",
      "mse:  95.05813052705581\n",
      "mae:  74.30501836120973\n",
      "\n"
     ]
    }
   ],
   "source": [
    "from sklearn.metrics import mean_squared_error, mean_absolute_error\n",
    "\n",
    "res = [y_1_t_res, y_2_t_res, y_3_t_res, y_4_t_res, y_5_t_res, y_6_t_res, y_7_t_res]\n",
    "\n",
    "\n",
    "for i in range(7):\n",
    "    print(f'x{i+1}')\n",
    "    print('mse: ', np.sqrt(mean_squared_error(res[i], y_test.values)))\n",
    "    print('mae: ', mean_absolute_error(res[i], y_test.values))\n",
    "    print()"
   ]
  },
  {
   "cell_type": "markdown",
   "metadata": {},
   "source": [
    "4. (*) Повторите те же действия на датасетах из данной папки. Замерьте время обучения на разных датасетах и количестве признаков. Сделайте вывод о зависимости скорости обучения от объема обучающей выборки.\n",
    "\n"
   ]
  },
  {
   "cell_type": "code",
   "execution_count": 28,
   "metadata": {},
   "outputs": [
    {
     "data": {
      "text/plain": [
       "((66, 7), (66, 1))"
      ]
     },
     "execution_count": 28,
     "metadata": {},
     "output_type": "execute_result"
    }
   ],
   "source": [
    "x_train.shape, y_train.shape"
   ]
  },
  {
   "cell_type": "code",
   "execution_count": 29,
   "metadata": {},
   "outputs": [],
   "source": [
    "regr = LinearRegression()"
   ]
  },
  {
   "cell_type": "code",
   "execution_count": 30,
   "metadata": {},
   "outputs": [
    {
     "name": "stdout",
     "output_type": "stream",
     "text": [
      "5.54 ms ± 1.12 ms per loop (mean ± std. dev. of 7 runs, 100 loops each)\n"
     ]
    }
   ],
   "source": [
    "%timeit regr.fit(x_train,y_train)"
   ]
  },
  {
   "cell_type": "code",
   "execution_count": 31,
   "metadata": {},
   "outputs": [
    {
     "data": {
      "text/plain": [
       "((281, 5), (281, 1))"
      ]
     },
     "execution_count": 31,
     "metadata": {},
     "output_type": "execute_result"
    }
   ],
   "source": [
    "x_38 = pd.read_csv('data/38_x.csv',names=['x1','x2','x3','x4','x5'], header=None)\n",
    "y_38 = pd.read_csv('data/38_y.csv', names = ['Y'], header=None)\n",
    "\n",
    "x_train_38, x_test_38, y_train_38, y_test_38 = train_test_split(x_38, y_38, test_size=0.2, random_state=0)\n",
    "x_train_38.shape, y_train_38.shape"
   ]
  },
  {
   "cell_type": "code",
   "execution_count": 32,
   "metadata": {},
   "outputs": [
    {
     "name": "stdout",
     "output_type": "stream",
     "text": [
      "4.44 ms ± 677 µs per loop (mean ± std. dev. of 7 runs, 100 loops each)\n"
     ]
    }
   ],
   "source": [
    "%timeit regr.fit(x_train_38,y_train_38)"
   ]
  },
  {
   "cell_type": "markdown",
   "metadata": {},
   "source": [
    "признаков меньше, но сам размер датасета больше. Время увеличилось почти в 1,5 раза"
   ]
  },
  {
   "cell_type": "code",
   "execution_count": 33,
   "metadata": {},
   "outputs": [
    {
     "data": {
      "text/plain": [
       "((252, 3), (252, 1))"
      ]
     },
     "execution_count": 33,
     "metadata": {},
     "output_type": "execute_result"
    }
   ],
   "source": [
    "x_49 = pd.read_csv('data/49_x.csv',names=['x1','x2','x3'], header=None)\n",
    "y_49 = pd.read_csv('data/49_y.csv', names = ['Y'], header=None)\n",
    "\n",
    "x_train_49, x_test_49, y_train_49, y_test_49 = train_test_split(x_49, y_49, test_size=0.2, random_state=0)\n",
    "x_train_49.shape, y_train_49.shape"
   ]
  },
  {
   "cell_type": "code",
   "execution_count": 34,
   "metadata": {},
   "outputs": [
    {
     "name": "stdout",
     "output_type": "stream",
     "text": [
      "4.62 ms ± 547 µs per loop (mean ± std. dev. of 7 runs, 100 loops each)\n"
     ]
    }
   ],
   "source": [
    "%timeit regr.fit(x_train_49,y_train_49)"
   ]
  },
  {
   "cell_type": "markdown",
   "metadata": {},
   "source": [
    "признаков меньше, и размер датасета больше, чем в случае выше. Время стало на 0.6 ms меньше"
   ]
  },
  {
   "cell_type": "markdown",
   "metadata": {},
   "source": [
    "**чем больше объем данных, тем дольше обучение модели**"
   ]
  },
  {
   "cell_type": "markdown",
   "metadata": {},
   "source": [
    "## Контрольные вопросы"
   ]
  },
  {
   "cell_type": "markdown",
   "metadata": {},
   "source": [
    "1. Чем множественная регрессия отличается от парной?"
   ]
  },
  {
   "cell_type": "markdown",
   "metadata": {},
   "source": [
    "Множественной называют линейную регрессию, в модели которой число независимых переменных две или более. (в парной регессии одна независимая переменная)"
   ]
  },
  {
   "cell_type": "markdown",
   "metadata": {},
   "source": [
    "2. Какую функцию ошибки использует модель линейной регрессии?"
   ]
  },
  {
   "cell_type": "markdown",
   "metadata": {},
   "source": [
    "Функция потерь - среднеквадратичная ошибка (MSE). Чтобы вычислить MSE, берутся все значения ошибок, считаются их квадраты длин и усредняются."
   ]
  },
  {
   "cell_type": "markdown",
   "metadata": {},
   "source": [
    "3. Какие метрики эффективности можно применять для оценки регрессионных моделей?"
   ]
  },
  {
   "cell_type": "markdown",
   "metadata": {},
   "source": [
    "- Средняя абсолютная ошибка (или среднее абсолютное отклонение)\n",
    "- коэффициент детерминации\n",
    "- среднеквадратичная ошибка (RMSE)"
   ]
  },
  {
   "cell_type": "markdown",
   "metadata": {},
   "source": [
    "4. Какие еще регрессоры есть в библиотеке sklearn?\n",
    "\n",
    "\n"
   ]
  },
  {
   "cell_type": "markdown",
   "metadata": {},
   "source": [
    "- Stochastic Gradient Descent - SGD\n",
    "- Perceptron\n",
    "- Quantile Regression\n",
    "- Gaussian Process Regression (GPR)"
   ]
  }
 ],
 "metadata": {
  "kernelspec": {
   "display_name": "Python 3",
   "language": "python",
   "name": "python3"
  },
  "language_info": {
   "codemirror_mode": {
    "name": "ipython",
    "version": 3
   },
   "file_extension": ".py",
   "mimetype": "text/x-python",
   "name": "python",
   "nbconvert_exporter": "python",
   "pygments_lexer": "ipython3",
   "version": "3.8.5"
  }
 },
 "nbformat": 4,
 "nbformat_minor": 4
}
