{
 "cells": [
  {
   "cell_type": "markdown",
   "metadata": {
    "id": "HSjtzn9D_Jey"
   },
   "source": [
    "### *Каменчук Виктория, гр.ПИ19-1*"
   ]
  },
  {
   "cell_type": "markdown",
   "metadata": {
    "id": "lyxnfADRSKKM"
   },
   "source": [
    "1. Загрузите и прочитайте в pandas следующий датасет. Обратите внимание, что датасет собран «криво», поэтому прежде чем он «правильно» загрузится, необходимо его обработать."
   ]
  },
  {
   "cell_type": "code",
   "execution_count": 1,
   "metadata": {
    "id": "0_r7NWbhdAdq"
   },
   "outputs": [],
   "source": [
    "import pandas as pd\n",
    "import numpy as np\n",
    "import matplotlib.pyplot as plt\n",
    "import seaborn as sns"
   ]
  },
  {
   "cell_type": "code",
   "execution_count": 2,
   "metadata": {
    "id": "04D8HXZldEzW"
   },
   "outputs": [],
   "source": [
    "url = './data/cars_sampled.csv'\n",
    "df = pd.read_csv(url)"
   ]
  },
  {
   "cell_type": "code",
   "execution_count": 3,
   "metadata": {
    "colab": {
     "base_uri": "https://localhost:8080/",
     "height": 357
    },
    "id": "YYTfmi5cSMi8",
    "outputId": "8c62693e-9c8b-486f-9920-85f423f3d28a"
   },
   "outputs": [
    {
     "data": {
      "text/html": [
       "<div>\n",
       "<style scoped>\n",
       "    .dataframe tbody tr th:only-of-type {\n",
       "        vertical-align: middle;\n",
       "    }\n",
       "\n",
       "    .dataframe tbody tr th {\n",
       "        vertical-align: top;\n",
       "    }\n",
       "\n",
       "    .dataframe thead th {\n",
       "        text-align: right;\n",
       "    }\n",
       "</style>\n",
       "<table border=\"1\" class=\"dataframe\">\n",
       "  <thead>\n",
       "    <tr style=\"text-align: right;\">\n",
       "      <th></th>\n",
       "      <th>dateCrawled</th>\n",
       "      <th>name</th>\n",
       "      <th>seller</th>\n",
       "      <th>offerType</th>\n",
       "      <th>price</th>\n",
       "      <th>abtest</th>\n",
       "      <th>vehicleType</th>\n",
       "      <th>yearOfRegistration</th>\n",
       "      <th>gearbox</th>\n",
       "      <th>powerPS</th>\n",
       "      <th>model</th>\n",
       "      <th>kilometer</th>\n",
       "      <th>monthOfRegistration</th>\n",
       "      <th>fuelType</th>\n",
       "      <th>brand</th>\n",
       "      <th>notRepairedDamage</th>\n",
       "      <th>dateCreated</th>\n",
       "      <th>postalCode</th>\n",
       "      <th>lastSeen</th>\n",
       "    </tr>\n",
       "  </thead>\n",
       "  <tbody>\n",
       "    <tr>\n",
       "      <th>0</th>\n",
       "      <td>30/03/2016 13:51</td>\n",
       "      <td>Zu_verkaufen</td>\n",
       "      <td>private</td>\n",
       "      <td>offer</td>\n",
       "      <td>4450</td>\n",
       "      <td>test</td>\n",
       "      <td>limousine</td>\n",
       "      <td>2003</td>\n",
       "      <td>manual</td>\n",
       "      <td>150</td>\n",
       "      <td>3er</td>\n",
       "      <td>150000</td>\n",
       "      <td>3</td>\n",
       "      <td>diesel</td>\n",
       "      <td>bmw</td>\n",
       "      <td>NaN</td>\n",
       "      <td>30/03/2016 0:00</td>\n",
       "      <td>20257</td>\n",
       "      <td>7/4/2016 4:44</td>\n",
       "    </tr>\n",
       "    <tr>\n",
       "      <th>1</th>\n",
       "      <td>7/3/2016 9:54</td>\n",
       "      <td>Volvo_XC90_2.4D_Summum</td>\n",
       "      <td>private</td>\n",
       "      <td>offer</td>\n",
       "      <td>13299</td>\n",
       "      <td>control</td>\n",
       "      <td>suv</td>\n",
       "      <td>2005</td>\n",
       "      <td>manual</td>\n",
       "      <td>163</td>\n",
       "      <td>xc_reihe</td>\n",
       "      <td>150000</td>\n",
       "      <td>6</td>\n",
       "      <td>diesel</td>\n",
       "      <td>volvo</td>\n",
       "      <td>no</td>\n",
       "      <td>7/3/2016 0:00</td>\n",
       "      <td>88045</td>\n",
       "      <td>26/03/2016 13:17</td>\n",
       "    </tr>\n",
       "    <tr>\n",
       "      <th>2</th>\n",
       "      <td>1/4/2016 0:57</td>\n",
       "      <td>Volkswagen_Touran</td>\n",
       "      <td>private</td>\n",
       "      <td>offer</td>\n",
       "      <td>3200</td>\n",
       "      <td>test</td>\n",
       "      <td>bus</td>\n",
       "      <td>2003</td>\n",
       "      <td>manual</td>\n",
       "      <td>101</td>\n",
       "      <td>touran</td>\n",
       "      <td>150000</td>\n",
       "      <td>11</td>\n",
       "      <td>diesel</td>\n",
       "      <td>volkswagen</td>\n",
       "      <td>NaN</td>\n",
       "      <td>31/03/2016 0:00</td>\n",
       "      <td>27449</td>\n",
       "      <td>1/4/2016 8:40</td>\n",
       "    </tr>\n",
       "    <tr>\n",
       "      <th>3</th>\n",
       "      <td>19/03/2016 17:50</td>\n",
       "      <td>Seat_Ibiza_1.4_16V_Reference</td>\n",
       "      <td>private</td>\n",
       "      <td>offer</td>\n",
       "      <td>4500</td>\n",
       "      <td>control</td>\n",
       "      <td>small car</td>\n",
       "      <td>2006</td>\n",
       "      <td>manual</td>\n",
       "      <td>86</td>\n",
       "      <td>ibiza</td>\n",
       "      <td>60000</td>\n",
       "      <td>12</td>\n",
       "      <td>petrol</td>\n",
       "      <td>seat</td>\n",
       "      <td>no</td>\n",
       "      <td>19/03/2016 0:00</td>\n",
       "      <td>34537</td>\n",
       "      <td>7/4/2016 4:44</td>\n",
       "    </tr>\n",
       "    <tr>\n",
       "      <th>4</th>\n",
       "      <td>16/03/2016 14:51</td>\n",
       "      <td>Volvo_XC90_D5_Aut._RDesign_R_Design_AWD_GSHD_S...</td>\n",
       "      <td>private</td>\n",
       "      <td>offer</td>\n",
       "      <td>18750</td>\n",
       "      <td>test</td>\n",
       "      <td>suv</td>\n",
       "      <td>2008</td>\n",
       "      <td>automatic</td>\n",
       "      <td>185</td>\n",
       "      <td>xc_reihe</td>\n",
       "      <td>150000</td>\n",
       "      <td>11</td>\n",
       "      <td>diesel</td>\n",
       "      <td>volvo</td>\n",
       "      <td>no</td>\n",
       "      <td>16/03/2016 0:00</td>\n",
       "      <td>55270</td>\n",
       "      <td>1/4/2016 23:18</td>\n",
       "    </tr>\n",
       "  </tbody>\n",
       "</table>\n",
       "</div>"
      ],
      "text/plain": [
       "        dateCrawled                                               name  \\\n",
       "0  30/03/2016 13:51                                       Zu_verkaufen   \n",
       "1     7/3/2016 9:54                             Volvo_XC90_2.4D_Summum   \n",
       "2     1/4/2016 0:57                                  Volkswagen_Touran   \n",
       "3  19/03/2016 17:50                       Seat_Ibiza_1.4_16V_Reference   \n",
       "4  16/03/2016 14:51  Volvo_XC90_D5_Aut._RDesign_R_Design_AWD_GSHD_S...   \n",
       "\n",
       "    seller offerType  price   abtest vehicleType  yearOfRegistration  \\\n",
       "0  private     offer   4450     test   limousine                2003   \n",
       "1  private     offer  13299  control         suv                2005   \n",
       "2  private     offer   3200     test         bus                2003   \n",
       "3  private     offer   4500  control   small car                2006   \n",
       "4  private     offer  18750     test         suv                2008   \n",
       "\n",
       "     gearbox  powerPS     model  kilometer  monthOfRegistration fuelType  \\\n",
       "0     manual      150       3er     150000                    3   diesel   \n",
       "1     manual      163  xc_reihe     150000                    6   diesel   \n",
       "2     manual      101    touran     150000                   11   diesel   \n",
       "3     manual       86     ibiza      60000                   12   petrol   \n",
       "4  automatic      185  xc_reihe     150000                   11   diesel   \n",
       "\n",
       "        brand notRepairedDamage      dateCreated  postalCode          lastSeen  \n",
       "0         bmw               NaN  30/03/2016 0:00       20257     7/4/2016 4:44  \n",
       "1       volvo                no    7/3/2016 0:00       88045  26/03/2016 13:17  \n",
       "2  volkswagen               NaN  31/03/2016 0:00       27449     1/4/2016 8:40  \n",
       "3        seat                no  19/03/2016 0:00       34537     7/4/2016 4:44  \n",
       "4       volvo                no  16/03/2016 0:00       55270    1/4/2016 23:18  "
      ]
     },
     "execution_count": 3,
     "metadata": {},
     "output_type": "execute_result"
    }
   ],
   "source": [
    "df.head()"
   ]
  },
  {
   "cell_type": "markdown",
   "metadata": {
    "id": "0KdGK0dndhh1"
   },
   "source": [
    "2. Сделайте описательную статистику: размер, типы переменных, пустые значения, уникальные имена и т.д."
   ]
  },
  {
   "cell_type": "code",
   "execution_count": 4,
   "metadata": {
    "colab": {
     "base_uri": "https://localhost:8080/"
    },
    "id": "5TSEwxItd1FS",
    "outputId": "db55832a-3982-445f-cb0f-01daf88b9f01"
   },
   "outputs": [
    {
     "name": "stdout",
     "output_type": "stream",
     "text": [
      "<class 'pandas.core.frame.DataFrame'>\n",
      "RangeIndex: 50001 entries, 0 to 50000\n",
      "Data columns (total 19 columns):\n",
      " #   Column               Non-Null Count  Dtype \n",
      "---  ------               --------------  ----- \n",
      " 0   dateCrawled          50001 non-null  object\n",
      " 1   name                 50001 non-null  object\n",
      " 2   seller               50001 non-null  object\n",
      " 3   offerType            50001 non-null  object\n",
      " 4   price                50001 non-null  int64 \n",
      " 5   abtest               50001 non-null  object\n",
      " 6   vehicleType          44813 non-null  object\n",
      " 7   yearOfRegistration   50001 non-null  int64 \n",
      " 8   gearbox              47177 non-null  object\n",
      " 9   powerPS              50001 non-null  int64 \n",
      " 10  model                47243 non-null  object\n",
      " 11  kilometer            50001 non-null  int64 \n",
      " 12  monthOfRegistration  50001 non-null  int64 \n",
      " 13  fuelType             45498 non-null  object\n",
      " 14  brand                50001 non-null  object\n",
      " 15  notRepairedDamage    40285 non-null  object\n",
      " 16  dateCreated          50001 non-null  object\n",
      " 17  postalCode           50001 non-null  int64 \n",
      " 18  lastSeen             50001 non-null  object\n",
      "dtypes: int64(6), object(13)\n",
      "memory usage: 7.2+ MB\n"
     ]
    }
   ],
   "source": [
    "df.info() #размер, тип данных, названия столбцов, кол-во непустых значений"
   ]
  },
  {
   "cell_type": "code",
   "execution_count": 5,
   "metadata": {
    "colab": {
     "base_uri": "https://localhost:8080/"
    },
    "id": "Y-mfwNwId32I",
    "outputId": "8d49c703-0e20-4b3b-8e96-396ad5ab6141"
   },
   "outputs": [
    {
     "data": {
      "text/plain": [
       "dateCrawled               0\n",
       "name                      0\n",
       "seller                    0\n",
       "offerType                 0\n",
       "price                     0\n",
       "abtest                    0\n",
       "vehicleType            5188\n",
       "yearOfRegistration        0\n",
       "gearbox                2824\n",
       "powerPS                   0\n",
       "model                  2758\n",
       "kilometer                 0\n",
       "monthOfRegistration       0\n",
       "fuelType               4503\n",
       "brand                     0\n",
       "notRepairedDamage      9716\n",
       "dateCreated               0\n",
       "postalCode                0\n",
       "lastSeen                  0\n",
       "dtype: int64"
      ]
     },
     "execution_count": 5,
     "metadata": {},
     "output_type": "execute_result"
    }
   ],
   "source": [
    "#отдельно кол-во пустых значении\n",
    "df.isnull().sum()"
   ]
  },
  {
   "cell_type": "code",
   "execution_count": 6,
   "metadata": {
    "colab": {
     "base_uri": "https://localhost:8080/",
     "height": 300
    },
    "id": "mN2oEbdCdWMJ",
    "outputId": "8cdaefd7-65c2-4859-bb0d-065b43b1295b"
   },
   "outputs": [
    {
     "data": {
      "text/html": [
       "<div>\n",
       "<style scoped>\n",
       "    .dataframe tbody tr th:only-of-type {\n",
       "        vertical-align: middle;\n",
       "    }\n",
       "\n",
       "    .dataframe tbody tr th {\n",
       "        vertical-align: top;\n",
       "    }\n",
       "\n",
       "    .dataframe thead th {\n",
       "        text-align: right;\n",
       "    }\n",
       "</style>\n",
       "<table border=\"1\" class=\"dataframe\">\n",
       "  <thead>\n",
       "    <tr style=\"text-align: right;\">\n",
       "      <th></th>\n",
       "      <th>price</th>\n",
       "      <th>yearOfRegistration</th>\n",
       "      <th>powerPS</th>\n",
       "      <th>kilometer</th>\n",
       "      <th>monthOfRegistration</th>\n",
       "      <th>postalCode</th>\n",
       "    </tr>\n",
       "  </thead>\n",
       "  <tbody>\n",
       "    <tr>\n",
       "      <th>count</th>\n",
       "      <td>5.000100e+04</td>\n",
       "      <td>50001.000000</td>\n",
       "      <td>50001.000000</td>\n",
       "      <td>50001.000000</td>\n",
       "      <td>50001.000000</td>\n",
       "      <td>50001.000000</td>\n",
       "    </tr>\n",
       "    <tr>\n",
       "      <th>mean</th>\n",
       "      <td>6.559865e+03</td>\n",
       "      <td>2005.544229</td>\n",
       "      <td>116.496130</td>\n",
       "      <td>125613.687726</td>\n",
       "      <td>5.743725</td>\n",
       "      <td>50775.216696</td>\n",
       "    </tr>\n",
       "    <tr>\n",
       "      <th>std</th>\n",
       "      <td>8.581847e+04</td>\n",
       "      <td>122.991832</td>\n",
       "      <td>230.567709</td>\n",
       "      <td>40205.234483</td>\n",
       "      <td>3.711345</td>\n",
       "      <td>25743.701933</td>\n",
       "    </tr>\n",
       "    <tr>\n",
       "      <th>min</th>\n",
       "      <td>0.000000e+00</td>\n",
       "      <td>1000.000000</td>\n",
       "      <td>0.000000</td>\n",
       "      <td>5000.000000</td>\n",
       "      <td>0.000000</td>\n",
       "      <td>1067.000000</td>\n",
       "    </tr>\n",
       "    <tr>\n",
       "      <th>25%</th>\n",
       "      <td>1.150000e+03</td>\n",
       "      <td>1999.000000</td>\n",
       "      <td>69.000000</td>\n",
       "      <td>125000.000000</td>\n",
       "      <td>3.000000</td>\n",
       "      <td>30559.000000</td>\n",
       "    </tr>\n",
       "    <tr>\n",
       "      <th>50%</th>\n",
       "      <td>2.950000e+03</td>\n",
       "      <td>2003.000000</td>\n",
       "      <td>105.000000</td>\n",
       "      <td>150000.000000</td>\n",
       "      <td>6.000000</td>\n",
       "      <td>49504.000000</td>\n",
       "    </tr>\n",
       "    <tr>\n",
       "      <th>75%</th>\n",
       "      <td>7.190000e+03</td>\n",
       "      <td>2008.000000</td>\n",
       "      <td>150.000000</td>\n",
       "      <td>150000.000000</td>\n",
       "      <td>9.000000</td>\n",
       "      <td>71404.000000</td>\n",
       "    </tr>\n",
       "    <tr>\n",
       "      <th>max</th>\n",
       "      <td>1.234568e+07</td>\n",
       "      <td>9999.000000</td>\n",
       "      <td>19312.000000</td>\n",
       "      <td>150000.000000</td>\n",
       "      <td>12.000000</td>\n",
       "      <td>99998.000000</td>\n",
       "    </tr>\n",
       "  </tbody>\n",
       "</table>\n",
       "</div>"
      ],
      "text/plain": [
       "              price  yearOfRegistration       powerPS      kilometer  \\\n",
       "count  5.000100e+04        50001.000000  50001.000000   50001.000000   \n",
       "mean   6.559865e+03         2005.544229    116.496130  125613.687726   \n",
       "std    8.581847e+04          122.991832    230.567709   40205.234483   \n",
       "min    0.000000e+00         1000.000000      0.000000    5000.000000   \n",
       "25%    1.150000e+03         1999.000000     69.000000  125000.000000   \n",
       "50%    2.950000e+03         2003.000000    105.000000  150000.000000   \n",
       "75%    7.190000e+03         2008.000000    150.000000  150000.000000   \n",
       "max    1.234568e+07         9999.000000  19312.000000  150000.000000   \n",
       "\n",
       "       monthOfRegistration    postalCode  \n",
       "count         50001.000000  50001.000000  \n",
       "mean              5.743725  50775.216696  \n",
       "std               3.711345  25743.701933  \n",
       "min               0.000000   1067.000000  \n",
       "25%               3.000000  30559.000000  \n",
       "50%               6.000000  49504.000000  \n",
       "75%               9.000000  71404.000000  \n",
       "max              12.000000  99998.000000  "
      ]
     },
     "execution_count": 6,
     "metadata": {},
     "output_type": "execute_result"
    }
   ],
   "source": [
    "df.describe() #описательная статистика числовых столбцов"
   ]
  },
  {
   "cell_type": "code",
   "execution_count": 7,
   "metadata": {
    "colab": {
     "base_uri": "https://localhost:8080/"
    },
    "id": "sL-vsIebrK5v",
    "outputId": "fe064373-6805-4174-9edc-e881f9bb9871"
   },
   "outputs": [
    {
     "data": {
      "text/plain": [
       "dateCrawled          50001\n",
       "name                 50001\n",
       "seller               50001\n",
       "offerType            50001\n",
       "abtest               50001\n",
       "vehicleType          44813\n",
       "gearbox              47177\n",
       "model                47243\n",
       "fuelType             45498\n",
       "brand                50001\n",
       "notRepairedDamage    40285\n",
       "dateCreated          50001\n",
       "lastSeen             50001\n",
       "dtype: int64"
      ]
     },
     "execution_count": 7,
     "metadata": {},
     "output_type": "execute_result"
    }
   ],
   "source": [
    "df.select_dtypes(include='object').count()"
   ]
  },
  {
   "cell_type": "code",
   "execution_count": 8,
   "metadata": {
    "colab": {
     "base_uri": "https://localhost:8080/"
    },
    "id": "9PYbGTEStCZL",
    "outputId": "df22206b-e66d-4392-c90b-cfcabb72d120"
   },
   "outputs": [
    {
     "data": {
      "text/plain": [
       "dateCrawled             0\n",
       "name                    0\n",
       "seller                  0\n",
       "offerType               0\n",
       "abtest                  0\n",
       "vehicleType          5188\n",
       "gearbox              2824\n",
       "model                2758\n",
       "fuelType             4503\n",
       "brand                   0\n",
       "notRepairedDamage    9716\n",
       "dateCreated             0\n",
       "lastSeen                0\n",
       "dtype: int64"
      ]
     },
     "execution_count": 8,
     "metadata": {},
     "output_type": "execute_result"
    }
   ],
   "source": [
    "df.select_dtypes(include='object').isna().sum()  #подсчитаем значения nan"
   ]
  },
  {
   "cell_type": "code",
   "execution_count": 9,
   "metadata": {
    "colab": {
     "base_uri": "https://localhost:8080/"
    },
    "id": "CgsqJThYqmpk",
    "outputId": "8b4c8fef-a4b5-4a6d-fb1c-5711cb8fabb0"
   },
   "outputs": [
    {
     "name": "stdout",
     "output_type": "stream",
     "text": [
      "***\n",
      "dateCrawled => ['30/03/2016 13:51' '7/3/2016 9:54' '1/4/2016 0:57' ... '24/03/2016 18:31'\n",
      " '17/03/2016 6:32' '20/03/2016 8:52']\n",
      "***\n",
      "\n",
      "***\n",
      "name => ['Zu_verkaufen' 'Volvo_XC90_2.4D_Summum' 'Volkswagen_Touran' ...\n",
      " '[SUCHE]_BMW_e46_Coupe_330ci_M_Paket_Facelift___Xenon_evtl._Cabrio'\n",
      " 'Verkaufe_mehrere_Fahrzeuge_zum_Verschrotten'\n",
      " 'Chevrolet_Matiz_1.Hd_TÜV11/2017']\n",
      "***\n",
      "\n",
      "***\n",
      "seller => ['private' 'commercial']\n",
      "***\n",
      "\n",
      "***\n",
      "offerType => ['offer' 'request']\n",
      "***\n",
      "\n",
      "***\n",
      "abtest => ['test' 'control']\n",
      "***\n",
      "\n",
      "***\n",
      "vehicleType => ['limousine' 'suv' 'bus' 'small car' 'station wagon' 'coupe' nan 'others'\n",
      " 'cabrio']\n",
      "***\n",
      "\n",
      "***\n",
      "gearbox => ['manual' 'automatic' nan]\n",
      "***\n",
      "\n",
      "***\n",
      "model => ['3er' 'xc_reihe' 'touran' 'ibiza' 'passat' 'astra' 'clk' 'vectra'\n",
      " 'octavia' 'a_klasse' 'yaris' 'meriva' nan 'others' 'golf' '3_reihe'\n",
      " 'carisma' 'colt' '80' 'panda' 'micra' '156' 'c_klasse' 'polo' '1er' 'ka'\n",
      " 'e_klasse' 'freelander' 'a4' 'almera' 'forester' 'cooper' '5er' 'a3'\n",
      " 'grand' 'voyager' 'fiesta' 'clio' 'cordoba' 'slk' 'berlingo' 'v40' 'sl'\n",
      " 'x_reihe' 'twingo' 'fabia' 'swift' 'logan' '500' 'punto' 's_klasse'\n",
      " '2_reihe' 'galaxy' 'sharan' 'agila' 'kangoo' 'captiva' 'scenic' 'mondeo'\n",
      " 'sorento' 'primera' 'omega' 'a6' 'fortwo' 'scirocco' 'transporter' 'c4'\n",
      " 'qashqai' 'clubman' 'insignia' '7er' 'signum' 'megane' 'kadett' 'corsa'\n",
      " 'arosa' 'focus' 'z_reihe' 'caddy' 'aygo' 'matiz' 'combo' 'corolla' '601'\n",
      " 'c_max' 'c_reihe' 'beetle' 'tigra' 'sandero' 'tiguan' 's_max' 'toledo'\n",
      " 'zafira' 'a2' 'transit' 'a5' 'tt' 'citigo' 'espace' 'tucson' 'accord'\n",
      " 'rav' 'i_reihe' 'laguna' 'roadster' 'rio' 'bora' 'kuga' '147' 'c1'\n",
      " 'cuore' 'civic' 'mustang' 'lupo' 'c5' 'stilo' '6_reihe' 'mx_reihe'\n",
      " 'cayenne' 'justy' 'avensis' 'santa' 'kaefer' 'up' 'yeti' 'modus'\n",
      " 'rx_reihe' 'sprinter' 'forfour' 'cherokee' 'navara' 'v70' 'q3' '1_reihe'\n",
      " 'a8' 'verso' 'boxster' 'v_klasse' 'doblo' 'fox' '100' 'altea' 'impreza'\n",
      " 'eos' 'leon' 'calibra' 'q5' '911' 'x_trail' 'v50' 'carnival' 'bravo'\n",
      " 'jazz' 'm_klasse' 'jetta' 'escort' '4_reihe' '300c' 'ceed' 'a1' 'cl'\n",
      " 'vito' 'one' 'alhambra' 'getz' 'pajero' 'ducato' 'vivaro' 'touareg' '90'\n",
      " 'cr_reihe' '850' 'q7' 'duster' 'cx_reihe' 'seicento' 'fusion' 'b_klasse'\n",
      " 'musa' 'cc' 'c3' 'c2' '5_reihe' '900' 'kalos' 'viano' 'ypsilon' 'picanto'\n",
      " 'ptcruiser' 'sportage' 'aveo' 'exeo' 'jimny' 'note' 'm_reihe' 'auris'\n",
      " 'lanos' 'juke' 'lancer' '6er' 'phaeton' 'x_type' 'range_rover_sport'\n",
      " 'spark' 'galant' 'superb' 'spider' 'crossfire' '159' 'range_rover' 'r19'\n",
      " 'legacy' 'amarok' 's60' 'glk' 'wrangler' '9000' 'roomster' 'i3'\n",
      " 'outlander' 'b_max' 'antara' 'niva' 'sirion' 'nubira' 'g_klasse' 'lodgy'\n",
      " 'mii' 'range_rover_evoque' 'terios' '145' 'gl' 'serie_2' 'defender'\n",
      " 'delta' '200' 's_type' 'samara' 'materia' 'croma' 'lybra' 'discovery'\n",
      " 'v60' 'serie_3' 'move' 'kalina' 'elefantino' 'charade' 'rangerover']\n",
      "***\n",
      "\n",
      "***\n",
      "fuelType => ['diesel' 'petrol' nan 'cng' 'lpg' 'hybrid' 'electro' 'other']\n",
      "***\n",
      "\n",
      "***\n",
      "brand => ['bmw' 'volvo' 'volkswagen' 'seat' 'opel' 'mercedes_benz' 'skoda' 'toyota'\n",
      " 'nissan' 'sonstige_autos' 'mazda' 'mitsubishi' 'audi' 'fiat' 'alfa_romeo'\n",
      " 'saab' 'ford' 'peugeot' 'land_rover' 'daihatsu' 'subaru' 'mini' 'citroen'\n",
      " 'jeep' 'chrysler' 'renault' 'suzuki' 'dacia' 'chevrolet' 'kia' 'smart'\n",
      " 'hyundai' 'lancia' 'trabant' 'honda' 'jaguar' 'porsche' 'rover' 'daewoo'\n",
      " 'lada']\n",
      "***\n",
      "\n",
      "***\n",
      "notRepairedDamage => [nan 'no' 'yes']\n",
      "***\n",
      "\n",
      "***\n",
      "dateCreated => ['30/03/2016 0:00' '7/3/2016 0:00' '31/03/2016 0:00' '19/03/2016 0:00'\n",
      " '16/03/2016 0:00' '2/4/2016 0:00' '3/4/2016 0:00' '24/03/2016 0:00'\n",
      " '28/03/2016 0:00' '5/4/2016 0:00' '21/03/2016 0:00' '25/03/2016 0:00'\n",
      " '13/03/2016 0:00' '8/3/2016 0:00' '12/3/2016 0:00' '22/03/2016 0:00'\n",
      " '15/03/2016 0:00' '1/4/2016 0:00' '27/03/2016 0:00' '29/03/2016 0:00'\n",
      " '26/03/2016 0:00' '23/03/2016 0:00' '11/3/2016 0:00' '9/3/2016 0:00'\n",
      " '14/03/2016 0:00' '4/4/2016 0:00' '10/3/2016 0:00' '17/03/2016 0:00'\n",
      " '20/03/2016 0:00' '18/03/2016 0:00' '5/3/2016 0:00' '6/3/2016 0:00'\n",
      " '4/3/2016 0:00' '28/02/2016 0:00' '3/3/2016 0:00' '6/4/2016 0:00'\n",
      " '7/4/2016 0:00' '4/2/2016 0:00' '23/02/2016 0:00' '27/02/2016 0:00'\n",
      " '1/3/2016 0:00' '7/1/2016 0:00' '2/3/2016 0:00' '12/11/2015 0:00'\n",
      " '26/02/2016 0:00' '20/02/2016 0:00' '28/12/2015 0:00' '21/02/2016 0:00'\n",
      " '14/02/2016 0:00' '13/02/2016 0:00' '30/01/2016 0:00' '29/02/2016 0:00'\n",
      " '19/02/2016 0:00' '24/02/2016 0:00' '27/01/2016 0:00' '25/02/2016 0:00'\n",
      " '30/12/2015 0:00' '25/01/2016 0:00' '29/01/2016 0:00' '5/12/2015 0:00'\n",
      " '5/2/2016 0:00' '9/2/2016 0:00' '24/01/2016 0:00' '2/11/2015 0:00'\n",
      " '6/12/2015 0:00' '18/02/2016 0:00' '20/01/2016 0:00' '4/9/2015 0:00'\n",
      " '15/02/2016 0:00' '16/02/2016 0:00' '22/02/2016 0:00' '2/2/2016 0:00'\n",
      " '3/2/2016 0:00' '12/2/2016 0:00' '19/01/2016 0:00']\n",
      "***\n",
      "\n",
      "***\n",
      "lastSeen => ['7/4/2016 4:44' '26/03/2016 13:17' '1/4/2016 8:40' ... '30/03/2016 19:18'\n",
      " '20/03/2016 9:39' '26/03/2016 17:54']\n",
      "***\n",
      "\n"
     ]
    }
   ],
   "source": [
    "# уникальные значения columns с типом object\n",
    "for col in df.select_dtypes(include='object').columns:\n",
    "  print(f'***\\n{col} => {df[col].unique()}\\n***\\n')"
   ]
  },
  {
   "cell_type": "markdown",
   "metadata": {
    "id": "bZa694tKfY6g"
   },
   "source": [
    "3 Поработайте с типами переменных. Все числовые значения переведите\n",
    "в формат int."
   ]
  },
  {
   "cell_type": "code",
   "execution_count": 10,
   "metadata": {
    "colab": {
     "base_uri": "https://localhost:8080/"
    },
    "id": "ze4IJrFkfYPi",
    "outputId": "8d696706-3630-4cd0-d742-27e3eb572a04"
   },
   "outputs": [
    {
     "data": {
      "text/plain": [
       "price                  int64\n",
       "yearOfRegistration     int64\n",
       "powerPS                int64\n",
       "kilometer              int64\n",
       "monthOfRegistration    int64\n",
       "postalCode             int64\n",
       "dtype: object"
      ]
     },
     "execution_count": 10,
     "metadata": {},
     "output_type": "execute_result"
    }
   ],
   "source": [
    "df.select_dtypes(include=np.number).dtypes      # все числовые значения в формате int"
   ]
  },
  {
   "cell_type": "markdown",
   "metadata": {
    "id": "tmbhurc2f5wZ"
   },
   "source": [
    "4 Поработайте со столбцом price. Постройте гистограмму, найдите\n",
    "выбросы (ящиковая диаграмма), удалите аномальные значения,\n",
    "постарайтесь привести к нормальному распределению."
   ]
  },
  {
   "cell_type": "code",
   "execution_count": 11,
   "metadata": {
    "colab": {
     "base_uri": "https://localhost:8080/",
     "height": 296
    },
    "id": "lInFxeudf8ZH",
    "outputId": "88d014b2-870f-4d46-94f5-72b906f285f6"
   },
   "outputs": [
    {
     "data": {
      "text/plain": [
       "<AxesSubplot:>"
      ]
     },
     "execution_count": 11,
     "metadata": {},
     "output_type": "execute_result"
    },
    {
     "data": {
      "image/png": "[encoded data removed]",
      "text/plain": [
       "<Figure size 432x288 with 1 Axes>"
      ]
     },
     "metadata": {
      "needs_background": "light"
     },
     "output_type": "display_data"
    }
   ],
   "source": [
    "df.price.hist(color='green') # гистограмма"
   ]
  },
  {
   "cell_type": "code",
   "execution_count": 12,
   "metadata": {
    "colab": {
     "base_uri": "https://localhost:8080/",
     "height": 294
    },
    "id": "KMPNEYyfgYqU",
    "outputId": "67cb2aae-7856-4307-e404-c6ca9f2b5418"
   },
   "outputs": [
    {
     "data": {
      "text/plain": [
       "<AxesSubplot:>"
      ]
     },
     "execution_count": 12,
     "metadata": {},
     "output_type": "execute_result"
    },
    {
     "data": {
      "image/png": "[encoded data removed]",
      "text/plain": [
       "<Figure size 432x288 with 1 Axes>"
      ]
     },
     "metadata": {
      "needs_background": "light"
     },
     "output_type": "display_data"
    }
   ],
   "source": [
    "df.boxplot(column='price') # выбросы"
   ]
  },
  {
   "cell_type": "code",
   "execution_count": 13,
   "metadata": {
    "colab": {
     "base_uri": "https://localhost:8080/",
     "height": 283
    },
    "id": "ZhZSnPu_gjOk",
    "outputId": "62de377e-9a2e-4fd6-8ac6-9a0f44d35531"
   },
   "outputs": [
    {
     "data": {
      "text/plain": [
       "<AxesSubplot:>"
      ]
     },
     "execution_count": 13,
     "metadata": {},
     "output_type": "execute_result"
    },
    {
     "data": {
      "image/png": "[encoded data removed]",
      "text/plain": [
       "<Figure size 432x288 with 1 Axes>"
      ]
     },
     "metadata": {
      "needs_background": "light"
     },
     "output_type": "display_data"
    }
   ],
   "source": [
    "# будем выкидывать выбросы по принципу квартилей\n",
    "Q1 =  df['price'].quantile(0.25)\n",
    "Q3 = df['price'].quantile(0.75)\n",
    "IQR = Q3 - Q1\n",
    "df = df.query(\"@Q1 - 1.5*@IQR < price < @Q3 + 1.5*@IQR\")\n",
    "df.boxplot(column=\"price\")"
   ]
  },
  {
   "cell_type": "code",
   "execution_count": 14,
   "metadata": {
    "colab": {
     "base_uri": "https://localhost:8080/",
     "height": 283
    },
    "id": "btLZ-0Sqic-Z",
    "outputId": "09d82425-a54a-4e1f-c72f-0b81baa5d638"
   },
   "outputs": [
    {
     "data": {
      "text/plain": [
       "<AxesSubplot:>"
      ]
     },
     "execution_count": 14,
     "metadata": {},
     "output_type": "execute_result"
    },
    {
     "data": {
      "image/png": "[encoded data removed]",
      "text/plain": [
       "<Figure size 432x288 with 1 Axes>"
      ]
     },
     "metadata": {
      "needs_background": "light"
     },
     "output_type": "display_data"
    }
   ],
   "source": [
    "df.price.hist(color='green') # гистограмма после удаления выбросов"
   ]
  },
  {
   "cell_type": "code",
   "execution_count": 15,
   "metadata": {
    "id": "6AGzfkB_u_0Y"
   },
   "outputs": [],
   "source": [
    "# нормализация\n",
    "def NormalizeData(data):\n",
    "    return (data - np.min(data)) / (np.max(data) - np.min(data))\n"
   ]
  },
  {
   "cell_type": "code",
   "execution_count": 16,
   "metadata": {
    "colab": {
     "base_uri": "https://localhost:8080/",
     "height": 283
    },
    "id": "5kb0Owrckp8C",
    "outputId": "1633728d-3916-4ca7-db05-f43a290d0956"
   },
   "outputs": [
    {
     "data": {
      "text/plain": [
       "<AxesSubplot:>"
      ]
     },
     "execution_count": 16,
     "metadata": {},
     "output_type": "execute_result"
    },
    {
     "data": {
      "image/png": "[encoded data removed]",
      "text/plain": [
       "<Figure size 432x288 with 1 Axes>"
      ]
     },
     "metadata": {
      "needs_background": "light"
     },
     "output_type": "display_data"
    }
   ],
   "source": [
    "df['price'] = NormalizeData(df.price)\n",
    "\n",
    "df.price.hist(color='blue') "
   ]
  },
  {
   "cell_type": "markdown",
   "metadata": {
    "id": "cBbS0wALmUxZ"
   },
   "source": [
    "5 Аналогично поработайте и с другими «важными для целевой функции\n",
    "price» параметрами (powerPS, yearOfRegistration, kilometer и т.д).\n",
    "«Важность» докажите через коэффициент корреляции. Сделайте\n",
    "визуализацию."
   ]
  },
  {
   "cell_type": "code",
   "execution_count": 17,
   "metadata": {
    "colab": {
     "base_uri": "https://localhost:8080/",
     "height": 381
    },
    "id": "QearjtpNmrW-",
    "outputId": "be20cece-0a73-4c43-fc95-6ff33e67f64e"
   },
   "outputs": [
    {
     "data": {
      "text/plain": [
       "<AxesSubplot:>"
      ]
     },
     "execution_count": 17,
     "metadata": {},
     "output_type": "execute_result"
    },
    {
     "data": {
      "image/png": "[encoded data removed]",
      "text/plain": [
       "<Figure size 432x288 with 2 Axes>"
      ]
     },
     "metadata": {
      "needs_background": "light"
     },
     "output_type": "display_data"
    }
   ],
   "source": [
    "corr_matrix = df.corr()\n",
    "\n",
    "sns.heatmap(corr_matrix, annot=True)\n",
    "\n",
    "# в целом, факторы слабо коррелируют с целевой функцией price\n",
    "# но можно попробовать поработать monthOfRegistration и kilometer"
   ]
  },
  {
   "cell_type": "code",
   "execution_count": 18,
   "metadata": {
    "colab": {
     "base_uri": "https://localhost:8080/",
     "height": 283
    },
    "id": "ijc2vtc89uL6",
    "outputId": "61c14a63-4c06-4daa-9f96-3e4e5a931665"
   },
   "outputs": [
    {
     "data": {
      "text/plain": [
       "<AxesSubplot:>"
      ]
     },
     "execution_count": 18,
     "metadata": {},
     "output_type": "execute_result"
    },
    {
     "data": {
      "image/png": "[encoded data removed]",
      "text/plain": [
       "<Figure size 432x288 with 1 Axes>"
      ]
     },
     "metadata": {
      "needs_background": "light"
     },
     "output_type": "display_data"
    }
   ],
   "source": [
    "df.kilometer.hist(color='green') # гистограмма"
   ]
  },
  {
   "cell_type": "code",
   "execution_count": 19,
   "metadata": {
    "colab": {
     "base_uri": "https://localhost:8080/",
     "height": 283
    },
    "id": "6H_6v0BR9zM4",
    "outputId": "61d86a61-a8f2-426c-9a0c-d3e87c8bf30e"
   },
   "outputs": [
    {
     "data": {
      "text/plain": [
       "<AxesSubplot:>"
      ]
     },
     "execution_count": 19,
     "metadata": {},
     "output_type": "execute_result"
    },
    {
     "data": {
      "image/png": "[encoded data removed]",
      "text/plain": [
       "<Figure size 432x288 with 1 Axes>"
      ]
     },
     "metadata": {
      "needs_background": "light"
     },
     "output_type": "display_data"
    }
   ],
   "source": [
    "df.boxplot(column='kilometer') # выбросы"
   ]
  },
  {
   "cell_type": "code",
   "execution_count": 20,
   "metadata": {
    "colab": {
     "base_uri": "https://localhost:8080/",
     "height": 283
    },
    "id": "gpcc4ZXA97-B",
    "outputId": "61b46afb-c990-4ba5-ee5a-3565fd6a9819"
   },
   "outputs": [
    {
     "data": {
      "text/plain": [
       "<AxesSubplot:>"
      ]
     },
     "execution_count": 20,
     "metadata": {},
     "output_type": "execute_result"
    },
    {
     "data": {
      "image/png": "[encoded data removed]",
      "text/plain": [
       "<Figure size 432x288 with 1 Axes>"
      ]
     },
     "metadata": {
      "needs_background": "light"
     },
     "output_type": "display_data"
    }
   ],
   "source": [
    "df = df.query(\"50_000 < kilometer\") #\"обрежем\" выбросы\n",
    "df.boxplot(column=\"kilometer\")"
   ]
  },
  {
   "cell_type": "code",
   "execution_count": 21,
   "metadata": {
    "colab": {
     "base_uri": "https://localhost:8080/",
     "height": 283
    },
    "id": "PuxQpVe7-lL9",
    "outputId": "8dfbbd85-a876-457b-e5b6-30accf944b4a"
   },
   "outputs": [
    {
     "data": {
      "text/plain": [
       "<AxesSubplot:>"
      ]
     },
     "execution_count": 21,
     "metadata": {},
     "output_type": "execute_result"
    },
    {
     "data": {
      "image/png": "[encoded data removed]",
      "text/plain": [
       "<Figure size 432x288 with 1 Axes>"
      ]
     },
     "metadata": {
      "needs_background": "light"
     },
     "output_type": "display_data"
    }
   ],
   "source": [
    "# нормализация\n",
    "df['kilometer'] = NormalizeData(df.kilometer)\n",
    "\n",
    "df.kilometer.hist(color='blue') "
   ]
  },
  {
   "cell_type": "code",
   "execution_count": 22,
   "metadata": {
    "colab": {
     "base_uri": "https://localhost:8080/",
     "height": 283
    },
    "id": "epMGooEZzjQZ",
    "outputId": "f5c0f9f7-4b85-45c7-871a-18f13490a98e"
   },
   "outputs": [
    {
     "data": {
      "text/plain": [
       "<AxesSubplot:>"
      ]
     },
     "execution_count": 22,
     "metadata": {},
     "output_type": "execute_result"
    },
    {
     "data": {
      "image/png": "[encoded data removed]",
      "text/plain": [
       "<Figure size 432x288 with 1 Axes>"
      ]
     },
     "metadata": {
      "needs_background": "light"
     },
     "output_type": "display_data"
    }
   ],
   "source": [
    "df.monthOfRegistration.hist(color='green') # гистограмма"
   ]
  },
  {
   "cell_type": "code",
   "execution_count": 23,
   "metadata": {
    "colab": {
     "base_uri": "https://localhost:8080/",
     "height": 283
    },
    "id": "q_nSUimCzoBq",
    "outputId": "ec01c83c-e15b-4007-916e-211f19ca6d6f"
   },
   "outputs": [
    {
     "data": {
      "text/plain": [
       "<AxesSubplot:>"
      ]
     },
     "execution_count": 23,
     "metadata": {},
     "output_type": "execute_result"
    },
    {
     "data": {
      "image/png": "[encoded data removed]",
      "text/plain": [
       "<Figure size 432x288 with 1 Axes>"
      ]
     },
     "metadata": {
      "needs_background": "light"
     },
     "output_type": "display_data"
    }
   ],
   "source": [
    "df.boxplot(column='monthOfRegistration') # выбросы, а точнее их отсутствие"
   ]
  },
  {
   "cell_type": "markdown",
   "metadata": {
    "id": "n8amgiG10q9c"
   },
   "source": [
    "Постройте ящиковые диаграммы зависимости gearbox, fuelType, vehicleType, notRepairedDamage от price. Сделайте выводы. Можно ли убрать значения с малой частотой? Повлияет ли это на дальнейшее исследование?"
   ]
  },
  {
   "cell_type": "code",
   "execution_count": 24,
   "metadata": {
    "colab": {
     "base_uri": "https://localhost:8080/",
     "height": 297
    },
    "id": "9l_wke5k0nro",
    "outputId": "edf3a156-f5bf-4d53-ba66-157a377fa853"
   },
   "outputs": [
    {
     "data": {
      "text/plain": [
       "<AxesSubplot:xlabel='gearbox', ylabel='price'>"
      ]
     },
     "execution_count": 24,
     "metadata": {},
     "output_type": "execute_result"
    },
    {
     "data": {
      "image/png": "[encoded data removed]",
      "text/plain": [
       "<Figure size 432x288 with 1 Axes>"
      ]
     },
     "metadata": {
      "needs_background": "light"
     },
     "output_type": "display_data"
    }
   ],
   "source": [
    "sns.boxplot(x=df[\"gearbox\"], y=df[\"price\"])\n",
    "\n",
    "# Дороже в среднем автомобили с автомат. коробкой передач (automatic)"
   ]
  },
  {
   "cell_type": "code",
   "execution_count": 25,
   "metadata": {
    "colab": {
     "base_uri": "https://localhost:8080/",
     "height": 353
    },
    "id": "3avwpfhA1C5U",
    "outputId": "d49c33f9-65ac-44b1-b44a-6e04b9affbed"
   },
   "outputs": [
    {
     "name": "stderr",
     "output_type": "stream",
     "text": [
      "/usr/local/anaconda3/lib/python3.9/site-packages/seaborn/_decorators.py:36: FutureWarning: Pass the following variables as keyword args: x, y. From version 0.12, the only valid positional argument will be `data`, and passing other arguments without an explicit keyword will result in an error or misinterpretation.\n",
      "  warnings.warn(\n"
     ]
    },
    {
     "data": {
      "text/plain": [
       "<AxesSubplot:xlabel='fuelType', ylabel='price'>"
      ]
     },
     "execution_count": 25,
     "metadata": {},
     "output_type": "execute_result"
    },
    {
     "data": {
      "image/png": "[encoded data removed]",
      "text/plain": [
       "<Figure size 432x288 with 1 Axes>"
      ]
     },
     "metadata": {
      "needs_background": "light"
     },
     "output_type": "display_data"
    }
   ],
   "source": [
    "sns.boxplot(df['fuelType'], df['price'] )\n",
    "\n",
    "# Дороже в среднем автомобили гибирды(hybrid), дешевле бензин (petrol)\n",
    "# и есть инересный other"
   ]
  },
  {
   "cell_type": "code",
   "execution_count": 26,
   "metadata": {
    "colab": {
     "base_uri": "https://localhost:8080/",
     "height": 390
    },
    "id": "sV5lfW2G1HOt",
    "outputId": "5065d515-38f0-4d97-96a1-f2d4d3dde7b4"
   },
   "outputs": [
    {
     "name": "stderr",
     "output_type": "stream",
     "text": [
      "/usr/local/anaconda3/lib/python3.9/site-packages/seaborn/_decorators.py:36: FutureWarning: Pass the following variables as keyword args: x, y. From version 0.12, the only valid positional argument will be `data`, and passing other arguments without an explicit keyword will result in an error or misinterpretation.\n",
      "  warnings.warn(\n"
     ]
    },
    {
     "data": {
      "image/png": "[encoded data removed]",
      "text/plain": [
       "<Figure size 792x360 with 1 Axes>"
      ]
     },
     "metadata": {
      "needs_background": "light"
     },
     "output_type": "display_data"
    }
   ],
   "source": [
    "ax = sns.boxplot(df['vehicleType'], df['price'])\n",
    "ax.figure.set_size_inches(11, 5)\n",
    "\n",
    "# small cars самые дешевые (очевидно), suv (Sport Utility Vehicle, внедорожники)- самые дорогие"
   ]
  },
  {
   "cell_type": "code",
   "execution_count": 27,
   "metadata": {
    "colab": {
     "base_uri": "https://localhost:8080/",
     "height": 353
    },
    "id": "lynR0hk01MBw",
    "outputId": "07794ed6-7643-4c49-9714-6419634cb73a"
   },
   "outputs": [
    {
     "name": "stderr",
     "output_type": "stream",
     "text": [
      "/usr/local/anaconda3/lib/python3.9/site-packages/seaborn/_decorators.py:36: FutureWarning: Pass the following variables as keyword args: x, y. From version 0.12, the only valid positional argument will be `data`, and passing other arguments without an explicit keyword will result in an error or misinterpretation.\n",
      "  warnings.warn(\n"
     ]
    },
    {
     "data": {
      "text/plain": [
       "<AxesSubplot:xlabel='notRepairedDamage', ylabel='price'>"
      ]
     },
     "execution_count": 27,
     "metadata": {},
     "output_type": "execute_result"
    },
    {
     "data": {
      "image/png": "[encoded data removed]",
      "text/plain": [
       "<Figure size 432x288 with 1 Axes>"
      ]
     },
     "metadata": {
      "needs_background": "light"
     },
     "output_type": "display_data"
    }
   ],
   "source": [
    "sns.boxplot(df['notRepairedDamage'], df['price'])\n",
    "\n",
    "# тоже вполне очевидный результат, автобили с повреждениями (yes), причем невостановленными, стоят дешевле"
   ]
  },
  {
   "cell_type": "markdown",
   "metadata": {
    "id": "yIyZNszF1U6y"
   },
   "source": [
    "Найдите пропуски. Удалите столбцы, которые содержат большое количество пропусков. В остальных случаях постарайтесь восстановить пропущенные значения."
   ]
  },
  {
   "cell_type": "code",
   "execution_count": 28,
   "metadata": {
    "colab": {
     "base_uri": "https://localhost:8080/"
    },
    "id": "1AwrjuXm3Q4i",
    "outputId": "6d5f5484-521a-4e87-d636-7c9df7d5036c"
   },
   "outputs": [
    {
     "data": {
      "text/plain": [
       "(42961, 19)"
      ]
     },
     "execution_count": 28,
     "metadata": {},
     "output_type": "execute_result"
    }
   ],
   "source": [
    "df.shape"
   ]
  },
  {
   "cell_type": "code",
   "execution_count": 29,
   "metadata": {
    "colab": {
     "base_uri": "https://localhost:8080/"
    },
    "id": "5mMyoWOj2Awg",
    "outputId": "5ab54c43-8a5d-4887-dbc2-6b12d593a41c"
   },
   "outputs": [
    {
     "data": {
      "text/plain": [
       "vehicleType          4551\n",
       "gearbox              2284\n",
       "model                2229\n",
       "fuelType             3849\n",
       "notRepairedDamage    8692\n",
       "dtype: int64"
      ]
     },
     "execution_count": 29,
     "metadata": {},
     "output_type": "execute_result"
    }
   ],
   "source": [
    "re = df.columns[df.isna().sum() > 0]\n",
    "df[re].isna().sum()"
   ]
  },
  {
   "cell_type": "code",
   "execution_count": 30,
   "metadata": {
    "colab": {
     "base_uri": "https://localhost:8080/"
    },
    "id": "H431_s2V1ayL",
    "outputId": "e022b13c-8de1-45fe-b7ea-95b06966e3df"
   },
   "outputs": [
    {
     "name": "stdout",
     "output_type": "stream",
     "text": [
      "<class 'pandas.core.frame.DataFrame'>\n",
      "Int64Index: 42961 entries, 0 to 50000\n",
      "Data columns (total 17 columns):\n",
      " #   Column               Non-Null Count  Dtype  \n",
      "---  ------               --------------  -----  \n",
      " 0   dateCrawled          42961 non-null  object \n",
      " 1   name                 42961 non-null  object \n",
      " 2   seller               42961 non-null  object \n",
      " 3   offerType            42961 non-null  object \n",
      " 4   price                42961 non-null  float64\n",
      " 5   abtest               42961 non-null  object \n",
      " 6   vehicleType          38410 non-null  object \n",
      " 7   yearOfRegistration   42961 non-null  int64  \n",
      " 8   gearbox              40677 non-null  object \n",
      " 9   powerPS              42961 non-null  int64  \n",
      " 10  kilometer            42961 non-null  float64\n",
      " 11  monthOfRegistration  42961 non-null  int64  \n",
      " 12  fuelType             39112 non-null  object \n",
      " 13  brand                42961 non-null  object \n",
      " 14  dateCreated          42961 non-null  object \n",
      " 15  postalCode           42961 non-null  int64  \n",
      " 16  lastSeen             42961 non-null  object \n",
      "dtypes: float64(2), int64(4), object(11)\n",
      "memory usage: 6.9+ MB\n"
     ]
    }
   ],
   "source": [
    "# notRepairedDamage пропущено почти 9 тыс. значений, что 20%. Поэтому удалю. \n",
    "# модель по медиане восстановить в данном случае сложно, т.к. ответ может быть неочевидным (по факту, близко к уникальным значениям). \n",
    "# Поэтому модели я тоже удалю\n",
    "df = df.drop(columns=[\"notRepairedDamage\", \"model\"]) # удаление столбцов с большиим кол-вом выбросов\n",
    "df.info()"
   ]
  },
  {
   "cell_type": "code",
   "execution_count": 31,
   "metadata": {
    "colab": {
     "base_uri": "https://localhost:8080/",
     "height": 1000
    },
    "id": "V2GgSfQp1tjC",
    "outputId": "e9ffef17-7cc5-4858-ac66-e63457f34a22"
   },
   "outputs": [
    {
     "name": "stderr",
     "output_type": "stream",
     "text": [
      "/usr/local/anaconda3/lib/python3.9/site-packages/seaborn/_decorators.py:36: FutureWarning: Pass the following variable as a keyword arg: x. From version 0.12, the only valid positional argument will be `data`, and passing other arguments without an explicit keyword will result in an error or misinterpretation.\n",
      "  warnings.warn(\n"
     ]
    },
    {
     "data": {
      "image/png": "[encoded data removed]",
      "text/plain": [
       "<Figure size 792x360 with 1 Axes>"
      ]
     },
     "metadata": {
      "needs_background": "light"
     },
     "output_type": "display_data"
    },
    {
     "name": "stderr",
     "output_type": "stream",
     "text": [
      "/usr/local/anaconda3/lib/python3.9/site-packages/seaborn/_decorators.py:36: FutureWarning: Pass the following variable as a keyword arg: x. From version 0.12, the only valid positional argument will be `data`, and passing other arguments without an explicit keyword will result in an error or misinterpretation.\n",
      "  warnings.warn(\n"
     ]
    },
    {
     "data": {
      "image/png": "[encoded data removed]",
      "text/plain": [
       "<Figure size 792x360 with 1 Axes>"
      ]
     },
     "metadata": {
      "needs_background": "light"
     },
     "output_type": "display_data"
    },
    {
     "name": "stderr",
     "output_type": "stream",
     "text": [
      "/usr/local/anaconda3/lib/python3.9/site-packages/seaborn/_decorators.py:36: FutureWarning: Pass the following variable as a keyword arg: x. From version 0.12, the only valid positional argument will be `data`, and passing other arguments without an explicit keyword will result in an error or misinterpretation.\n",
      "  warnings.warn(\n"
     ]
    },
    {
     "data": {
      "image/png": "[encoded data removed]",
      "text/plain": [
       "<Figure size 792x360 with 1 Axes>"
      ]
     },
     "metadata": {
      "needs_background": "light"
     },
     "output_type": "display_data"
    }
   ],
   "source": [
    "re = df.columns[df.isna().sum() > 0] # обновим список, т.к. два столбца удалили уже\n",
    "for column in re:\n",
    "    ax= sns.countplot(df[column])\n",
    "    ax.figure.set_size_inches(11, 5)\n",
    "    plt.show()"
   ]
  },
  {
   "cell_type": "code",
   "execution_count": 32,
   "metadata": {
    "id": "xeFOTvIR6RRO"
   },
   "outputs": [],
   "source": [
    "# заменим nan на моду, это в данном случае вполне возможно \n",
    "for column in re:\n",
    "    df[column].fillna(df[column].mode()[0], inplace=True)"
   ]
  },
  {
   "cell_type": "code",
   "execution_count": 33,
   "metadata": {
    "colab": {
     "base_uri": "https://localhost:8080/"
    },
    "id": "3ObGewKf7zvO",
    "outputId": "0b07ef2f-1f96-4fc4-a911-efdea945eb37"
   },
   "outputs": [
    {
     "data": {
      "text/plain": [
       "dateCrawled            0\n",
       "name                   0\n",
       "seller                 0\n",
       "offerType              0\n",
       "price                  0\n",
       "abtest                 0\n",
       "vehicleType            0\n",
       "yearOfRegistration     0\n",
       "gearbox                0\n",
       "powerPS                0\n",
       "kilometer              0\n",
       "monthOfRegistration    0\n",
       "fuelType               0\n",
       "brand                  0\n",
       "dateCreated            0\n",
       "postalCode             0\n",
       "lastSeen               0\n",
       "dtype: int64"
      ]
     },
     "execution_count": 33,
     "metadata": {},
     "output_type": "execute_result"
    }
   ],
   "source": [
    "df.isna().sum() # прекрасный результат"
   ]
  },
  {
   "cell_type": "markdown",
   "metadata": {
    "id": "r3PMysMh84No"
   },
   "source": [
    "Сохраните полученный датасет и выведете его."
   ]
  },
  {
   "cell_type": "code",
   "execution_count": 34,
   "metadata": {
    "id": "riPXeB6M85Jp"
   },
   "outputs": [],
   "source": [
    "df.to_csv(\"./result.csv\")"
   ]
  },
  {
   "cell_type": "code",
   "execution_count": 35,
   "metadata": {
    "colab": {
     "base_uri": "https://localhost:8080/",
     "height": 357
    },
    "id": "wlHSeVjb9BCa",
    "outputId": "14440aa0-4c90-4ecb-ddf3-3bce79a91569"
   },
   "outputs": [
    {
     "data": {
      "text/html": [
       "<div>\n",
       "<style scoped>\n",
       "    .dataframe tbody tr th:only-of-type {\n",
       "        vertical-align: middle;\n",
       "    }\n",
       "\n",
       "    .dataframe tbody tr th {\n",
       "        vertical-align: top;\n",
       "    }\n",
       "\n",
       "    .dataframe thead th {\n",
       "        text-align: right;\n",
       "    }\n",
       "</style>\n",
       "<table border=\"1\" class=\"dataframe\">\n",
       "  <thead>\n",
       "    <tr style=\"text-align: right;\">\n",
       "      <th></th>\n",
       "      <th>dateCrawled</th>\n",
       "      <th>name</th>\n",
       "      <th>seller</th>\n",
       "      <th>offerType</th>\n",
       "      <th>price</th>\n",
       "      <th>abtest</th>\n",
       "      <th>vehicleType</th>\n",
       "      <th>yearOfRegistration</th>\n",
       "      <th>gearbox</th>\n",
       "      <th>powerPS</th>\n",
       "      <th>kilometer</th>\n",
       "      <th>monthOfRegistration</th>\n",
       "      <th>fuelType</th>\n",
       "      <th>brand</th>\n",
       "      <th>dateCreated</th>\n",
       "      <th>postalCode</th>\n",
       "      <th>lastSeen</th>\n",
       "    </tr>\n",
       "  </thead>\n",
       "  <tbody>\n",
       "    <tr>\n",
       "      <th>0</th>\n",
       "      <td>30/03/2016 13:51</td>\n",
       "      <td>Zu_verkaufen</td>\n",
       "      <td>private</td>\n",
       "      <td>offer</td>\n",
       "      <td>0.274691</td>\n",
       "      <td>test</td>\n",
       "      <td>limousine</td>\n",
       "      <td>2003</td>\n",
       "      <td>manual</td>\n",
       "      <td>150</td>\n",
       "      <td>1.0</td>\n",
       "      <td>3</td>\n",
       "      <td>diesel</td>\n",
       "      <td>bmw</td>\n",
       "      <td>30/03/2016 0:00</td>\n",
       "      <td>20257</td>\n",
       "      <td>7/4/2016 4:44</td>\n",
       "    </tr>\n",
       "    <tr>\n",
       "      <th>1</th>\n",
       "      <td>7/3/2016 9:54</td>\n",
       "      <td>Volvo_XC90_2.4D_Summum</td>\n",
       "      <td>private</td>\n",
       "      <td>offer</td>\n",
       "      <td>0.820926</td>\n",
       "      <td>control</td>\n",
       "      <td>suv</td>\n",
       "      <td>2005</td>\n",
       "      <td>manual</td>\n",
       "      <td>163</td>\n",
       "      <td>1.0</td>\n",
       "      <td>6</td>\n",
       "      <td>diesel</td>\n",
       "      <td>volvo</td>\n",
       "      <td>7/3/2016 0:00</td>\n",
       "      <td>88045</td>\n",
       "      <td>26/03/2016 13:17</td>\n",
       "    </tr>\n",
       "    <tr>\n",
       "      <th>2</th>\n",
       "      <td>1/4/2016 0:57</td>\n",
       "      <td>Volkswagen_Touran</td>\n",
       "      <td>private</td>\n",
       "      <td>offer</td>\n",
       "      <td>0.197531</td>\n",
       "      <td>test</td>\n",
       "      <td>bus</td>\n",
       "      <td>2003</td>\n",
       "      <td>manual</td>\n",
       "      <td>101</td>\n",
       "      <td>1.0</td>\n",
       "      <td>11</td>\n",
       "      <td>diesel</td>\n",
       "      <td>volkswagen</td>\n",
       "      <td>31/03/2016 0:00</td>\n",
       "      <td>27449</td>\n",
       "      <td>1/4/2016 8:40</td>\n",
       "    </tr>\n",
       "    <tr>\n",
       "      <th>3</th>\n",
       "      <td>19/03/2016 17:50</td>\n",
       "      <td>Seat_Ibiza_1.4_16V_Reference</td>\n",
       "      <td>private</td>\n",
       "      <td>offer</td>\n",
       "      <td>0.277778</td>\n",
       "      <td>control</td>\n",
       "      <td>small car</td>\n",
       "      <td>2006</td>\n",
       "      <td>manual</td>\n",
       "      <td>86</td>\n",
       "      <td>0.0</td>\n",
       "      <td>12</td>\n",
       "      <td>petrol</td>\n",
       "      <td>seat</td>\n",
       "      <td>19/03/2016 0:00</td>\n",
       "      <td>34537</td>\n",
       "      <td>7/4/2016 4:44</td>\n",
       "    </tr>\n",
       "    <tr>\n",
       "      <th>5</th>\n",
       "      <td>2/4/2016 12:51</td>\n",
       "      <td>VW_Passat_35i_Facelift_Limousine_TÜV_Neu</td>\n",
       "      <td>private</td>\n",
       "      <td>offer</td>\n",
       "      <td>0.060988</td>\n",
       "      <td>test</td>\n",
       "      <td>limousine</td>\n",
       "      <td>1995</td>\n",
       "      <td>manual</td>\n",
       "      <td>90</td>\n",
       "      <td>1.0</td>\n",
       "      <td>2</td>\n",
       "      <td>petrol</td>\n",
       "      <td>volkswagen</td>\n",
       "      <td>2/4/2016 0:00</td>\n",
       "      <td>26826</td>\n",
       "      <td>2/4/2016 12:51</td>\n",
       "    </tr>\n",
       "  </tbody>\n",
       "</table>\n",
       "</div>"
      ],
      "text/plain": [
       "        dateCrawled                                      name   seller  \\\n",
       "0  30/03/2016 13:51                              Zu_verkaufen  private   \n",
       "1     7/3/2016 9:54                    Volvo_XC90_2.4D_Summum  private   \n",
       "2     1/4/2016 0:57                         Volkswagen_Touran  private   \n",
       "3  19/03/2016 17:50              Seat_Ibiza_1.4_16V_Reference  private   \n",
       "5    2/4/2016 12:51  VW_Passat_35i_Facelift_Limousine_TÜV_Neu  private   \n",
       "\n",
       "  offerType     price   abtest vehicleType  yearOfRegistration gearbox  \\\n",
       "0     offer  0.274691     test   limousine                2003  manual   \n",
       "1     offer  0.820926  control         suv                2005  manual   \n",
       "2     offer  0.197531     test         bus                2003  manual   \n",
       "3     offer  0.277778  control   small car                2006  manual   \n",
       "5     offer  0.060988     test   limousine                1995  manual   \n",
       "\n",
       "   powerPS  kilometer  monthOfRegistration fuelType       brand  \\\n",
       "0      150        1.0                    3   diesel         bmw   \n",
       "1      163        1.0                    6   diesel       volvo   \n",
       "2      101        1.0                   11   diesel  volkswagen   \n",
       "3       86        0.0                   12   petrol        seat   \n",
       "5       90        1.0                    2   petrol  volkswagen   \n",
       "\n",
       "       dateCreated  postalCode          lastSeen  \n",
       "0  30/03/2016 0:00       20257     7/4/2016 4:44  \n",
       "1    7/3/2016 0:00       88045  26/03/2016 13:17  \n",
       "2  31/03/2016 0:00       27449     1/4/2016 8:40  \n",
       "3  19/03/2016 0:00       34537     7/4/2016 4:44  \n",
       "5    2/4/2016 0:00       26826    2/4/2016 12:51  "
      ]
     },
     "execution_count": 35,
     "metadata": {},
     "output_type": "execute_result"
    }
   ],
   "source": [
    "df_result = pd.read_csv(\"./result.csv\", index_col = 0)\n",
    "df_result.head()"
   ]
  },
  {
   "cell_type": "code",
   "execution_count": 36,
   "metadata": {
    "colab": {
     "base_uri": "https://localhost:8080/"
    },
    "id": "eBfeVmA29Tyq",
    "outputId": "50d9eed9-951f-4b7c-db9d-9290df9b13d3"
   },
   "outputs": [
    {
     "name": "stdout",
     "output_type": "stream",
     "text": [
      "<class 'pandas.core.frame.DataFrame'>\n",
      "Int64Index: 42961 entries, 0 to 50000\n",
      "Data columns (total 17 columns):\n",
      " #   Column               Non-Null Count  Dtype  \n",
      "---  ------               --------------  -----  \n",
      " 0   dateCrawled          42961 non-null  object \n",
      " 1   name                 42961 non-null  object \n",
      " 2   seller               42961 non-null  object \n",
      " 3   offerType            42961 non-null  object \n",
      " 4   price                42961 non-null  float64\n",
      " 5   abtest               42961 non-null  object \n",
      " 6   vehicleType          42961 non-null  object \n",
      " 7   yearOfRegistration   42961 non-null  int64  \n",
      " 8   gearbox              42961 non-null  object \n",
      " 9   powerPS              42961 non-null  int64  \n",
      " 10  kilometer            42961 non-null  float64\n",
      " 11  monthOfRegistration  42961 non-null  int64  \n",
      " 12  fuelType             42961 non-null  object \n",
      " 13  brand                42961 non-null  object \n",
      " 14  dateCreated          42961 non-null  object \n",
      " 15  postalCode           42961 non-null  int64  \n",
      " 16  lastSeen             42961 non-null  object \n",
      "dtypes: float64(2), int64(4), object(11)\n",
      "memory usage: 5.9+ MB\n"
     ]
    }
   ],
   "source": [
    "df_result.info()"
   ]
  },
  {
   "cell_type": "code",
   "execution_count": 37,
   "metadata": {
    "colab": {
     "base_uri": "https://localhost:8080/",
     "height": 300
    },
    "id": "HOIjNR9s9WZT",
    "outputId": "994ea76c-02e7-47eb-a02b-224cb38e495d"
   },
   "outputs": [
    {
     "data": {
      "text/html": [
       "<div>\n",
       "<style scoped>\n",
       "    .dataframe tbody tr th:only-of-type {\n",
       "        vertical-align: middle;\n",
       "    }\n",
       "\n",
       "    .dataframe tbody tr th {\n",
       "        vertical-align: top;\n",
       "    }\n",
       "\n",
       "    .dataframe thead th {\n",
       "        text-align: right;\n",
       "    }\n",
       "</style>\n",
       "<table border=\"1\" class=\"dataframe\">\n",
       "  <thead>\n",
       "    <tr style=\"text-align: right;\">\n",
       "      <th></th>\n",
       "      <th>price</th>\n",
       "      <th>yearOfRegistration</th>\n",
       "      <th>powerPS</th>\n",
       "      <th>kilometer</th>\n",
       "      <th>monthOfRegistration</th>\n",
       "      <th>postalCode</th>\n",
       "    </tr>\n",
       "  </thead>\n",
       "  <tbody>\n",
       "    <tr>\n",
       "      <th>count</th>\n",
       "      <td>42961.000000</td>\n",
       "      <td>42961.000000</td>\n",
       "      <td>42961.000000</td>\n",
       "      <td>42961.000000</td>\n",
       "      <td>42961.000000</td>\n",
       "      <td>42961.000000</td>\n",
       "    </tr>\n",
       "    <tr>\n",
       "      <th>mean</th>\n",
       "      <td>0.235668</td>\n",
       "      <td>2002.747376</td>\n",
       "      <td>109.176160</td>\n",
       "      <td>0.857969</td>\n",
       "      <td>5.739764</td>\n",
       "      <td>50356.193617</td>\n",
       "    </tr>\n",
       "    <tr>\n",
       "      <th>std</th>\n",
       "      <td>0.228775</td>\n",
       "      <td>6.875322</td>\n",
       "      <td>194.893565</td>\n",
       "      <td>0.272153</td>\n",
       "      <td>3.722586</td>\n",
       "      <td>25670.111796</td>\n",
       "    </tr>\n",
       "    <tr>\n",
       "      <th>min</th>\n",
       "      <td>0.000000</td>\n",
       "      <td>1910.000000</td>\n",
       "      <td>0.000000</td>\n",
       "      <td>0.000000</td>\n",
       "      <td>0.000000</td>\n",
       "      <td>1067.000000</td>\n",
       "    </tr>\n",
       "    <tr>\n",
       "      <th>25%</th>\n",
       "      <td>0.061728</td>\n",
       "      <td>1999.000000</td>\n",
       "      <td>69.000000</td>\n",
       "      <td>0.722222</td>\n",
       "      <td>3.000000</td>\n",
       "      <td>30165.000000</td>\n",
       "    </tr>\n",
       "    <tr>\n",
       "      <th>50%</th>\n",
       "      <td>0.154321</td>\n",
       "      <td>2003.000000</td>\n",
       "      <td>105.000000</td>\n",
       "      <td>1.000000</td>\n",
       "      <td>6.000000</td>\n",
       "      <td>49134.000000</td>\n",
       "    </tr>\n",
       "    <tr>\n",
       "      <th>75%</th>\n",
       "      <td>0.339506</td>\n",
       "      <td>2007.000000</td>\n",
       "      <td>141.000000</td>\n",
       "      <td>1.000000</td>\n",
       "      <td>9.000000</td>\n",
       "      <td>70597.000000</td>\n",
       "    </tr>\n",
       "    <tr>\n",
       "      <th>max</th>\n",
       "      <td>1.000000</td>\n",
       "      <td>2019.000000</td>\n",
       "      <td>19312.000000</td>\n",
       "      <td>1.000000</td>\n",
       "      <td>12.000000</td>\n",
       "      <td>99998.000000</td>\n",
       "    </tr>\n",
       "  </tbody>\n",
       "</table>\n",
       "</div>"
      ],
      "text/plain": [
       "              price  yearOfRegistration       powerPS     kilometer  \\\n",
       "count  42961.000000        42961.000000  42961.000000  42961.000000   \n",
       "mean       0.235668         2002.747376    109.176160      0.857969   \n",
       "std        0.228775            6.875322    194.893565      0.272153   \n",
       "min        0.000000         1910.000000      0.000000      0.000000   \n",
       "25%        0.061728         1999.000000     69.000000      0.722222   \n",
       "50%        0.154321         2003.000000    105.000000      1.000000   \n",
       "75%        0.339506         2007.000000    141.000000      1.000000   \n",
       "max        1.000000         2019.000000  19312.000000      1.000000   \n",
       "\n",
       "       monthOfRegistration    postalCode  \n",
       "count         42961.000000  42961.000000  \n",
       "mean              5.739764  50356.193617  \n",
       "std               3.722586  25670.111796  \n",
       "min               0.000000   1067.000000  \n",
       "25%               3.000000  30165.000000  \n",
       "50%               6.000000  49134.000000  \n",
       "75%               9.000000  70597.000000  \n",
       "max              12.000000  99998.000000  "
      ]
     },
     "execution_count": 37,
     "metadata": {},
     "output_type": "execute_result"
    }
   ],
   "source": [
    "df_result.describe()"
   ]
  },
  {
   "cell_type": "markdown",
   "metadata": {
    "id": "sHCRu1ikBdUE"
   },
   "source": [
    "### Обучение\n",
    "\n"
   ]
  },
  {
   "cell_type": "code",
   "execution_count": 38,
   "metadata": {
    "id": "dkHR150BLO4B"
   },
   "outputs": [],
   "source": [
    "def encode_categorial(name_scaler, scaler, data, y = None, return_scaler = False):\n",
    "    if name_scaler != 'TargetEncoder':\n",
    "        if not return_scaler:\n",
    "            return data[categorical_cols].apply(lambda x: scaler.fit_transform(x.astype(str)))\n",
    "        else:\n",
    "            return data[categorical_cols].apply(lambda x: scaler.fit_transform(x.astype(str))), scaler\n",
    "    else:\n",
    "        if not return_scaler:\n",
    "            return scaler.fit_transform(data[categorical_cols], y)\n",
    "        else:\n",
    "            return scaler.fit_transform(data[categorical_cols], y), scaler\n",
    "    \n",
    "def encode_number(name_scaler, scaler, data, return_scaler = False):\n",
    "    if name_scaler == 'Not scaled':\n",
    "        if not return_scaler:\n",
    "            return data\n",
    "        else:\n",
    "            return data, scaler\n",
    "    else:\n",
    "        if not return_scaler:\n",
    "            return scaler.fit_transform(data)\n",
    "        else:\n",
    "            return scaler.fit_transform(data), scaler"
   ]
  },
  {
   "cell_type": "code",
   "execution_count": 39,
   "metadata": {
    "id": "bM5DqhluinnD"
   },
   "outputs": [],
   "source": [
    "from sklearn.metrics import r2_score\n",
    "from category_encoders.target_encoder import TargetEncoder\n",
    "from sklearn.preprocessing import StandardScaler, LabelEncoder\n",
    "\n",
    "from sklearn.ensemble import RandomForestRegressor\n",
    "from sklearn.isotonic import IsotonicRegression\n",
    "from sklearn.linear_model import LassoCV, RidgeCV, ElasticNetCV, LinearRegression\n",
    "from sklearn.preprocessing import StandardScaler, MinMaxScaler, RobustScaler, Normalizer, LabelEncoder\n",
    "from sklearn.ensemble import GradientBoostingRegressor, ExtraTreesRegressor\n",
    "from sklearn.svm import SVR\n",
    "from sklearn.model_selection import train_test_split"
   ]
  },
  {
   "cell_type": "code",
   "execution_count": 40,
   "metadata": {
    "id": "5TG-fzl-jlA-"
   },
   "outputs": [],
   "source": [
    "def get_cols(df) -> list:\n",
    "    '''\n",
    "    функция возвращает список категориальных и числовых переменных\n",
    "    '''\n",
    "    categorical_feature_mask = df.dtypes == object\n",
    "    number_feature_mask = df.dtypes != object\n",
    "    numbers_cols = df.columns[number_feature_mask].tolist()\n",
    "    categorical_cols = df.columns[categorical_feature_mask].tolist()\n",
    "    return [numbers_cols, categorical_cols]"
   ]
  },
  {
   "cell_type": "code",
   "execution_count": 41,
   "metadata": {
    "colab": {
     "base_uri": "https://localhost:8080/"
    },
    "id": "ttBC01XyLQDL",
    "outputId": "0c21930a-69fc-4d9c-e030-f453d7b25ed0"
   },
   "outputs": [
    {
     "name": "stderr",
     "output_type": "stream",
     "text": [
      "/usr/local/anaconda3/lib/python3.9/site-packages/category_encoders/target_encoder.py:92: FutureWarning: Default parameter min_samples_leaf will change in version 2.6.See https://github.com/scikit-learn-contrib/category_encoders/issues/327\n",
      "  warnings.warn(\"Default parameter min_samples_leaf will change in version 2.6.\"\n",
      "/usr/local/anaconda3/lib/python3.9/site-packages/category_encoders/target_encoder.py:97: FutureWarning: Default parameter smoothing will change in version 2.6.See https://github.com/scikit-learn-contrib/category_encoders/issues/327\n",
      "  warnings.warn(\"Default parameter smoothing will change in version 2.6.\"\n"
     ]
    }
   ],
   "source": [
    "\n",
    "scalers_categorial = {'LabelEncoder': LabelEncoder(), \n",
    "                     'TargetEncoder': TargetEncoder()}\n",
    "\n",
    "mls = {\n",
    "        'GradientBoostingRegressor': GradientBoostingRegressor(random_state=0), \n",
    "        'linear': LinearRegression(), 'RandomForestRegressor':RandomForestRegressor(max_depth=15, random_state=0),\n",
    "        'LassoCV': LassoCV(), 'Ridge': RidgeCV(), 'ElasticNetCV': ElasticNetCV(),\n",
    "       'ExtraTreesRegressor': ExtraTreesRegressor(n_estimators=100, random_state=0)\n",
    "        }\n",
    "\n",
    "scalers = {'StandardScaler': StandardScaler(), 'MinMaxScaler': MinMaxScaler(),\n",
    "           'RobustScaler': RobustScaler(), 'Normalizer': Normalizer(), 'Not scaled': 0}\n",
    "\n",
    "mlss = []\n",
    "X = df.drop(['price', 'dateCrawled', 'dateCreated', 'postalCode', 'lastSeen', 'name'], axis=1)\n",
    "y = df['price']\n",
    "\n",
    "numbers_cols, categorical_cols = get_cols(X)\n",
    "\n",
    "for idd, (name_ml, ml) in enumerate(mls.items()):\n",
    "    data = pd.DataFrame()\n",
    "    for ide, (name_scaler_categorial, scaler_categorial) in enumerate(scalers_categorial.items()):\n",
    "        data[categorical_cols] = encode_categorial(name_scaler_categorial, scaler_categorial, X[categorical_cols], y)\n",
    "        \n",
    "        for name_scaler, scaler in scalers.items():\n",
    "            for name in numbers_cols:\n",
    "                data[name] = 0\n",
    "            \n",
    "            data[numbers_cols] = encode_number(name_scaler, scaler, X[numbers_cols])\n",
    "\n",
    "            \n",
    "            X_train, X_test, y_train, y_test = train_test_split(data, y, test_size=0.33, random_state=42, shuffle = True)\n",
    "        \n",
    "            model = ml.fit(X_train, y_train)\n",
    "    \n",
    "            mlss.append([name_ml, name_scaler_categorial, name_scaler, round(model.score(X_test, y_test),3)])"
   ]
  },
  {
   "cell_type": "code",
   "execution_count": 42,
   "metadata": {
    "colab": {
     "base_uri": "https://localhost:8080/"
    },
    "id": "dbtWDUHGLUNm",
    "outputId": "39406697-f10a-4a2a-d79b-f5e20db1b72a"
   },
   "outputs": [
    {
     "data": {
      "text/plain": [
       "[['RandomForestRegressor', 'TargetEncoder', 'StandardScaler', 0.787],\n",
       " ['RandomForestRegressor', 'TargetEncoder', 'MinMaxScaler', 0.787],\n",
       " ['RandomForestRegressor', 'TargetEncoder', 'RobustScaler', 0.787],\n",
       " ['RandomForestRegressor', 'TargetEncoder', 'Not scaled', 0.787],\n",
       " ['RandomForestRegressor', 'LabelEncoder', 'StandardScaler', 0.782],\n",
       " ['RandomForestRegressor', 'LabelEncoder', 'MinMaxScaler', 0.782],\n",
       " ['RandomForestRegressor', 'LabelEncoder', 'RobustScaler', 0.782],\n",
       " ['RandomForestRegressor', 'LabelEncoder', 'Not scaled', 0.782],\n",
       " ['GradientBoostingRegressor', 'TargetEncoder', 'StandardScaler', 0.771],\n",
       " ['GradientBoostingRegressor', 'TargetEncoder', 'MinMaxScaler', 0.771],\n",
       " ['GradientBoostingRegressor', 'TargetEncoder', 'RobustScaler', 0.771],\n",
       " ['GradientBoostingRegressor', 'TargetEncoder', 'Not scaled', 0.771],\n",
       " ['GradientBoostingRegressor', 'LabelEncoder', 'StandardScaler', 0.765],\n",
       " ['GradientBoostingRegressor', 'LabelEncoder', 'MinMaxScaler', 0.765],\n",
       " ['GradientBoostingRegressor', 'LabelEncoder', 'RobustScaler', 0.765],\n",
       " ['GradientBoostingRegressor', 'LabelEncoder', 'Not scaled', 0.765],\n",
       " ['RandomForestRegressor', 'TargetEncoder', 'Normalizer', 0.761],\n",
       " ['ExtraTreesRegressor', 'TargetEncoder', 'StandardScaler', 0.76],\n",
       " ['ExtraTreesRegressor', 'TargetEncoder', 'MinMaxScaler', 0.76],\n",
       " ['ExtraTreesRegressor', 'TargetEncoder', 'RobustScaler', 0.76],\n",
       " ['ExtraTreesRegressor', 'TargetEncoder', 'Not scaled', 0.76],\n",
       " ['ExtraTreesRegressor', 'LabelEncoder', 'MinMaxScaler', 0.755],\n",
       " ['ExtraTreesRegressor', 'LabelEncoder', 'StandardScaler', 0.754],\n",
       " ['ExtraTreesRegressor', 'LabelEncoder', 'RobustScaler', 0.754],\n",
       " ['ExtraTreesRegressor', 'LabelEncoder', 'Not scaled', 0.754],\n",
       " ['RandomForestRegressor', 'LabelEncoder', 'Normalizer', 0.75],\n",
       " ['ExtraTreesRegressor', 'TargetEncoder', 'Normalizer', 0.734],\n",
       " ['ExtraTreesRegressor', 'LabelEncoder', 'Normalizer', 0.728],\n",
       " ['GradientBoostingRegressor', 'TargetEncoder', 'Normalizer', 0.626],\n",
       " ['GradientBoostingRegressor', 'LabelEncoder', 'Normalizer', 0.615],\n",
       " ['linear', 'TargetEncoder', 'Normalizer', 0.489],\n",
       " ['LassoCV', 'TargetEncoder', 'MinMaxScaler', 0.471],\n",
       " ['Ridge', 'TargetEncoder', 'MinMaxScaler', 0.459],\n",
       " ['ElasticNetCV', 'TargetEncoder', 'MinMaxScaler', 0.458],\n",
       " ['linear', 'LabelEncoder', 'Normalizer', 0.44],\n",
       " ['LassoCV', 'TargetEncoder', 'Normalizer', 0.437],\n",
       " ['linear', 'TargetEncoder', 'StandardScaler', 0.372],\n",
       " ['linear', 'TargetEncoder', 'MinMaxScaler', 0.372],\n",
       " ['linear', 'TargetEncoder', 'RobustScaler', 0.372],\n",
       " ['linear', 'TargetEncoder', 'Not scaled', 0.372],\n",
       " ['Ridge', 'TargetEncoder', 'StandardScaler', 0.372],\n",
       " ['Ridge', 'TargetEncoder', 'RobustScaler', 0.372],\n",
       " ['Ridge', 'TargetEncoder', 'Not scaled', 0.372],\n",
       " ['LassoCV', 'TargetEncoder', 'StandardScaler', 0.368],\n",
       " ['LassoCV', 'TargetEncoder', 'RobustScaler', 0.367],\n",
       " ['ElasticNetCV', 'TargetEncoder', 'StandardScaler', 0.366],\n",
       " ['ElasticNetCV', 'TargetEncoder', 'RobustScaler', 0.364],\n",
       " ['LassoCV', 'LabelEncoder', 'MinMaxScaler', 0.354],\n",
       " ['ElasticNetCV', 'LabelEncoder', 'MinMaxScaler', 0.354],\n",
       " ['ElasticNetCV', 'TargetEncoder', 'Normalizer', 0.337],\n",
       " ['Ridge', 'TargetEncoder', 'Normalizer', 0.336],\n",
       " ['Ridge', 'LabelEncoder', 'MinMaxScaler', 0.329],\n",
       " ['Ridge', 'LabelEncoder', 'Normalizer', 0.297],\n",
       " ['LassoCV', 'LabelEncoder', 'Normalizer', 0.264],\n",
       " ['ElasticNetCV', 'LabelEncoder', 'Normalizer', 0.255],\n",
       " ['ElasticNetCV', 'LabelEncoder', 'StandardScaler', 0.25],\n",
       " ['LassoCV', 'LabelEncoder', 'StandardScaler', 0.249],\n",
       " ['Ridge', 'LabelEncoder', 'StandardScaler', 0.149],\n",
       " ['linear', 'LabelEncoder', 'StandardScaler', 0.148],\n",
       " ['linear', 'LabelEncoder', 'MinMaxScaler', 0.148],\n",
       " ['linear', 'LabelEncoder', 'RobustScaler', 0.148],\n",
       " ['linear', 'LabelEncoder', 'Not scaled', 0.148],\n",
       " ['LassoCV', 'LabelEncoder', 'RobustScaler', 0.148],\n",
       " ['Ridge', 'LabelEncoder', 'RobustScaler', 0.148],\n",
       " ['Ridge', 'LabelEncoder', 'Not scaled', 0.148],\n",
       " ['ElasticNetCV', 'LabelEncoder', 'RobustScaler', 0.148],\n",
       " ['LassoCV', 'LabelEncoder', 'Not scaled', 0.084],\n",
       " ['ElasticNetCV', 'LabelEncoder', 'Not scaled', 0.077],\n",
       " ['LassoCV', 'TargetEncoder', 'Not scaled', -0.18],\n",
       " ['ElasticNetCV', 'TargetEncoder', 'Not scaled', -0.182]]"
      ]
     },
     "execution_count": 42,
     "metadata": {},
     "output_type": "execute_result"
    }
   ],
   "source": [
    "sorted(mlss, key = lambda x: x[3], reverse = True)"
   ]
  },
  {
   "cell_type": "markdown",
   "metadata": {},
   "source": [
    "Поиск оптимальных гиперпараметров"
   ]
  },
  {
   "cell_type": "code",
   "execution_count": 74,
   "metadata": {},
   "outputs": [
    {
     "name": "stderr",
     "output_type": "stream",
     "text": [
      "[Parallel(n_jobs=1)]: Using backend SequentialBackend with 1 concurrent workers.\n",
      "[Parallel(n_jobs=1)]: Using backend SequentialBackend with 1 concurrent workers.\n",
      "[Parallel(n_jobs=1)]: Using backend SequentialBackend with 1 concurrent workers.\n",
      "[Parallel(n_jobs=1)]: Using backend SequentialBackend with 1 concurrent workers.\n",
      "[Parallel(n_jobs=1)]: Done 715 out of 715 | elapsed:    3.2s finished\n",
      "[Parallel(n_jobs=1)]: Using backend SequentialBackend with 1 concurrent workers.\n",
      "[Parallel(n_jobs=1)]: Done 715 out of 715 | elapsed:    3.1s finished\n",
      "[Parallel(n_jobs=1)]: Using backend SequentialBackend with 1 concurrent workers.\n",
      "[Parallel(n_jobs=1)]: Done 715 out of 715 | elapsed:    3.2s finished\n",
      "[Parallel(n_jobs=1)]: Using backend SequentialBackend with 1 concurrent workers.\n",
      "[Parallel(n_jobs=1)]: Done 715 out of 715 | elapsed:    0.4s finished\n",
      "[Parallel(n_jobs=1)]: Done 715 out of 715 | elapsed:    0.4s finished\n",
      "[Parallel(n_jobs=1)]: Done 715 out of 715 | elapsed:    0.4s finished\n",
      "[Parallel(n_jobs=1)]: Using backend SequentialBackend with 1 concurrent workers.\n",
      "[Parallel(n_jobs=1)]: Using backend SequentialBackend with 1 concurrent workers.\n",
      "[Parallel(n_jobs=1)]: Using backend SequentialBackend with 1 concurrent workers.\n",
      "[Parallel(n_jobs=1)]: Done 526 out of 526 | elapsed:   11.1s finished\n",
      "[Parallel(n_jobs=1)]: Using backend SequentialBackend with 1 concurrent workers.\n",
      "[Parallel(n_jobs=1)]: Done 526 out of 526 | elapsed:    1.2s finished\n",
      "[Parallel(n_jobs=1)]: Using backend SequentialBackend with 1 concurrent workers.\n",
      "[Parallel(n_jobs=1)]: Done 526 out of 526 | elapsed:   10.7s finished\n",
      "[Parallel(n_jobs=1)]: Using backend SequentialBackend with 1 concurrent workers.\n",
      "[Parallel(n_jobs=1)]: Done 526 out of 526 | elapsed:   10.7s finished\n",
      "[Parallel(n_jobs=1)]: Using backend SequentialBackend with 1 concurrent workers.\n",
      "[Parallel(n_jobs=1)]: Done 526 out of 526 | elapsed:    1.2s finished\n",
      "[Parallel(n_jobs=1)]: Done 526 out of 526 | elapsed:    1.2s finished\n",
      "[Parallel(n_jobs=1)]: Using backend SequentialBackend with 1 concurrent workers.\n",
      "[Parallel(n_jobs=1)]: Using backend SequentialBackend with 1 concurrent workers.\n",
      "[Parallel(n_jobs=1)]: Done 289 out of 289 | elapsed:   15.0s finished\n",
      "[Parallel(n_jobs=1)]: Using backend SequentialBackend with 1 concurrent workers.\n",
      "[Parallel(n_jobs=1)]: Done 289 out of 289 | elapsed:    0.7s finished\n",
      "[Parallel(n_jobs=1)]: Using backend SequentialBackend with 1 concurrent workers.\n",
      "[Parallel(n_jobs=1)]: Done 526 out of 526 | elapsed:   10.5s finished\n",
      "[Parallel(n_jobs=1)]: Using backend SequentialBackend with 1 concurrent workers.\n",
      "[Parallel(n_jobs=1)]: Done 526 out of 526 | elapsed:    1.2s finished\n",
      "[Parallel(n_jobs=1)]: Using backend SequentialBackend with 1 concurrent workers.\n",
      "[Parallel(n_jobs=1)]: Done 289 out of 289 | elapsed:   16.1s finished\n",
      "[Parallel(n_jobs=1)]: Using backend SequentialBackend with 1 concurrent workers.\n",
      "[Parallel(n_jobs=1)]: Done 289 out of 289 | elapsed:    0.7s finished\n",
      "[Parallel(n_jobs=1)]: Using backend SequentialBackend with 1 concurrent workers.\n",
      "[Parallel(n_jobs=1)]: Done 526 out of 526 | elapsed:   10.7s finished\n",
      "[Parallel(n_jobs=1)]: Using backend SequentialBackend with 1 concurrent workers.\n",
      "[Parallel(n_jobs=1)]: Done 526 out of 526 | elapsed:    1.2s finished\n",
      "[Parallel(n_jobs=1)]: Done 289 out of 289 | elapsed:   16.2s finished\n",
      "[Parallel(n_jobs=1)]: Using backend SequentialBackend with 1 concurrent workers.\n",
      "[Parallel(n_jobs=1)]: Using backend SequentialBackend with 1 concurrent workers.\n",
      "[Parallel(n_jobs=1)]: Done 289 out of 289 | elapsed:    0.8s finished\n",
      "[Parallel(n_jobs=1)]: Using backend SequentialBackend with 1 concurrent workers.\n",
      "[Parallel(n_jobs=1)]: Done 526 out of 526 | elapsed:   12.5s finished\n",
      "[Parallel(n_jobs=1)]: Using backend SequentialBackend with 1 concurrent workers.\n",
      "[Parallel(n_jobs=1)]: Done 526 out of 526 | elapsed:    1.7s finished\n",
      "[Parallel(n_jobs=1)]: Using backend SequentialBackend with 1 concurrent workers.\n",
      "[Parallel(n_jobs=1)]: Done 289 out of 289 | elapsed:    6.9s finished\n",
      "[Parallel(n_jobs=1)]: Using backend SequentialBackend with 1 concurrent workers.\n",
      "[Parallel(n_jobs=1)]: Done 289 out of 289 | elapsed:    0.7s finished\n",
      "[Parallel(n_jobs=1)]: Using backend SequentialBackend with 1 concurrent workers.\n",
      "[Parallel(n_jobs=1)]: Done 763 out of 763 | elapsed:   21.9s finished\n",
      "[Parallel(n_jobs=1)]: Using backend SequentialBackend with 1 concurrent workers.\n",
      "[Parallel(n_jobs=1)]: Done 763 out of 763 | elapsed:    2.7s finished\n",
      "[Parallel(n_jobs=1)]: Using backend SequentialBackend with 1 concurrent workers.\n",
      "[Parallel(n_jobs=1)]: Done 763 out of 763 | elapsed:   22.9s finished\n",
      "[Parallel(n_jobs=1)]: Using backend SequentialBackend with 1 concurrent workers.\n",
      "[Parallel(n_jobs=1)]: Done 763 out of 763 | elapsed:   23.2s finished\n",
      "[Parallel(n_jobs=1)]: Using backend SequentialBackend with 1 concurrent workers.\n",
      "[Parallel(n_jobs=1)]: Done 289 out of 289 | elapsed:    7.0s finished\n",
      "[Parallel(n_jobs=1)]: Using backend SequentialBackend with 1 concurrent workers.\n",
      "[Parallel(n_jobs=1)]: Done 763 out of 763 | elapsed:    2.7s finished\n",
      "[Parallel(n_jobs=1)]: Using backend SequentialBackend with 1 concurrent workers.\n",
      "[Parallel(n_jobs=1)]: Done 289 out of 289 | elapsed:    0.8s finished\n",
      "[Parallel(n_jobs=1)]: Using backend SequentialBackend with 1 concurrent workers.\n",
      "[Parallel(n_jobs=1)]: Done 763 out of 763 | elapsed:    2.8s finished\n",
      "[Parallel(n_jobs=1)]: Using backend SequentialBackend with 1 concurrent workers.\n",
      "[Parallel(n_jobs=1)]: Done 289 out of 289 | elapsed:    7.1s finished\n",
      "[Parallel(n_jobs=1)]: Using backend SequentialBackend with 1 concurrent workers.\n",
      "[Parallel(n_jobs=1)]: Done 100 out of 100 | elapsed:    4.0s finished\n",
      "[Parallel(n_jobs=1)]: Using backend SequentialBackend with 1 concurrent workers.\n",
      "[Parallel(n_jobs=1)]: Done 289 out of 289 | elapsed:    0.8s finished\n",
      "[Parallel(n_jobs=1)]: Done 100 out of 100 | elapsed:    4.0s finished\n",
      "[Parallel(n_jobs=1)]: Using backend SequentialBackend with 1 concurrent workers.\n",
      "[Parallel(n_jobs=1)]: Done 100 out of 100 | elapsed:    0.4s finished\n",
      "[Parallel(n_jobs=1)]: Using backend SequentialBackend with 1 concurrent workers.\n",
      "[Parallel(n_jobs=1)]: Done 100 out of 100 | elapsed:    0.5s finished\n",
      "[Parallel(n_jobs=1)]: Using backend SequentialBackend with 1 concurrent workers.\n",
      "[Parallel(n_jobs=1)]: Using backend SequentialBackend with 1 concurrent workers.\n",
      "[Parallel(n_jobs=1)]: Done 100 out of 100 | elapsed:    4.1s finished\n",
      "[Parallel(n_jobs=1)]: Using backend SequentialBackend with 1 concurrent workers.\n",
      "[Parallel(n_jobs=1)]: Done 100 out of 100 | elapsed:    0.4s finished\n",
      "[Parallel(n_jobs=1)]: Using backend SequentialBackend with 1 concurrent workers.\n",
      "[Parallel(n_jobs=1)]: Done 384 out of 384 | elapsed:    2.3s finished\n",
      "[Parallel(n_jobs=1)]: Using backend SequentialBackend with 1 concurrent workers.\n",
      "[Parallel(n_jobs=1)]: Done 384 out of 384 | elapsed:    2.3s finished\n",
      "[Parallel(n_jobs=1)]: Using backend SequentialBackend with 1 concurrent workers.\n",
      "[Parallel(n_jobs=1)]: Done 384 out of 384 | elapsed:    0.3s finished\n",
      "[Parallel(n_jobs=1)]: Done 384 out of 384 | elapsed:    0.3s finished\n",
      "[Parallel(n_jobs=1)]: Done 384 out of 384 | elapsed:    2.4s finished\n",
      "[Parallel(n_jobs=1)]: Using backend SequentialBackend with 1 concurrent workers.\n",
      "[Parallel(n_jobs=1)]: Done 384 out of 384 | elapsed:    0.3s finished\n",
      "[Parallel(n_jobs=1)]: Using backend SequentialBackend with 1 concurrent workers.\n",
      "[Parallel(n_jobs=1)]: Using backend SequentialBackend with 1 concurrent workers.\n",
      "[Parallel(n_jobs=1)]: Using backend SequentialBackend with 1 concurrent workers.\n",
      "[Parallel(n_jobs=1)]: Done 1000 out of 1000 | elapsed:   31.5s finished\n",
      "[Parallel(n_jobs=1)]: Using backend SequentialBackend with 1 concurrent workers.\n",
      "[Parallel(n_jobs=1)]: Done 1000 out of 1000 | elapsed:   31.4s finished\n",
      "[Parallel(n_jobs=1)]: Using backend SequentialBackend with 1 concurrent workers.\n",
      "[Parallel(n_jobs=1)]: Done 1000 out of 1000 | elapsed:   31.5s finished\n",
      "[Parallel(n_jobs=1)]: Using backend SequentialBackend with 1 concurrent workers.\n",
      "[Parallel(n_jobs=1)]: Done 1000 out of 1000 | elapsed:    4.9s finished\n",
      "[Parallel(n_jobs=1)]: Using backend SequentialBackend with 1 concurrent workers.\n",
      "[Parallel(n_jobs=1)]: Done 1000 out of 1000 | elapsed:    4.6s finished\n",
      "[Parallel(n_jobs=1)]: Done 1000 out of 1000 | elapsed:    4.7s finished\n"
     ]
    },
    {
     "name": "stderr",
     "output_type": "stream",
     "text": [
      "[Parallel(n_jobs=1)]: Using backend SequentialBackend with 1 concurrent workers.\n",
      "[Parallel(n_jobs=1)]: Done 952 out of 952 | elapsed:   54.6s finished\n",
      "[Parallel(n_jobs=1)]: Using backend SequentialBackend with 1 concurrent workers.\n",
      "[Parallel(n_jobs=1)]: Done 952 out of 952 | elapsed:    2.5s finished\n",
      "[Parallel(n_jobs=1)]: Done 952 out of 952 | elapsed:   41.6s finished\n",
      "[Parallel(n_jobs=1)]: Using backend SequentialBackend with 1 concurrent workers.\n",
      "[Parallel(n_jobs=1)]: Done 952 out of 952 | elapsed:   40.9s finished\n",
      "[Parallel(n_jobs=1)]: Using backend SequentialBackend with 1 concurrent workers.\n",
      "[Parallel(n_jobs=1)]: Done 952 out of 952 | elapsed:    1.7s finished\n",
      "[Parallel(n_jobs=1)]: Done 952 out of 952 | elapsed:    1.6s finished\n",
      "[Parallel(n_jobs=1)]: Using backend SequentialBackend with 1 concurrent workers.\n",
      "[Parallel(n_jobs=1)]: Done 1000 out of 1000 | elapsed:   21.5s finished\n"
     ]
    },
    {
     "data": {
      "text/plain": [
       "RandomizedSearchCV(cv=3, estimator=RandomForestRegressor(verbose=1), n_jobs=-1,\n",
       "                   param_distributions={'max_depth': [1, 4, 8, 11, 15, 18, 22,\n",
       "                                                      25, 29, 32, 36, 39, 43,\n",
       "                                                      46, 50],\n",
       "                                        'max_features': ['auto', 'sqrt',\n",
       "                                                         'log2'],\n",
       "                                        'min_samples_leaf': [1, 2, 4, 6],\n",
       "                                        'min_samples_split': [2, 3, 5, 10],\n",
       "                                        'n_estimators': [100, 147, 194, 242,\n",
       "                                                         289, 336, 384, 431,\n",
       "                                                         478, 526, 573, 621,\n",
       "                                                         668, 715, 763, 810,\n",
       "                                                         857, 905, 952, 1000]},\n",
       "                   scoring='r2')"
      ]
     },
     "execution_count": 74,
     "metadata": {},
     "output_type": "execute_result"
    }
   ],
   "source": [
    "from sklearn.preprocessing import StandardScaler\n",
    "from sklearn.datasets import make_classification\n",
    "from sklearn.model_selection import train_test_split\n",
    "from sklearn.pipeline import Pipeline\n",
    "\n",
    "from sklearn.model_selection import RandomizedSearchCV\n",
    "            \n",
    "X_train, X_test, y_train, y_test = train_test_split(data, y, test_size=0.33, random_state=42, shuffle = True)\n",
    "\n",
    "n_estimators = [int(x) for x in np.linspace(start = 100, stop = 1000, num = 20)]\n",
    "max_features = ['auto', 'sqrt', 'log2']\n",
    "max_depth = [int(x) for x in np.linspace(1, 50, num = 15)]\n",
    "min_samples_split = [2, 3, 5, 10]\n",
    "min_samples_leaf = [1, 2, 4, 6]\n",
    "hyperparameter_grid = {'n_estimators': n_estimators,\n",
    "               'max_features': max_features,\n",
    "               'max_depth': max_depth,\n",
    "               'min_samples_split': min_samples_split,\n",
    "               'min_samples_leaf': min_samples_leaf}\n",
    "\n",
    "\n",
    "regressor = RandomForestRegressor(verbose=1)\n",
    "search = RandomizedSearchCV(regressor, hyperparameter_grid, \n",
    "                            cv=3, n_jobs = -1,scoring='r2')\n",
    "search.fit(X_train, y_train)"
   ]
  },
  {
   "cell_type": "code",
   "execution_count": 75,
   "metadata": {},
   "outputs": [
    {
     "data": {
      "text/plain": [
       "{'n_estimators': 1000,\n",
       " 'min_samples_split': 3,\n",
       " 'min_samples_leaf': 2,\n",
       " 'max_features': 'log2',\n",
       " 'max_depth': 43}"
      ]
     },
     "execution_count": 75,
     "metadata": {},
     "output_type": "execute_result"
    }
   ],
   "source": [
    "search.best_params_"
   ]
  },
  {
   "cell_type": "code",
   "execution_count": 76,
   "metadata": {},
   "outputs": [
    {
     "name": "stderr",
     "output_type": "stream",
     "text": [
      "/usr/local/anaconda3/lib/python3.9/site-packages/category_encoders/target_encoder.py:92: FutureWarning: Default parameter min_samples_leaf will change in version 2.6.See https://github.com/scikit-learn-contrib/category_encoders/issues/327\n",
      "  warnings.warn(\"Default parameter min_samples_leaf will change in version 2.6.\"\n",
      "/usr/local/anaconda3/lib/python3.9/site-packages/category_encoders/target_encoder.py:97: FutureWarning: Default parameter smoothing will change in version 2.6.See https://github.com/scikit-learn-contrib/category_encoders/issues/327\n",
      "  warnings.warn(\"Default parameter smoothing will change in version 2.6.\"\n"
     ]
    },
    {
     "data": {
      "text/plain": [
       "0.7941051800738408"
      ]
     },
     "execution_count": 76,
     "metadata": {},
     "output_type": "execute_result"
    }
   ],
   "source": [
    "X_train, X_test, y_train, y_test = train_test_split(X, y, test_size=0.33, random_state=42, shuffle = True)\n",
    "\n",
    "regressor = RandomForestRegressor(n_estimators=1000, min_samples_split = 3,\n",
    "                                  min_samples_leaf = 2, max_features='log2', \n",
    "                                  max_depth = 43, n_jobs = -1)\n",
    "\n",
    "pipe = Pipeline([('encoder', TargetEncoder()), \n",
    "                 ('scaler', StandardScaler()),\n",
    "                 ('regressor', regressor)])\n",
    "pipe.fit(X_train, y_train)\n",
    "\n",
    "pipe.score(X_test, y_test)"
   ]
  },
  {
   "cell_type": "markdown",
   "metadata": {},
   "source": [
    "Подкрутим вручную"
   ]
  },
  {
   "cell_type": "code",
   "execution_count": 79,
   "metadata": {},
   "outputs": [
    {
     "name": "stderr",
     "output_type": "stream",
     "text": [
      "/usr/local/anaconda3/lib/python3.9/site-packages/category_encoders/target_encoder.py:92: FutureWarning: Default parameter min_samples_leaf will change in version 2.6.See https://github.com/scikit-learn-contrib/category_encoders/issues/327\n",
      "  warnings.warn(\"Default parameter min_samples_leaf will change in version 2.6.\"\n",
      "/usr/local/anaconda3/lib/python3.9/site-packages/category_encoders/target_encoder.py:97: FutureWarning: Default parameter smoothing will change in version 2.6.See https://github.com/scikit-learn-contrib/category_encoders/issues/327\n",
      "  warnings.warn(\"Default parameter smoothing will change in version 2.6.\"\n"
     ]
    },
    {
     "data": {
      "text/plain": [
       "0.7944124392657056"
      ]
     },
     "execution_count": 79,
     "metadata": {},
     "output_type": "execute_result"
    }
   ],
   "source": [
    "X_train, X_test, y_train, y_test = train_test_split(X, y, test_size=0.33, random_state=42, shuffle = True)\n",
    "\n",
    "regressor = RandomForestRegressor(n_estimators=1000, min_samples_split = 3,\n",
    "                                  min_samples_leaf = 2, max_features='log2', \n",
    "                                  max_depth = 60, n_jobs = -1)\n",
    "\n",
    "pipe = Pipeline([('encoder', TargetEncoder()), \n",
    "                 ('scaler', StandardScaler()),\n",
    "                 ('regressor', regressor)])\n",
    "pipe.fit(X_train, y_train)\n",
    "\n",
    "pipe.score(X_test, y_test)"
   ]
  },
  {
   "cell_type": "markdown",
   "metadata": {
    "id": "UBGWYm3xKG5n"
   },
   "source": [
    "Попробую улучшить"
   ]
  },
  {
   "cell_type": "code",
   "execution_count": 81,
   "metadata": {
    "colab": {
     "base_uri": "https://localhost:8080/",
     "height": 206
    },
    "id": "mdwkazPTFICI",
    "outputId": "96b42633-8daf-4355-e3cc-0f5d56a34037"
   },
   "outputs": [],
   "source": [
    "X_ = X.copy()\n",
    "X_['y'] = y"
   ]
  },
  {
   "cell_type": "code",
   "execution_count": 82,
   "metadata": {
    "id": "TK1Rr66aF3qb"
   },
   "outputs": [],
   "source": [
    "numbers_cols, categorical_cols = get_cols(X_)\n",
    "X_[categorical_cols] = encode_categorial('TargetEncoder', scaler_categorial, X_[categorical_cols], y)"
   ]
  },
  {
   "cell_type": "code",
   "execution_count": 83,
   "metadata": {
    "colab": {
     "base_uri": "https://localhost:8080/",
     "height": 490
    },
    "id": "GSGsYH4AGMKk",
    "outputId": "de3aaca8-7da1-4b92-c3ff-aa6324264fd1"
   },
   "outputs": [
    {
     "data": {
      "text/html": [
       "<div>\n",
       "<style scoped>\n",
       "    .dataframe tbody tr th:only-of-type {\n",
       "        vertical-align: middle;\n",
       "    }\n",
       "\n",
       "    .dataframe tbody tr th {\n",
       "        vertical-align: top;\n",
       "    }\n",
       "\n",
       "    .dataframe thead th {\n",
       "        text-align: right;\n",
       "    }\n",
       "</style>\n",
       "<table border=\"1\" class=\"dataframe\">\n",
       "  <thead>\n",
       "    <tr style=\"text-align: right;\">\n",
       "      <th></th>\n",
       "      <th>seller</th>\n",
       "      <th>offerType</th>\n",
       "      <th>abtest</th>\n",
       "      <th>vehicleType</th>\n",
       "      <th>yearOfRegistration</th>\n",
       "      <th>gearbox</th>\n",
       "      <th>powerPS</th>\n",
       "      <th>kilometer</th>\n",
       "      <th>monthOfRegistration</th>\n",
       "      <th>fuelType</th>\n",
       "      <th>brand</th>\n",
       "      <th>y</th>\n",
       "    </tr>\n",
       "  </thead>\n",
       "  <tbody>\n",
       "    <tr>\n",
       "      <th>seller</th>\n",
       "      <td>1.000000</td>\n",
       "      <td>-0.000047</td>\n",
       "      <td>-0.000221</td>\n",
       "      <td>0.003169</td>\n",
       "      <td>-0.000251</td>\n",
       "      <td>0.003213</td>\n",
       "      <td>0.003157</td>\n",
       "      <td>-0.003561</td>\n",
       "      <td>-0.005976</td>\n",
       "      <td>0.004368</td>\n",
       "      <td>0.002223</td>\n",
       "      <td>0.005924</td>\n",
       "    </tr>\n",
       "    <tr>\n",
       "      <th>offerType</th>\n",
       "      <td>-0.000047</td>\n",
       "      <td>1.000000</td>\n",
       "      <td>0.006606</td>\n",
       "      <td>-0.006062</td>\n",
       "      <td>-0.001739</td>\n",
       "      <td>0.003213</td>\n",
       "      <td>0.003822</td>\n",
       "      <td>-0.003561</td>\n",
       "      <td>0.009604</td>\n",
       "      <td>0.004368</td>\n",
       "      <td>-0.004410</td>\n",
       "      <td>0.007029</td>\n",
       "    </tr>\n",
       "    <tr>\n",
       "      <th>abtest</th>\n",
       "      <td>-0.000221</td>\n",
       "      <td>0.006606</td>\n",
       "      <td>1.000000</td>\n",
       "      <td>0.003400</td>\n",
       "      <td>-0.004087</td>\n",
       "      <td>-0.005529</td>\n",
       "      <td>0.000882</td>\n",
       "      <td>0.002747</td>\n",
       "      <td>0.000763</td>\n",
       "      <td>0.002885</td>\n",
       "      <td>0.007320</td>\n",
       "      <td>0.003504</td>\n",
       "    </tr>\n",
       "    <tr>\n",
       "      <th>vehicleType</th>\n",
       "      <td>0.003169</td>\n",
       "      <td>-0.006062</td>\n",
       "      <td>0.003400</td>\n",
       "      <td>1.000000</td>\n",
       "      <td>0.017167</td>\n",
       "      <td>0.163396</td>\n",
       "      <td>0.117882</td>\n",
       "      <td>0.061814</td>\n",
       "      <td>0.028984</td>\n",
       "      <td>0.229701</td>\n",
       "      <td>0.199027</td>\n",
       "      <td>0.325745</td>\n",
       "    </tr>\n",
       "    <tr>\n",
       "      <th>yearOfRegistration</th>\n",
       "      <td>-0.000251</td>\n",
       "      <td>-0.001739</td>\n",
       "      <td>-0.004087</td>\n",
       "      <td>0.017167</td>\n",
       "      <td>1.000000</td>\n",
       "      <td>0.021037</td>\n",
       "      <td>0.029174</td>\n",
       "      <td>-0.162636</td>\n",
       "      <td>0.027758</td>\n",
       "      <td>0.230263</td>\n",
       "      <td>-0.027949</td>\n",
       "      <td>0.348810</td>\n",
       "    </tr>\n",
       "    <tr>\n",
       "      <th>gearbox</th>\n",
       "      <td>0.003213</td>\n",
       "      <td>0.003213</td>\n",
       "      <td>-0.005529</td>\n",
       "      <td>0.163396</td>\n",
       "      <td>0.021037</td>\n",
       "      <td>1.000000</td>\n",
       "      <td>0.116137</td>\n",
       "      <td>0.015977</td>\n",
       "      <td>0.045072</td>\n",
       "      <td>0.134753</td>\n",
       "      <td>0.244523</td>\n",
       "      <td>0.259904</td>\n",
       "    </tr>\n",
       "    <tr>\n",
       "      <th>powerPS</th>\n",
       "      <td>0.003157</td>\n",
       "      <td>0.003822</td>\n",
       "      <td>0.000882</td>\n",
       "      <td>0.117882</td>\n",
       "      <td>0.029174</td>\n",
       "      <td>0.116137</td>\n",
       "      <td>1.000000</td>\n",
       "      <td>0.020711</td>\n",
       "      <td>0.035070</td>\n",
       "      <td>0.058473</td>\n",
       "      <td>0.132568</td>\n",
       "      <td>0.159121</td>\n",
       "    </tr>\n",
       "    <tr>\n",
       "      <th>kilometer</th>\n",
       "      <td>-0.003561</td>\n",
       "      <td>-0.003561</td>\n",
       "      <td>0.002747</td>\n",
       "      <td>0.061814</td>\n",
       "      <td>-0.162636</td>\n",
       "      <td>0.015977</td>\n",
       "      <td>0.020711</td>\n",
       "      <td>1.000000</td>\n",
       "      <td>-0.033131</td>\n",
       "      <td>0.138892</td>\n",
       "      <td>0.086983</td>\n",
       "      <td>-0.305043</td>\n",
       "    </tr>\n",
       "    <tr>\n",
       "      <th>monthOfRegistration</th>\n",
       "      <td>-0.005976</td>\n",
       "      <td>0.009604</td>\n",
       "      <td>0.000763</td>\n",
       "      <td>0.028984</td>\n",
       "      <td>0.027758</td>\n",
       "      <td>0.045072</td>\n",
       "      <td>0.035070</td>\n",
       "      <td>-0.033131</td>\n",
       "      <td>1.000000</td>\n",
       "      <td>0.090392</td>\n",
       "      <td>0.040453</td>\n",
       "      <td>0.108106</td>\n",
       "    </tr>\n",
       "    <tr>\n",
       "      <th>fuelType</th>\n",
       "      <td>0.004368</td>\n",
       "      <td>0.004368</td>\n",
       "      <td>0.002885</td>\n",
       "      <td>0.229701</td>\n",
       "      <td>0.230263</td>\n",
       "      <td>0.134753</td>\n",
       "      <td>0.058473</td>\n",
       "      <td>0.138892</td>\n",
       "      <td>0.090392</td>\n",
       "      <td>1.000000</td>\n",
       "      <td>0.134623</td>\n",
       "      <td>0.336279</td>\n",
       "    </tr>\n",
       "    <tr>\n",
       "      <th>brand</th>\n",
       "      <td>0.002223</td>\n",
       "      <td>-0.004410</td>\n",
       "      <td>0.007320</td>\n",
       "      <td>0.199027</td>\n",
       "      <td>-0.027949</td>\n",
       "      <td>0.244523</td>\n",
       "      <td>0.132568</td>\n",
       "      <td>0.086983</td>\n",
       "      <td>0.040453</td>\n",
       "      <td>0.134623</td>\n",
       "      <td>1.000000</td>\n",
       "      <td>0.348809</td>\n",
       "    </tr>\n",
       "    <tr>\n",
       "      <th>y</th>\n",
       "      <td>0.005924</td>\n",
       "      <td>0.007029</td>\n",
       "      <td>0.003504</td>\n",
       "      <td>0.325745</td>\n",
       "      <td>0.348810</td>\n",
       "      <td>0.259904</td>\n",
       "      <td>0.159121</td>\n",
       "      <td>-0.305043</td>\n",
       "      <td>0.108106</td>\n",
       "      <td>0.336279</td>\n",
       "      <td>0.348809</td>\n",
       "      <td>1.000000</td>\n",
       "    </tr>\n",
       "  </tbody>\n",
       "</table>\n",
       "</div>"
      ],
      "text/plain": [
       "                       seller  offerType    abtest  vehicleType  \\\n",
       "seller               1.000000  -0.000047 -0.000221     0.003169   \n",
       "offerType           -0.000047   1.000000  0.006606    -0.006062   \n",
       "abtest              -0.000221   0.006606  1.000000     0.003400   \n",
       "vehicleType          0.003169  -0.006062  0.003400     1.000000   \n",
       "yearOfRegistration  -0.000251  -0.001739 -0.004087     0.017167   \n",
       "gearbox              0.003213   0.003213 -0.005529     0.163396   \n",
       "powerPS              0.003157   0.003822  0.000882     0.117882   \n",
       "kilometer           -0.003561  -0.003561  0.002747     0.061814   \n",
       "monthOfRegistration -0.005976   0.009604  0.000763     0.028984   \n",
       "fuelType             0.004368   0.004368  0.002885     0.229701   \n",
       "brand                0.002223  -0.004410  0.007320     0.199027   \n",
       "y                    0.005924   0.007029  0.003504     0.325745   \n",
       "\n",
       "                     yearOfRegistration   gearbox   powerPS  kilometer  \\\n",
       "seller                        -0.000251  0.003213  0.003157  -0.003561   \n",
       "offerType                     -0.001739  0.003213  0.003822  -0.003561   \n",
       "abtest                        -0.004087 -0.005529  0.000882   0.002747   \n",
       "vehicleType                    0.017167  0.163396  0.117882   0.061814   \n",
       "yearOfRegistration             1.000000  0.021037  0.029174  -0.162636   \n",
       "gearbox                        0.021037  1.000000  0.116137   0.015977   \n",
       "powerPS                        0.029174  0.116137  1.000000   0.020711   \n",
       "kilometer                     -0.162636  0.015977  0.020711   1.000000   \n",
       "monthOfRegistration            0.027758  0.045072  0.035070  -0.033131   \n",
       "fuelType                       0.230263  0.134753  0.058473   0.138892   \n",
       "brand                         -0.027949  0.244523  0.132568   0.086983   \n",
       "y                              0.348810  0.259904  0.159121  -0.305043   \n",
       "\n",
       "                     monthOfRegistration  fuelType     brand         y  \n",
       "seller                         -0.005976  0.004368  0.002223  0.005924  \n",
       "offerType                       0.009604  0.004368 -0.004410  0.007029  \n",
       "abtest                          0.000763  0.002885  0.007320  0.003504  \n",
       "vehicleType                     0.028984  0.229701  0.199027  0.325745  \n",
       "yearOfRegistration              0.027758  0.230263 -0.027949  0.348810  \n",
       "gearbox                         0.045072  0.134753  0.244523  0.259904  \n",
       "powerPS                         0.035070  0.058473  0.132568  0.159121  \n",
       "kilometer                      -0.033131  0.138892  0.086983 -0.305043  \n",
       "monthOfRegistration             1.000000  0.090392  0.040453  0.108106  \n",
       "fuelType                        0.090392  1.000000  0.134623  0.336279  \n",
       "brand                           0.040453  0.134623  1.000000  0.348809  \n",
       "y                               0.108106  0.336279  0.348809  1.000000  "
      ]
     },
     "execution_count": 83,
     "metadata": {},
     "output_type": "execute_result"
    }
   ],
   "source": [
    "X_.corr()"
   ]
  },
  {
   "cell_type": "code",
   "execution_count": 85,
   "metadata": {
    "colab": {
     "base_uri": "https://localhost:8080/"
    },
    "id": "zouJWYsCDor2",
    "outputId": "52400ad6-a6e5-4282-d205-52114de75147"
   },
   "outputs": [
    {
     "name": "stderr",
     "output_type": "stream",
     "text": [
      "/usr/local/anaconda3/lib/python3.9/site-packages/category_encoders/target_encoder.py:92: FutureWarning: Default parameter min_samples_leaf will change in version 2.6.See https://github.com/scikit-learn-contrib/category_encoders/issues/327\n",
      "  warnings.warn(\"Default parameter min_samples_leaf will change in version 2.6.\"\n",
      "/usr/local/anaconda3/lib/python3.9/site-packages/category_encoders/target_encoder.py:97: FutureWarning: Default parameter smoothing will change in version 2.6.See https://github.com/scikit-learn-contrib/category_encoders/issues/327\n",
      "  warnings.warn(\"Default parameter smoothing will change in version 2.6.\"\n"
     ]
    },
    {
     "data": {
      "text/plain": [
       "0.8023596169817008"
      ]
     },
     "execution_count": 85,
     "metadata": {},
     "output_type": "execute_result"
    }
   ],
   "source": [
    "# уберу совсем незначимые переменные\n",
    "X_ = X.drop(['seller', 'offerType', 'abtest'], axis=1)\n",
    "X_train, X_test, y_train, y_test = train_test_split(X_, y, test_size=0.2, random_state=42, shuffle = True)\n",
    "\n",
    "regressor = RandomForestRegressor(n_estimators=1000, min_samples_split = 3,\n",
    "                                  min_samples_leaf = 2, max_features='log2', \n",
    "                                  max_depth = 60, n_jobs = -1)\n",
    "\n",
    "pipe = Pipeline([('encoder', TargetEncoder()), \n",
    "                 ('scaler', StandardScaler()),\n",
    "                 ('regressor', regressor)])\n",
    "pipe.fit(X_train, y_train)\n",
    "\n",
    "pipe.score(X_test, y_test)"
   ]
  }
 ],
 "metadata": {
  "colab": {
   "collapsed_sections": [],
   "name": "Каменчук_ПИ19-1_4.1_.ipynb",
   "provenance": []
  },
  "kernelspec": {
   "display_name": "Python 3 (ipykernel)",
   "language": "python",
   "name": "python3"
  },
  "language_info": {
   "codemirror_mode": {
    "name": "ipython",
    "version": 3
   },
   "file_extension": ".py",
   "mimetype": "text/x-python",
   "name": "python",
   "nbconvert_exporter": "python",
   "pygments_lexer": "ipython3",
   "version": "3.9.7"
  }
 },
 "nbformat": 4,
 "nbformat_minor": 1
}
